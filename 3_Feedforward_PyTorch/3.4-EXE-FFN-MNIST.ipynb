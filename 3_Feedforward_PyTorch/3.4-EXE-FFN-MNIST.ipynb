{
  "nbformat": 4,
  "nbformat_minor": 0,
  "metadata": {
    "kernelspec": {
      "display_name": "Python 3",
      "language": "python",
      "name": "python3"
    },
    "language_info": {
      "codemirror_mode": {
        "name": "ipython",
        "version": 3
      },
      "file_extension": ".py",
      "mimetype": "text/x-python",
      "name": "python",
      "nbconvert_exporter": "python",
      "pygments_lexer": "ipython3",
      "version": "3.7.2"
    },
    "colab": {
      "name": "3.4-EXE-FFN-MNIST.ipynb",
      "provenance": [],
      "collapsed_sections": []
    },
    "widgets": {
      "application/vnd.jupyter.widget-state+json": {
        "67982a3865874828b60ce795426799a5": {
          "model_module": "@jupyter-widgets/controls",
          "model_name": "HBoxModel",
          "state": {
            "_view_name": "HBoxView",
            "_dom_classes": [],
            "_model_name": "HBoxModel",
            "_view_module": "@jupyter-widgets/controls",
            "_model_module_version": "1.5.0",
            "_view_count": null,
            "_view_module_version": "1.5.0",
            "box_style": "",
            "layout": "IPY_MODEL_edfbc967b774430ab4e1618b58aa7762",
            "_model_module": "@jupyter-widgets/controls",
            "children": [
              "IPY_MODEL_5eda2295aff848e59931616c2b15346b",
              "IPY_MODEL_8da803ea1ccb4e8f958defea16ccdbd1"
            ]
          }
        },
        "edfbc967b774430ab4e1618b58aa7762": {
          "model_module": "@jupyter-widgets/base",
          "model_name": "LayoutModel",
          "state": {
            "_view_name": "LayoutView",
            "grid_template_rows": null,
            "right": null,
            "justify_content": null,
            "_view_module": "@jupyter-widgets/base",
            "overflow": null,
            "_model_module_version": "1.2.0",
            "_view_count": null,
            "flex_flow": null,
            "width": null,
            "min_width": null,
            "border": null,
            "align_items": null,
            "bottom": null,
            "_model_module": "@jupyter-widgets/base",
            "top": null,
            "grid_column": null,
            "overflow_y": null,
            "overflow_x": null,
            "grid_auto_flow": null,
            "grid_area": null,
            "grid_template_columns": null,
            "flex": null,
            "_model_name": "LayoutModel",
            "justify_items": null,
            "grid_row": null,
            "max_height": null,
            "align_content": null,
            "visibility": null,
            "align_self": null,
            "height": null,
            "min_height": null,
            "padding": null,
            "grid_auto_rows": null,
            "grid_gap": null,
            "max_width": null,
            "order": null,
            "_view_module_version": "1.2.0",
            "grid_template_areas": null,
            "object_position": null,
            "object_fit": null,
            "grid_auto_columns": null,
            "margin": null,
            "display": null,
            "left": null
          }
        },
        "5eda2295aff848e59931616c2b15346b": {
          "model_module": "@jupyter-widgets/controls",
          "model_name": "FloatProgressModel",
          "state": {
            "_view_name": "ProgressView",
            "style": "IPY_MODEL_8b7e98a4bf0b420e844f781f11f3b145",
            "_dom_classes": [],
            "description": "",
            "_model_name": "FloatProgressModel",
            "bar_style": "success",
            "max": 1,
            "_view_module": "@jupyter-widgets/controls",
            "_model_module_version": "1.5.0",
            "value": 1,
            "_view_count": null,
            "_view_module_version": "1.5.0",
            "orientation": "horizontal",
            "min": 0,
            "description_tooltip": null,
            "_model_module": "@jupyter-widgets/controls",
            "layout": "IPY_MODEL_3920bc6d7f634b0b9df5e7fb0864a4cf"
          }
        },
        "8da803ea1ccb4e8f958defea16ccdbd1": {
          "model_module": "@jupyter-widgets/controls",
          "model_name": "HTMLModel",
          "state": {
            "_view_name": "HTMLView",
            "style": "IPY_MODEL_576517f88f2a435a88e1f954fabb17c9",
            "_dom_classes": [],
            "description": "",
            "_model_name": "HTMLModel",
            "placeholder": "​",
            "_view_module": "@jupyter-widgets/controls",
            "_model_module_version": "1.5.0",
            "value": " 9920512/? [00:09&lt;00:00, 998246.02it/s]",
            "_view_count": null,
            "_view_module_version": "1.5.0",
            "description_tooltip": null,
            "_model_module": "@jupyter-widgets/controls",
            "layout": "IPY_MODEL_384236f8879441818b19f371be9b61db"
          }
        },
        "8b7e98a4bf0b420e844f781f11f3b145": {
          "model_module": "@jupyter-widgets/controls",
          "model_name": "ProgressStyleModel",
          "state": {
            "_view_name": "StyleView",
            "_model_name": "ProgressStyleModel",
            "description_width": "initial",
            "_view_module": "@jupyter-widgets/base",
            "_model_module_version": "1.5.0",
            "_view_count": null,
            "_view_module_version": "1.2.0",
            "bar_color": null,
            "_model_module": "@jupyter-widgets/controls"
          }
        },
        "3920bc6d7f634b0b9df5e7fb0864a4cf": {
          "model_module": "@jupyter-widgets/base",
          "model_name": "LayoutModel",
          "state": {
            "_view_name": "LayoutView",
            "grid_template_rows": null,
            "right": null,
            "justify_content": null,
            "_view_module": "@jupyter-widgets/base",
            "overflow": null,
            "_model_module_version": "1.2.0",
            "_view_count": null,
            "flex_flow": null,
            "width": null,
            "min_width": null,
            "border": null,
            "align_items": null,
            "bottom": null,
            "_model_module": "@jupyter-widgets/base",
            "top": null,
            "grid_column": null,
            "overflow_y": null,
            "overflow_x": null,
            "grid_auto_flow": null,
            "grid_area": null,
            "grid_template_columns": null,
            "flex": null,
            "_model_name": "LayoutModel",
            "justify_items": null,
            "grid_row": null,
            "max_height": null,
            "align_content": null,
            "visibility": null,
            "align_self": null,
            "height": null,
            "min_height": null,
            "padding": null,
            "grid_auto_rows": null,
            "grid_gap": null,
            "max_width": null,
            "order": null,
            "_view_module_version": "1.2.0",
            "grid_template_areas": null,
            "object_position": null,
            "object_fit": null,
            "grid_auto_columns": null,
            "margin": null,
            "display": null,
            "left": null
          }
        },
        "576517f88f2a435a88e1f954fabb17c9": {
          "model_module": "@jupyter-widgets/controls",
          "model_name": "DescriptionStyleModel",
          "state": {
            "_view_name": "StyleView",
            "_model_name": "DescriptionStyleModel",
            "description_width": "",
            "_view_module": "@jupyter-widgets/base",
            "_model_module_version": "1.5.0",
            "_view_count": null,
            "_view_module_version": "1.2.0",
            "_model_module": "@jupyter-widgets/controls"
          }
        },
        "384236f8879441818b19f371be9b61db": {
          "model_module": "@jupyter-widgets/base",
          "model_name": "LayoutModel",
          "state": {
            "_view_name": "LayoutView",
            "grid_template_rows": null,
            "right": null,
            "justify_content": null,
            "_view_module": "@jupyter-widgets/base",
            "overflow": null,
            "_model_module_version": "1.2.0",
            "_view_count": null,
            "flex_flow": null,
            "width": null,
            "min_width": null,
            "border": null,
            "align_items": null,
            "bottom": null,
            "_model_module": "@jupyter-widgets/base",
            "top": null,
            "grid_column": null,
            "overflow_y": null,
            "overflow_x": null,
            "grid_auto_flow": null,
            "grid_area": null,
            "grid_template_columns": null,
            "flex": null,
            "_model_name": "LayoutModel",
            "justify_items": null,
            "grid_row": null,
            "max_height": null,
            "align_content": null,
            "visibility": null,
            "align_self": null,
            "height": null,
            "min_height": null,
            "padding": null,
            "grid_auto_rows": null,
            "grid_gap": null,
            "max_width": null,
            "order": null,
            "_view_module_version": "1.2.0",
            "grid_template_areas": null,
            "object_position": null,
            "object_fit": null,
            "grid_auto_columns": null,
            "margin": null,
            "display": null,
            "left": null
          }
        },
        "09cc950613054c56b86690f20102742a": {
          "model_module": "@jupyter-widgets/controls",
          "model_name": "HBoxModel",
          "state": {
            "_view_name": "HBoxView",
            "_dom_classes": [],
            "_model_name": "HBoxModel",
            "_view_module": "@jupyter-widgets/controls",
            "_model_module_version": "1.5.0",
            "_view_count": null,
            "_view_module_version": "1.5.0",
            "box_style": "",
            "layout": "IPY_MODEL_30cb575b9f2c422ea7ba3142bbebd8cd",
            "_model_module": "@jupyter-widgets/controls",
            "children": [
              "IPY_MODEL_cb4fd80365be4b7b9eef554152cb7fac",
              "IPY_MODEL_1cad11f7de584091ba7c345c165aa685"
            ]
          }
        },
        "30cb575b9f2c422ea7ba3142bbebd8cd": {
          "model_module": "@jupyter-widgets/base",
          "model_name": "LayoutModel",
          "state": {
            "_view_name": "LayoutView",
            "grid_template_rows": null,
            "right": null,
            "justify_content": null,
            "_view_module": "@jupyter-widgets/base",
            "overflow": null,
            "_model_module_version": "1.2.0",
            "_view_count": null,
            "flex_flow": null,
            "width": null,
            "min_width": null,
            "border": null,
            "align_items": null,
            "bottom": null,
            "_model_module": "@jupyter-widgets/base",
            "top": null,
            "grid_column": null,
            "overflow_y": null,
            "overflow_x": null,
            "grid_auto_flow": null,
            "grid_area": null,
            "grid_template_columns": null,
            "flex": null,
            "_model_name": "LayoutModel",
            "justify_items": null,
            "grid_row": null,
            "max_height": null,
            "align_content": null,
            "visibility": null,
            "align_self": null,
            "height": null,
            "min_height": null,
            "padding": null,
            "grid_auto_rows": null,
            "grid_gap": null,
            "max_width": null,
            "order": null,
            "_view_module_version": "1.2.0",
            "grid_template_areas": null,
            "object_position": null,
            "object_fit": null,
            "grid_auto_columns": null,
            "margin": null,
            "display": null,
            "left": null
          }
        },
        "cb4fd80365be4b7b9eef554152cb7fac": {
          "model_module": "@jupyter-widgets/controls",
          "model_name": "FloatProgressModel",
          "state": {
            "_view_name": "ProgressView",
            "style": "IPY_MODEL_88f460f6aff346ea8b0b7405f45260c9",
            "_dom_classes": [],
            "description": "",
            "_model_name": "FloatProgressModel",
            "bar_style": "success",
            "max": 1,
            "_view_module": "@jupyter-widgets/controls",
            "_model_module_version": "1.5.0",
            "value": 1,
            "_view_count": null,
            "_view_module_version": "1.5.0",
            "orientation": "horizontal",
            "min": 0,
            "description_tooltip": null,
            "_model_module": "@jupyter-widgets/controls",
            "layout": "IPY_MODEL_0210835a776b4e2c9f07a92f3e8403d3"
          }
        },
        "1cad11f7de584091ba7c345c165aa685": {
          "model_module": "@jupyter-widgets/controls",
          "model_name": "HTMLModel",
          "state": {
            "_view_name": "HTMLView",
            "style": "IPY_MODEL_4497cbd4c9334a6a96b29b892b7e3e9b",
            "_dom_classes": [],
            "description": "",
            "_model_name": "HTMLModel",
            "placeholder": "​",
            "_view_module": "@jupyter-widgets/controls",
            "_model_module_version": "1.5.0",
            "value": " 32768/? [00:03&lt;00:00, 9630.78it/s]",
            "_view_count": null,
            "_view_module_version": "1.5.0",
            "description_tooltip": null,
            "_model_module": "@jupyter-widgets/controls",
            "layout": "IPY_MODEL_98b8f71873d44706a2bbb8dd7d7f5ac5"
          }
        },
        "88f460f6aff346ea8b0b7405f45260c9": {
          "model_module": "@jupyter-widgets/controls",
          "model_name": "ProgressStyleModel",
          "state": {
            "_view_name": "StyleView",
            "_model_name": "ProgressStyleModel",
            "description_width": "initial",
            "_view_module": "@jupyter-widgets/base",
            "_model_module_version": "1.5.0",
            "_view_count": null,
            "_view_module_version": "1.2.0",
            "bar_color": null,
            "_model_module": "@jupyter-widgets/controls"
          }
        },
        "0210835a776b4e2c9f07a92f3e8403d3": {
          "model_module": "@jupyter-widgets/base",
          "model_name": "LayoutModel",
          "state": {
            "_view_name": "LayoutView",
            "grid_template_rows": null,
            "right": null,
            "justify_content": null,
            "_view_module": "@jupyter-widgets/base",
            "overflow": null,
            "_model_module_version": "1.2.0",
            "_view_count": null,
            "flex_flow": null,
            "width": null,
            "min_width": null,
            "border": null,
            "align_items": null,
            "bottom": null,
            "_model_module": "@jupyter-widgets/base",
            "top": null,
            "grid_column": null,
            "overflow_y": null,
            "overflow_x": null,
            "grid_auto_flow": null,
            "grid_area": null,
            "grid_template_columns": null,
            "flex": null,
            "_model_name": "LayoutModel",
            "justify_items": null,
            "grid_row": null,
            "max_height": null,
            "align_content": null,
            "visibility": null,
            "align_self": null,
            "height": null,
            "min_height": null,
            "padding": null,
            "grid_auto_rows": null,
            "grid_gap": null,
            "max_width": null,
            "order": null,
            "_view_module_version": "1.2.0",
            "grid_template_areas": null,
            "object_position": null,
            "object_fit": null,
            "grid_auto_columns": null,
            "margin": null,
            "display": null,
            "left": null
          }
        },
        "4497cbd4c9334a6a96b29b892b7e3e9b": {
          "model_module": "@jupyter-widgets/controls",
          "model_name": "DescriptionStyleModel",
          "state": {
            "_view_name": "StyleView",
            "_model_name": "DescriptionStyleModel",
            "description_width": "",
            "_view_module": "@jupyter-widgets/base",
            "_model_module_version": "1.5.0",
            "_view_count": null,
            "_view_module_version": "1.2.0",
            "_model_module": "@jupyter-widgets/controls"
          }
        },
        "98b8f71873d44706a2bbb8dd7d7f5ac5": {
          "model_module": "@jupyter-widgets/base",
          "model_name": "LayoutModel",
          "state": {
            "_view_name": "LayoutView",
            "grid_template_rows": null,
            "right": null,
            "justify_content": null,
            "_view_module": "@jupyter-widgets/base",
            "overflow": null,
            "_model_module_version": "1.2.0",
            "_view_count": null,
            "flex_flow": null,
            "width": null,
            "min_width": null,
            "border": null,
            "align_items": null,
            "bottom": null,
            "_model_module": "@jupyter-widgets/base",
            "top": null,
            "grid_column": null,
            "overflow_y": null,
            "overflow_x": null,
            "grid_auto_flow": null,
            "grid_area": null,
            "grid_template_columns": null,
            "flex": null,
            "_model_name": "LayoutModel",
            "justify_items": null,
            "grid_row": null,
            "max_height": null,
            "align_content": null,
            "visibility": null,
            "align_self": null,
            "height": null,
            "min_height": null,
            "padding": null,
            "grid_auto_rows": null,
            "grid_gap": null,
            "max_width": null,
            "order": null,
            "_view_module_version": "1.2.0",
            "grid_template_areas": null,
            "object_position": null,
            "object_fit": null,
            "grid_auto_columns": null,
            "margin": null,
            "display": null,
            "left": null
          }
        },
        "ba707f1404d94f75b0fd0191d229d537": {
          "model_module": "@jupyter-widgets/controls",
          "model_name": "HBoxModel",
          "state": {
            "_view_name": "HBoxView",
            "_dom_classes": [],
            "_model_name": "HBoxModel",
            "_view_module": "@jupyter-widgets/controls",
            "_model_module_version": "1.5.0",
            "_view_count": null,
            "_view_module_version": "1.5.0",
            "box_style": "",
            "layout": "IPY_MODEL_d45637591dd245708fa0864262c93f09",
            "_model_module": "@jupyter-widgets/controls",
            "children": [
              "IPY_MODEL_1d1f57f38c9d43bdafdec471822f60d2",
              "IPY_MODEL_5fa1fb0dd083420da7b81563a3ead03a"
            ]
          }
        },
        "d45637591dd245708fa0864262c93f09": {
          "model_module": "@jupyter-widgets/base",
          "model_name": "LayoutModel",
          "state": {
            "_view_name": "LayoutView",
            "grid_template_rows": null,
            "right": null,
            "justify_content": null,
            "_view_module": "@jupyter-widgets/base",
            "overflow": null,
            "_model_module_version": "1.2.0",
            "_view_count": null,
            "flex_flow": null,
            "width": null,
            "min_width": null,
            "border": null,
            "align_items": null,
            "bottom": null,
            "_model_module": "@jupyter-widgets/base",
            "top": null,
            "grid_column": null,
            "overflow_y": null,
            "overflow_x": null,
            "grid_auto_flow": null,
            "grid_area": null,
            "grid_template_columns": null,
            "flex": null,
            "_model_name": "LayoutModel",
            "justify_items": null,
            "grid_row": null,
            "max_height": null,
            "align_content": null,
            "visibility": null,
            "align_self": null,
            "height": null,
            "min_height": null,
            "padding": null,
            "grid_auto_rows": null,
            "grid_gap": null,
            "max_width": null,
            "order": null,
            "_view_module_version": "1.2.0",
            "grid_template_areas": null,
            "object_position": null,
            "object_fit": null,
            "grid_auto_columns": null,
            "margin": null,
            "display": null,
            "left": null
          }
        },
        "1d1f57f38c9d43bdafdec471822f60d2": {
          "model_module": "@jupyter-widgets/controls",
          "model_name": "FloatProgressModel",
          "state": {
            "_view_name": "ProgressView",
            "style": "IPY_MODEL_0d964ee04ae04f25bb0a9dc0a712c370",
            "_dom_classes": [],
            "description": "",
            "_model_name": "FloatProgressModel",
            "bar_style": "success",
            "max": 1,
            "_view_module": "@jupyter-widgets/controls",
            "_model_module_version": "1.5.0",
            "value": 1,
            "_view_count": null,
            "_view_module_version": "1.5.0",
            "orientation": "horizontal",
            "min": 0,
            "description_tooltip": null,
            "_model_module": "@jupyter-widgets/controls",
            "layout": "IPY_MODEL_0ea06b9143bf44bab3697c4c2e59f340"
          }
        },
        "5fa1fb0dd083420da7b81563a3ead03a": {
          "model_module": "@jupyter-widgets/controls",
          "model_name": "HTMLModel",
          "state": {
            "_view_name": "HTMLView",
            "style": "IPY_MODEL_18e811eeb3284dd48cd9ec068d3b5e00",
            "_dom_classes": [],
            "description": "",
            "_model_name": "HTMLModel",
            "placeholder": "​",
            "_view_module": "@jupyter-widgets/controls",
            "_model_module_version": "1.5.0",
            "value": " 1654784/? [00:02&lt;00:00, 600468.87it/s]",
            "_view_count": null,
            "_view_module_version": "1.5.0",
            "description_tooltip": null,
            "_model_module": "@jupyter-widgets/controls",
            "layout": "IPY_MODEL_895cc4ffb3e444d19dc4e76b662eccae"
          }
        },
        "0d964ee04ae04f25bb0a9dc0a712c370": {
          "model_module": "@jupyter-widgets/controls",
          "model_name": "ProgressStyleModel",
          "state": {
            "_view_name": "StyleView",
            "_model_name": "ProgressStyleModel",
            "description_width": "initial",
            "_view_module": "@jupyter-widgets/base",
            "_model_module_version": "1.5.0",
            "_view_count": null,
            "_view_module_version": "1.2.0",
            "bar_color": null,
            "_model_module": "@jupyter-widgets/controls"
          }
        },
        "0ea06b9143bf44bab3697c4c2e59f340": {
          "model_module": "@jupyter-widgets/base",
          "model_name": "LayoutModel",
          "state": {
            "_view_name": "LayoutView",
            "grid_template_rows": null,
            "right": null,
            "justify_content": null,
            "_view_module": "@jupyter-widgets/base",
            "overflow": null,
            "_model_module_version": "1.2.0",
            "_view_count": null,
            "flex_flow": null,
            "width": null,
            "min_width": null,
            "border": null,
            "align_items": null,
            "bottom": null,
            "_model_module": "@jupyter-widgets/base",
            "top": null,
            "grid_column": null,
            "overflow_y": null,
            "overflow_x": null,
            "grid_auto_flow": null,
            "grid_area": null,
            "grid_template_columns": null,
            "flex": null,
            "_model_name": "LayoutModel",
            "justify_items": null,
            "grid_row": null,
            "max_height": null,
            "align_content": null,
            "visibility": null,
            "align_self": null,
            "height": null,
            "min_height": null,
            "padding": null,
            "grid_auto_rows": null,
            "grid_gap": null,
            "max_width": null,
            "order": null,
            "_view_module_version": "1.2.0",
            "grid_template_areas": null,
            "object_position": null,
            "object_fit": null,
            "grid_auto_columns": null,
            "margin": null,
            "display": null,
            "left": null
          }
        },
        "18e811eeb3284dd48cd9ec068d3b5e00": {
          "model_module": "@jupyter-widgets/controls",
          "model_name": "DescriptionStyleModel",
          "state": {
            "_view_name": "StyleView",
            "_model_name": "DescriptionStyleModel",
            "description_width": "",
            "_view_module": "@jupyter-widgets/base",
            "_model_module_version": "1.5.0",
            "_view_count": null,
            "_view_module_version": "1.2.0",
            "_model_module": "@jupyter-widgets/controls"
          }
        },
        "895cc4ffb3e444d19dc4e76b662eccae": {
          "model_module": "@jupyter-widgets/base",
          "model_name": "LayoutModel",
          "state": {
            "_view_name": "LayoutView",
            "grid_template_rows": null,
            "right": null,
            "justify_content": null,
            "_view_module": "@jupyter-widgets/base",
            "overflow": null,
            "_model_module_version": "1.2.0",
            "_view_count": null,
            "flex_flow": null,
            "width": null,
            "min_width": null,
            "border": null,
            "align_items": null,
            "bottom": null,
            "_model_module": "@jupyter-widgets/base",
            "top": null,
            "grid_column": null,
            "overflow_y": null,
            "overflow_x": null,
            "grid_auto_flow": null,
            "grid_area": null,
            "grid_template_columns": null,
            "flex": null,
            "_model_name": "LayoutModel",
            "justify_items": null,
            "grid_row": null,
            "max_height": null,
            "align_content": null,
            "visibility": null,
            "align_self": null,
            "height": null,
            "min_height": null,
            "padding": null,
            "grid_auto_rows": null,
            "grid_gap": null,
            "max_width": null,
            "order": null,
            "_view_module_version": "1.2.0",
            "grid_template_areas": null,
            "object_position": null,
            "object_fit": null,
            "grid_auto_columns": null,
            "margin": null,
            "display": null,
            "left": null
          }
        },
        "625c336ea7a7414b8dce1ea9794a86b4": {
          "model_module": "@jupyter-widgets/controls",
          "model_name": "HBoxModel",
          "state": {
            "_view_name": "HBoxView",
            "_dom_classes": [],
            "_model_name": "HBoxModel",
            "_view_module": "@jupyter-widgets/controls",
            "_model_module_version": "1.5.0",
            "_view_count": null,
            "_view_module_version": "1.5.0",
            "box_style": "",
            "layout": "IPY_MODEL_7e6549d3626842ca9438215a2280b03e",
            "_model_module": "@jupyter-widgets/controls",
            "children": [
              "IPY_MODEL_921e36da4e0043248e16a0fb686d4c42",
              "IPY_MODEL_026a1b57bf4241b7a311444abd61f89b"
            ]
          }
        },
        "7e6549d3626842ca9438215a2280b03e": {
          "model_module": "@jupyter-widgets/base",
          "model_name": "LayoutModel",
          "state": {
            "_view_name": "LayoutView",
            "grid_template_rows": null,
            "right": null,
            "justify_content": null,
            "_view_module": "@jupyter-widgets/base",
            "overflow": null,
            "_model_module_version": "1.2.0",
            "_view_count": null,
            "flex_flow": null,
            "width": null,
            "min_width": null,
            "border": null,
            "align_items": null,
            "bottom": null,
            "_model_module": "@jupyter-widgets/base",
            "top": null,
            "grid_column": null,
            "overflow_y": null,
            "overflow_x": null,
            "grid_auto_flow": null,
            "grid_area": null,
            "grid_template_columns": null,
            "flex": null,
            "_model_name": "LayoutModel",
            "justify_items": null,
            "grid_row": null,
            "max_height": null,
            "align_content": null,
            "visibility": null,
            "align_self": null,
            "height": null,
            "min_height": null,
            "padding": null,
            "grid_auto_rows": null,
            "grid_gap": null,
            "max_width": null,
            "order": null,
            "_view_module_version": "1.2.0",
            "grid_template_areas": null,
            "object_position": null,
            "object_fit": null,
            "grid_auto_columns": null,
            "margin": null,
            "display": null,
            "left": null
          }
        },
        "921e36da4e0043248e16a0fb686d4c42": {
          "model_module": "@jupyter-widgets/controls",
          "model_name": "FloatProgressModel",
          "state": {
            "_view_name": "ProgressView",
            "style": "IPY_MODEL_eed1ca980f9f4dceb0c3e22367bc5d0f",
            "_dom_classes": [],
            "description": "",
            "_model_name": "FloatProgressModel",
            "bar_style": "success",
            "max": 1,
            "_view_module": "@jupyter-widgets/controls",
            "_model_module_version": "1.5.0",
            "value": 1,
            "_view_count": null,
            "_view_module_version": "1.5.0",
            "orientation": "horizontal",
            "min": 0,
            "description_tooltip": null,
            "_model_module": "@jupyter-widgets/controls",
            "layout": "IPY_MODEL_ba11ba40cc0247bb9b69a0be11c95b0e"
          }
        },
        "026a1b57bf4241b7a311444abd61f89b": {
          "model_module": "@jupyter-widgets/controls",
          "model_name": "HTMLModel",
          "state": {
            "_view_name": "HTMLView",
            "style": "IPY_MODEL_baeb24a95bc7410d80a48093ca630f2a",
            "_dom_classes": [],
            "description": "",
            "_model_name": "HTMLModel",
            "placeholder": "​",
            "_view_module": "@jupyter-widgets/controls",
            "_model_module_version": "1.5.0",
            "value": " 8192/? [00:03&lt;00:00, 2197.28it/s]",
            "_view_count": null,
            "_view_module_version": "1.5.0",
            "description_tooltip": null,
            "_model_module": "@jupyter-widgets/controls",
            "layout": "IPY_MODEL_6e122c2ed82746c38b8f0f706633b9e0"
          }
        },
        "eed1ca980f9f4dceb0c3e22367bc5d0f": {
          "model_module": "@jupyter-widgets/controls",
          "model_name": "ProgressStyleModel",
          "state": {
            "_view_name": "StyleView",
            "_model_name": "ProgressStyleModel",
            "description_width": "initial",
            "_view_module": "@jupyter-widgets/base",
            "_model_module_version": "1.5.0",
            "_view_count": null,
            "_view_module_version": "1.2.0",
            "bar_color": null,
            "_model_module": "@jupyter-widgets/controls"
          }
        },
        "ba11ba40cc0247bb9b69a0be11c95b0e": {
          "model_module": "@jupyter-widgets/base",
          "model_name": "LayoutModel",
          "state": {
            "_view_name": "LayoutView",
            "grid_template_rows": null,
            "right": null,
            "justify_content": null,
            "_view_module": "@jupyter-widgets/base",
            "overflow": null,
            "_model_module_version": "1.2.0",
            "_view_count": null,
            "flex_flow": null,
            "width": null,
            "min_width": null,
            "border": null,
            "align_items": null,
            "bottom": null,
            "_model_module": "@jupyter-widgets/base",
            "top": null,
            "grid_column": null,
            "overflow_y": null,
            "overflow_x": null,
            "grid_auto_flow": null,
            "grid_area": null,
            "grid_template_columns": null,
            "flex": null,
            "_model_name": "LayoutModel",
            "justify_items": null,
            "grid_row": null,
            "max_height": null,
            "align_content": null,
            "visibility": null,
            "align_self": null,
            "height": null,
            "min_height": null,
            "padding": null,
            "grid_auto_rows": null,
            "grid_gap": null,
            "max_width": null,
            "order": null,
            "_view_module_version": "1.2.0",
            "grid_template_areas": null,
            "object_position": null,
            "object_fit": null,
            "grid_auto_columns": null,
            "margin": null,
            "display": null,
            "left": null
          }
        },
        "baeb24a95bc7410d80a48093ca630f2a": {
          "model_module": "@jupyter-widgets/controls",
          "model_name": "DescriptionStyleModel",
          "state": {
            "_view_name": "StyleView",
            "_model_name": "DescriptionStyleModel",
            "description_width": "",
            "_view_module": "@jupyter-widgets/base",
            "_model_module_version": "1.5.0",
            "_view_count": null,
            "_view_module_version": "1.2.0",
            "_model_module": "@jupyter-widgets/controls"
          }
        },
        "6e122c2ed82746c38b8f0f706633b9e0": {
          "model_module": "@jupyter-widgets/base",
          "model_name": "LayoutModel",
          "state": {
            "_view_name": "LayoutView",
            "grid_template_rows": null,
            "right": null,
            "justify_content": null,
            "_view_module": "@jupyter-widgets/base",
            "overflow": null,
            "_model_module_version": "1.2.0",
            "_view_count": null,
            "flex_flow": null,
            "width": null,
            "min_width": null,
            "border": null,
            "align_items": null,
            "bottom": null,
            "_model_module": "@jupyter-widgets/base",
            "top": null,
            "grid_column": null,
            "overflow_y": null,
            "overflow_x": null,
            "grid_auto_flow": null,
            "grid_area": null,
            "grid_template_columns": null,
            "flex": null,
            "_model_name": "LayoutModel",
            "justify_items": null,
            "grid_row": null,
            "max_height": null,
            "align_content": null,
            "visibility": null,
            "align_self": null,
            "height": null,
            "min_height": null,
            "padding": null,
            "grid_auto_rows": null,
            "grid_gap": null,
            "max_width": null,
            "order": null,
            "_view_module_version": "1.2.0",
            "grid_template_areas": null,
            "object_position": null,
            "object_fit": null,
            "grid_auto_columns": null,
            "margin": null,
            "display": null,
            "left": null
          }
        }
      }
    }
  },
  "cells": [
    {
      "cell_type": "code",
      "metadata": {
        "id": "WvIc40XwKMWf",
        "colab_type": "code",
        "colab": {}
      },
      "source": [
        ""
      ],
      "execution_count": null,
      "outputs": []
    },
    {
      "cell_type": "markdown",
      "metadata": {
        "id": "4sgoYg51W4RC",
        "colab_type": "text"
      },
      "source": [
        "# Credits\n",
        "> This code is a slight modification to a translation (TensorFlow --> PyTorch) of a previous version of the [02456](http://kurser.dtu.dk/course/02456) course material. \n",
        "> [Original repo link (TensorFlow)](https://github.com/DeepLearningDTU/02456-deep-learning).\n",
        "> [Translated repo link (PyTorch)](https://github.com/munkai/pytorch-tutorial/tree/master/2_intermediate)."
      ]
    },
    {
      "cell_type": "code",
      "metadata": {
        "id": "KaudwPI5W4RE",
        "colab_type": "code",
        "colab": {}
      },
      "source": [
        "import torch\n",
        "import torch.nn as nn\n",
        "import torch.nn.functional as F\n",
        "import torch.optim as optim\n",
        "import torch.nn.init as init\n",
        "\n",
        "%matplotlib inline\n",
        "import matplotlib\n",
        "import numpy as np\n",
        "import matplotlib.pyplot as plt\n",
        "\n",
        "from torch.nn.parameter import Parameter\n",
        "from torchvision.datasets import MNIST"
      ],
      "execution_count": 2,
      "outputs": []
    },
    {
      "cell_type": "markdown",
      "metadata": {
        "id": "ZGXrmMK2W4RM",
        "colab_type": "text"
      },
      "source": [
        "# MNIST dataset\n",
        "MNIST is a dataset that is often used for benchmarking. The MNIST dataset consists of 70,000 images of handwritten digits from 0-9. The dataset is split into a 50,000 images training set, 10,000 images validation set and 10,000 images test set. The images are 28x28 pixels, where each pixel represents a normalised value between 0-255 (0=black and 255=white).\n",
        "\n",
        "![MNIST.Exampel](../static_files/mnist.png)\n",
        "\n",
        "\n",
        "## Primer\n",
        "We use a feedforward neural network to classify the 28x28 mnist images. `num_features` is therefore $28 * 28=784$, i.e. we represent each image as a vector. The ordering of the pixels in the vector does not matter, so we could permutate all images using the same permutation and still get the same performance. (You are of course encouraged to try this using ``numpy.random.permutation`` to get a random permutation. This task is therefore called the _permutation invariant_ MNIST. Obviously this throws away a lot of structure in the data. In the next module we'll fix this with the convolutional neural network wich encodes prior knowledgde about data that has either spatial or temporal structure.  "
      ]
    },
    {
      "cell_type": "markdown",
      "metadata": {
        "collapsed": true,
        "id": "HLMblQq8W4RN",
        "colab_type": "text"
      },
      "source": [
        "## MNIST\n",
        "First let's load the MNIST dataset and plot a few examples:"
      ]
    },
    {
      "cell_type": "code",
      "metadata": {
        "id": "q8XaOkmCW4RO",
        "colab_type": "code",
        "colab": {
          "base_uri": "https://localhost:8080/",
          "height": 400,
          "referenced_widgets": [
            "67982a3865874828b60ce795426799a5",
            "edfbc967b774430ab4e1618b58aa7762",
            "5eda2295aff848e59931616c2b15346b",
            "8da803ea1ccb4e8f958defea16ccdbd1",
            "8b7e98a4bf0b420e844f781f11f3b145",
            "3920bc6d7f634b0b9df5e7fb0864a4cf",
            "576517f88f2a435a88e1f954fabb17c9",
            "384236f8879441818b19f371be9b61db",
            "09cc950613054c56b86690f20102742a",
            "30cb575b9f2c422ea7ba3142bbebd8cd",
            "cb4fd80365be4b7b9eef554152cb7fac",
            "1cad11f7de584091ba7c345c165aa685",
            "88f460f6aff346ea8b0b7405f45260c9",
            "0210835a776b4e2c9f07a92f3e8403d3",
            "4497cbd4c9334a6a96b29b892b7e3e9b",
            "98b8f71873d44706a2bbb8dd7d7f5ac5",
            "ba707f1404d94f75b0fd0191d229d537",
            "d45637591dd245708fa0864262c93f09",
            "1d1f57f38c9d43bdafdec471822f60d2",
            "5fa1fb0dd083420da7b81563a3ead03a",
            "0d964ee04ae04f25bb0a9dc0a712c370",
            "0ea06b9143bf44bab3697c4c2e59f340",
            "18e811eeb3284dd48cd9ec068d3b5e00",
            "895cc4ffb3e444d19dc4e76b662eccae",
            "625c336ea7a7414b8dce1ea9794a86b4",
            "7e6549d3626842ca9438215a2280b03e",
            "921e36da4e0043248e16a0fb686d4c42",
            "026a1b57bf4241b7a311444abd61f89b",
            "eed1ca980f9f4dceb0c3e22367bc5d0f",
            "ba11ba40cc0247bb9b69a0be11c95b0e",
            "baeb24a95bc7410d80a48093ca630f2a",
            "6e122c2ed82746c38b8f0f706633b9e0"
          ]
        },
        "outputId": "d35c35d1-deac-4ffd-febf-7483e8bfc29d"
      },
      "source": [
        "mnist_trainset = MNIST(\"./temp/\", train=True, download=True)\n",
        "mnist_testset = MNIST(\"./temp/\", train=False, download=True)"
      ],
      "execution_count": 3,
      "outputs": [
        {
          "output_type": "stream",
          "text": [
            "Downloading http://yann.lecun.com/exdb/mnist/train-images-idx3-ubyte.gz to ./temp/MNIST/raw/train-images-idx3-ubyte.gz\n"
          ],
          "name": "stdout"
        },
        {
          "output_type": "display_data",
          "data": {
            "application/vnd.jupyter.widget-view+json": {
              "model_id": "67982a3865874828b60ce795426799a5",
              "version_minor": 0,
              "version_major": 2
            },
            "text/plain": [
              "HBox(children=(FloatProgress(value=1.0, bar_style='info', max=1.0), HTML(value='')))"
            ]
          },
          "metadata": {
            "tags": []
          }
        },
        {
          "output_type": "stream",
          "text": [
            "Extracting ./temp/MNIST/raw/train-images-idx3-ubyte.gz to ./temp/MNIST/raw\n",
            "Downloading http://yann.lecun.com/exdb/mnist/train-labels-idx1-ubyte.gz to ./temp/MNIST/raw/train-labels-idx1-ubyte.gz\n"
          ],
          "name": "stdout"
        },
        {
          "output_type": "display_data",
          "data": {
            "application/vnd.jupyter.widget-view+json": {
              "model_id": "09cc950613054c56b86690f20102742a",
              "version_minor": 0,
              "version_major": 2
            },
            "text/plain": [
              "HBox(children=(FloatProgress(value=1.0, bar_style='info', max=1.0), HTML(value='')))"
            ]
          },
          "metadata": {
            "tags": []
          }
        },
        {
          "output_type": "stream",
          "text": [
            "Extracting ./temp/MNIST/raw/train-labels-idx1-ubyte.gz to ./temp/MNIST/raw\n",
            "Downloading http://yann.lecun.com/exdb/mnist/t10k-images-idx3-ubyte.gz to ./temp/MNIST/raw/t10k-images-idx3-ubyte.gz\n"
          ],
          "name": "stdout"
        },
        {
          "output_type": "display_data",
          "data": {
            "application/vnd.jupyter.widget-view+json": {
              "model_id": "ba707f1404d94f75b0fd0191d229d537",
              "version_minor": 0,
              "version_major": 2
            },
            "text/plain": [
              "HBox(children=(FloatProgress(value=1.0, bar_style='info', max=1.0), HTML(value='')))"
            ]
          },
          "metadata": {
            "tags": []
          }
        },
        {
          "output_type": "stream",
          "text": [
            "Extracting ./temp/MNIST/raw/t10k-images-idx3-ubyte.gz to ./temp/MNIST/raw\n",
            "Downloading http://yann.lecun.com/exdb/mnist/t10k-labels-idx1-ubyte.gz to ./temp/MNIST/raw/t10k-labels-idx1-ubyte.gz\n",
            "\n",
            "\n"
          ],
          "name": "stdout"
        },
        {
          "output_type": "display_data",
          "data": {
            "application/vnd.jupyter.widget-view+json": {
              "model_id": "625c336ea7a7414b8dce1ea9794a86b4",
              "version_minor": 0,
              "version_major": 2
            },
            "text/plain": [
              "HBox(children=(FloatProgress(value=1.0, bar_style='info', max=1.0), HTML(value='')))"
            ]
          },
          "metadata": {
            "tags": []
          }
        },
        {
          "output_type": "stream",
          "text": [
            "Extracting ./temp/MNIST/raw/t10k-labels-idx1-ubyte.gz to ./temp/MNIST/raw\n",
            "Processing...\n",
            "Done!\n"
          ],
          "name": "stdout"
        },
        {
          "output_type": "stream",
          "text": [
            "/usr/local/lib/python3.6/dist-packages/torchvision/datasets/mnist.py:469: UserWarning: The given NumPy array is not writeable, and PyTorch does not support non-writeable tensors. This means you can write to the underlying (supposedly non-writeable) NumPy array using the tensor. You may want to copy the array to protect its data or make it writeable before converting it to a tensor. This type of warning will be suppressed for the rest of this program. (Triggered internally at  /pytorch/torch/csrc/utils/tensor_numpy.cpp:141.)\n",
            "  return torch.from_numpy(parsed.astype(m[2], copy=False)).view(*s)\n"
          ],
          "name": "stderr"
        }
      ]
    },
    {
      "cell_type": "code",
      "metadata": {
        "id": "FZU3xPOWW4RR",
        "colab_type": "code",
        "colab": {
          "base_uri": "https://localhost:8080/",
          "height": 134
        },
        "outputId": "1122b50c-e209-49c1-de6a-f7161aa7c58e"
      },
      "source": [
        "# To speed up training we'll only work on a subset of the data\n",
        "x_train = mnist_trainset.data[:1000].view(-1, 784).float()\n",
        "targets_train = mnist_trainset.targets[:1000]\n",
        "\n",
        "x_valid = mnist_trainset.data[1000:1500].view(-1, 784).float()\n",
        "targets_valid = mnist_trainset.targets[1000:1500]\n",
        "\n",
        "x_test = mnist_testset.data[:500].view(-1, 784).float()\n",
        "targets_test = mnist_testset.targets[:500]\n",
        "\n",
        "print(\"Information on dataset\")\n",
        "print(\"x_train\", x_train.shape)\n",
        "print(\"targets_train\", targets_train.shape)\n",
        "print(\"x_valid\", x_valid.shape)\n",
        "print(\"targets_valid\", targets_valid.shape)\n",
        "print(\"x_test\", x_test.shape)\n",
        "print(\"targets_test\", targets_test.shape)"
      ],
      "execution_count": 4,
      "outputs": [
        {
          "output_type": "stream",
          "text": [
            "Information on dataset\n",
            "x_train torch.Size([1000, 784])\n",
            "targets_train torch.Size([1000])\n",
            "x_valid torch.Size([500, 784])\n",
            "targets_valid torch.Size([500])\n",
            "x_test torch.Size([500, 784])\n",
            "targets_test torch.Size([500])\n"
          ],
          "name": "stdout"
        }
      ]
    },
    {
      "cell_type": "code",
      "metadata": {
        "scrolled": false,
        "id": "RqzIXTKqW4RV",
        "colab_type": "code",
        "colab": {
          "base_uri": "https://localhost:8080/",
          "height": 298
        },
        "outputId": "ea42a6ca-9b18-4fd7-ced0-c29b72712233"
      },
      "source": [
        "# plot a few MNIST examples\n",
        "idx, dim, classes = 0, 28, 10\n",
        "# create empty canvas\n",
        "canvas = np.zeros((dim*classes, classes*dim))\n",
        "\n",
        "# fill with tensors\n",
        "for i in range(classes):\n",
        "    for j in range(classes):\n",
        "        canvas[i*dim:(i+1)*dim, j*dim:(j+1)*dim] = x_train[idx].reshape((dim, dim))\n",
        "        idx += 1\n",
        "\n",
        "# visualize matrix of tensors as gray scale image\n",
        "plt.figure(figsize=(4, 4))\n",
        "plt.axis('off')\n",
        "plt.imshow(canvas, cmap='gray')\n",
        "plt.title('MNIST handwritten digits')\n",
        "plt.show()"
      ],
      "execution_count": 5,
      "outputs": [
        {
          "output_type": "stream",
          "text": [
            "\n",
            "\n"
          ],
          "name": "stdout"
        },
        {
          "output_type": "display_data",
          "data": {
            "image/png": "[encoded data removed]",
            "text/plain": [
              "<Figure size 288x288 with 1 Axes>"
            ]
          },
          "metadata": {
            "tags": [],
            "needs_background": "light"
          }
        }
      ]
    },
    {
      "cell_type": "markdown",
      "metadata": {
        "id": "PRdUTohQW4Rc",
        "colab_type": "text"
      },
      "source": [
        "## Model\n",
        "\n",
        "One of the large challenges in deep learning is the amount of hyperparameters that needs to be selected, and the lack of a good principled way of selecting them.\n",
        "Hyperparameters can be found by experience (guessing) or some search procedure (often quite slow).\n",
        "Random search is easy to implement and performs decent: http://www.jmlr.org/papers/volume13/bergstra12a/bergstra12a.pdf . \n",
        "More advanced search procedures include [Spearmint](https://github.com/JasperSnoek/spearmint) and many others.\n",
        "\n",
        "**In practice a lot of trial and error is almost always involved.** This can be frustrating and time consuming, but the best thing to do is to think as a scientist, and go about it in a ordered manner --> monitor as much as you can, take notes, and be deliberate!\n",
        "\n",
        "Below are some guidelines that you can use as a starting point to some of the most important hyperparameters. \n",
        "(*regularization* is also very important, but will be covered later.)\n",
        "\n",
        "\n",
        "### Ballpark estimates of hyperparameters\n",
        "__Number of hidden units and network structure:__\n",
        "You'll have to experiment. One rarely goes below 512 units for feedforward networks (unless your are training on CPU...).\n",
        "There's some research into stochastic depth networks: https://arxiv.org/pdf/1603.09382v2.pdf, but in general this is trial and error.\n",
        "\n",
        "__Parameter initialization:__\n",
        "Parameter initialization is extremely important.\n",
        "PyTorch has a lot of different initializers, check the [PyTorch API](http://pytorch.org/docs/master/nn.html#torch-nn-init). Often used initializer are\n",
        "1. Kaiming He\n",
        "2. Xavier Glorot\n",
        "3. Uniform or Normal with small scale (0.1 - 0.01)\n",
        "4. Orthogonal (this usually works very well for RNNs)\n",
        "\n",
        "Bias is nearly always initialized to zero using the [torch.nn.init.constant(tensor, val)](http://pytorch.org/docs/master/nn.html#torch.nn.init.constant)\n",
        "\n",
        "__Mini-batch size:__\n",
        "Usually people use 16-256. Bigger is not allways better. With smaller mini-batch size you get more updates and your model might converge faster. Also small batch sizes use less memory, which means you can train a model with more parameters.\n",
        "\n",
        "__Nonlinearity:__ [The most commonly used nonliearities are](http://pytorch.org/docs/master/nn.html#non-linear-activations)\n",
        "1. ReLU\n",
        "2. Leaky ReLU\n",
        "3. ELU\n",
        "3. Sigmoid (rarely, if ever, used in hidden layers anymore, squashes the output to the interval [0, 1] - appropriate if the targets are binary.\n",
        "4. Tanh is similar to the sigmoid, but squashes to [-1, 1]. Rarely used any more.\n",
        "4. Softmax normalizes the output to 1, usrful if you have a multi-class classification problem.\n",
        "\n",
        "See the plot below.\n",
        "\n",
        "__Optimizer and learning rate:__\n",
        "1. SGD + Momentum: learning rate 0.01 - 0.1 \n",
        "2. ADAM: learning rate 3e-4 - 1e-5\n",
        "3. RMSPROP: somewhere between SGD and ADAM\n"
      ]
    },
    {
      "cell_type": "code",
      "metadata": {
        "id": "Nw_M2zkqW4Re",
        "colab_type": "code",
        "colab": {
          "base_uri": "https://localhost:8080/",
          "height": 358
        },
        "outputId": "06e42944-d051-4973-9728-f014c6f8f52c"
      },
      "source": [
        "# Illustrate different output units\n",
        "x = np.linspace(-6, 6, 100)\n",
        "units = {\n",
        "    \"ReLU\": lambda x: np.maximum(0, x),\n",
        "    \"Leaky ReLU\": lambda x: np.maximum(0, x) + 0.1 * np.minimum(0, x),\n",
        "    \"Elu\": lambda x: (x > 0) * x + (1 - (x > 0)) * (np.exp(x) - 1),\n",
        "    \"Sigmoid\": lambda x: (1 + np.exp(-x))**(-1),\n",
        "    \"tanh\": lambda x: (np.exp(x) - np.exp(-x)) / (np.exp(x) + np.exp(-x))\n",
        "}\n",
        "\n",
        "plt.figure(figsize=(5, 5))\n",
        "[plt.plot(x, unit(x), label=unit_name, lw=2) for unit_name, unit in units.items()]\n",
        "plt.legend(loc=2, fontsize=16)\n",
        "plt.title('Non-linearities', fontsize=20)\n",
        "plt.ylim([-2, 5])\n",
        "plt.xlim([-6, 6])\n",
        "\n",
        "# assert that all class probablities sum to one\n",
        "softmax = lambda x: np.exp(x) / np.sum(np.exp(x))\n",
        "print(\"softmax should sum to one (approxiamtely):\", np.sum(softmax(x)))"
      ],
      "execution_count": 6,
      "outputs": [
        {
          "output_type": "stream",
          "text": [
            "softmax should sum to one (approxiamtely): 1.0\n"
          ],
          "name": "stdout"
        },
        {
          "output_type": "display_data",
          "data": {
            "image/png": "[encoded data removed]",
            "text/plain": [
              "<Figure size 360x360 with 1 Axes>"
            ]
          },
          "metadata": {
            "tags": [],
            "needs_background": "light"
          }
        }
      ]
    },
    {
      "cell_type": "code",
      "metadata": {
        "id": "8y-FMj6RW4Rm",
        "colab_type": "code",
        "colab": {}
      },
      "source": [
        "#Hyperparameters\n",
        "num_classes = 10\n",
        "num_l1 = 512\n",
        "num_features = x_train.shape[1]\n",
        "\n",
        "# define network\n",
        "class Net(nn.Module):\n",
        "\n",
        "    def __init__(self, num_features, num_hidden, num_output):\n",
        "        super(Net, self).__init__()  \n",
        "        # input layer\n",
        "        self.W_1 = Parameter(init.xavier_normal_(torch.Tensor(num_hidden, num_features)))\n",
        "        self.b_1 = Parameter(init.constant_(torch.Tensor(num_hidden), 0))\n",
        "        # hidden layer\n",
        "        self.W_2 = Parameter(init.xavier_normal_(torch.Tensor(num_output, num_hidden)))\n",
        "        self.b_2 = Parameter(init.constant_(torch.Tensor(num_output), 0))\n",
        "        # define activation function in constructor\n",
        "        self.activation = torch.nn.ELU()\n",
        "\n",
        "    def forward(self, x):\n",
        "        x = F.linear(x, self.W_1, self.b_1)\n",
        "        x = self.activation(x)\n",
        "        x = F.linear(x, self.W_2, self.b_2)\n",
        "        return x\n",
        "\n",
        "\n",
        "net = Net(num_features, num_l1, num_classes)"
      ],
      "execution_count": 7,
      "outputs": []
    },
    {
      "cell_type": "code",
      "metadata": {
        "id": "--jR6a0PW4Rr",
        "colab_type": "code",
        "colab": {}
      },
      "source": [
        "optimizer = optim.SGD(net.parameters(), lr=0.01)\n",
        "criterion = nn.CrossEntropyLoss()"
      ],
      "execution_count": 8,
      "outputs": []
    },
    {
      "cell_type": "code",
      "metadata": {
        "id": "vhNUDw1lW4Rv",
        "colab_type": "code",
        "colab": {
          "base_uri": "https://localhost:8080/",
          "height": 34
        },
        "outputId": "24ed3c91-16ec-4485-e93f-96e403da5cd6"
      },
      "source": [
        "# Test the forward pass with dummy data\n",
        "x = np.random.normal(0, 1, (45, dim*dim)).astype('float32')\n",
        "\n",
        "print(net(torch.from_numpy(x)).size())"
      ],
      "execution_count": 9,
      "outputs": [
        {
          "output_type": "stream",
          "text": [
            "torch.Size([45, 10])\n"
          ],
          "name": "stdout"
        }
      ]
    },
    {
      "cell_type": "markdown",
      "metadata": {
        "id": "YdiSDo_cW4Ry",
        "colab_type": "text"
      },
      "source": [
        "# Build the training loop\n",
        "\n",
        "We train the network by calculating the gradient w.r.t the cost function and update the parameters in direction of the negative gradient. \n",
        "\n",
        "\n",
        "When training neural network you always use mini batches. Instead of calculating the average gradient using the entire dataset you approximate the gradient using a mini-batch of typically 16 to 256 samples. The paramters are updated after each mini batch. Networks converge much faster using mini batches because the parameters are updated more often.\n",
        "\n",
        "We build a loop that iterates over the training data. Remember that the parameters are updated each time ``optimizer.step()`` is called."
      ]
    },
    {
      "cell_type": "code",
      "metadata": {
        "id": "X7-HOwQ5W4Ry",
        "colab_type": "code",
        "colab": {
          "base_uri": "https://localhost:8080/",
          "height": 632
        },
        "outputId": "8251cea5-b409-4327-95fd-8f5f43888b16"
      },
      "source": [
        "# we could have done this ourselves,\n",
        "# but we should be aware of sklearn and its tools\n",
        "from sklearn.metrics import accuracy_score\n",
        "\n",
        "# normalize the inputs\n",
        "x_train.div_(255)\n",
        "x_valid.div_(255)\n",
        "x_test.div_(255)\n",
        "\n",
        "# setting hyperparameters and gettings epoch sizes\n",
        "batch_size = 100\n",
        "num_epochs = 200\n",
        "num_samples_train = x_train.shape[0]\n",
        "num_batches_train = num_samples_train // batch_size\n",
        "num_samples_valid = x_valid.shape[0]\n",
        "num_batches_valid = num_samples_valid // batch_size\n",
        "\n",
        "# setting up lists for handling loss/accuracy\n",
        "train_acc, train_loss = [], []\n",
        "valid_acc, valid_loss = [], []\n",
        "test_acc, test_loss = [], []\n",
        "cur_loss = 0\n",
        "losses = []\n",
        "\n",
        "get_slice = lambda i, size: range(i * size, (i + 1) * size)\n",
        "\n",
        "for epoch in range(num_epochs):\n",
        "    # Forward -> Backprob -> Update params\n",
        "    ## Train\n",
        "    cur_loss = 0\n",
        "    net.train()\n",
        "    for i in range(num_batches_train):\n",
        "        optimizer.zero_grad()\n",
        "        slce = get_slice(i, batch_size)\n",
        "        output = net(x_train[slce])\n",
        "        \n",
        "        # compute gradients given loss\n",
        "        target_batch = targets_train[slce]\n",
        "        batch_loss = criterion(output, target_batch)\n",
        "        batch_loss.backward()\n",
        "        optimizer.step()\n",
        "        \n",
        "        cur_loss += batch_loss   \n",
        "    losses.append(cur_loss / batch_size)\n",
        "\n",
        "    net.eval()\n",
        "    ### Evaluate training\n",
        "    train_preds, train_targs = [], []\n",
        "    for i in range(num_batches_train):\n",
        "        slce = get_slice(i, batch_size)\n",
        "        output = net(x_train[slce])\n",
        "        \n",
        "        preds = torch.max(output, 1)[1]\n",
        "        \n",
        "        train_targs += list(targets_train[slce].numpy())\n",
        "        train_preds += list(preds.data.numpy())\n",
        "    \n",
        "    ### Evaluate validation\n",
        "    val_preds, val_targs = [], []\n",
        "    for i in range(num_batches_valid):\n",
        "        slce = get_slice(i, batch_size)\n",
        "        \n",
        "        output = net(x_valid[slce])\n",
        "        preds = torch.max(output, 1)[1]\n",
        "        val_targs += list(targets_valid[slce].numpy())\n",
        "        val_preds += list(preds.data.numpy())\n",
        "        \n",
        "\n",
        "    train_acc_cur = accuracy_score(train_targs, train_preds)\n",
        "    valid_acc_cur = accuracy_score(val_targs, val_preds)\n",
        "    \n",
        "    train_acc.append(train_acc_cur)\n",
        "    valid_acc.append(valid_acc_cur)\n",
        "    \n",
        "    if epoch % 10 == 0:\n",
        "        print(\"Epoch %2i : Train Loss %f , Train acc %f, Valid acc %f\" % (\n",
        "                epoch+1, losses[-1], train_acc_cur, valid_acc_cur))\n",
        "\n",
        "epoch = np.arange(len(train_acc))\n",
        "plt.figure()\n",
        "plt.plot(epoch, train_acc, 'r', epoch, valid_acc, 'b')\n",
        "plt.legend(['Train Accucary','Validation Accuracy'])\n",
        "plt.xlabel('Updates'), plt.ylabel('Acc')"
      ],
      "execution_count": 10,
      "outputs": [
        {
          "output_type": "stream",
          "text": [
            "Epoch  1 : Train Loss 0.232100 , Train acc 0.216000, Valid acc 0.184000\n",
            "Epoch 11 : Train Loss 0.107778 , Train acc 0.781000, Valid acc 0.742000\n",
            "Epoch 21 : Train Loss 0.075684 , Train acc 0.842000, Valid acc 0.778000\n",
            "Epoch 31 : Train Loss 0.061394 , Train acc 0.873000, Valid acc 0.798000\n",
            "Epoch 41 : Train Loss 0.053016 , Train acc 0.883000, Valid acc 0.816000\n",
            "Epoch 51 : Train Loss 0.047345 , Train acc 0.899000, Valid acc 0.826000\n",
            "Epoch 61 : Train Loss 0.043159 , Train acc 0.905000, Valid acc 0.832000\n",
            "Epoch 71 : Train Loss 0.039884 , Train acc 0.909000, Valid acc 0.838000\n",
            "Epoch 81 : Train Loss 0.037214 , Train acc 0.914000, Valid acc 0.838000\n",
            "Epoch 91 : Train Loss 0.034968 , Train acc 0.917000, Valid acc 0.842000\n",
            "Epoch 101 : Train Loss 0.033033 , Train acc 0.921000, Valid acc 0.844000\n",
            "Epoch 111 : Train Loss 0.031335 , Train acc 0.928000, Valid acc 0.846000\n",
            "Epoch 121 : Train Loss 0.029822 , Train acc 0.933000, Valid acc 0.848000\n",
            "Epoch 131 : Train Loss 0.028457 , Train acc 0.936000, Valid acc 0.848000\n",
            "Epoch 141 : Train Loss 0.027215 , Train acc 0.937000, Valid acc 0.852000\n",
            "Epoch 151 : Train Loss 0.026075 , Train acc 0.941000, Valid acc 0.852000\n",
            "Epoch 161 : Train Loss 0.025020 , Train acc 0.945000, Valid acc 0.854000\n",
            "Epoch 171 : Train Loss 0.024041 , Train acc 0.946000, Valid acc 0.856000\n",
            "Epoch 181 : Train Loss 0.023126 , Train acc 0.948000, Valid acc 0.856000\n",
            "Epoch 191 : Train Loss 0.022267 , Train acc 0.949000, Valid acc 0.856000\n"
          ],
          "name": "stdout"
        },
        {
          "output_type": "execute_result",
          "data": {
            "text/plain": [
              "(Text(0.5, 0, 'Updates'), Text(0, 0.5, 'Acc'))"
            ]
          },
          "metadata": {
            "tags": []
          },
          "execution_count": 10
        },
        {
          "output_type": "display_data",
          "data": {
            "image/png": "[encoded data removed]",
            "text/plain": [
              "<Figure size 432x288 with 1 Axes>"
            ]
          },
          "metadata": {
            "tags": [],
            "needs_background": "light"
          }
        }
      ]
    },
    {
      "cell_type": "markdown",
      "metadata": {
        "collapsed": true,
        "id": "67YgjfdWW4R1",
        "colab_type": "text"
      },
      "source": [
        "# Assignments\n",
        "\n",
        "Try and add these modifications (might require some Googleing -- an important skill in deep learning):\n",
        "- Kaiming He initialization instead of Xavier Glorot\n",
        "- add an extra layer\n",
        "- use the relu activation function\n",
        "- add momentum to the optimizer\n",
        "- use the ADAM optimizer instead of stochastic gradient descent\n",
        "\n",
        "### Advanced - Regularization\n",
        "\n",
        "Regularization is VERY important in practice and is used practically every time.\n",
        "Many important results are completely dependent on clever use of regularization, and it is something you need to become familiar with if you want to work with deep learning.\n",
        "\n",
        "- add L1 or L2 weight regularization (aka. weight decay) \n",
        "- add dropout to the network (**note** the `net.train()` and `net.eval()` are already in the code)\n",
        "- add batchnorm\n",
        "\n",
        "__Pointers on regularization hyperparameter:__\n",
        "1. L2 and [L1 regularization](http://pytorch.org/docs/master/nn.html#torch.nn.L1Loss) (weight decay of optimization functions) \n",
        "  - Normal ranges: 1e-4  -  1e-8\n",
        "1. [Dropout](http://pytorch.org/docs/master/nn.html?highlight=dropout#torch.nn.Dropout). Dropout rate 0.1-0.5\n",
        "  - Remember to pick the correct version according to the input dimensionality\n",
        "  - **NOTE** call `net.train()` before training to activate random dropout, and call `net.eval()` to deactivate dropout while validating or running inference with model.\n",
        "1. [Batchnorm](http://pytorch.org/docs/master/nn.html#torch.nn.BatchNorm1d): Batchnorm also acts as a regularizer - Often very useful (faster and better convergence)\n",
        "  - Remember to pick the correct version according to the input dimensionality\n",
        "  - **NOTE** call `net.train()` before training to activate, and call `net.eval()` to have a non-stochastic variant while validating or running inference with model.\n",
        "    "
      ]
    },
    {
      "cell_type": "code",
      "metadata": {
        "id": "2LHg_7FCKYhg",
        "colab_type": "code",
        "colab": {}
      },
      "source": [
        "#Hyperparameters\n",
        "num_classes = 10\n",
        "num_l1 = 512\n",
        "num_l2 = 512\n",
        "num_features = x_train.shape[1]\n",
        "\n",
        "# define network\n",
        "class Net(nn.Module):\n",
        "\n",
        "    def __init__(self, num_features, num_hidden, num_hidden2, num_output):\n",
        "        super(Net, self).__init__()  \n",
        "        # input layer\n",
        "        self.W_1 = Parameter(init.kaiming_normal_(torch.Tensor(num_hidden, num_features),nonlinearity='relu'))\n",
        "        self.b_1 = Parameter(init.constant_(torch.Tensor(num_hidden), 0))\n",
        "        # hidden layer\n",
        "        self.W_2 = Parameter(init.kaiming_normal_(torch.Tensor(num_hidden2, num_hidden),nonlinearity='relu'))\n",
        "        self.b_2 = Parameter(init.constant_(torch.Tensor(num_hidden2), 0))\n",
        "        # hidden layer 2\n",
        "        self.W_3 = Parameter(init.kaiming_normal_(torch.Tensor(num_output, num_hidden2),nonlinearity='relu'))\n",
        "        self.b_3 = Parameter(init.constant_(torch.Tensor(num_output), 0))\n",
        "        # define activation function in constructor\n",
        "        self.activation = torch.nn.ReLU()\n",
        "        # define propability for dropout layer\n",
        "        self.p = 0.3\n",
        "\n",
        "    def forward(self, x):\n",
        "        x = F.linear(x, self.W_1, self.b_1)\n",
        "        x = self.activation(x)\n",
        "        dout = torch.nn.Dropout2d(self.p)                                                             # Second advanced modification: Adding dropout layer (using 2d since our weight matrices are 2d)\n",
        "        x = dout(x)                      \n",
        "        x = F.linear(x, self.W_2, self.b_2)\n",
        "        x = self.activation(x)\n",
        "        bout = torch.nn.BatchNorm1d(m)                                                                # Third advanced modification: Adding batchnorm regularizer\n",
        "        x = bout(x)\n",
        "        x = F.linear(x, self.W_3, self.b_3)\n",
        "        return x\n",
        "\n",
        "\n",
        "net = Net(num_features, num_l1, num_l2, num_classes)"
      ],
      "execution_count": 11,
      "outputs": []
    },
    {
      "cell_type": "code",
      "metadata": {
        "id": "vsuRCMWHKbtB",
        "colab_type": "code",
        "colab": {}
      },
      "source": [
        "# optimizer = optim.SGD(net.parameters(), lr=0.01, 0.9)\n",
        "\n",
        "optimizer = optim.Adam(net.parameters(), lr=3e-4, weight_decay=1e-3)\n",
        "criterion = nn.CrossEntropyLoss()"
      ],
      "execution_count": 12,
      "outputs": []
    },
    {
      "cell_type": "code",
      "metadata": {
        "id": "W88XTqFIKe6t",
        "colab_type": "code",
        "colab": {
          "base_uri": "https://localhost:8080/",
          "height": 34
        },
        "outputId": "e84b15d5-8c21-48ac-fae8-772e2c0f2d12"
      },
      "source": [
        "# Test the forward pass with dummy data\n",
        "x = np.random.normal(0, 1, (512, dim*dim)).astype('float32')\n",
        "\n",
        "print(net(torch.from_numpy(x)).size())"
      ],
      "execution_count": 13,
      "outputs": [
        {
          "output_type": "stream",
          "text": [
            "torch.Size([512, 10])\n"
          ],
          "name": "stdout"
        }
      ]
    },
    {
      "cell_type": "code",
      "metadata": {
        "id": "ccFqLTALngwj",
        "colab_type": "code",
        "colab": {}
      },
      "source": [
        "import random"
      ],
      "execution_count": 17,
      "outputs": []
    },
    {
      "cell_type": "code",
      "metadata": {
        "id": "2dnbfFQmOOKY",
        "colab_type": "code",
        "colab": {
          "base_uri": "https://localhost:8080/",
          "height": 262
        },
        "outputId": "1c756f17-a40f-4716-f0a4-70c5403d5f0d"
      },
      "source": [
        "# we could have done this ourselves,\n",
        "# but we should be aware of sklearn and its tools\n",
        "from sklearn.metrics import accuracy_score\n",
        "\n",
        "# normalize the inputs\n",
        "x_train.div_(255)\n",
        "x_valid.div_(255)\n",
        "x_test.div_(255)\n",
        "\n",
        "# setting hyperparameters and gettings epoch sizes\n",
        "batch_size = 100\n",
        "num_epochs = 200\n",
        "num_samples_train = x_train.shape[0]\n",
        "num_batches_train = num_samples_train // batch_size\n",
        "num_samples_valid = x_valid.shape[0]\n",
        "num_batches_valid = num_samples_valid // batch_size\n",
        "\n",
        "# setting up lists for handling loss/accuracy\n",
        "train_acc, train_loss = [], []\n",
        "valid_acc, valid_loss = [], []\n",
        "test_acc, test_loss = [], []\n",
        "cur_loss = 0\n",
        "losses = []\n",
        "\n",
        "\n",
        "get_slice = lambda i, size: range(i * size, (i + 1) * size)\n",
        "\n",
        "for epoch in range(num_epochs):\n",
        "    # Forward -> Backprob -> Update params\n",
        "    ## Train\n",
        "    cur_loss = 0\n",
        "    net.train()\n",
        "    for i in range(num_batches_train):\n",
        "        optimizer.zero_grad()\n",
        "        slce = get_slice(i, batch_size)\n",
        "        output = net(x_train[slce])\n",
        "        print(output[1])\n",
        "        # compute gradients given loss\n",
        "        target_batch = targets_train[slce]\n",
        "        batch_loss = criterion(output, target_batch)\n",
        "        batch_loss.backward()   \n",
        "        optimizer.step()\n",
        "        \n",
        "\n",
        "        cur_loss += batch_loss   \n",
        "    losses.append(cur_loss / batch_size)\n",
        "\n",
        "    net.eval()\n",
        "    ### Evaluate training\n",
        "    train_preds, train_targs = [], []\n",
        "    for i in range(num_batches_train):\n",
        "        slce = get_slice(i, batch_size)\n",
        "        output = net(x_train[slce])\n",
        "        \n",
        "        preds = torch.max(output, 1)[1]\n",
        "        \n",
        "        train_targs += list(targets_train[slce].numpy())\n",
        "        train_preds += list(preds.data.numpy())\n",
        "    \n",
        "    ### Evaluate validation\n",
        "    val_preds, val_targs = [], []\n",
        "    for i in range(num_batches_valid):\n",
        "        slce = get_slice(i, batch_size)\n",
        "        \n",
        "        output = net(x_valid[slce])\n",
        "        preds = torch.max(output, 1)[1]\n",
        "        val_targs += list(targets_valid[slce].numpy())\n",
        "        val_preds += list(preds.data.numpy())\n",
        "        \n",
        "\n",
        "    train_acc_cur = accuracy_score(train_targs, train_preds)\n",
        "    valid_acc_cur = accuracy_score(val_targs, val_preds)\n",
        "    \n",
        "    train_acc.append(train_acc_cur)\n",
        "    valid_acc.append(valid_acc_cur)\n",
        "    \n",
        "    if epoch % 10 == 0:\n",
        "        print(\"Epoch %2i : Train Loss %f , Train acc %f, Valid acc %f\" % (\n",
        "                epoch+1, losses[-1], train_acc_cur, valid_acc_cur))\n",
        "\n",
        "epoch = np.arange(len(train_acc))\n",
        "plt.figure()\n",
        "plt.plot(epoch, train_acc, 'r', epoch, valid_acc, 'b')\n",
        "plt.legend(['Train Accucary','Validation Accuracy'])\n",
        "plt.xlabel('Updates'), plt.ylabel('Acc')"
      ],
      "execution_count": 26,
      "outputs": [
        {
          "output_type": "stream",
          "text": [
            "tensor([-1.7728, -1.5379, -1.7140, -1.7989, -1.6833, -1.7694, -1.7541, -1.6045,\n",
            "        -1.8355, -1.7544], grad_fn=<SelectBackward>)\n"
          ],
          "name": "stdout"
        },
        {
          "output_type": "error",
          "ename": "TypeError",
          "evalue": "ignored",
          "traceback": [
            "\u001b[0;31m---------------------------------------------------------------------------\u001b[0m",
            "\u001b[0;31mTypeError\u001b[0m                                 Traceback (most recent call last)",
            "\u001b[0;32m<ipython-input-26-f9ddc45eba6d>\u001b[0m in \u001b[0;36m<module>\u001b[0;34m()\u001b[0m\n\u001b[1;32m     43\u001b[0m         \u001b[0mmu\u001b[0m \u001b[0;34m=\u001b[0m \u001b[0mrandom\u001b[0m\u001b[0;34m.\u001b[0m\u001b[0muniform\u001b[0m\u001b[0;34m(\u001b[0m\u001b[0;36m0\u001b[0m\u001b[0;34m,\u001b[0m \u001b[0;36m1\u001b[0m\u001b[0;34m)\u001b[0m\u001b[0;34m\u001b[0m\u001b[0;34m\u001b[0m\u001b[0m\n\u001b[1;32m     44\u001b[0m         \u001b[0mw_j\u001b[0m \u001b[0;34m=\u001b[0m \u001b[0moptimizer\u001b[0m\u001b[0;34m\u001b[0m\u001b[0;34m\u001b[0m\u001b[0m\n\u001b[0;32m---> 45\u001b[0;31m         \u001b[0mD_w\u001b[0m \u001b[0;34m=\u001b[0m \u001b[0mmu\u001b[0m\u001b[0;34m*\u001b[0m\u001b[0mw_j\u001b[0m\u001b[0;34m\u001b[0m\u001b[0;34m\u001b[0m\u001b[0m\n\u001b[0m\u001b[1;32m     46\u001b[0m         \u001b[0moptimizer\u001b[0m\u001b[0;34m.\u001b[0m\u001b[0mstep\u001b[0m\u001b[0;34m(\u001b[0m\u001b[0;34m)\u001b[0m\u001b[0;34m\u001b[0m\u001b[0;34m\u001b[0m\u001b[0m\n\u001b[1;32m     47\u001b[0m         \u001b[0moptimizer\u001b[0m \u001b[0;34m=\u001b[0m \u001b[0moptimizer\u001b[0m\u001b[0;34m*\u001b[0m\u001b[0mD_w\u001b[0m\u001b[0;34m\u001b[0m\u001b[0;34m\u001b[0m\u001b[0m\n",
            "\u001b[0;31mTypeError\u001b[0m: unsupported operand type(s) for *: 'float' and 'Adam'"
          ]
        }
      ]
    },
    {
      "cell_type": "markdown",
      "metadata": {
        "id": "bpmXi8Pr2j3y",
        "colab_type": "text"
      },
      "source": [
        "![image.png](data:image/png;base64,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)"
      ]
    },
    {
      "cell_type": "markdown",
      "metadata": {
        "id": "4iQvTLZp2q4_",
        "colab_type": "text"
      },
      "source": [
        "A) If mu > 1, the \"friction\" would be negative and the process would become gradient ascent.\n",
        "\n",
        "B) If mu < 0, the \"friction\" value would become large and the process would slow down."
      ]
    },
    {
      "cell_type": "markdown",
      "metadata": {
        "id": "1v6qEQChW4R1",
        "colab_type": "text"
      },
      "source": [
        "You are done for now. [Good job.](https://media1.tenor.com/images/0fd559b07f2174f9b8b7dbde7c5a67ca/tenor.gif)"
      ]
    }
  ]
}