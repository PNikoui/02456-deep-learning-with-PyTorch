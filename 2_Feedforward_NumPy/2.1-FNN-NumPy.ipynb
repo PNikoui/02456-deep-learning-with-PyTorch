{
<<<<<<< Updated upstream
  "nbformat": 4,
  "nbformat_minor": 0,
  "metadata": {
    "anaconda-cloud": {},
    "kernelspec": {
      "display_name": "Python 3",
      "language": "python",
      "name": "python3"
    },
    "language_info": {
      "codemirror_mode": {
        "name": "ipython",
        "version": 3
      },
      "file_extension": ".py",
      "mimetype": "text/x-python",
      "name": "python",
      "nbconvert_exporter": "python",
      "pygments_lexer": "ipython3",
      "version": "3.6.3"
    },
    "colab": {
      "name": "2.1-FNN-NumPy.ipynb",
      "provenance": []
    }
  },
  "cells": [
    {
      "cell_type": "markdown",
      "metadata": {
        "id": "HAva8TnYFtFu",
        "colab_type": "text"
      },
      "source": [
        "# Contents and why we need this lab\n",
        "\n",
        "This lab is about implementing neural networks yourself in NumPy before we start using other frameworks which hide some of the computation from you. It builds on the first lab where you derived the equations for neural network forward and backward propagation and gradient descent parameter updates."
      ]
    },
    {
      "cell_type": "markdown",
      "metadata": {
        "id": "sCa7HzwpFtFy",
        "colab_type": "text"
      },
      "source": [
        "# External sources of information\n",
        "\n",
        "1. Jupyter notebook. You can find more information about Jupyter notebooks [here](https://jupyter.org/). It will come as part of the [Anaconda](https://www.anaconda.com/) Python installation. \n",
        "2. [NumPy](https://numpy.org/). Part of Anaconda distribution. If you already know how to program most things about Python and NumPy can be found through Google search. \n"
      ]
    },
    {
      "cell_type": "markdown",
      "metadata": {
        "id": "1SjiIp-TFtF0",
        "colab_type": "text"
      },
      "source": [
        "# This notebook will follow the next steps:\n",
        "\n",
        "1. Data generation\n",
        "2. Initialization of parameters\n",
        "3. Definition of activation functions   \n",
        "4. A short explanation of numpy's einsum function\n",
        "5. Forward pass\n",
        "6. Backward pass (backward pass and finite differences)\n",
        "7. Training loop \n",
        "8. Testing your model\n",
        "9. Further extensions"
      ]
    },
    {
      "cell_type": "markdown",
      "metadata": {
        "id": "VvtTIP_qFtF2",
        "colab_type": "text"
      },
      "source": [
        "# Create an artificial dataset to play with\n",
        "\n",
        "We create a non-linear 1d regression task. The generator supports various noise levels and it creates train, validation and test sets. You can modify it yourself if you want more or less challenging tasks."
      ]
    },
    {
      "cell_type": "code",
      "metadata": {
        "id": "PB-yRe4aFtF5",
        "colab_type": "code",
        "colab": {}
      },
      "source": [
        "import numpy as np\n",
        "import matplotlib.pyplot as plt\n",
        "\n",
        "np.random.seed(42)"
      ],
      "execution_count": null,
      "outputs": []
    },
    {
      "cell_type": "code",
      "metadata": {
        "id": "smI4QFhzFtGH",
        "colab_type": "code",
        "colab": {}
      },
      "source": [
        "def data_generator(noise=0.1, n_samples=300, D1=True):\n",
        "    # Create covariates and response variable\n",
        "    if D1:\n",
        "        X = np.linspace(-3, 3, num=n_samples).reshape(-1,1) # 1-D\n",
        "        np.random.shuffle(X)\n",
        "        y = np.random.normal((0.5*np.sin(X[:,0]*3) + X[:,0]), noise) # 1-D with trend\n",
        "    else:\n",
        "        X = np.random.multivariate_normal(np.zeros(3), noise*np.eye(3), size = n_samples) # 3-D\n",
        "        np.random.shuffle(X)    \n",
        "        y = np.sin(X[:,0]) - 5*(X[:,1]**2) + 0.5*X[:,2] # 3-D\n",
        "\n",
        "    # Stack them together vertically to split data set\n",
        "    data_set = np.vstack((X.T,y)).T\n",
        "    \n",
        "    train, validation, test = np.split(data_set, [int(0.35*n_samples), int(0.7*n_samples)], axis=0)\n",
        "    \n",
        "    # Standardization of the data, remember we do the standardization with the training set mean and standard deviation\n",
        "    train_mu = np.mean(train, axis=0)\n",
        "    train_sigma = np.std(train, axis=0)\n",
        "    \n",
        "    train = (train-train_mu)/train_sigma\n",
        "    validation = (validation-train_mu)/train_sigma\n",
        "    test = (test-train_mu)/train_sigma\n",
        "    \n",
        "    x_train, x_validation, x_test = train[:,:-1], validation[:,:-1], test[:,:-1]\n",
        "    y_train, y_validation, y_test = train[:,-1], validation[:,-1], test[:,-1]\n",
        "\n",
        "    return x_train, y_train,  x_validation, y_validation, x_test, y_test"
      ],
      "execution_count": null,
      "outputs": []
    },
    {
      "cell_type": "code",
      "metadata": {
        "id": "FKvkAODOFtGQ",
        "colab_type": "code",
        "colab": {}
      },
      "source": [
        "D1 = True\n",
        "x_train, y_train,  x_validation, y_validation, x_test, y_test = data_generator(noise=0.5, D1=D1)"
      ],
      "execution_count": null,
      "outputs": []
    },
    {
      "cell_type": "code",
      "metadata": {
        "id": "im2-MOcwFtGW",
        "colab_type": "code",
        "colab": {}
      },
      "source": [
        "if D1:\n",
        "    plt.scatter(x_train[:,0], y_train);\n",
        "    plt.scatter(x_validation[:,0], y_validation);\n",
        "    plt.scatter(x_test[:,0], y_test);\n",
        "else:\n",
        "    plt.scatter(x_train[:,1], y_train);\n",
        "    plt.scatter(x_validation[:,1], y_validation);\n",
        "    plt.scatter(x_test[:,1], y_test);\n",
        "plt.show()"
      ],
      "execution_count": null,
      "outputs": []
    },
    {
      "cell_type": "markdown",
      "metadata": {
        "id": "QUMD2aNKFtGd",
        "colab_type": "text"
      },
      "source": [
        "# Initialization"
      ]
    },
    {
      "cell_type": "markdown",
      "metadata": {
        "id": "VbjrqcpVFtGe",
        "colab_type": "text"
      },
      "source": [
        "The steps to create a feed forward neural network are the following:\n",
        "\n",
        "1. **Number of hidden layer and hidden units**. We have to define the number of hidden units in each layer. We are going to save these numbers in a list \"L\" that is going to start with our input dimensionality (the number of features in X) and is going to finish with our output dimensionality (the size of Y). Anything in between these values are going to be hidden layers and the number of hidden units in each hidden layer is defined by the researcher. Remember that for each unit in each layer (besides the first one, according to our list L) there is a bias term.\n",
        "2. **Activation functions** for each hidden layer. Each hidden layer in your list must have an activation function (it can also be the linear activation which is equivalent to identity function). The power of neural networks comes from non-linear activation functions that learn representations (features) from the data allowing us to learn from it. \n",
        "3. **Parameter initialization**. We will initialize the weights to have random values. This is done in practice by drawing pseudo random numbers from a Gaussian or uniform distribution. It turns out that for deeper models we have to be careful about how we scale the random numbers. This will be the topic of the exercise below. For now we will just use unit variance Gaussians.  \n",
        "\n",
        "Our initialization will work as follows: \n",
        "\n",
        "For each layer of the neural network defined in L, initialize a matrix of weights of size (units_in, units_out) from a random normal distribution [np.random.normal()](https://docs.scipy.org/doc/numpy-1.15.0/reference/generated/numpy.random.normal.html) and save them in a list called \"layers\". For each layer in our neural network, initialize a matrix of weights of size (1, units_out) as above and save them in a list called \"bias\". The function should return a tuple (layers, bias). The length of our lists must be len(L)-1."
      ]
    },
    {
      "cell_type": "code",
      "metadata": {
        "id": "MrcirTTHFtGf",
        "colab_type": "code",
        "colab": {}
      },
      "source": [
        "# Initialize neural network:\n",
        "# the NN is a tuple with a list with weights and list with biases\n",
        "def init_NN(L):\n",
        "    \"\"\"\n",
        "    Function that initializes our feed-forward neural network. \n",
        "    Input: \n",
        "    L: list of integers. The first element must be equal to the number of features of x and the last element \n",
        "        must be the number of outputs in the network.\n",
        "    Output:\n",
        "    A tuple of:\n",
        "    weights: a list with randomly initialized weights of shape (in units, out units) each. The units are the ones we defined in L.\n",
        "        For example, if L = [2, 3, 4] layers must be a list with a first element of shape (2, 3) and a second elemtn of shape (3, 4). \n",
        "        The length of layers must be len(L)-1\n",
        "    biases: a list with randomly initialized biases of shape (1, out_units) each. For the example above, bias would be a list of length\n",
        "        2 with a first element of shape (1, 3) and a second element of shape (1, 4).\n",
        "    \"\"\"\n",
        "    weights = []\n",
        "    biases  = []\n",
        "    for i in range(len(L)-1):\n",
        "        weights.append(np.random.normal(loc=0.0, scale=1.0, size=[L[i],L[i+1]])) \n",
        "        biases.append(np.random.normal(loc=0.0, scale=1.0, size=[1, L[i+1]]))     \n",
        "        \n",
        "    return (weights, biases)\n",
        "\n",
        "# Initialize the unit test neural network:\n",
        "# Same steps as above but we will not initialize the weights randomly.\n",
        "def init_NN_UT(L):\n",
        "    weights = []\n",
        "    biases  = []\n",
        "    for i in range(len(L)-1):\n",
        "        weights.append(np.ones((L[i],L[i+1]))) \n",
        "        biases.append(np.ones((1, L[i+1])))     \n",
        "        \n",
        "    return (weights, biases)\n",
        "\n",
        "# Initializer the unit test neural network\n",
        "L_UT  = [3, 5, 1]\n",
        "NN_UT = init_NN_UT(L_UT)"
      ],
      "execution_count": null,
      "outputs": []
    },
    {
      "cell_type": "markdown",
      "metadata": {
        "id": "oLrGJytZFtGm",
        "colab_type": "text"
      },
      "source": [
        "## Exercise a) Print all network parameters\n",
        "\n",
        "Make a function that prints all parameters (weights and biases) with information about in which layer the parameters are."
      ]
    },
    {
      "cell_type": "code",
      "metadata": {
        "id": "iac-VwYGFtGm",
        "colab_type": "code",
        "colab": {}
      },
      "source": [
        "# Insert code here"
      ],
      "execution_count": null,
      "outputs": []
    },
    {
      "cell_type": "markdown",
      "metadata": {
        "id": "b-jdEl-7FtGs",
        "colab_type": "text"
      },
      "source": [
        "# Advanced initialization schemes\n",
        "\n",
        "If we are not careful with initialization we can run into trouble with in both the forward and backward passes. We have random weights with random +/- sign so the signal we pass forward will also be random and zero on average. However, the absolute size of the signal may grow or shrink from layer to layer depending upon the absolute scale of random weights. A statistical analysis of this effect and the same effect for the backward pass are presented in these two papers: [Glorot initialization](http://proceedings.mlr.press/v9/glorot10a/glorot10a.pdf) and [He initialization](https://arxiv.org/pdf/1502.01852v1.pdf). \n",
        "\n",
        "The result of the analyses are proposals for how to make the initialization such that the variance of the signals (forward and backward) are kept constant when propagating layer to layer. The exact expressions depend upon the activation function used.\n",
        "\n",
        "We define $n_{in}$ and $n_{out}$ as the number of input units and output units of a particular layer. \n",
        "\n",
        "In the linked paper, Glorot and Bengio propose that for tanh activation functions the following two alternative initializations:\n",
        "\n",
        "$$ w_{ij} \\sim U \\bigg[ -\\sqrt{\\frac{6}{(n_{in} + n_{out})}}, \\, \\sqrt{\\frac{6}{(n_{in} + n_{out})}} \\bigg] $$\n",
        "\n",
        "$$ w_{ij} \\sim N \\bigg( 0, \\, \\frac{2}{(n_{in} + n_{out})} \\bigg) \\ . $$\n",
        "\n",
        "Here $U[a,b]$ is a uniform distribution in the interval $a$ to $b$ and $N(\\mu,\\sigma^2)$ is a Gaussian distribution with mean $\\mu$ and variance $\\sigma^2$.\n",
        "\n",
        "He et.al. proposes for Rectified Linear Unit activations (ReLU) the following initialization:\n",
        "\n",
        "$$ w_{ij} \\sim U \\bigg[ -\\sqrt{\\frac{6}{n_{in}}}, \\, \\sqrt{\\frac{6}{n_{in}}} \\bigg] $$\n",
        "\n",
        "$$w_{ij} \\sim N \\bigg( 0, \\, \\frac{2}{n_{in}} \\bigg) \\ . $$"
      ]
    },
    {
      "cell_type": "markdown",
      "metadata": {
        "id": "mqeyab9qFtGs",
        "colab_type": "text"
      },
      "source": [
        "## Exercise b) Glorot and He initialization\n",
        "\n",
        "Implement these initialization schemes by modifying the code given below.\n",
        "\n",
        "**NOTE:** The Gaussian is defined as $N( \\mu, \\, \\sigma^{2})$ but Numpy takes $\\sigma$ as argument.\n",
        "\n",
        "Explain briefly how you would test numerically that these initializations have the sought after property. Hint: See plots in Glorot paper."
      ]
    },
    {
      "cell_type": "code",
      "metadata": {
        "id": "Qyk01CgaFtGt",
        "colab_type": "code",
        "colab": {}
      },
      "source": [
        "## Glorot\n",
        "def init_NN_glorot_Tanh(L, uniform=False):\n",
        "    \"\"\"\n",
        "    Initializer using the glorot initialization scheme\n",
        "    \"\"\"\n",
        "    weights = []\n",
        "    biases  = []\n",
        "    for i in range(len(L)-1):\n",
        "        if uniform:\n",
        "            bound = 1.0 # <- replace with proper initialization\n",
        "            weights.append(np.random.uniform(low=-bound, high=bound, size=[L[i],L[i+1]])) \n",
        "            biases.append(np.random.uniform(low=-bound, high=bound, size=[1, L[i+1]]))  \n",
        "        else:\n",
        "            std = 1.0 # <- replace with proper initialization\n",
        "            weights.append(np.random.normal(loc=0.0, scale=std, size=[L[i],L[i+1]])) \n",
        "            biases.append(np.random.normal(loc=0.0, scale=std, size=[1, L[i+1]]))       \n",
        "        \n",
        "    return (weights, biases)\n",
        "\n",
        "## He\n",
        "def init_NN_he_ReLU(L, uniform=False):\n",
        "    \"\"\"\n",
        "    Initializer using the He initialization scheme\n",
        "    \"\"\"\n",
        "    weights = []\n",
        "    biases  = []\n",
        "    for i in range(len(L)-1):\n",
        "        if uniform:\n",
        "            bound = 1.0 # <- replace with proper initialization\n",
        "            weights.append(np.random.uniform(low=-bound, high=bound, size=[L[i],L[i+1]])) \n",
        "            biases.append(np.random.uniform(low=-bound, high=bound, size=[1, L[i+1]]))  \n",
        "        else:\n",
        "            std = 1.0 # <- replace with proper initialization\n",
        "            weights.append(np.random.normal(loc=0.0, scale=std, size=[L[i],L[i+1]])) \n",
        "            biases.append(np.random.normal(loc=0.0, scale=std, size=[1, L[i+1]]))       \n",
        "        \n",
        "    return (weights, biases)"
      ],
      "execution_count": null,
      "outputs": []
    },
    {
      "cell_type": "markdown",
      "metadata": {
        "id": "-u4xk_ORFtGz",
        "colab_type": "text"
      },
      "source": [
        "# Activation functions\n",
        "\n",
        "To have a full definition of the neural network, we must define an activation function for every layer in our list L (again, exluding the first term, which is the number of input dimensions). Several activation functions have been proposed and have different characteristics. Here, we will implement the linear activation function (the identity function), the sigmoid activation function (squeeshes the outcome of each neuron into the $[0, 1]$ range), the Hyperbolic Tangent (Tanh) that squeeshes the outcome of each neuron to $[-1, 1]$ and the Rectified Linear Unit (ReLU). \n",
        "\n",
        "We will also include the derivative in the function. We need this in order to do our back-propagation algorithm. Don't rush, we will get there soon. For any neural network, save the activation functions in a list. This list must be of size len(L)-1."
      ]
    },
    {
      "cell_type": "markdown",
      "metadata": {
        "id": "9MkoJmzaFtGz",
        "colab_type": "text"
      },
      "source": [
        "## Linear activation"
      ]
    },
    {
      "cell_type": "code",
      "metadata": {
        "collapsed": true,
        "id": "3NVVlnwHFtG0",
        "colab_type": "code",
        "colab": {}
      },
      "source": [
        "def Linear(x, derivative=False):\n",
        "    \"\"\"\n",
        "    Computes the element-wise Linear activation function for an array x\n",
        "    inputs:\n",
        "    x: The array where the function is applied\n",
        "    derivative: if set to True will return the derivative instead of the forward pass\n",
        "    \"\"\"\n",
        "    \n",
        "    if derivative:              # Return the derivative of the function evaluated at x\n",
        "        return np.ones_like(x)\n",
        "    else:                       # Return the forward pass of the function at x\n",
        "        return x"
      ],
      "execution_count": null,
      "outputs": []
    },
    {
      "cell_type": "markdown",
      "metadata": {
        "id": "8Mm1k6xfFtG4",
        "colab_type": "text"
      },
      "source": [
        "## Sigmoid activation"
      ]
    },
    {
      "cell_type": "code",
      "metadata": {
        "collapsed": true,
        "id": "dBmjKesUFtG6",
        "colab_type": "code",
        "colab": {}
      },
      "source": [
        "def Sigmoid(x, derivative=False):\n",
        "    \"\"\"\n",
        "    Computes the element-wise Sigmoid activation function for an array x\n",
        "    inputs:\n",
        "    x: The array where the function is applied\n",
        "    derivative: if set to True will return the derivative instead of the forward pass\n",
        "    \"\"\"\n",
        "    f = 1/(1+np.exp(-x))\n",
        "    \n",
        "    if derivative:              # Return the derivative of the function evaluated at x\n",
        "        return f*(1-f)\n",
        "    else:                       # Return the forward pass of the function at x\n",
        "        return f"
      ],
      "execution_count": null,
      "outputs": []
    },
    {
      "cell_type": "markdown",
      "metadata": {
        "id": "S0ZULT1rFtG_",
        "colab_type": "text"
      },
      "source": [
        "## Hyperbolic Tangent activation"
      ]
    },
    {
      "cell_type": "code",
      "metadata": {
        "collapsed": true,
        "id": "fESIXSJIFtHA",
        "colab_type": "code",
        "colab": {}
      },
      "source": [
        "def Tanh(x, derivative=False):\n",
        "    \"\"\"\n",
        "    Computes the element-wise Sigmoid activation function for an array x\n",
        "    inputs:\n",
        "    x: The array where the function is applied\n",
        "    derivative: if set to True will return the derivative instead of the forward pass\n",
        "    \"\"\"\n",
        "    f = (np.exp(x)-np.exp(-x))/(np.exp(x)+np.exp(-x))\n",
        "    \n",
        "    if derivative:              # Return the derivative of the function evaluated at x\n",
        "        return 1-f**2\n",
        "    else:                       # Return the forward pass of the function at x\n",
        "        return f"
      ],
      "execution_count": null,
      "outputs": []
    },
    {
      "cell_type": "markdown",
      "metadata": {
        "id": "UVEQqh4LFtHF",
        "colab_type": "text"
      },
      "source": [
        "## Rectifier linear unit (ReLU)"
      ]
    },
    {
      "cell_type": "code",
      "metadata": {
        "collapsed": true,
        "id": "wtG8BHKZFtHG",
        "colab_type": "code",
        "colab": {}
      },
      "source": [
        "def ReLU(x, derivative=False):\n",
        "    \"\"\"\n",
        "    Computes the element-wise Rectifier Linear Unit activation function for an array x\n",
        "    inputs:\n",
        "    x: The array where the function is applied\n",
        "    derivative: if set to True will return the derivative instead of the forward pass\n",
        "    \"\"\"\n",
        "    \n",
        "    if derivative:              # Return the derivative of the function evaluated at x\n",
        "        return (x>0).astype(int)\n",
        "    else:                       # Return the forward pass of the function at x\n",
        "        return np.maximum(x, 0)"
      ],
      "execution_count": null,
      "outputs": []
    },
    {
      "cell_type": "markdown",
      "metadata": {
        "id": "_79HOAXrFtHK",
        "colab_type": "text"
      },
      "source": [
        "## Visualization"
      ]
    },
    {
      "cell_type": "markdown",
      "metadata": {
        "id": "RME0JjT_FtHK",
        "colab_type": "text"
      },
      "source": [
        "Now that we have defined our activation functions we can visualize them to see what they look like:"
      ]
    },
    {
      "cell_type": "code",
      "metadata": {
        "collapsed": true,
        "id": "oOL2UolJFtHL",
        "colab_type": "code",
        "colab": {}
      },
      "source": [
        "x = np.linspace(-6, 6, 100)\n",
        "units = {\n",
        "    \"Linear\": lambda x: Linear(x),\n",
        "    \"Sigmoid\": lambda x: Sigmoid(x),\n",
        "    \"ReLU\": lambda x: ReLU(x),\n",
        "    \"tanh\": lambda x: Tanh(x)\n",
        "}\n",
        "\n",
        "plt.figure(figsize=(5, 5))\n",
        "[plt.plot(x, unit(x), label=unit_name, lw=2) for unit_name, unit in units.items()]\n",
        "plt.legend(loc=2, fontsize=16)\n",
        "plt.title('Our activation functions', fontsize=20)\n",
        "plt.ylim([-2, 5])\n",
        "plt.xlim([-6, 6])\n",
        "plt.show()"
      ],
      "execution_count": null,
      "outputs": []
    },
    {
      "cell_type": "markdown",
      "metadata": {
        "id": "pnrJX1SGFtHR",
        "colab_type": "text"
      },
      "source": [
        "## Exercise c) Glorot initialization for all activation functions\n",
        "\n",
        "Implement a function by adding to the code snippet below that can take network L and list of activations function as argument and return a Glorot initialized network.  Hint: [This blog post](https://mmuratarat.github.io/2019-02-25/xavier-glorot-he-weight-init) gives a table for the activation functions we use here.\n",
        "\n",
        "Briefly explain in words how these how these values are calculated."
      ]
    },
    {
      "cell_type": "code",
      "metadata": {
        "collapsed": true,
        "id": "qW5UjBhzFtHR",
        "colab_type": "code",
        "colab": {}
      },
      "source": [
        "def init_NN_Glorot(L, activations, uniform=False):\n",
        "    \"\"\"\n",
        "    Initializer using the glorot initialization scheme\n",
        "    \"\"\"\n",
        "    # Insert code here\n",
        "\n",
        "# Initializes the unit test neural network\n",
        "L_UT  = [3, 5, 1]\n",
        "ACT_UT = [ReLU, Tanh]\n",
        "NN_Glorot = init_NN_Glorot(L_UT, ACT_UT)"
      ],
      "execution_count": null,
      "outputs": []
    },
    {
      "cell_type": "markdown",
      "metadata": {
        "id": "-JlvZ6O5FtHV",
        "colab_type": "text"
      },
      "source": [
        "# Numpy einsum (EINstein SUMmation)"
      ]
    },
    {
      "cell_type": "markdown",
      "metadata": {
        "id": "zq_yqPEIFtHX",
        "colab_type": "text"
      },
      "source": [
        "[Einsum](https://docs.scipy.org/doc/numpy/reference/generated/numpy.einsum.html) gives us the possibility to compute almost any matrix operation in a single function. You can find a good description in the link above. Here are a few examples of some important uses:\n",
        "\n",
        "**Transpose:** We can write the transpose of matrix $A$:\n",
        "\n",
        "```\n",
        "np.einsum('ij -> ji', A) \n",
        "```\n",
        "\n",
        "**Trace:** We can write the trace of matrix $A$:\n",
        "\n",
        "```\n",
        "np.einsum('ii -> ', A) \n",
        "```\n",
        "\n",
        "**Diagonal:** We can write the diagonal of matrix $A$:\n",
        "\n",
        "```\n",
        "np.einsum('ii -> i', A) \n",
        "```\n",
        " \n",
        "**Matrix product:** We can write the multiplication of matrices $A$ and $B$ as:\n",
        "\n",
        "```\n",
        "np.einsum('ij, jk -> ik', A, B)\n",
        "```\n",
        "\n",
        "Note that $j$ in both matrices $A$ and $B$ should be the same size. \n",
        "\n",
        "**Batched matrix product (or why bothering):** All of the functions we performed above are built in numpy (np.tranpose, np.trace, np.matmul), however, when you want to do more complex operations, it might become less readable and computationaly efficient. Let's introduce a three dimensional matrix $H$ with indices $b,j,k$, where the first dimension is the batch (training example) dimension. In einsum, we can then write:\n",
        "\n",
        "```\n",
        "np.einsum('ij, bjk -> bik', A, H)\n",
        "```\n",
        "\n",
        "In order to perform a batched matrix multiplication where we multiple over the second dimension in the first marix and second dimension in the second matrix. The result is a new three dimensional matrix where the first dimension is the first dimension from $H$ and second is the first dimension from $A$ and last dimension the last dimension from $H$. This is a very simple one line (and readable) way to do matrix operations that will be very useful for neural network code. \n",
        "\n",
        "\n",
        "#### _**Tips and tricks when using einsum**_\n",
        "\n",
        "At the beginning, einsum might be a bit difficult to work with. The most important thing to do when using it is keeping track of the dimensions of your input and output matrices. An easy way to keep track of these dimensions is by using some sort of naming convention. Just like in the batched matrix product above we used $b$ to denote the batch dimension. In all the functions of this notebook, we leave some convention of names of indexes for the einsum in the explanation of the functions. We hope you find them useful!\n",
        "\n",
        "There are some other useful resources to understand numpy.einsum:\n",
        "\n",
        "* [Olexa Bilaniuk's great blogpost on einsum]( https://obilaniu6266h16.wordpress.com/2016/02/04/einstein-summation-in-numpy/ )\n",
        "* [Stackoverflow answer to: Understanding NumPy's einsum]( https://stackoverflow.com/q/26089893/8899404 )\n",
        "* [Jessica Stringham post on einsum]( https://jessicastringham.net/2018/01/01/einsum/ )\n",
        "* [Slides of einstein summation from oxford]( http://www-astro.physics.ox.ac.uk/~sr/lectures/vectors/lecture10final.pdfc )"
      ]
    },
    {
      "cell_type": "markdown",
      "metadata": {
        "id": "bTMdY5DzFtHY",
        "colab_type": "text"
      },
      "source": [
        "# Forward pass\n",
        "\n",
        "The forward pass has been implemented for you. Please note how we have used einsum to perform the affine tranformation."
      ]
    },
    {
      "cell_type": "markdown",
      "metadata": {
        "id": "XTfP_fZEFtHY",
        "colab_type": "text"
      },
      "source": [
        "#### Indices convention.\n",
        "\n",
        "* $i$: input - layer $l$ dimension.\n",
        "* $o$: output - layer $l+1$ dimension.\n",
        "* $b$: batch size dimension.\n",
        "\n",
        "<u>Attention</u>! \n",
        "\n",
        "By convention we consider column vectors.\n",
        "Depending on your implementation,\n",
        "sometimes you will need to transpose the matrix/vector dimensions. "
      ]
    },
    {
      "cell_type": "markdown",
      "metadata": {
        "id": "cnlRKk-RFtHa",
        "colab_type": "text"
      },
      "source": [
        "#### Matrices, Sums and Indices\n",
        "\n",
        "<u>Remember</u>!\n",
        "\n",
        "When we compute a matrix-vector product, the inner indices need to match; if we have $W \\in R^{K \\times J}$ and $z \\in R^{I}$, we can compute the matrix-vector product only if\n",
        "   *  $J=I$, then $Wz$ or \n",
        "   *  $K=I$, then $W^Tz$.\n",
        "   \n",
        "We need to transpose the matrix in the second case. Why?. Hint: inner indices matching).\n",
        "In general these two matrix-vector products are different. So pay attention to dimensions!\n",
        "\n",
        "Similarly, when we sum a matrix and a vector over a dimension, we can sum only if the dimensions match. Given the summation:\n",
        "    $$\\sum_{i=1}^I w_{ki}~z_{i},$$\n",
        "we can sum only if $J=I$.\n",
        "\n",
        "Index Contraction: after summing over an index, the index is contracted and the output is no more a function of that index. This means that if we sum over $i$, the result will be an object without index $i$."
      ]
    },
    {
      "cell_type": "markdown",
      "metadata": {
        "id": "hAqTEP5GFtHb",
        "colab_type": "text"
      },
      "source": [
        "#### Unpacking the forward pass. \n",
        "\n",
        "For each layer we want to compute a transformation between the activated units $z$ and the layer parameters $(W, b)$. In particular such transformation is an affine one, of the form:\n",
        "$$a^{(l)} = W^{(l)} z^{(l-1)} + b^{(l)},$$\n",
        "followed by a non-linear function (activation)\n",
        "$$z^{(l)} = h(a^{(l)}).$$\n",
        "\n",
        "If $W_{oi}$ is an element in a matrix with $O$ rows and $I$ columns, \n",
        "$z_{i}$ is a value in a vector of $I$ units and \n",
        "$b_o$ is a value in a vector of $O$ biases, \n",
        "we can write the affine transformation in different ways:\n",
        "\n",
        "* *Explicit notation*: $$\\sum_{i=1}^{I} w_{oi}~z_{i} + b_o,   \\quad \\forall o=1,...O$$\n",
        "* *Matrix notation*: $$ Wz + b$$ or $$z^{T}W + b$$\n",
        "\n",
        "\n",
        "Given that we have only two indices ($i$ and $o$), after contracting $i$, the output will have dimension $O$."
      ]
    },
    {
      "cell_type": "markdown",
      "metadata": {
        "id": "MSelaywwFtHd",
        "colab_type": "text"
      },
      "source": [
        "#### Not so fast!\n",
        "\n",
        "In Deep Learning we have another dimension: the batch size for the data $x$. \n",
        "This additional dimension is needed to pack together samples from the dataset and parallelize computations.\n",
        "\n",
        "So we typically work with matrices $W_{io}$ (notice how the indices are switched now) and vectors $z_i$ in batches, that we write $X = \\{x_{bi}\\}^{B, I}_{i=0, b=0}$ or $Z = \\{z_{bi}\\}^{B, I}_{i=0, b=0}$.\n",
        "\n",
        "Why do we use $W_{io}$ and not $W_{oi}$ as before? In principle we can use both. In practice, given that we want the batch size as first dimension, it is simpler to use $W_{io}$ to match the inner dimensions.\n",
        "As we said before, depending on your specific implementation, you will need to transpose some matrices.\n",
        "\n",
        "$x_{bi}$ means that we process in parallel a batch of $B$ samples (for example $B$=64 images, where each image is a sample) with dimensionality $I$ (for images this dimension is between $10^{3}$ - $10^{6}$). The batch size cannot be too large (Why?) and shouldn't be too small (Why?)."
      ]
    },
    {
      "cell_type": "markdown",
      "metadata": {
        "id": "QKgTZL-WFtHe",
        "colab_type": "text"
      },
      "source": [
        "#### einsum\n",
        "\n",
        "If you try to write in numpy a matrix-matrix product or a matrix-tensor product, you will notice that things get coumbersome fast. Additionally, your data could be a structured object with 3/4/5 dimensions ($x_{bijk}$). It's easy to get confused and make some mistakes, in particular when some of such dimensions have the same numerical value but different meaning (imagine a batch of 100 samples with dimension 100).\n",
        "\n",
        "The **einsum** function is explicitly summing over the dimension of choice taking care of the details related to batching in an efficient way. There is a striking similarity between the einsum notation and the explicit notation we have seen before. \n",
        "\n",
        "In the simple example we are working on, using einsum, matmul, or summing over an index is basically the same. \n",
        "For more complex problems in computer vision, natural language processing, generative modeling, etc. einsum helps dealing with the details."
      ]
    },
    {
      "cell_type": "markdown",
      "metadata": {
        "id": "1BRU4bAVFtHe",
        "colab_type": "text"
      },
      "source": [
        "#### Putting it all together.\n",
        "\n",
        "Ok! Here we are. Let's write again the explicit form for the batch case. As before, $W \\in R^{I \\times O}$ (or $W^{T} \\in R^{O \\times I}$) is a matrix, $z_{bi}$ is a matrix (or a collection of $b$ row vectors), and $b_o$ is a vector (in practice the bias vector will be broadcasted for all the samples in a batch).\n",
        "\n",
        "* *Explicit notation*: \n",
        "$$\\sum_{i=1}^I z_{bi}~w_{io} + b_{o}, \\quad \\forall o, \\quad \\forall b$$\n",
        "Before, contracting $i$, we ended up with an object of dimension $o$. Now we end up with an object of dimensions $b~\\times~o$.\n",
        "\n",
        "\n",
        "* *Matrix notation*:\n",
        "$$ Z W + b $$"
      ]
    },
    {
      "cell_type": "code",
      "metadata": {
        "collapsed": true,
        "id": "wQC5NSwQFtHe",
        "colab_type": "code",
        "colab": {}
      },
      "source": [
        "def forward_pass(x, NN, activations):\n",
        "    \"\"\"\n",
        "    This function performs a forward pass. \n",
        "    It saves lists for both affine transforms of units (a) and activated units (z)\n",
        "    Input:\n",
        "    x: The input of the network             (np.array of shape: (batch_size, number_of_features))\n",
        "    NN: The initialized neural network      (tuple of list of matrices)\n",
        "    activations: the activations to be used (list of functions, same len as NN)\n",
        "\n",
        "    Output:\n",
        "    a: A list of affine transformations, that is, all x*w+b.\n",
        "    z: A list of activated units (ALL activated units including input x and output y).\n",
        "    \n",
        "    Shapes for the einsum:\n",
        "    b: batch size\n",
        "    i: size of the input hidden layer (layer l)\n",
        "    o: size of the output (layer l+1)\n",
        "    \"\"\"\n",
        "    z = [x]\n",
        "    a = []\n",
        "    \n",
        "    for l in range(len(NN[0])):\n",
        "        \n",
        "        # layer l parameters (W, bias)\n",
        "        W = NN[0][l]\n",
        "        bias = NN[1][l]\n",
        "        \n",
        "        # \\sum_{i} z^{l}_{bi} W^{l}_{io} in explicit notation\n",
        "        # z * W                          in matrix notation\n",
        "        Wz = np.einsum('bi, io -> bo', z[l], W)\n",
        "        \n",
        "        # z * W + bias\n",
        "        Wzb = Wz + bias\n",
        "        \n",
        "        a.append(Wzb)                  # The affine transform z*w+bias\n",
        "        z.append(activations[l](a[l])) # The non-linearity    \n",
        "    \n",
        "    return a, z"
      ],
      "execution_count": null,
      "outputs": []
    },
    {
      "cell_type": "markdown",
      "metadata": {
        "id": "-XyXBD37FtHk",
        "colab_type": "text"
      },
      "source": [
        "# Forward pass unit test\n",
        "\n",
        "Below is a piece of code that takes a very particular setting of the network and inputs and test whether it gives the expected results."
      ]
    },
    {
      "cell_type": "code",
      "metadata": {
        "id": "k0miqRUAFtHl",
        "colab_type": "code",
        "colab": {}
      },
      "source": [
        "ACT_F_UT = [Linear, Linear]\n",
        "test_a, test_z = forward_pass(np.array([[1,1,1]]), NN_UT, ACT_F_UT) # input has shape (1, 3) 1 batch, 3 features\n",
        "\n",
        "# Checking shapes consistency\n",
        "assert np.all(test_z[0]==np.array([1,1,1])) # Are the input vector and the first units the same?\n",
        "assert np.all(test_z[1]==test_a[0])         # Are the first affine transformations and hidden units the same?\n",
        "assert np.all(test_z[2]==test_a[1])         # Are the output units and the affine transformations the same?\n",
        "\n",
        "# Checking correctnes of values\n",
        "# First layer, calculate np.sum(np.array([1,1,1])*np.array([1,1,1]))+1 = 4\n",
        "assert np.all(test_z[1] == 4.)\n",
        "# Second layer, calculate np.sum(np.array([4,4,4,4,4])*np.array([1,1,1,1,1]))+1 = 21\n",
        "assert np.all(test_z[2] == 21.)"
      ],
      "execution_count": null,
      "outputs": []
    },
    {
      "cell_type": "markdown",
      "metadata": {
        "id": "faCxhfFnFtHp",
        "colab_type": "text"
      },
      "source": [
        "# Loss functions"
      ]
    },
    {
      "cell_type": "markdown",
      "metadata": {
        "id": "6JAc_ApuFtHq",
        "colab_type": "text"
      },
      "source": [
        "In order to perform a backward pass we need to define a loss function and its derivative with respect to the output of the neural network $y$"
      ]
    },
    {
      "cell_type": "code",
      "metadata": {
        "id": "I2eDYKvAFtHq",
        "colab_type": "code",
        "colab": {}
      },
      "source": [
        "def squared_error(t, y, derivative=False):\n",
        "    \"\"\"\n",
        "    Computes the squared error function and its derivative \n",
        "    Input:\n",
        "    t:      target (expected output)          (np.array)\n",
        "    y:      output from forward pass (np.array, must be the same shape as t)\n",
        "    derivative: whether to return the derivative with respect to y or return the loss (boolean)\n",
        "    \"\"\"\n",
        "    if np.shape(t)!=np.shape(y):\n",
        "        print(\"t and y have different shapes\")\n",
        "    if derivative: # Return the derivative of the function\n",
        "        return (y-t)\n",
        "    else:\n",
        "        return 0.5*(y-t)**2"
      ],
      "execution_count": null,
      "outputs": []
    },
    {
      "cell_type": "markdown",
      "metadata": {
        "id": "SrwSJ2UWFtHu",
        "colab_type": "text"
      },
      "source": [
        "## Exercise d) Implement cross entropy loss\n",
        "\n",
        "Insert code below to implement cross-entropy loss for general dimensionality of $t$."
      ]
    },
    {
      "cell_type": "code",
      "metadata": {
        "collapsed": true,
        "id": "6nMuxyfzFtHv",
        "colab_type": "code",
        "colab": {}
      },
      "source": [
        "def cross_entropy_loss(t, y, derivative=False):\n",
        "    \"\"\"\n",
        "    Computes the cross entropy loss function and its derivative \n",
        "    Input:\n",
        "    t:      target (expected output)          (np.array)\n",
        "    y:      output from forward pass (np.array, must be the same shape as t)\n",
        "    derivative: whether to return the derivative with respect to y or return the loss (boolean)\n",
        "    \"\"\"\n",
        "    ## Insert code here"
      ],
      "execution_count": null,
      "outputs": []
    },
    {
      "cell_type": "markdown",
      "metadata": {
        "id": "8fAF5ew4FtHy",
        "colab_type": "text"
      },
      "source": [
        "# Backward pass "
      ]
    },
    {
      "cell_type": "markdown",
      "metadata": {
        "id": "VG0W3mxGFtHz",
        "colab_type": "text"
      },
      "source": [
        "## Exercise e) Complete code for backward pass\n",
        "\n",
        "Below is a implementation of the backward pass with some lines removed. Insert the missing lines."
      ]
    },
    {
      "cell_type": "markdown",
      "metadata": {
        "id": "0oUWm98uFtH0",
        "colab_type": "text"
      },
      "source": [
        "#### Useful resources.\n",
        "\n",
        "Math intro:\n",
        "* https://www.deeplearningbook.org/contents/mlp.html\n",
        "* http://neuralnetworksanddeeplearning.com/chap2.html\n",
        "* http://pandamatak.com/people/anand/771/html/node37.html\n",
        "\n",
        "Code intro:\n",
        "* https://cs231n.github.io/neural-networks-case-study/#grad"
      ]
    },
    {
      "cell_type": "markdown",
      "metadata": {
        "id": "J-Tp1sP4FtH1",
        "colab_type": "text"
      },
      "source": [
        "<u>Attention!</u>\n",
        "\n",
        "This is a difficult topic. It's normal to be confused and not immediately grasp the complete algorithm. Just work your way through it writing down the equations, writing down a small network explicitly, and thinking about the model."
      ]
    },
    {
      "cell_type": "markdown",
      "metadata": {
        "id": "WWme3YQcFtH2",
        "colab_type": "text"
      },
      "source": [
        "#### Unpacking the backward pass.\n",
        "\n",
        "Before we learned how to **forward** data input $X$ in a parametric model $W$ to obtain a final output $y$ and build a loss function $E(t, y)$ that measures how far our prediction $y$ is from the target $t$.\n",
        "For a generic FFN at layer $l$ we can write:\n",
        "\n",
        "$$a^{(l)} = W^{(l)} z^{(l-1)} + b^{(l)},$$\n",
        "$$z^{(l)} = h(a^{(l)}),$$\n",
        "where $z^{(0)}=x$ and $z^{(L)} = y$.\n"
      ]
    },
    {
      "cell_type": "markdown",
      "metadata": {
        "id": "O5YDMa9lFtH2",
        "colab_type": "text"
      },
      "source": [
        "#### Backpropagation.\n",
        "\n",
        "As the name suggests, the backpropagation algorithm is a procedure to adjust the model parameters $(W, b)$ \n",
        "<u>*propagating backward a measure of error*</u> such that our prediction $y$ is as close as possible to the target $t$.\n",
        "\n",
        "The proxy we use to measure closeness between $y$ and $t$ is a loss function $E(t, y)$. \n",
        "\n",
        "<u>Attention!</u>\n",
        "This loss is a function of the model parameters through $y = g(x, w, b)$. \n",
        "When we optimize wrt. the model parameters $(W, b)$ we can write the loss as a function of such parameters $E(w, b)$ because $y=g(w, b)$ and $t$ and $x$ are fixed input and output.\n",
        "\n",
        "In practice, backpropagation is a gradient based optimization strategy. \n",
        "Our goal is to compute all the partial derivatives $\\dfrac{\\partial E(w, b)}{\\partial w^l_{ji}}$ and $\\dfrac{\\partial E(w, b)}{\\partial b^l_{j}}$ for each layer $l$ and each unit $i$ and $j$ in the network.\n",
        "\n",
        "Computing the partial derivative wrt. the parameters directly is not easy. \n",
        "The loss depends in a non-linear and hierarchical way from the parameters. What backpropagation give us is an efficient and systematic way to compute the partial derivative as a function of intermediate quantities. The most important of such quantities is the error $\\delta_l$."
      ]
    },
    {
      "cell_type": "markdown",
      "metadata": {
        "id": "f-a_KrnvFtH3",
        "colab_type": "text"
      },
      "source": [
        "#### Error propagation - final layer $L$.\n",
        "\n",
        "Consider the final layer $L$.\n",
        "The partial derivatives can be written as:\n",
        "\n",
        "$$\\dfrac{\\partial E(w, b)}{\\partial w^{L}_{ji}} =\n",
        "\\dfrac{\\partial E}{\\partial z^{L}_j}\n",
        "\\dfrac{\\partial z^{L}_j}{\\partial w^{L}_{ji}} = \n",
        "\\left(\n",
        "\\color{blue}{\\dfrac{\\partial E}{\\partial z^{L}_j}\n",
        "\\dfrac{\\partial z^{L}_j}{\\partial a^{L}_j}}\n",
        "\\right)\n",
        "\\dfrac{\\partial a^{L}_j}{\\partial w^{L}_{ji}} = \n",
        "\\color{blue}{\\delta^{L}_j}~\\dfrac{\\partial a^{L}_j}{\\partial w^{L}_{ji}} = \n",
        "\\delta^{L}_j~z^{L-1}_{i},\n",
        "$$\n",
        "\n",
        "where\n",
        "$a^{L}_j = \\sum_i w^{L}_{ji}~z^{L-1}_i + b^{L}_j$ and $z^{L}_j = h(a^{L}_j).$ \n",
        "\n",
        "$\\delta^{L}_j = \\partial E / \\partial a^{L}_j$ is the error at layer $L$ for unit $j$ and it is what we want to backpropagate. \n",
        "You see that it can be easily computed: \n",
        "$ \\partial E / \\partial z^{L}_j$\n",
        "is just the partial derivative of the loss wrt. to the activation.\n",
        "$ \\partial z^{L}_j / \\partial a^{L}_j$\n",
        "is the partial derivative of the activation wrt. the output of the affine transformation.\n",
        "You already know how to compute these derivative (How?) and consequently you know $\\delta^{L}_j$.\n",
        "\n",
        "For the biases in the final layer the computation is basically the same:\n",
        "\n",
        "$$\\dfrac{\\partial E(w, b)}{\\partial b_{j}} =\n",
        "\\left(\\dfrac{\\partial E}{\\partial z_j}\n",
        "\\dfrac{\\partial z_j}{\\partial a_j}\\right)\n",
        "\\dfrac{\\partial a_j}{\\partial b_{j}} = \n",
        "\\delta_j~\\dfrac{\\partial a_j}{\\partial b_{j}} = \n",
        "\\delta_j.\n",
        "$$\n",
        "\n",
        "You can see that $\\delta_j$ is the same we computed, and the only thing that changes is the partial derivative wrt $w_{ji}$ and $b_j$."
      ]
    },
    {
      "cell_type": "markdown",
      "metadata": {
        "id": "BOvIa4zKFtH4",
        "colab_type": "text"
      },
      "source": [
        "#### Error propagation - layer $l$.\n",
        "\n",
        "For a generic layer $l$ we want to derive a recursive formula for the error $\\delta^{l}_j$.\n",
        "In particular, if we at layer $l$ and unit $j$, we consider the $k$ downstream units influenced by $j$:\n",
        "\n",
        "$$\\dfrac{\\partial E(w, b)}{\\partial w^l_{ji}} =\n",
        "\\sum_k\n",
        "\\dfrac{\\partial E}{\\partial a^{l+1}_k}\n",
        "\\dfrac{\\partial a^{l+1}_k}{\\partial w^l_{ji}} =\n",
        "\\left(\n",
        "\\color{green}{\\sum_k\n",
        "\\dfrac{\\partial E}{\\partial a^{l+1}_k}\n",
        "\\dfrac{\\partial a^{l+1}_k}{\\partial z^l_j}\n",
        "\\dfrac{\\partial z^l_j}{\\partial a^l_j}}\n",
        "\\right)\n",
        "\\dfrac{\\partial a^l_j}{\\partial w^l_{ji}} = \n",
        "\\color{green}{\\delta^{l}_j}~\\dfrac{\\partial a^{l}_j}{\\partial w^{l}_{ji}} = \n",
        "\\delta^l_j~z^{l-1}_{i},\n",
        "$$\n",
        "\n",
        "where $a^{l}_j = \\sum_i w^{l}_{ji}~z^{l-1}_i + b^{l}_j$ and $z^{l}_j = h(a^{l}_j).$\n",
        "\n",
        "Notice how the terms in $\\delta^{l}_j$ are easy to compute: $\\partial E  / \\partial a^{l+1}_k = \\delta^{l+1}_k$ is known (we start from the last layer). $\\partial a^{l+1}_k / \\partial z^{l}_j$ is something new, but we can easily compute this term too. \n",
        "We notice that:\n",
        "$$a^{l+1}_k = \\sum_j w^{l+1}_{kj} z^{l}_{j} + b_k,$$\n",
        "and $\\partial a^{l+1}_k / \\partial z^{l}_j = w^{l+1}_{kj}$. \n",
        "Finally $\\partial z^l_j / \\partial a^l_j$ is just the partial derivative of the activation (as before).\n",
        "\n",
        "We can now write the general recursive form for error propagation:\n",
        "\n",
        "$$\\delta^{l}_j = \\left(\\sum_k \\delta^{l+1}_k w^{l+1}_{kj}\\right) \\dfrac{\\partial z^l_j}{\\partial a^l_j}$$"
      ]
    },
    {
      "cell_type": "markdown",
      "metadata": {
        "id": "uDjCFCCDFtH5",
        "colab_type": "text"
      },
      "source": [
        "#### Putting it all together.\n",
        "\n",
        "Here we are! Everything boils down to recursively finding the errors $\\delta^{l}$ starting from the last layer $L$ backward. When you have $\\delta^{l}$, you just need a final multiplication with activations to find the partial derivative wrt the parameters for the layer.\n",
        "Let's write the steps in matrix form:\n",
        "\n",
        "* Errror for the last layer $L$:\n",
        "$$\\delta^{L} = \\nabla_z E \\circ h'(a^{L}).$$\n",
        "* Error for any layer $l$:\n",
        "$$\\delta^l = ((W^{l+1})^{T} \\delta^{l+1}) \\circ h'(a^{l}).$$\n",
        "* Partial derivative cost for $w$: \n",
        "$$\\dfrac{\\partial E}{\\partial w^{l}} = \\delta^{l} z^{l-1}.$$\n",
        "* Partial derivative cost for $b$:\n",
        "$$\\dfrac{\\partial E}{\\partial b^{l}} = \\delta^{l}.$$"
      ]
    },
    {
      "cell_type": "code",
      "metadata": {
        "collapsed": true,
        "id": "E5VYbaVqFtH5",
        "colab_type": "code",
        "colab": {}
      },
      "source": [
        "def backward_pass(x, t, y, z, a, NN, activations, loss_f):\n",
        "    \"\"\"\n",
        "    This function performs a backward pass ITERATIVELY. It saves lists all of the derivatives in the process\n",
        "    \n",
        "    Input:\n",
        "    x:           The input used for the batch                (np.array)\n",
        "    t:           The observed targets                        (np.array, the first dimension must be the same to x)\n",
        "    y:           The output of the forward_pass of NN for x  (np.array, must have the same shape as t)\n",
        "    \n",
        "    a:           The affine transforms from the forward_pass (np.array) # a^{l+1}= W^{l} z^{l} + b^{l}\n",
        "    z:           The activated units from the forward_pass (np.array)   # z^{l+1}=f(a^{l+1})\n",
        "    \n",
        "    activations: The activations to be used                  (list of functions)\n",
        "    loss_f:        The loss function to be used                (one function)\n",
        "    \n",
        "    Output:\n",
        "    g_w: A list of gradients for every weight\n",
        "    g_b: A list of gradients for every bias\n",
        "    \n",
        "    Shapes for the einsum:\n",
        "    b: batch size\n",
        "    i: size of the input hidden layer (layer l)\n",
        "    o: size of the output (layer l+1)\n",
        "    \"\"\"\n",
        "    \n",
        "    BS = x.shape[0] # Implied batch shape \n",
        "    \n",
        "    # Process the last layer - Reference: Error propagation - final layer $L$.\n",
        "    \n",
        "    # First, let's compute the list of derivatives of z with respect to a\n",
        "    # these derivative are standardized and automatically handled by the activations functions defined above.\n",
        "    d_a = []\n",
        "    # dz/da\n",
        "    for i in range(len(activations)):\n",
        "        d_za = activations[i](a[i], derivative=True)\n",
        "        d_a.append(d_za)\n",
        "    \n",
        "    # Second, let's compute the derivative of the loss function with respect to z\n",
        "    # targets\n",
        "    t = t.reshape(BS, -1)\n",
        "    \n",
        "    # derivative loss wrt y\n",
        "    # dE/dy  where y=z[-1]\n",
        "    d_loss = 0      # <- Insert correct expression here\n",
        "    \n",
        "     \n",
        "    # Third, let's compute the derivative of the biases and the weights\n",
        "    g_w   = [] # List to save the gradient w.r.t. the weights\n",
        "    g_b   = [] # List to save the gradients w.r.t. the biases\n",
        "    \n",
        "    # delta : measure of error in the final layer L\n",
        "    # delta = dE/dy * dy/da\n",
        "    delta = np.einsum('bo, bo -> bo', d_loss, d_a[-1]) # loss shape: (b, o); pre-activation units shape: (b, o) hadamard product\n",
        "    \n",
        "    # affine transformation\n",
        "    # a = W z + b\n",
        "    \n",
        "    # dE/dw = (dE/dy * dy/da) da/dw = delta * da/dw\n",
        "    # notice how the gradients wrt the weights have dimension (batch, input_dim, output_dim)\n",
        "    g_w.append(np.mean(np.einsum('bo, bi -> bio', delta, z[-2]), axis=0)) # delta shape: (b, o), activations shape: (b, h)\n",
        "    \n",
        "    # dE/db = (dE/dy * dy/da) da/db = delta * da/db\n",
        "    g_b.append(np.mean(delta, axis=0))\n",
        "    \n",
        "    \n",
        "    # Process all the other layers - Reference: Error propagation - layer $l$\n",
        "    for l in range(1, len(NN[0])):\n",
        "        \n",
        "        W = NN[0][-l] \n",
        "        # dE/dz^{l} = dE/da^{l+1} * da^{l+1}/dz^{l} = delta^{l+1} * w^{l+1}\n",
        "        d_E_d_z = np.einsum('bo, io -> bi', delta, W)          # Derivative of the loss with respect to an activated layer d_E_d_z. \n",
        "                                                               #  delta shape: as above; weights shape: (i, o)\n",
        "                                                               # Delta: d_E_d_z (element-wise mult) derivative of the activation layers\n",
        "                                                               #  delta shape: as above; d_z shape: (b, i)  \n",
        "        \n",
        "        # delta : measure of error for a generic layer l \n",
        "        # dE/dz * dz/da \n",
        "        delta = 0      # <- Insert correct expression here \n",
        "        \n",
        "        # affine transformation\n",
        "        # a = Wz + b\n",
        "        \n",
        "        # dE/dw = delta * da/dw\n",
        "        g_w.append(np.mean(np.einsum('bo, bi -> bio', delta, z[-l-2]), axis=0)) # Derivative of cost with respect to weights in layer l:\n",
        "        \n",
        "        # dE/db = delta                                                                 # delta shape: as above; activations of l-1 shape: (b, i)\n",
        "        g_b.append(np.mean(delta, axis=0))\n",
        "        \n",
        "    return g_b[::-1], g_w[::-1]"
      ],
      "execution_count": null,
      "outputs": []
    },
    {
      "cell_type": "markdown",
      "metadata": {
        "id": "D7d7qK0uFtH9",
        "colab_type": "text"
      },
      "source": [
        "# Backward pass unit test"
      ]
    },
    {
      "cell_type": "markdown",
      "metadata": {
        "id": "SGiqQ0ePFtH9",
        "colab_type": "text"
      },
      "source": [
        "We are going to perform the unit test of the backward pass with a finite difference estimation, make sure to read the description of the function and that you understand it well:"
      ]
    },
    {
      "cell_type": "markdown",
      "metadata": {
        "id": "uiJDAZT6FtH_",
        "colab_type": "text"
      },
      "source": [
        "## Exercise f) Test correctness of derivatives with finite difference method\n",
        "\n",
        "Write a small function that uses [the finite difference method](https://en.wikipedia.org/wiki/Finite_difference_method) to test whether the backpropation implementation is working. In short we will use\n",
        "$$\n",
        "\\frac{\\partial E(w)}{\\partial w_{ij}^{(l)}} \\approx \\frac{E(v)-E(w)}{dw}\n",
        "$$\n",
        "for $dw \\ll 1$ and $v$ is the same network as $w$ apart from $v_{ij}^{(l)} = w_{ij}^{(l)} + dw$.\n",
        "\n",
        "As arguments the function should take: some data $x$ and $t$ as in the example above, the network including activations, the indices $i$, $j$, $l$ of the weight we investigate and $dw$ and return the right hand side of the expression above.\n",
        "\n",
        "_Insert your code in the cell below._\n"
      ]
    },
    {
      "cell_type": "code",
      "metadata": {
        "id": "Om8UfjeZFtH_",
        "colab_type": "code",
        "colab": {}
      },
      "source": [
        "# Insert your finite difference code here\n",
        "def finite_difference(x, t, NN, activations, indexes, dw=1e-10):\n",
        "    \"\"\"\n",
        "    This function compute the finite difference between\n",
        "    \n",
        "    Input:\n",
        "    x:           The input used for the batch                (np.array)\n",
        "    t:           The observed targets                        (np.array, the first dimension must be the same to x)\n",
        "    \n",
        "    NN: The initialized neural network                       (tuple of list of matrices)\n",
        "    activations: The activations to be used                  (list of functions)\n",
        "    \n",
        "    indexes: the indexes of the parameter we want to perturb (tuple of integers)\n",
        "             v^{l}_{ji} = w^{l}_{ji} + dw\n",
        "    \n",
        "    dw: the size of the difference                           (float)\n",
        "    \n",
        "    Output:\n",
        "    finite_difference: the magnitude of the difference       (float) \n",
        "    \"\"\"\n",
        "    \n",
        "    from copy import deepcopy\n",
        "    # l layer\n",
        "    # i input dim\n",
        "    # j output dim\n",
        "    \n",
        "    (l, i, j) = indexes\n",
        "    \n",
        "    _, zv = forward_pass(x, NN, activations)\n",
        "    Ev=squared_error(t, zv[-1])\n",
        "    \n",
        "    NNw = deepcopy(NN)\n",
        "    NNw[0][l][i, j] = 0 # <- Insert correct expression \n",
        "    \n",
        "    _, zw = 0           # <- Insert correct expression\n",
        "    Ew= 0               # <- Insert correct expression\n",
        "    \n",
        "    finite_difference = (Ev - Ew) / dw\n",
        "    \n",
        "    return finite_difference"
      ],
      "execution_count": null,
      "outputs": []
    },
    {
      "cell_type": "markdown",
      "metadata": {
        "id": "WcLlsejQFtID",
        "colab_type": "text"
      },
      "source": [
        "Once you have implemented the function you can compare this number with the left hand side computed by the implementation above.\n",
        "\n",
        "Try for different parameters and different values of $dw$. Scan over a range of $dw$ values. Why does the method break down for really small $dw$?\n",
        "\n",
        "_Insert your written answer here._\n",
        "\n",
        "Finite differences gives us gradients without computing gradients explicitly. Why don't we use it in practice then?\n",
        "\n",
        "_Insert your written answer here._"
      ]
    },
    {
      "cell_type": "markdown",
      "metadata": {
        "id": "PJ59iNHmFtID",
        "colab_type": "text"
      },
      "source": [
        "Below is reference code that computes the finite differences for all parameters."
      ]
    },
    {
      "cell_type": "code",
      "metadata": {
        "id": "5Zie8Q8xFtIE",
        "colab_type": "code",
        "colab": {}
      },
      "source": [
        "def finite_diff_grad(x, NN, ACT_F, epsilon=None):\n",
        "    \"\"\"\n",
        "    Finite differences gradient estimator: https://en.wikipedia.org/wiki/Finite_difference_method\n",
        "    The idea is that we can approximate the derivative of any function (f) with respect to any argument (w) by evaluating the function at (w+e)\n",
        "    where (e) is a small number and then computing the following opertion (f(w+e)-f(w))/e . Note that we would need N+1 evaluations of\n",
        "    the function in order to compute the whole Jacobian (first derivatives matrix) where N is the number of arguments. The \"+1\" comes from the\n",
        "    fact that we also need to evaluate the function at the current values of the argument.\n",
        "    \n",
        "    Input:\n",
        "    x:       The point at which we want to evaluate the gradient\n",
        "    NN:      The tuple that contains the neural network\n",
        "    ACT_F:   The activation functions in order to perform the forward pass\n",
        "    epsilon: The size of the difference\n",
        "    \n",
        "    Output:\n",
        "    Two lists, the first one contains the gradients with respect to the weights, the second with respect to the biases\n",
        "    \"\"\"\n",
        "    from copy import deepcopy\n",
        "    \n",
        "    if epsilon == None:\n",
        "        epsilon = np.finfo(np.float32).eps # Machine epsilon for float 32\n",
        "        \n",
        "    grads = deepcopy(NN)               # Copy of structure of the weights and biases to save the gradients                        \n",
        "    _ , test_z = forward_pass(x, NN_UT, ACT_F_UT) # We evaluate f(x)\n",
        "    \n",
        "    for e in range(len(NN)):                       # Iterator over elements of the NN:       weights or biases\n",
        "        for h in range(len(NN[e])):                # Iterator over the layer of the element: layer number\n",
        "            for r in range(NN[e][h].shape[0]):     # Iterator over                           row number\n",
        "                for c in range(NN[e][h].shape[1]): # Iterator over                           column number \n",
        "                    NN_copy             = deepcopy(NN)    \n",
        "                    NN_copy[e][h][r,c] += epsilon\n",
        "                    _, test_z_eps       = forward_pass(x, NN_copy, ACT_F)     # We evaluate f(x+eps)\n",
        "                    grads[e][h][r,c]    = (test_z_eps[-1]-test_z[-1])/epsilon # Definition of finite differences gradient\n",
        "    \n",
        "    return grads[0], grads[1]"
      ],
      "execution_count": null,
      "outputs": []
    },
    {
      "cell_type": "code",
      "metadata": {
        "scrolled": true,
        "id": "GxkISRCmFtIH",
        "colab_type": "code",
        "colab": {}
      },
      "source": [
        "### Unit test \n",
        "\n",
        "## First lest's compute the backward pass using our own function\n",
        "# Forward pass\n",
        "test_a, test_z = forward_pass(np.array([[1,1,1]]), NN_UT, ACT_F_UT)\n",
        "# Backward pass\n",
        "test_g_b, test_g_w = backward_pass(np.array([[1,1,1]]), np.array([20]), test_a[-1], test_z, test_a, NN_UT, ACT_F_UT, squared_error)\n",
        "# Estimation by finite differences\n",
        "test_fdg_w, test_fdg_b = finite_diff_grad(np.array([[1,1,1]]), NN_UT, ACT_F_UT)"
      ],
      "execution_count": null,
      "outputs": []
    },
    {
      "cell_type": "code",
      "metadata": {
        "id": "Ylz9fQHsFtIL",
        "colab_type": "code",
        "colab": {}
      },
      "source": [
        "# Test whether the weights and biases are all equal as the ones we estimated using back propagation\n",
        "for l in range(len(test_g_w)):\n",
        "    assert np.allclose(test_fdg_w[l], test_g_w[l])\n",
        "    assert np.allclose(test_fdg_b[l], test_g_b[l])"
      ],
      "execution_count": null,
      "outputs": []
    },
    {
      "cell_type": "markdown",
      "metadata": {
        "id": "WgBi8GOSFtIN",
        "colab_type": "text"
      },
      "source": [
        "# Training and validation\n",
        "\n",
        "We are ready to train some neural networks! Below we give some example initializations and a training loop. Try it out. "
      ]
    },
    {
      "cell_type": "code",
      "metadata": {
        "id": "woWYpdw6FtIO",
        "colab_type": "code",
        "colab": {}
      },
      "source": [
        "# Initialize an arbitrary neural network\n",
        "#L  = [3, 16, 1]\n",
        "L  = [1, 8, 1]\n",
        "NN = init_NN(L)\n",
        "#NN = init_NN_glorot(L, uniform=True)\n",
        "#NN = init_NN_he_ReLU(L, uniform=True)\n",
        "\n",
        "ACT_F = [ReLU, Linear]\n",
        "#ACT_F = [Tanh, Linear]\n",
        "\n",
        "# Recommended hyper-parameters for 1-D: \n",
        "# L  = [1, 8, 1]\n",
        "# EPOCHS = 10000\n",
        "# BATCH_SIZE = 128 \n",
        "# LEARN_R = 2.5e-1 for Tanh and LEARN_R = 1e-1 for ReLU\n",
        "\n",
        "# Recommended hyper-parameters for 3-D: \n",
        "# L  = [3, 16, 1] \n",
        "# EPOCHS = 10000\n",
        "# BATCH_SIZE = 128 \n",
        "# LEARN_R = 5e-2 for ReLU and LEARN_R = 1e-1 for Tanh\n",
        "\n",
        "### Notice that, when we switch from tanh to relu activation, we decrease the learning rate. This is due the stability of the gradients \n",
        "## of the activation functions."
      ],
      "execution_count": null,
      "outputs": []
    },
    {
      "cell_type": "code",
      "metadata": {
        "id": "mdqaqYBVFtIR",
        "colab_type": "code",
        "colab": {}
      },
      "source": [
        "# Initialize training hyperparameters\n",
        "EPOCHS = 20000\n",
        "BATCH_SIZE = 128 \n",
        "LEARN_R = 1e-2 "
      ],
      "execution_count": null,
      "outputs": []
    },
    {
      "cell_type": "code",
      "metadata": {
        "scrolled": true,
        "id": "5kfg76GMFtIW",
        "colab_type": "code",
        "colab": {}
      },
      "source": [
        "train_loss = []\n",
        "val_loss = []\n",
        "\n",
        "for e in range(EPOCHS):\n",
        "    # Mini-batch indexes\n",
        "    idx = np.random.choice(x_train.shape[0], size=BATCH_SIZE)\n",
        "    # Forward pass\n",
        "    aff, units = forward_pass(x_train[idx,:], NN, ACT_F)\n",
        "    # Backward pass\n",
        "    g_b, g_w = backward_pass(x_train[idx,:], y_train[idx], units[-1], units, aff, NN, ACT_F, squared_error)\n",
        "    \n",
        "    # Stochastic gradient descent\n",
        "    for l in range(len(g_b)):\n",
        "        NN[0][l] -= LEARN_R*g_w[l]\n",
        "        NN[1][l] -= LEARN_R*g_b[l]\n",
        "        \n",
        "    # Training loss\n",
        "    _, units = forward_pass(x_train, NN, ACT_F)\n",
        "    # Estimate loss function\n",
        "    #print(np.max(squared_error(y_train, units[-1])))\n",
        "    train_loss.append(np.mean(squared_error(y_train, np.squeeze(units[-1]))))\n",
        "    \n",
        "    # Validation\n",
        "    # Forward pass\n",
        "    _, units = forward_pass(x_validation, NN, ACT_F)\n",
        "    # Estimate validation loss function\n",
        "    val_loss.append(np.mean(squared_error(y_validation, np.squeeze(units[-1]))))\n",
        "    \n",
        "    if e%500==0:\n",
        "        print(\"{:4d}\".format(e),\n",
        "              \"({:5.2f}%)\".format(e/EPOCHS*100), \n",
        "              \"Train loss: {:4.3f} \\t Validation loss: {:4.3f}\".format(train_loss[-1], val_loss[-1]))\n",
        "        \n"
      ],
      "execution_count": null,
      "outputs": []
    },
    {
      "cell_type": "code",
      "metadata": {
        "id": "VetyRWFwFtIY",
        "colab_type": "code",
        "colab": {}
      },
      "source": [
        "plt.plot(range(len(train_loss)), train_loss);\n",
        "plt.plot(range(len(val_loss)), val_loss);"
      ],
      "execution_count": null,
      "outputs": []
    },
    {
      "cell_type": "markdown",
      "metadata": {
        "id": "8OgmIrM9FtIb",
        "colab_type": "text"
      },
      "source": [
        "# Testing\n",
        "\n",
        "We have kept the calculation of the test error separate in order to emphasize that you should not use the test set in optimization."
      ]
    },
    {
      "cell_type": "code",
      "metadata": {
        "id": "HmNi7S-vFtIc",
        "colab_type": "code",
        "colab": {}
      },
      "source": [
        "_, units = forward_pass(x_test, NN, ACT_F)"
      ],
      "execution_count": null,
      "outputs": []
    },
    {
      "cell_type": "code",
      "metadata": {
        "id": "7mmJOTSEFtIf",
        "colab_type": "code",
        "colab": {}
      },
      "source": [
        "plt.scatter(y_test, units[-1]);\n",
        "plt.plot([np.min(y_test), np.max(y_test)], [np.min(y_test), np.max(y_test)], color='k');\n",
        "plt.xlabel(\"y\");\n",
        "plt.ylabel(\"$\\hat{y}$\");\n",
        "plt.title(\"Model prediction vs real in the test set, the close to the line the better\")\n",
        "plt.grid(True);\n",
        "plt.axis('equal');\n",
        "plt.tight_layout();\n",
        "\n",
        "print(\"Test loss:  {:4.3f}\".format(np.mean(squared_error(y_test, np.squeeze(units[-1])))))"
      ],
      "execution_count": null,
      "outputs": []
    },
    {
      "cell_type": "code",
      "metadata": {
        "id": "ODi0WlmQFtIh",
        "colab_type": "code",
        "colab": {}
      },
      "source": [
        "if D1:\n",
        "    plt.scatter(x_train[:,0], y_train, label=\"train data\");\n",
        "    plt.scatter(x_test[:,0], units[-1], label=\"test prediction\");\n",
        "    plt.scatter(x_test[:,0], y_test, label=\"test data\");\n",
        "    plt.legend();\n",
        "    plt.xlabel(\"x\");\n",
        "    plt.ylabel(\"y\");\n",
        "else:\n",
        "    plt.scatter(x_train[:,1], y_train, label=\"train data\");\n",
        "    plt.scatter(x_test[:,1], units[-1], label=\"test data prediction\");\n",
        "    plt.scatter(x_test[:,1], y_test, label=\"test data\");\n",
        "    plt.legend();\n",
        "    plt.xlabel(\"x\");\n",
        "    plt.ylabel(\"y\");"
      ],
      "execution_count": null,
      "outputs": []
    },
    {
      "cell_type": "markdown",
      "metadata": {
        "id": "zTBAmjsAFtIk",
        "colab_type": "text"
      },
      "source": [
        "## Exercise g) Show overfitting, underfitting and just right fitting\n",
        "\n",
        "Vary the architecture and other things to show clear signs of overfitting (=training loss significantly lower than test loss) and underfitting (=not fitting enoung to training data so that test performance is also hurt).\n",
        "\n",
        "See also if you can get a good compromise which leads to a low validation loss. \n",
        "\n",
        "For this problem do you see any big difference between validation and test loss? The answer here will probably be no. Discuss cases where it is important to keep the two separate.\n",
        "\n",
        "_Insert written answer here._\n"
      ]
    },
    {
      "cell_type": "code",
      "metadata": {
        "collapsed": true,
        "id": "tQZCn2dxFtIl",
        "colab_type": "code",
        "colab": {}
      },
      "source": [
        "# Insert your code for getting overfitting, underfitting and just right fitting"
      ],
      "execution_count": null,
      "outputs": []
    },
    {
      "cell_type": "markdown",
      "metadata": {
        "id": "fYPZP-eTFtIo",
        "colab_type": "text"
      },
      "source": [
        "# Next steps - classification\n",
        "\n",
        "It is straight forward to extend what we have done to classification. \n",
        "\n",
        "For numerical stability it is better to make softmax and cross-entropy as one function so we write the cross entropy loss as a function of the logits we talked about last week. \n",
        "\n",
        "Next week we will see how to perform classification in PyTorch."
      ]
    },
    {
      "cell_type": "markdown",
      "metadata": {
        "id": "qsVPul3QFtIo",
        "colab_type": "text"
      },
      "source": [
        "## Exercise h) optional - Implement backpropagation for classification\n",
        "\n",
        "Should be possible with very few lines of code. :-)"
      ]
    },
    {
      "cell_type": "code",
      "metadata": {
        "collapsed": true,
        "id": "oC8QrI2tFtIp",
        "colab_type": "code",
        "colab": {}
      },
      "source": [
        "# Just add code."
      ],
      "execution_count": null,
      "outputs": []
    }
  ]
}
=======
 "cells": [
  {
   "cell_type": "markdown",
   "metadata": {},
   "source": [
    "# Contents and why we need this lab\n",
    "\n",
    "This lab is about implementing neural networks yourself in NumPy before we start using other frameworks which hide some of the computation from you. It builds on the first lab where you derived the equations for neural network forward and backward propagation and gradient descent parameter updates."
   ]
  },
  {
   "cell_type": "markdown",
   "metadata": {},
   "source": [
    "# External sources of information\n",
    "\n",
    "1. Jupyter notebook. You can find more information about Jupyter notebooks [here](https://jupyter.org/). It will come as part of the [Anaconda](https://www.anaconda.com/) Python installation. \n",
    "2. [NumPy](https://numpy.org/). Part of Anaconda distribution. If you already know how to program most things about Python and NumPy can be found through Google search. \n"
   ]
  },
  {
   "cell_type": "markdown",
   "metadata": {},
   "source": [
    "# This notebook will follow the next steps:\n",
    "\n",
    "1. Data generation\n",
    "2. Initialization of parameters\n",
    "3. Definition of activation functions   \n",
    "4. A short explanation of numpy's einsum function\n",
    "5. Forward pass\n",
    "6. Backward pass (backward pass and finite differences)\n",
    "7. Training loop \n",
    "8. Testing your model\n",
    "9. Further extensions"
   ]
  },
  {
   "cell_type": "markdown",
   "metadata": {},
   "source": [
    "# Create an artificial dataset to play with\n",
    "\n",
    "We create a non-linear 1d regression task. The generator supports various noise levels and it creates train, validation and test sets. You can modify it yourself if you want more or less challenging tasks."
   ]
  },
  {
   "cell_type": "code",
   "execution_count": 1,
   "metadata": {},
   "outputs": [],
   "source": [
    "import numpy as np\n",
    "import matplotlib.pyplot as plt\n",
    "\n",
    "np.random.seed(42)"
   ]
  },
  {
   "cell_type": "code",
   "execution_count": 2,
   "metadata": {},
   "outputs": [],
   "source": [
    "def data_generator(noise=0.1, n_samples=300, D1=True):\n",
    "    # Create covariates and response variable\n",
    "    if D1:\n",
    "        X = np.linspace(-3, 3, num=n_samples).reshape(-1,1) # 1-D\n",
    "        np.random.shuffle(X)\n",
    "        y = np.random.normal((0.5*np.sin(X[:,0]*3) + X[:,0]), noise) # 1-D with trend\n",
    "    else:\n",
    "        X = np.random.multivariate_normal(np.zeros(3), noise*np.eye(3), size = n_samples) # 3-D\n",
    "        np.random.shuffle(X)    \n",
    "        y = np.sin(X[:,0]) - 5*(X[:,1]**2) + 0.5*X[:,2] # 3-D\n",
    "\n",
    "    # Stack them together vertically to split data set\n",
    "    data_set = np.vstack((X.T,y)).T\n",
    "    \n",
    "    train, validation, test = np.split(data_set, [int(0.35*n_samples), int(0.7*n_samples)], axis=0)\n",
    "    \n",
    "    # Standardization of the data, remember we do the standardization with the training set mean and standard deviation\n",
    "    train_mu = np.mean(train, axis=0)\n",
    "    train_sigma = np.std(train, axis=0)\n",
    "    \n",
    "    train = (train-train_mu)/train_sigma\n",
    "    validation = (validation-train_mu)/train_sigma\n",
    "    test = (test-train_mu)/train_sigma\n",
    "    \n",
    "    x_train, x_validation, x_test = train[:,:-1], validation[:,:-1], test[:,:-1]\n",
    "    y_train, y_validation, y_test = train[:,-1], validation[:,-1], test[:,-1]\n",
    "\n",
    "    return x_train, y_train,  x_validation, y_validation, x_test, y_test"
   ]
  },
  {
   "cell_type": "code",
   "execution_count": 44,
   "metadata": {},
   "outputs": [],
   "source": [
    "D1 = True\n",
    "x_train, y_train,  x_validation, y_validation, x_test, y_test = data_generator(noise=0.5, D1=D1)"
   ]
  },
  {
   "cell_type": "code",
   "execution_count": 4,
   "metadata": {},
   "outputs": [
    {
     "data": {
      "image/png": "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\n",
      "text/plain": [
       "<Figure size 432x288 with 1 Axes>"
      ]
     },
     "metadata": {
      "needs_background": "light"
     },
     "output_type": "display_data"
    }
   ],
   "source": [
    "if D1:\n",
    "    plt.scatter(x_train[:,0], y_train);\n",
    "    plt.scatter(x_validation[:,0], y_validation);\n",
    "    plt.scatter(x_test[:,0], y_test);\n",
    "else:\n",
    "    plt.scatter(x_train[:,1], y_train);\n",
    "    plt.scatter(x_validation[:,1], y_validation);\n",
    "    plt.scatter(x_test[:,1], y_test);\n",
    "plt.show()"
   ]
  },
  {
   "cell_type": "markdown",
   "metadata": {},
   "source": [
    "# Initialization"
   ]
  },
  {
   "cell_type": "markdown",
   "metadata": {},
   "source": [
    "The steps to create a feed forward neural network are the following:\n",
    "\n",
    "1. **Number of hidden layer and hidden units**. We have to define the number of hidden units in each layer. We are going to save these numbers in a list \"L\" that is going to start with our input dimensionality (the number of features in X) and is going to finish with our output dimensionality (the size of Y). Anything in between these values are going to be hidden layers and the number of hidden units in each hidden layer is defined by the researcher. Remember that for each unit in each layer (besides the first one, according to our list L) there is a bias term.\n",
    "2. **Activation functions** for each hidden layer. Each hidden layer in your list must have an activation function (it can also be the linear activation which is equivalent to identity function). The power of neural networks comes from non-linear activation functions that learn representations (features) from the data allowing us to learn from it. \n",
    "3. **Parameter initialization**. We will initialize the weights to have random values. This is done in practice by drawing pseudo random numbers from a Gaussian or uniform distribution. It turns out that for deeper models we have to be careful about how we scale the random numbers. This will be the topic of the exercise below. For now we will just use unit variance Gaussians.  \n",
    "\n",
    "Our initialization will work as follows: \n",
    "\n",
    "For each layer of the neural network defined in L, initialize a matrix of weights of size (units_in, units_out) from a random normal distribution [np.random.normal()](https://docs.scipy.org/doc/numpy-1.15.0/reference/generated/numpy.random.normal.html) and save them in a list called \"layers\". For each layer in our neural network, initialize a matrix of weights of size (1, units_out) as above and save them in a list called \"bias\". The function should return a tuple (layers, bias). The length of our lists must be len(L)-1."
   ]
  },
  {
   "cell_type": "code",
   "execution_count": 5,
   "metadata": {},
   "outputs": [],
   "source": [
    "# Initialize neural network:\n",
    "# the NN is a tuple with a list with weights and list with biases\n",
    "def init_NN(L):\n",
    "    \"\"\"\n",
    "    Function that initializes our feed-forward neural network. \n",
    "    Input: \n",
    "    L: list of integers. The first element must be equal to the number of features of x and the last element \n",
    "        must be the number of outputs in the network.\n",
    "    Output:\n",
    "    A tuple of:\n",
    "    weights: a list with randomly initialized weights of shape (in units, out units) each. The units are the ones we defined in L.\n",
    "        For example, if L = [2, 3, 4] layers must be a list with a first element of shape (2, 3) and a second elemtn of shape (3, 4). \n",
    "        The length of layers must be len(L)-1\n",
    "    biases: a list with randomly initialized biases of shape (1, out_units) each. For the example above, bias would be a list of length\n",
    "        2 with a first element of shape (1, 3) and a second element of shape (1, 4).\n",
    "    \"\"\"\n",
    "    weights = []\n",
    "    biases  = []\n",
    "    for i in range(len(L)-1):\n",
    "        weights.append(np.random.normal(loc=0.0, scale=1.0, size=[L[i],L[i+1]])) \n",
    "        biases.append(np.random.normal(loc=0.0, scale=1.0, size=[1, L[i+1]]))     \n",
    "        \n",
    "    return (weights, biases)\n",
    "\n",
    "# Initialize the unit test neural network:\n",
    "# Same steps as above but we will not initialize the weights randomly.\n",
    "def init_NN_UT(L):\n",
    "    weights = []\n",
    "    biases  = []\n",
    "    for i in range(len(L)-1):\n",
    "        weights.append(np.ones((L[i],L[i+1]))) \n",
    "        biases.append(np.ones((1, L[i+1])))     \n",
    "        \n",
    "    return (weights, biases)\n",
    "\n",
    "# Initializer the unit test neural network\n",
    "L_UT  = [3, 5, 1]\n",
    "NN_UT = init_NN_UT(L_UT)"
   ]
  },
  {
   "cell_type": "markdown",
   "metadata": {},
   "source": [
    "## Exercise a) Print all network parameters\n",
    "\n",
    "Make a function that prints all parameters (weights and biases) with information about in which layer the parameters are."
   ]
  },
  {
   "cell_type": "code",
   "execution_count": 6,
   "metadata": {},
   "outputs": [],
   "source": [
    "# Insert code here\n",
    "def param(L, init):\n",
    "    \n",
    "    for i in range(len(L)-1):\n",
    "        print(\"layer %s\" % [i+1])\n",
    "        print(\"weights %s\" % init(L)[i])\n",
    "        print(\"biases %s\" % init(L)[i][i])\n"
   ]
  },
  {
   "cell_type": "code",
   "execution_count": 7,
   "metadata": {},
   "outputs": [
    {
     "name": "stdout",
     "output_type": "stream",
     "text": [
      "layer [1]\n",
      "weights [array([[-0.18690512, -0.04779088]]), array([[-0.77322497, -0.35078925,  0.21822273],\n",
      "       [ 0.91056412,  1.055331  ,  0.65363426]])]\n",
      "biases [[ 1.01453269 -0.44050456]]\n",
      "layer [2]\n",
      "weights [array([[-0.38191022, -0.41345124]]), array([[ 0.23732438,  0.2735774 , -0.7240018 ]])]\n",
      "biases [[-2.74095484 -0.45861928 -0.3067164 ]]\n"
     ]
    }
   ],
   "source": [
    "L= [1,2,3]\n",
    "param(L,init_NN)"
   ]
  },
  {
   "cell_type": "markdown",
   "metadata": {},
   "source": [
    "# Advanced initialization schemes\n",
    "\n",
    "If we are not careful with initialization we can run into trouble with in both the forward and backward passes. We have random weights with random +/- sign so the signal we pass forward will also be random and zero on average. However, the absolute size of the signal may grow or shrink from layer to layer depending upon the absolute scale of random weights. A statistical analysis of this effect and the same effect for the backward pass are presented in these two papers: [Glorot initialization](http://proceedings.mlr.press/v9/glorot10a/glorot10a.pdf) and [He initialization](https://arxiv.org/pdf/1502.01852v1.pdf). \n",
    "\n",
    "The result of the analyses are proposals for how to make the initialization such that the variance of the signals (forward and backward) are kept constant when propagating layer to layer. The exact expressions depend upon the activation function used.\n",
    "\n",
    "We define $n_{in}$ and $n_{out}$ as the number of input units and output units of a particular layer. \n",
    "\n",
    "In the linked paper, Glorot and Bengio propose that for tanh activation functions the following two alternative initializations:\n",
    "\n",
    "$$ w_{ij} \\sim U \\bigg[ -\\sqrt{\\frac{6}{(n_{in} + n_{out})}}, \\, \\sqrt{\\frac{6}{(n_{in} + n_{out})}} \\bigg] $$\n",
    "\n",
    "$$ w_{ij} \\sim N \\bigg( 0, \\, \\frac{2}{(n_{in} + n_{out})} \\bigg) \\ . $$\n",
    "\n",
    "Here $U[a,b]$ is a uniform distribution in the interval $a$ to $b$ and $N(\\mu,\\sigma^2)$ is a Gaussian distribution with mean $\\mu$ and variance $\\sigma^2$.\n",
    "\n",
    "He et.al. proposes for Rectified Linear Unit activations (ReLU) the following initialization:\n",
    "\n",
    "$$ w_{ij} \\sim U \\bigg[ -\\sqrt{\\frac{6}{n_{in}}}, \\, \\sqrt{\\frac{6}{n_{in}}} \\bigg] $$\n",
    "\n",
    "$$w_{ij} \\sim N \\bigg( 0, \\, \\frac{2}{n_{in}} \\bigg) \\ . $$"
   ]
  },
  {
   "cell_type": "markdown",
   "metadata": {},
   "source": [
    "## Exercise b) Glorot and He initialization\n",
    "\n",
    "Implement these initialization schemes by modifying the code given below.\n",
    "\n",
    "**NOTE:** The Gaussian is defined as $N( \\mu, \\, \\sigma^{2})$ but Numpy takes $\\sigma$ as argument.\n",
    "\n",
    "Explain briefly how you would test numerically that these initializations have the sought after property. Hint: See plots in Glorot paper."
   ]
  },
  {
   "cell_type": "code",
   "execution_count": 8,
   "metadata": {},
   "outputs": [
    {
     "name": "stdout",
     "output_type": "stream",
     "text": [
      "1\n"
     ]
    }
   ],
   "source": [
    "F = [1,2,5,5,3]\n",
    "print(F[0])"
   ]
  },
  {
   "cell_type": "code",
   "execution_count": 9,
   "metadata": {},
   "outputs": [],
   "source": [
    "## Glorot\n",
    "def init_NN_glorot_Tanh(L, uniform=False):\n",
    "    \"\"\"\n",
    "    Initializer using the glorot initialization scheme\n",
    "    \"\"\"\n",
    "    weights = []\n",
    "    biases  = []\n",
    "    for i in range(len(L)-1):\n",
    "        if uniform:\n",
    "            bound = np.sqrt(6/(L[0]+L[-1])) # <- replace with proper initialization\n",
    "            weights.append(np.random.uniform(low=-bound, high=bound, size=[L[i],L[i+1]])) \n",
    "            biases.append(np.random.uniform(low=-bound, high=bound, size=[1, L[i+1]]))  \n",
    "        else:\n",
    "            std = 2/(L[0]+L[-1]) # <- replace with proper initialization\n",
    "            weights.append(np.random.normal(loc=0.0, scale=std, size=[L[i],L[i+1]])) \n",
    "            biases.append(np.random.normal(loc=0.0, scale=std, size=[1, L[i+1]]))       \n",
    "        \n",
    "    return (weights, biases)\n",
    "\n",
    "## He\n",
    "def init_NN_he_ReLU(L, uniform=False):\n",
    "    \"\"\"\n",
    "    Initializer using the He initialization scheme\n",
    "    \"\"\"\n",
    "    weights = []\n",
    "    biases  = []\n",
    "    for i in range(len(L)-1):\n",
    "        if uniform:\n",
    "            bound = np.sqrt(6/L[0]) # <- replace with proper initialization\n",
    "            weights.append(np.random.uniform(low=-bound, high=bound, size=[L[i],L[i+1]])) \n",
    "            biases.append(np.random.uniform(low=-bound, high=bound, size=[1, L[i+1]]))  \n",
    "        else:\n",
    "            std = 2/L[0] # <- replace with proper initialization\n",
    "            weights.append(np.random.normal(loc=0.0, scale=std, size=[L[i],L[i+1]])) \n",
    "            biases.append(np.random.normal(loc=0.0, scale=std, size=[1, L[i+1]]))       \n",
    "        \n",
    "    return (weights, biases)"
   ]
  },
  {
   "cell_type": "code",
   "execution_count": 10,
   "metadata": {},
   "outputs": [
    {
     "name": "stdout",
     "output_type": "stream",
     "text": [
      "layer [1]\n",
      "weights [array([[-0.76214527,  0.39886816]]), array([[ 1.39188871, -0.8055028 , -0.0742757 ],\n",
      "       [-0.20373007, -0.30098434,  0.38012555]])]\n",
      "biases [[ 1.21692404 -0.88512159]]\n",
      "layer [2]\n",
      "weights [array([[-1.10405328,  0.18038921]]), array([[ 0.52579652, -0.42177248, -0.79012597]])]\n",
      "biases [[-0.20018644  0.25468906  0.62366353]]\n"
     ]
    }
   ],
   "source": [
    "L = [1,2,3]\n",
    "param(L,init_NN_glorot_Tanh)"
   ]
  },
  {
   "cell_type": "markdown",
   "metadata": {},
   "source": [
    "### Glorot Initialization"
   ]
  },
  {
   "cell_type": "code",
   "execution_count": 11,
   "metadata": {},
   "outputs": [],
   "source": [
    "G = [10,15,5,20,1]\n",
    "[w,b]= init_NN_glorot_Tanh(G)"
   ]
  },
  {
   "cell_type": "code",
   "execution_count": 12,
   "metadata": {},
   "outputs": [
    {
     "name": "stdout",
     "output_type": "stream",
     "text": [
      "(10, 15)\n",
      "(15, 5)\n",
      "(5, 20)\n",
      "(20, 1)\n"
     ]
    }
   ],
   "source": [
    "print(np.shape(w[0]))\n",
    "print(np.shape(w[1]))\n",
    "print(np.shape(w[2]))\n",
    "print(np.shape(w[3]))"
   ]
  },
  {
   "cell_type": "markdown",
   "metadata": {},
   "source": [
    "### Plot weights on an absolute scale to see whether the variance changes between layers "
   ]
  },
  {
   "cell_type": "code",
   "execution_count": 13,
   "metadata": {},
   "outputs": [
    {
     "name": "stdout",
     "output_type": "stream",
     "text": [
      "First layer weight average: -0.007630627756671947\n",
      "Second layer weight average: -0.020066170847501213\n",
      "Third layer weight average: -0.005344786901382932\n",
      "Fourth layer weight average: -0.010775485221711614\n"
     ]
    },
    {
     "data": {
      "image/png": "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\n",
      "text/plain": [
       "<Figure size 432x288 with 1 Axes>"
      ]
     },
     "metadata": {
      "needs_background": "light"
     },
     "output_type": "display_data"
    }
   ],
   "source": [
    "Y= np.linspace(0,1,10*15)\n",
    "Y1 = np.linspace(0,1,15*5)\n",
    "Y2= np.linspace(0,1,20*5)\n",
    "Y3 = np.linspace(0,1,20*1)\n",
    "\n",
    "l1_av = [np.mean(w[0])]*len(Y)\n",
    "print(\"First layer weight average: %s\" % l1_av[1])\n",
    "l2_av = [np.mean(w[1])]*len(Y1)\n",
    "print(\"Second layer weight average: %s\" % l2_av[1])\n",
    "l3_av = [np.mean(w[2])]*len(Y2)\n",
    "print(\"Third layer weight average: %s\" % l3_av[1])\n",
    "l4_av = [np.mean(w[3])]*len(Y3)\n",
    "print(\"Fourth layer weight average: %s\" % l4_av[1])\n",
    "\n",
    "fig,ax = plt.subplots()\n",
    "\n",
    "mean_line = ax.plot(l1_av,Y, label='Mean', linestyle='--')\n",
    "mean_line2 = ax.plot(l2_av,Y1, label='Mean', linestyle='--')\n",
    "\n",
    "plt.scatter(w[0],Y)\n",
    "plt.scatter(w[1],Y1)\n",
    "plt.scatter(w[2],Y2)\n",
    "plt.scatter(w[3],Y3)\n",
    "plt.show()"
   ]
  },
  {
   "cell_type": "markdown",
   "metadata": {},
   "source": [
    "### He Initialization"
   ]
  },
  {
   "cell_type": "code",
   "execution_count": 14,
   "metadata": {},
   "outputs": [],
   "source": [
    "G = [10,15,5,20,1]\n",
    "[w,b]= init_NN_he_ReLU(G)"
   ]
  },
  {
   "cell_type": "code",
   "execution_count": 15,
   "metadata": {},
   "outputs": [
    {
     "name": "stdout",
     "output_type": "stream",
     "text": [
      "First layer weight average: 0.02149752884580834\n",
      "Second layer weight average: 0.003364167852642138\n",
      "Third layer weight average: -0.016823492944284563\n",
      "Fourth layer weight average: -0.030335381939032652\n"
     ]
    },
    {
     "data": {
      "image/png": "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\n",
      "text/plain": [
       "<Figure size 432x288 with 1 Axes>"
      ]
     },
     "metadata": {
      "needs_background": "light"
     },
     "output_type": "display_data"
    }
   ],
   "source": [
    "l1_av = [np.mean(w[0])]*len(Y)\n",
    "print(\"First layer weight average: %s\" % l1_av[1])\n",
    "l2_av = [np.mean(w[1])]*len(Y1)\n",
    "print(\"Second layer weight average: %s\" % l2_av[1])\n",
    "l3_av = [np.mean(w[2])]*len(Y2)\n",
    "print(\"Third layer weight average: %s\" % l3_av[1])\n",
    "l4_av = [np.mean(w[3])]*len(Y3)\n",
    "print(\"Fourth layer weight average: %s\" % l4_av[1])\n",
    "\n",
    "fig,ax = plt.subplots()\n",
    "\n",
    "mean_line = ax.plot(l1_av,Y, label='Mean', linestyle='--')\n",
    "mean_line2 = ax.plot(l2_av,Y1, label='Mean', linestyle='--')\n",
    "\n",
    "plt.scatter(w[0],Y)\n",
    "plt.scatter(w[1],Y1)\n",
    "plt.scatter(w[2],Y2)\n",
    "plt.scatter(w[3],Y3)\n",
    "plt.show()"
   ]
  },
  {
   "cell_type": "markdown",
   "metadata": {},
   "source": [
    "# Activation functions\n",
    "\n",
    "To have a full definition of the neural network, we must define an activation function for every layer in our list L (again, exluding the first term, which is the number of input dimensions). Several activation functions have been proposed and have different characteristics. Here, we will implement the linear activation function (the identity function), the sigmoid activation function (squeeshes the outcome of each neuron into the $[0, 1]$ range), the Hyperbolic Tangent (Tanh) that squeeshes the outcome of each neuron to $[-1, 1]$ and the Rectified Linear Unit (ReLU). \n",
    "\n",
    "We will also include the derivative in the function. We need this in order to do our back-propagation algorithm. Don't rush, we will get there soon. For any neural network, save the activation functions in a list. This list must be of size len(L)-1."
   ]
  },
  {
   "cell_type": "markdown",
   "metadata": {},
   "source": [
    "## Linear activation"
   ]
  },
  {
   "cell_type": "code",
   "execution_count": 16,
   "metadata": {},
   "outputs": [],
   "source": [
    "def Linear(x, derivative=False):\n",
    "    \"\"\"\n",
    "    Computes the element-wise Linear activation function for an array x\n",
    "    inputs:\n",
    "    x: The array where the function is applied\n",
    "    derivative: if set to True will return the derivative instead of the forward pass\n",
    "    \"\"\"\n",
    "    \n",
    "    if derivative:              # Return the derivative of the function evaluated at x\n",
    "        return np.ones_like(x)\n",
    "    else:                       # Return the forward pass of the function at x\n",
    "        return x"
   ]
  },
  {
   "cell_type": "markdown",
   "metadata": {},
   "source": [
    "## Sigmoid activation"
   ]
  },
  {
   "cell_type": "code",
   "execution_count": 17,
   "metadata": {},
   "outputs": [],
   "source": [
    "def Sigmoid(x, derivative=False):\n",
    "    \"\"\"\n",
    "    Computes the element-wise Sigmoid activation function for an array x\n",
    "    inputs:\n",
    "    x: The array where the function is applied\n",
    "    derivative: if set to True will return the derivative instead of the forward pass\n",
    "    \"\"\"\n",
    "    f = 1/(1+np.exp(-(x)))\n",
    "    \n",
    "    if derivative:              # Return the derivative of the function evaluated at x\n",
    "        return f*(1-f)\n",
    "    else:                       # Return the forward pass of the function at x\n",
    "        return f"
   ]
  },
  {
   "cell_type": "markdown",
   "metadata": {},
   "source": [
    "## Hyperbolic Tangent activation"
   ]
  },
  {
   "cell_type": "code",
   "execution_count": 18,
   "metadata": {},
   "outputs": [],
   "source": [
    "def Tanh(x, derivative=False):\n",
    "    \"\"\"\n",
    "    Computes the element-wise Sigmoid activation function for an array x\n",
    "    inputs:\n",
    "    x: The array where the function is applied\n",
    "    derivative: if set to True will return the derivative instead of the forward pass\n",
    "    \"\"\"\n",
    "    f = (np.exp(x)-np.exp(-x))/(np.exp(x)+np.exp(-x))\n",
    "    \n",
    "    if derivative:              # Return the derivative of the function evaluated at x\n",
    "        return 1-f**2\n",
    "    else:                       # Return the forward pass of the function at x\n",
    "        return f"
   ]
  },
  {
   "cell_type": "markdown",
   "metadata": {},
   "source": [
    "## Rectifier linear unit (ReLU)"
   ]
  },
  {
   "cell_type": "code",
   "execution_count": 19,
   "metadata": {},
   "outputs": [],
   "source": [
    "def ReLU(x, derivative=False):\n",
    "    \"\"\"\n",
    "    Computes the element-wise Rectifier Linear Unit activation function for an array x\n",
    "    inputs:\n",
    "    x: The array where the function is applied\n",
    "    derivative: if set to True will return the derivative instead of the forward pass\n",
    "    \"\"\"\n",
    "    \n",
    "    if derivative:              # Return the derivative of the function evaluated at x\n",
    "        return (x>0).astype(int)\n",
    "    else:                       # Return the forward pass of the function at x\n",
    "        return np.maximum(x, 0)"
   ]
  },
  {
   "cell_type": "markdown",
   "metadata": {},
   "source": [
    "## Visualization"
   ]
  },
  {
   "cell_type": "markdown",
   "metadata": {},
   "source": [
    "Now that we have defined our activation functions we can visualize them to see what they look like:"
   ]
  },
  {
   "cell_type": "code",
   "execution_count": 20,
   "metadata": {},
   "outputs": [
    {
     "data": {
      "image/png": "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\n",
      "text/plain": [
       "<Figure size 360x360 with 1 Axes>"
      ]
     },
     "metadata": {
      "needs_background": "light"
     },
     "output_type": "display_data"
    }
   ],
   "source": [
    "x = np.linspace(-6, 6, 100)\n",
    "units = {\n",
    "    \"Linear\": lambda x: Linear(x),\n",
    "    \"Sigmoid\": lambda x: Sigmoid(x),\n",
    "    \"ReLU\": lambda x: ReLU(x),\n",
    "    \"tanh\": lambda x: Tanh(x)\n",
    "}\n",
    "\n",
    "plt.figure(figsize=(5, 5))\n",
    "[plt.plot(x, unit(x), label=unit_name, lw=2) for unit_name, unit in units.items()]\n",
    "plt.legend(loc=2, fontsize=16)\n",
    "plt.title('Our activation functions', fontsize=20)\n",
    "plt.ylim([-2, 5])\n",
    "plt.xlim([-6, 6])\n",
    "plt.show()"
   ]
  },
  {
   "cell_type": "markdown",
   "metadata": {},
   "source": [
    "## Exercise c) Glorot initialization for all activation functions\n",
    "\n",
    "Implement a function by adding to the code snippet below that can take network L and list of activations function as argument and return a Glorot initialized network.  Hint: [This blog post](https://mmuratarat.github.io/2019-02-25/xavier-glorot-he-weight-init) gives a table for the activation functions we use here.\n",
    "\n",
    "Briefly explain in words how these how these values are calculated."
   ]
  },
  {
   "cell_type": "code",
   "execution_count": 21,
   "metadata": {},
   "outputs": [],
   "source": [
    "def init_NN_Glorot(L, activations, uniform=False):\n",
    "    \"\"\"\n",
    "    Initializer using the glorot initialization scheme\n",
    "    \"\"\"\n",
    "    # Insert code here\n",
    "    weights = []\n",
    "    biases  = []\n",
    "    z = []\n",
    "        \n",
    "    for i in range(len(L)-1):\n",
    "        \n",
    "        if activations[i] == ReLU:\n",
    "            std = np.sqrt(2)* (2/(L[0]+L[-1])) \n",
    "            weights.append(np.random.normal(loc=0.0, scale=std, size=[L[i],L[i+1]])) \n",
    "            biases.append(np.random.normal(loc=0.0, scale=std, size=[1, L[i+1]]))\n",
    "            z = ReLU(weights[i])\n",
    "            \n",
    "        elif activations[i] == Tanh:\n",
    "            std = 2/(L[0]+L[-1])\n",
    "            weights.append(np.random.normal(loc=0.0, scale=std, size=[L[i],L[i+1]])) \n",
    "            biases.append(np.random.normal(loc=0.0, scale=std, size=[1, L[i+1]]))\n",
    "            z = Tanh(weights[i])\n",
    "            \n",
    "        elif activations[i] == Sigmoid:\n",
    "            std = 4*(2/(L[0]+L[-1]))\n",
    "            weights.append(np.random.normal(loc=0.0, scale=std, size=[L[i],L[i+1]])) \n",
    "            biases.append(np.random.normal(loc=0.0, scale=std, size=[1, L[i+1]]))\n",
    "            z = Sigmoid(weights[i])\n",
    "            \n",
    "        elif activations[i] == Linear:\n",
    "            std = 2/(L[0]+L[-1])\n",
    "            weights.append(np.random.normal(loc=0.0, scale=std, size=[L[i],L[i+1]])) \n",
    "            biases.append(np.random.normal(loc=0.0, scale=std, size=[1, L[i+1]]))\n",
    "            z = Linear(weights[i])\n",
    "                   \n",
    "    return(weights, biases, z)        \n",
    "\n",
    "# Initializes the unit test neural network\n",
    "L_UT  = [3, 5, 1]\n",
    "ACT_UT = [ReLU, Tanh]\n",
    "NN_Glorot, b, z = init_NN_Glorot(L_UT, ACT_UT)\n",
    "# print(NN_Glorot)"
   ]
  },
  {
   "cell_type": "markdown",
   "metadata": {},
   "source": [
    "# Numpy einsum (EINstein SUMmation)"
   ]
  },
  {
   "cell_type": "markdown",
   "metadata": {},
   "source": [
    "[Einsum](https://docs.scipy.org/doc/numpy/reference/generated/numpy.einsum.html) gives us the possibility to compute almost any matrix operation in a single function. You can find a good description in the link above. Here are a few examples of some important uses:\n",
    "\n",
    "**Transpose:** We can write the transpose of matrix $A$:\n",
    "\n",
    "```\n",
    "np.einsum('ij -> ji', A) \n",
    "```\n",
    "\n",
    "**Trace:** We can write the trace of matrix $A$:\n",
    "\n",
    "```\n",
    "np.einsum('ii -> ', A) \n",
    "```\n",
    "\n",
    "**Diagonal:** We can write the diagonal of matrix $A$:\n",
    "\n",
    "```\n",
    "np.einsum('ii -> i', A) \n",
    "```\n",
    " \n",
    "**Matrix product:** We can write the multiplication of matrices $A$ and $B$ as:\n",
    "\n",
    "```\n",
    "np.einsum('ij, jk -> ik', A, B)\n",
    "```\n",
    "\n",
    "Note that $j$ in both matrices $A$ and $B$ should be the same size. \n",
    "\n",
    "**Batched matrix product (or why bothering):** All of the functions we performed above are built in numpy (np.tranpose, np.trace, np.matmul), however, when you want to do more complex operations, it might become less readable and computationaly efficient. Let's introduce a three dimensional matrix $H$ with indices $b,j,k$, where the first dimension is the batch (training example) dimension. In einsum, we can then write:\n",
    "\n",
    "```\n",
    "np.einsum('ij, bjk -> bik', A, H)\n",
    "```\n",
    "\n",
    "In order to perform a batched matrix multiplication where we multiple over the second dimension in the first marix and second dimension in the second matrix. The result is a new three dimensional matrix where the first dimension is the first dimension from $H$ and second is the first dimension from $A$ and last dimension the last dimension from $H$. This is a very simple one line (and readable) way to do matrix operations that will be very useful for neural network code. \n",
    "\n",
    "\n",
    "#### _**Tips and tricks when using einsum**_\n",
    "\n",
    "At the beginning, einsum might be a bit difficult to work with. The most important thing to do when using it is keeping track of the dimensions of your input and output matrices. An easy way to keep track of these dimensions is by using some sort of naming convention. Just like in the batched matrix product above we used $b$ to denote the batch dimension. In all the functions of this notebook, we leave some convention of names of indexes for the einsum in the explanation of the functions. We hope you find them useful!\n",
    "\n",
    "There are some other useful resources to understand numpy.einsum:\n",
    "\n",
    "* [Olexa Bilaniuk's great blogpost on einsum]( https://obilaniu6266h16.wordpress.com/2016/02/04/einstein-summation-in-numpy/ )\n",
    "* [Stackoverflow answer to: Understanding NumPy's einsum]( https://stackoverflow.com/q/26089893/8899404 )\n",
    "* [Jessica Stringham post on einsum]( https://jessicastringham.net/2018/01/01/einsum/ )\n",
    "* [Slides of einstein summation from oxford]( http://www-astro.physics.ox.ac.uk/~sr/lectures/vectors/lecture10final.pdfc )"
   ]
  },
  {
   "cell_type": "markdown",
   "metadata": {},
   "source": [
    "# Forward pass\n",
    "\n",
    "The forward pass has been implemented for you. Please note how we have used einsum to perform the affine tranformation."
   ]
  },
  {
   "cell_type": "markdown",
   "metadata": {},
   "source": [
    "#### Indices convention.\n",
    "\n",
    "* $i$: input - layer $l$ dimension.\n",
    "* $o$: output - layer $l+1$ dimension.\n",
    "* $b$: batch size dimension.\n",
    "\n",
    "<u>Attention</u>! \n",
    "\n",
    "By convention we consider column vectors.\n",
    "Depending on your implementation,\n",
    "sometimes you will need to transpose the matrix/vector dimensions. "
   ]
  },
  {
   "cell_type": "markdown",
   "metadata": {},
   "source": [
    "#### Matrices, Sums and Indices\n",
    "\n",
    "<u>Remember</u>!\n",
    "\n",
    "When we compute a matrix-vector product, the inner indices need to match; if we have $W \\in R^{K \\times J}$ and $z \\in R^{I}$, we can compute the matrix-vector product only if\n",
    "   *  $J=I$, then $Wz$ or \n",
    "   *  $K=I$, then $W^Tz$.\n",
    "   \n",
    "We need to transpose the matrix in the second case. Why?. Hint: inner indices matching).\n",
    "In general these two matrix-vector products are different. So pay attention to dimensions!\n",
    "\n",
    "Similarly, when we sum a matrix and a vector over a dimension, we can sum only if the dimensions match. Given the summation:\n",
    "    $$\\sum_{i=1}^I w_{ki}~z_{i},$$\n",
    "we can sum only if $J=I$.\n",
    "\n",
    "Index Contraction: after summing over an index, the index is contracted and the output is no more a function of that index. This means that if we sum over $i$, the result will be an object without index $i$."
   ]
  },
  {
   "cell_type": "markdown",
   "metadata": {},
   "source": [
    "#### Unpacking the forward pass. \n",
    "\n",
    "For each layer we want to compute a transformation between the activated units $z$ and the layer parameters $(W, b)$. In particular such transformation is an affine one, of the form:\n",
    "$$a^{(l)} = W^{(l)} z^{(l-1)} + b^{(l)},$$\n",
    "followed by a non-linear function (activation)\n",
    "$$z^{(l)} = h(a^{(l)}).$$\n",
    "\n",
    "If $W_{oi}$ is an element in a matrix with $O$ rows and $I$ columns, \n",
    "$z_{i}$ is a value in a vector of $I$ units and \n",
    "$b_o$ is a value in a vector of $O$ biases, \n",
    "we can write the affine transformation in different ways:\n",
    "\n",
    "* *Explicit notation*: $$\\sum_{i=1}^{I} w_{oi}~z_{i} + b_o,   \\quad \\forall o=1,...O$$\n",
    "* *Matrix notation*: $$ Wz + b$$ or $$z^{T}W + b$$\n",
    "\n",
    "\n",
    "Given that we have only two indices ($i$ and $o$), after contracting $i$, the output will have dimension $O$."
   ]
  },
  {
   "cell_type": "markdown",
   "metadata": {},
   "source": [
    "#### Not so fast!\n",
    "\n",
    "In Deep Learning we have another dimension: the batch size for the data $x$. \n",
    "This additional dimension is needed to pack together samples from the dataset and parallelize computations.\n",
    "\n",
    "So we typically work with matrices $W_{io}$ (notice how the indices are switched now) and vectors $z_i$ in batches, that we write $X = \\{x_{bi}\\}^{B, I}_{i=0, b=0}$ or $Z = \\{z_{bi}\\}^{B, I}_{i=0, b=0}$.\n",
    "\n",
    "Why do we use $W_{io}$ and not $W_{oi}$ as before? In principle we can use both. In practice, given that we want the batch size as first dimension, it is simpler to use $W_{io}$ to match the inner dimensions.\n",
    "As we said before, depending on your specific implementation, you will need to transpose some matrices.\n",
    "\n",
    "$x_{bi}$ means that we process in parallel a batch of $B$ samples (for example $B$=64 images, where each image is a sample) with dimensionality $I$ (for images this dimension is between $10^{3}$ - $10^{6}$). The batch size cannot be too large (Why?) and shouldn't be too small (Why?)."
   ]
  },
  {
   "cell_type": "markdown",
   "metadata": {},
   "source": [
    "#### einsum\n",
    "\n",
    "If you try to write in numpy a matrix-matrix product or a matrix-tensor product, you will notice that things get coumbersome fast. Additionally, your data could be a structured object with 3/4/5 dimensions ($x_{bijk}$). It's easy to get confused and make some mistakes, in particular when some of such dimensions have the same numerical value but different meaning (imagine a batch of 100 samples with dimension 100).\n",
    "\n",
    "The **einsum** function is explicitly summing over the dimension of choice taking care of the details related to batching in an efficient way. There is a striking similarity between the einsum notation and the explicit notation we have seen before. \n",
    "\n",
    "In the simple example we are working on, using einsum, matmul, or summing over an index is basically the same. \n",
    "For more complex problems in computer vision, natural language processing, generative modeling, etc. einsum helps dealing with the details."
   ]
  },
  {
   "cell_type": "markdown",
   "metadata": {},
   "source": [
    "#### Putting it all together.\n",
    "\n",
    "Ok! Here we are. Let's write again the explicit form for the batch case. As before, $W \\in R^{I \\times O}$ (or $W^{T} \\in R^{O \\times I}$) is a matrix, $z_{bi}$ is a matrix (or a collection of $b$ row vectors), and $b_o$ is a vector (in practice the bias vector will be broadcasted for all the samples in a batch).\n",
    "\n",
    "* *Explicit notation*: \n",
    "$$\\sum_{i=1}^I z_{bi}~w_{io} + b_{o}, \\quad \\forall o, \\quad \\forall b$$\n",
    "Before, contracting $i$, we ended up with an object of dimension $o$. Now we end up with an object of dimensions $b~\\times~o$.\n",
    "\n",
    "\n",
    "* *Matrix notation*:\n",
    "$$ Z W + b $$"
   ]
  },
  {
   "cell_type": "code",
   "execution_count": 22,
   "metadata": {},
   "outputs": [],
   "source": [
    "def forward_pass(x, NN, activations):\n",
    "    \"\"\"\n",
    "    This function performs a forward pass. \n",
    "    It saves lists for both affine transforms of units (a) and activated units (z)\n",
    "    Input:\n",
    "    x: The input of the network             (np.array of shape: (batch_size, number_of_features))\n",
    "    NN: The initialized neural network      (tuple of list of matrices)\n",
    "    activations: the activations to be used (list of functions, same len as NN)\n",
    "\n",
    "    Output:\n",
    "    a: A list of affine transformations, that is, all x*w+b.\n",
    "    z: A list of activated units (ALL activated units including input x and output y).\n",
    "    \n",
    "    Shapes for the einsum:\n",
    "    b: batch size\n",
    "    i: size of the input hidden layer (layer l)\n",
    "    o: size of the output (layer l+1)\n",
    "    \"\"\"\n",
    "    z = [x]\n",
    "    a = []\n",
    "    \n",
    "    for l in range(len(NN[0])):\n",
    "        \n",
    "        # layer l parameters (W, bias)\n",
    "        W = NN[0][l]\n",
    "        bias = NN[1][l]\n",
    "        \n",
    "        # \\sum_{i} z^{l}_{bi} W^{l}_{io} in explicit notation\n",
    "        # z * W                          in matrix notation\n",
    "        Wz = np.einsum('bi, io -> bo', z[l], W)\n",
    "        \n",
    "        # z * W + bias\n",
    "        Wzb = Wz + bias\n",
    "        \n",
    "        a.append(Wzb)                  # The affine transform z*w+bias\n",
    "        z.append(activations[l](a[l])) # The non-linearity    \n",
    "    \n",
    "    return a, z"
   ]
  },
  {
   "cell_type": "markdown",
   "metadata": {},
   "source": [
    "# Forward pass unit test\n",
    "\n",
    "Below is a piece of code that takes a very particular setting of the network and inputs and test whether it gives the expected results."
   ]
  },
  {
   "cell_type": "code",
   "execution_count": 23,
   "metadata": {},
   "outputs": [],
   "source": [
    "ACT_F_UT = [Linear, Linear]\n",
    "test_a, test_z = forward_pass(np.array([[1,1,1]]), NN_UT, ACT_F_UT) # input has shape (1, 3) 1 batch, 3 features\n",
    "\n",
    "# Checking shapes consistency\n",
    "assert np.all(test_z[0]==np.array([1,1,1])) # Are the input vector and the first units the same?\n",
    "assert np.all(test_z[1]==test_a[0])         # Are the first affine transformations and hidden units the same?\n",
    "assert np.all(test_z[2]==test_a[1])         # Are the output units and the affine transformations the same?\n",
    "\n",
    "# Checking correctnes of values\n",
    "# First layer, calculate np.sum(np.array([1,1,1])*np.array([1,1,1]))+1 = 4\n",
    "assert np.all(test_z[1] == 4.)\n",
    "# Second layer, calculate np.sum(np.array([4,4,4,4,4])*np.array([1,1,1,1,1]))+1 = 21\n",
    "assert np.all(test_z[2] == 21.)"
   ]
  },
  {
   "cell_type": "markdown",
   "metadata": {},
   "source": [
    "# Loss functions"
   ]
  },
  {
   "cell_type": "markdown",
   "metadata": {},
   "source": [
    "In order to perform a backward pass we need to define a loss function and its derivative with respect to the output of the neural network $y$"
   ]
  },
  {
   "cell_type": "code",
   "execution_count": 24,
   "metadata": {},
   "outputs": [],
   "source": [
    "def squared_error(t, y, derivative=False):\n",
    "    \"\"\"\n",
    "    Computes the squared error function and its derivative \n",
    "    Input:\n",
    "    t:      target (expected output)          (np.array)\n",
    "    y:      output from forward pass (np.array, must be the same shape as t)\n",
    "    derivative: whether to return the derivative with respect to y or return the loss (boolean)\n",
    "    \"\"\"\n",
    "    if np.shape(t)!=np.shape(y):\n",
    "        print(\"t and y have different shapes\")\n",
    "    if derivative: # Return the derivative of the function\n",
    "        return (y-t)\n",
    "    else:\n",
    "        return 0.5*(y-t)**2"
   ]
  },
  {
   "cell_type": "markdown",
   "metadata": {},
   "source": [
    "## Exercise d) Implement cross entropy loss\n",
    "\n",
    "Insert code below to implement cross-entropy loss for general dimensionality of $t$."
   ]
  },
  {
   "attachments": {
    "image.png": {
     "image/png": "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"
    }
   },
   "cell_type": "markdown",
   "metadata": {},
   "source": [
    "### ![image.png](attachment:image.png)"
   ]
  },
  {
   "cell_type": "code",
   "execution_count": 25,
   "metadata": {},
   "outputs": [],
   "source": [
    "def cross_entropy_loss(t, a, derivative=False):\n",
    "    \"\"\"\n",
    "    Computes the cross entropy loss function and its derivative \n",
    "    Input:\n",
    "    t:      target (expected output) (written as y in equation 57 from the text)         (np.array)\n",
    "    a:      output from forward pass (np.array, must be the same shape as t)\n",
    "    derivative: whether to return the derivative with respect to y or return the loss (boolean)\n",
    "    \"\"\"\n",
    "    ## Insert code here\n",
    "    C=[]\n",
    "    if np.shape(t)!=np.shape(a):\n",
    "        print(\"t and a have different shapes\")\n",
    "    if derivative: # Return the derivative of the function\n",
    "        return (a-t)\n",
    "    else:\n",
    "        for j in range(len(a)):\n",
    "            C = 1/(len(a))*np.sum(t[j]*np.log(a[j])+(1-t[j])*np.log(1-a[j]))\n",
    "    return(C)"
   ]
  },
  {
   "cell_type": "markdown",
   "metadata": {},
   "source": [
    "# Backward pass "
   ]
  },
  {
   "cell_type": "markdown",
   "metadata": {},
   "source": [
    "## Exercise e) Complete code for backward pass\n",
    "\n",
    "Below is a implementation of the backward pass with some lines removed. Insert the missing lines."
   ]
  },
  {
   "cell_type": "markdown",
   "metadata": {},
   "source": [
    "#### Useful resources.\n",
    "\n",
    "Math intro:\n",
    "* https://www.deeplearningbook.org/contents/mlp.html\n",
    "* http://neuralnetworksanddeeplearning.com/chap2.html\n",
    "* http://pandamatak.com/people/anand/771/html/node37.html\n",
    "\n",
    "Code intro:\n",
    "* https://cs231n.github.io/neural-networks-case-study/#grad"
   ]
  },
  {
   "cell_type": "markdown",
   "metadata": {},
   "source": [
    "<u>Attention!</u>\n",
    "\n",
    "This is a difficult topic. It's normal to be confused and not immediately grasp the complete algorithm. Just work your way through it writing down the equations, writing down a small network explicitly, and thinking about the model."
   ]
  },
  {
   "cell_type": "markdown",
   "metadata": {},
   "source": [
    "#### Unpacking the backward pass.\n",
    "\n",
    "Before we learned how to **forward** data input $X$ in a parametric model $W$ to obtain a final output $y$ and build a loss function $E(t, y)$ that measures how far our prediction $y$ is from the target $t$.\n",
    "For a generic FFN at layer $l$ we can write:\n",
    "\n",
    "$$a^{(l)} = W^{(l)} z^{(l-1)} + b^{(l)},$$\n",
    "$$z^{(l)} = h(a^{(l)}),$$\n",
    "where $z^{(0)}=x$ and $z^{(L)} = y$.\n"
   ]
  },
  {
   "cell_type": "markdown",
   "metadata": {},
   "source": [
    "#### Backpropagation.\n",
    "\n",
    "As the name suggests, the backpropagation algorithm is a procedure to adjust the model parameters $(W, b)$ \n",
    "<u>*propagating backward a measure of error*</u> such that our prediction $y$ is as close as possible to the target $t$.\n",
    "\n",
    "The proxy we use to measure closeness between $y$ and $t$ is a loss function $E(t, y)$. \n",
    "\n",
    "<u>Attention!</u>\n",
    "This loss is a function of the model parameters through $y = g(x, w, b)$. \n",
    "When we optimize wrt. the model parameters $(W, b)$ we can write the loss as a function of such parameters $E(w, b)$ because $y=g(w, b)$ and $t$ and $x$ are fixed input and output.\n",
    "\n",
    "In practice, backpropagation is a gradient based optimization strategy. \n",
    "Our goal is to compute all the partial derivatives $\\dfrac{\\partial E(w, b)}{\\partial w^l_{ji}}$ and $\\dfrac{\\partial E(w, b)}{\\partial b^l_{j}}$ for each layer $l$ and each unit $i$ and $j$ in the network.\n",
    "\n",
    "Computing the partial derivative wrt. the parameters directly is not easy. \n",
    "The loss depends in a non-linear and hierarchical way from the parameters. What backpropagation give us is an efficient and systematic way to compute the partial derivative as a function of intermediate quantities. The most important of such quantities is the error $\\delta_l$."
   ]
  },
  {
   "cell_type": "markdown",
   "metadata": {},
   "source": [
    "#### Error propagation - final layer $L$.\n",
    "\n",
    "Consider the final layer $L$.\n",
    "The partial derivatives can be written as:\n",
    "\n",
    "$$\\dfrac{\\partial E(w, b)}{\\partial w^{L}_{ji}} =\n",
    "\\dfrac{\\partial E}{\\partial z^{L}_j}\n",
    "\\dfrac{\\partial z^{L}_j}{\\partial w^{L}_{ji}} = \n",
    "\\left(\n",
    "\\color{blue}{\\dfrac{\\partial E}{\\partial z^{L}_j}\n",
    "\\dfrac{\\partial z^{L}_j}{\\partial a^{L}_j}}\n",
    "\\right)\n",
    "\\dfrac{\\partial a^{L}_j}{\\partial w^{L}_{ji}} = \n",
    "\\color{blue}{\\delta^{L}_j}~\\dfrac{\\partial a^{L}_j}{\\partial w^{L}_{ji}} = \n",
    "\\delta^{L}_j~z^{L-1}_{i},\n",
    "$$\n",
    "\n",
    "where\n",
    "$a^{L}_j = \\sum_i w^{L}_{ji}~z^{L-1}_i + b^{L}_j$ and $z^{L}_j = h(a^{L}_j).$ \n",
    "\n",
    "$\\delta^{L}_j = \\partial E / \\partial a^{L}_j$ is the error at layer $L$ for unit $j$ and it is what we want to backpropagate. \n",
    "You see that it can be easily computed: \n",
    "$ \\partial E / \\partial z^{L}_j$\n",
    "is just the partial derivative of the loss wrt. to the activation.\n",
    "$ \\partial z^{L}_j / \\partial a^{L}_j$\n",
    "is the partial derivative of the activation wrt. the output of the affine transformation.\n",
    "You already know how to compute these derivative (How?) and consequently you know $\\delta^{L}_j$.\n",
    "\n",
    "For the biases in the final layer the computation is basically the same:\n",
    "\n",
    "$$\\dfrac{\\partial E(w, b)}{\\partial b_{j}} =\n",
    "\\left(\\dfrac{\\partial E}{\\partial z_j}\n",
    "\\dfrac{\\partial z_j}{\\partial a_j}\\right)\n",
    "\\dfrac{\\partial a_j}{\\partial b_{j}} = \n",
    "\\delta_j~\\dfrac{\\partial a_j}{\\partial b_{j}} = \n",
    "\\delta_j.\n",
    "$$\n",
    "\n",
    "You can see that $\\delta_j$ is the same we computed, and the only thing that changes is the partial derivative wrt $w_{ji}$ and $b_j$."
   ]
  },
  {
   "cell_type": "markdown",
   "metadata": {},
   "source": [
    "#### Error propagation - layer $l$.\n",
    "\n",
    "For a generic layer $l$ we want to derive a recursive formula for the error $\\delta^{l}_j$.\n",
    "In particular, if we at layer $l$ and unit $j$, we consider the $k$ downstream units influenced by $j$:\n",
    "\n",
    "$$\\dfrac{\\partial E(w, b)}{\\partial w^l_{ji}} =\n",
    "\\sum_k\n",
    "\\dfrac{\\partial E}{\\partial a^{l+1}_k}\n",
    "\\dfrac{\\partial a^{l+1}_k}{\\partial w^l_{ji}} =\n",
    "\\left(\n",
    "\\color{green}{\\sum_k\n",
    "\\dfrac{\\partial E}{\\partial a^{l+1}_k}\n",
    "\\dfrac{\\partial a^{l+1}_k}{\\partial z^l_j}\n",
    "\\dfrac{\\partial z^l_j}{\\partial a^l_j}}\n",
    "\\right)\n",
    "\\dfrac{\\partial a^l_j}{\\partial w^l_{ji}} = \n",
    "\\color{green}{\\delta^{l}_j}~\\dfrac{\\partial a^{l}_j}{\\partial w^{l}_{ji}} = \n",
    "\\delta^l_j~z^{l-1}_{i},\n",
    "$$\n",
    "\n",
    "where $a^{l}_j = \\sum_i w^{l}_{ji}~z^{l-1}_i + b^{l}_j$ and $z^{l}_j = h(a^{l}_j).$\n",
    "\n",
    "Notice how the terms in $\\delta^{l}_j$ are easy to compute: $\\partial E  / \\partial a^{l+1}_k = \\delta^{l+1}_k$ is known (we start from the last layer). $\\partial a^{l+1}_k / \\partial z^{l}_j$ is something new, but we can easily compute this term too. \n",
    "We notice that:\n",
    "$$a^{l+1}_k = \\sum_j w^{l+1}_{kj} z^{l}_{j} + b_k,$$\n",
    "and $\\partial a^{l+1}_k / \\partial z^{l}_j = w^{l+1}_{kj}$. \n",
    "Finally $\\partial z^l_j / \\partial a^l_j$ is just the partial derivative of the activation (as before).\n",
    "\n",
    "We can now write the general recursive form for error propagation:\n",
    "\n",
    "$$\\delta^{l}_j = \\left(\\sum_k \\delta^{l+1}_k w^{l+1}_{kj}\\right) \\dfrac{\\partial z^l_j}{\\partial a^l_j}$$"
   ]
  },
  {
   "cell_type": "markdown",
   "metadata": {},
   "source": [
    "#### Putting it all together.\n",
    "\n",
    "Here we are! Everything boils down to recursively finding the errors $\\delta^{l}$ starting from the last layer $L$ backward. When you have $\\delta^{l}$, you just need a final multiplication with activations to find the partial derivative wrt the parameters for the layer.\n",
    "Let's write the steps in matrix form:\n",
    "\n",
    "* Errror for the last layer $L$:\n",
    "$$\\delta^{L} = \\nabla_z E \\circ h'(a^{L}).$$\n",
    "* Error for any layer $l$:\n",
    "$$\\delta^l = ((W^{l+1})^{T} \\delta^{l+1}) \\circ h'(a^{l}).$$\n",
    "* Partial derivative cost for $w$: \n",
    "$$\\dfrac{\\partial E}{\\partial w^{l}} = \\delta^{l} z^{l-1}.$$\n",
    "* Partial derivative cost for $b$:\n",
    "$$\\dfrac{\\partial E}{\\partial b^{l}} = \\delta^{l}.$$"
   ]
  },
  {
   "cell_type": "code",
   "execution_count": 26,
   "metadata": {},
   "outputs": [],
   "source": [
    "def backward_pass(x, t, y, z, a, NN, activations, loss_f):\n",
    "    \"\"\"\n",
    "    This function performs a backward pass ITERATIVELY. It saves lists all of the derivatives in the process\n",
    "    \n",
    "    Input:\n",
    "    x:           The input used for the batch                (np.array)\n",
    "    t:           The observed targets                        (np.array, the first dimension must be the same to x)\n",
    "    y:           The output of the forward_pass of NN for x  (np.array, must have the same shape as t)\n",
    "    \n",
    "    a:           The affine transforms from the forward_pass (np.array) # a^{l+1}= W^{l} z^{l} + b^{l}\n",
    "    z:           The activated units from the forward_pass (np.array)   # z^{l+1}=f(a^{l+1})\n",
    "    \n",
    "    activations: The activations to be used                  (list of functions)\n",
    "    loss_f:        The loss function to be used                (one function)\n",
    "    \n",
    "    Output:\n",
    "    g_w: A list of gradients for every weight\n",
    "    g_b: A list of gradients for every bias\n",
    "    \n",
    "    Shapes for the einsum:\n",
    "    b: batch size\n",
    "    i: size of the input hidden layer (layer l)\n",
    "    o: size of the output (layer l+1)\n",
    "    \"\"\"\n",
    "    \n",
    "    BS = x.shape[0] # Implied batch shape \n",
    "    \n",
    "    # Process the last layer - Reference: Error propagation - final layer $L$.\n",
    "    \n",
    "    # First, let's compute the list of derivatives of z with respect to a\n",
    "    # these derivative are standardized and automatically handled by the activations functions defined above.\n",
    "    d_a = []\n",
    "    # dz/da\n",
    "    for i in range(len(activations)):\n",
    "        d_za = activations[i](a[i], derivative=True)\n",
    "        d_a.append(d_za)\n",
    "        \n",
    "    \n",
    "    # Second, let's compute the derivative of the loss function with respect to z\n",
    "    # targets\n",
    "    t = t.reshape(BS, -1)\n",
    "    \n",
    "    # derivative loss wrt y\n",
    "    # dE/dy  where y=z[-1]\n",
    "    d_loss = []     # <- Insert correct expression here\n",
    "#     for i in range(len(activations)):\n",
    "    d_loss = loss_f(t,y,derivative=True)\n",
    "  \n",
    "        \n",
    "    # Third, let's compute the derivative of the biases and the weights\n",
    "    g_w   = [] # List to save the gradient w.r.t. the weights\n",
    "    g_b   = [] # List to save the gradients w.r.t. the biases\n",
    "    \n",
    "    # delta : measure of error in the final layer L\n",
    "    # delta = dE/dy * dy/da\n",
    "    delta = np.einsum('bo, bo -> bo', d_loss, d_a[-1]) # loss shape: (b, o); pre-activation units shape: (b, o) hadamard product\n",
    "    \n",
    "    # affine transformation\n",
    "    # a = W z + b\n",
    "    \n",
    "    # dE/dw = (dE/dy * dy/da) da/dw = delta * da/dw\n",
    "    # notice how the gradients wrt the weights have dimension (batch, input_dim, output_dim)\n",
    "    g_w.append(np.mean(np.einsum('bo, bi -> bio', delta, z[-2]), axis=0)) # delta shape: (b, o), activations shape: (b, h)\n",
    "    \n",
    "    # dE/db = (dE/dy * dy/da) da/db = delta * da/db\n",
    "    g_b.append(np.mean(delta, axis=0))\n",
    "    \n",
    "    \n",
    "    # Process all the other layers - Reference: Error propagation - layer $l$\n",
    "    for l in range(1, len(NN[0])):\n",
    "        \n",
    "        W = NN[0][-l] \n",
    "        # dE/dz^{l} = dE/da^{l+1} * da^{l+1}/dz^{l} = delta^{l+1} * w^{l+1}\n",
    "        d_E_d_z = np.einsum('bo, io -> bi', delta, W)          # Derivative of the loss with respect to an activated layer d_E_d_z. \n",
    "#         print(np.shape(d_E_d_z))\n",
    "                                                  #  delta shape: as above; weights shape: (i, o)\n",
    "                                                               # Delta: d_E_d_z (element-wise mult) derivative of the activation layers\n",
    "                                                               #  delta shape: as above; d_z shape: (b, i)  \n",
    "        \n",
    "        # delta : measure of error for a generic layer l \n",
    "        # dE/dz * dz/da \n",
    "#         delta = []      # <- Insert correct expression here \n",
    "#         for l in range(1,len(NN[0])):\n",
    "              \n",
    "        delta = d_E_d_z*d_a[-l-1]\n",
    "         \n",
    "        # affine transformation\n",
    "        # a = Wz + b\n",
    "        \n",
    "        # dE/dw = delta * da/dw\n",
    "        g_w.append(np.mean(np.einsum('bo, bi -> bio', delta, z[-l-2]), axis=0)) # Derivative of cost with respect to weights in layer l:\n",
    "        \n",
    "        # dE/db = delta                                                                 # delta shape: as above; activations of l-1 shape: (b, i)\n",
    "        g_b.append(np.mean(delta, axis=0))\n",
    "        \n",
    "    return g_b[::-1], g_w[::-1]"
   ]
  },
  {
   "cell_type": "markdown",
   "metadata": {},
   "source": [
    "# Backward pass unit test"
   ]
  },
  {
   "cell_type": "markdown",
   "metadata": {},
   "source": [
    "We are going to perform the unit test of the backward pass with a finite difference estimation, make sure to read the description of the function and that you understand it well:"
   ]
  },
  {
   "cell_type": "markdown",
   "metadata": {},
   "source": [
    "## Exercise f) Test correctness of derivatives with finite difference method\n",
    "\n",
    "Write a small function that uses [the finite difference method](https://en.wikipedia.org/wiki/Finite_difference_method) to test whether the backpropation implementation is working. In short we will use\n",
    "$$\n",
    "\\frac{\\partial E(w)}{\\partial w_{ij}^{(l)}} \\approx \\frac{E(v)-E(w)}{dw}\n",
    "$$\n",
    "for $dw \\ll 1$ and $v$ is the same network as $w$ apart from $v_{ij}^{(l)} = w_{ij}^{(l)} + dw$.\n",
    "\n",
    "As arguments the function should take: some data $x$ and $t$ as in the example above, the network including activations, the indices $i$, $j$, $l$ of the weight we investigate and $dw$ and return the right hand side of the expression above.\n",
    "\n",
    "_Insert your code in the cell below._\n"
   ]
  },
  {
   "cell_type": "code",
   "execution_count": 27,
   "metadata": {},
   "outputs": [],
   "source": [
    "# Insert your finite difference code here\n",
    "def finite_difference(x, t, NN, activations, indexes, dw=1e-10):\n",
    "    \"\"\"\n",
    "    This function compute the finite difference between\n",
    "    \n",
    "    Input:\n",
    "    x:           The input used for the batch                (np.array)\n",
    "    t:           The observed targets                        (np.array, the first dimension must be the same to x)\n",
    "    \n",
    "    NN: The initialized neural network                       (tuple of list of matrices)\n",
    "    activations: The activations to be used                  (list of functions)\n",
    "    \n",
    "    indexes: the indexes of the parameter we want to perturb (tuple of integers)\n",
    "             v^{l}_{ji} = w^{l}_{ji} + dw\n",
    "    \n",
    "    dw: the size of the difference                           (float)\n",
    "    \n",
    "    Output:\n",
    "    finite_difference: the magnitude of the difference       (float) \n",
    "    \"\"\"\n",
    "    \n",
    "    from copy import deepcopy\n",
    "    # l layer\n",
    "    # i input dim\n",
    "    # j output dim\n",
    "    \n",
    "    (l, i, j) = indexes\n",
    "    \n",
    "    _, zv = forward_pass(x, NN, activations)\n",
    "    Ev=squared_error(t, zv[-1])\n",
    "    \n",
    "    NNw = deepcopy(NN)\n",
    "    NNw[0][l][i, j] += dw # <- Insert correct expression \n",
    "    \n",
    "    _, zw = forward_pass(x, NNw, activations)           # <- Insert correct expression\n",
    "    Ew= squared_error(t, zw[-1])               # <- Insert correct expression\n",
    "    \n",
    "    finite_difference = (Ew - Ev) / dw\n",
    "    \n",
    "    return finite_difference"
   ]
  },
  {
   "cell_type": "code",
   "execution_count": 28,
   "metadata": {},
   "outputs": [
    {
     "name": "stdout",
     "output_type": "stream",
     "text": [
      "t and y have different shapes\n",
      "t and y have different shapes\n"
     ]
    },
    {
     "data": {
      "text/plain": [
       "array([[1.00001785]])"
      ]
     },
     "execution_count": 28,
     "metadata": {},
     "output_type": "execute_result"
    }
   ],
   "source": [
    "finite_difference(np.array([[1,1,1]]), np.array([20]), NN_UT, ACT_F_UT, [0,1,0])"
   ]
  },
  {
   "cell_type": "code",
   "execution_count": 29,
   "metadata": {},
   "outputs": [
    {
     "data": {
      "text/plain": [
       "4.0"
      ]
     },
     "execution_count": 29,
     "metadata": {},
     "output_type": "execute_result"
    }
   ],
   "source": [
    "backward_pass(np.array([[1,1,1]]), np.array([20]), test_a[-1], test_z, test_a, NN_UT, ACT_F_UT, squared_error)[1][1][1,0]"
   ]
  },
  {
   "cell_type": "markdown",
   "metadata": {},
   "source": [
    "Once you have implemented the function you can compare this number with the left hand side computed by the implementation above.\n",
    "\n",
    "Try for different parameters and different values of $dw$. Scan over a range of $dw$ values. Why does the method break down for really small $dw$?\n",
    "\n",
    "### Round off error arises as a result of the very small discretization\n",
    "\n",
    "Finite differences gives us gradients without computing gradients explicitly. Why don't we use it in practice then?\n",
    "\n",
    "### When you have many variables you would need to evaluate the function many times and thus by using gradient descent you can save the number of operations required."
   ]
  },
  {
   "cell_type": "markdown",
   "metadata": {},
   "source": [
    "Below is reference code that computes the finite differences for all parameters."
   ]
  },
  {
   "cell_type": "code",
   "execution_count": 30,
   "metadata": {},
   "outputs": [],
   "source": [
    "def finite_diff_grad(x, NN, ACT_F, epsilon=None):\n",
    "    \"\"\"\n",
    "    Finite differences gradient estimator: https://en.wikipedia.org/wiki/Finite_difference_method\n",
    "    The idea is that we can approximate the derivative of any function (f) with respect to any argument (w) by evaluating the function at (w+e)\n",
    "    where (e) is a small number and then computing the following opertion (f(w+e)-f(w))/e . Note that we would need N+1 evaluations of\n",
    "    the function in order to compute the whole Jacobian (first derivatives matrix) where N is the number of arguments. The \"+1\" comes from the\n",
    "    fact that we also need to evaluate the function at the current values of the argument.\n",
    "    \n",
    "    Input:\n",
    "    x:       The point at which we want to evaluate the gradient\n",
    "    NN:      The tuple that contains the neural network\n",
    "    ACT_F:   The activation functions in order to perform the forward pass\n",
    "    epsilon: The size of the difference\n",
    "    \n",
    "    Output:\n",
    "    Two lists, the first one contains the gradients with respect to the weights, the second with respect to the biases\n",
    "    \"\"\"\n",
    "    from copy import deepcopy\n",
    "    \n",
    "    if epsilon == None:\n",
    "        epsilon = np.finfo(np.float32).eps # Machine epsilon for float 32\n",
    "        \n",
    "    grads = deepcopy(NN)               # Copy of structure of the weights and biases to save the gradients                        \n",
    "    _ , test_z = forward_pass(x, NN_UT, ACT_F_UT) # We evaluate f(x)\n",
    "    \n",
    "    for e in range(len(NN)):                       # Iterator over elements of the NN:       weights or biases\n",
    "        for h in range(len(NN[e])):                # Iterator over the layer of the element: layer number\n",
    "            for r in range(NN[e][h].shape[0]):     # Iterator over                           row number\n",
    "                for c in range(NN[e][h].shape[1]): # Iterator over                           column number \n",
    "                    NN_copy             = deepcopy(NN)    \n",
    "                    NN_copy[e][h][r,c] += epsilon\n",
    "                    _, test_z_eps       = forward_pass(x, NN_copy, ACT_F)     # We evaluate f(x+eps)\n",
    "                    grads[e][h][r,c]    = (test_z_eps[-1]-test_z[-1])/epsilon # Definition of finite differences gradient\n",
    "    \n",
    "    return grads[0], grads[1]"
   ]
  },
  {
   "cell_type": "code",
   "execution_count": 31,
   "metadata": {
    "scrolled": true
   },
   "outputs": [
    {
     "name": "stdout",
     "output_type": "stream",
     "text": [
      "[array([[1., 1., 1., 1., 1.],\n",
      "       [1., 1., 1., 1., 1.],\n",
      "       [1., 1., 1., 1., 1.]]), array([[4.],\n",
      "       [4.],\n",
      "       [4.],\n",
      "       [4.],\n",
      "       [4.]])]\n"
     ]
    }
   ],
   "source": [
    "### Unit test \n",
    "\n",
    "## First lest's compute the backward pass using our own function\n",
    "# Forward pass\n",
    "test_a, test_z = forward_pass(np.array([[1,1,1]]), NN_UT, ACT_F_UT)\n",
    "# print(test_a[1])\n",
    "# Backward pass\n",
    "test_g_b, test_g_w = backward_pass(np.array([[1,1,1]]), np.array([20]), test_a[-1], test_z, test_a, NN_UT, ACT_F_UT, squared_error)\n",
    "# Estimation by finite differences\n",
    "test_fdg_w, test_fdg_b = finite_diff_grad(np.array([[1,1,1]]), NN_UT, ACT_F_UT)\n",
    "print(test_fdg_w)"
   ]
  },
  {
   "cell_type": "code",
   "execution_count": 32,
   "metadata": {},
   "outputs": [],
   "source": [
    "# Test whether the weights and biases are all equal as the ones we estimated using back propagation\n",
    "for l in range(len(test_g_w)):\n",
    "    assert np.allclose(test_fdg_w[l], test_g_w[l])\n",
    "    assert np.allclose(test_fdg_b[l], test_g_b[l])"
   ]
  },
  {
   "cell_type": "markdown",
   "metadata": {},
   "source": [
    "# Training and validation\n",
    "\n",
    "We are ready to train some neural networks! Below we give some example initializations and a training loop. Try it out. "
   ]
  },
  {
   "cell_type": "code",
   "execution_count": 33,
   "metadata": {},
   "outputs": [],
   "source": [
    "# Initialize an arbitrary neural network\n",
    "#L  = [3, 16, 1]\n",
    "L  = [1, 8, 1]\n",
    "NN = init_NN(L)\n",
    "#NN = init_NN_glorot(L, uniform=True)\n",
    "#NN = init_NN_he_ReLU(L, uniform=True)\n",
    "\n",
    "ACT_F = [ReLU, Linear]\n",
    "#ACT_F = [Tanh, Linear]\n",
    "\n",
    "# Recommended hyper-parameters for 1-D: \n",
    "# L  = [1, 8, 1]\n",
    "# EPOCHS = 10000\n",
    "# BATCH_SIZE = 128 \n",
    "# LEARN_R = 2.5e-1 for Tanh and LEARN_R = 1e-1 for ReLU\n",
    "\n",
    "# Recommended hyper-parameters for 3-D: \n",
    "# L  = [3, 16, 1] \n",
    "# EPOCHS = 10000\n",
    "# BATCH_SIZE = 128 \n",
    "# LEARN_R = 5e-2 for ReLU and LEARN_R = 1e-1 for Tanh\n",
    "\n",
    "### Notice that, when we switch from tanh to relu activation, we decrease the learning rate. This is due the stability of the gradients \n",
    "## of the activation functions."
   ]
  },
  {
   "cell_type": "code",
   "execution_count": 34,
   "metadata": {},
   "outputs": [],
   "source": [
    "# Initialize training hyperparameters\n",
    "EPOCHS = 20000\n",
    "BATCH_SIZE = 128 \n",
    "LEARN_R = 1e-2 "
   ]
  },
  {
   "cell_type": "code",
   "execution_count": 35,
   "metadata": {
    "scrolled": true
   },
   "outputs": [
    {
     "name": "stdout",
     "output_type": "stream",
     "text": [
      "   0 ( 0.00%) Train loss: 6.360 \t Validation loss: 5.110\n",
      " 500 ( 2.50%) Train loss: 0.074 \t Validation loss: 0.059\n",
      "1000 ( 5.00%) Train loss: 0.065 \t Validation loss: 0.052\n",
      "1500 ( 7.50%) Train loss: 0.060 \t Validation loss: 0.047\n",
      "2000 (10.00%) Train loss: 0.057 \t Validation loss: 0.045\n",
      "2500 (12.50%) Train loss: 0.056 \t Validation loss: 0.043\n",
      "3000 (15.00%) Train loss: 0.055 \t Validation loss: 0.042\n",
      "3500 (17.50%) Train loss: 0.054 \t Validation loss: 0.042\n",
      "4000 (20.00%) Train loss: 0.054 \t Validation loss: 0.041\n",
      "4500 (22.50%) Train loss: 0.053 \t Validation loss: 0.041\n",
      "5000 (25.00%) Train loss: 0.053 \t Validation loss: 0.041\n",
      "5500 (27.50%) Train loss: 0.053 \t Validation loss: 0.040\n",
      "6000 (30.00%) Train loss: 0.053 \t Validation loss: 0.040\n",
      "6500 (32.50%) Train loss: 0.053 \t Validation loss: 0.040\n",
      "7000 (35.00%) Train loss: 0.053 \t Validation loss: 0.041\n",
      "7500 (37.50%) Train loss: 0.052 \t Validation loss: 0.040\n",
      "8000 (40.00%) Train loss: 0.052 \t Validation loss: 0.040\n",
      "8500 (42.50%) Train loss: 0.052 \t Validation loss: 0.040\n",
      "9000 (45.00%) Train loss: 0.051 \t Validation loss: 0.040\n",
      "9500 (47.50%) Train loss: 0.051 \t Validation loss: 0.040\n",
      "10000 (50.00%) Train loss: 0.050 \t Validation loss: 0.040\n",
      "10500 (52.50%) Train loss: 0.049 \t Validation loss: 0.040\n",
      "11000 (55.00%) Train loss: 0.048 \t Validation loss: 0.039\n",
      "11500 (57.50%) Train loss: 0.048 \t Validation loss: 0.039\n",
      "12000 (60.00%) Train loss: 0.047 \t Validation loss: 0.039\n",
      "12500 (62.50%) Train loss: 0.046 \t Validation loss: 0.039\n",
      "13000 (65.00%) Train loss: 0.046 \t Validation loss: 0.039\n",
      "13500 (67.50%) Train loss: 0.046 \t Validation loss: 0.038\n",
      "14000 (70.00%) Train loss: 0.045 \t Validation loss: 0.039\n",
      "14500 (72.50%) Train loss: 0.045 \t Validation loss: 0.039\n",
      "15000 (75.00%) Train loss: 0.045 \t Validation loss: 0.038\n",
      "15500 (77.50%) Train loss: 0.044 \t Validation loss: 0.038\n",
      "16000 (80.00%) Train loss: 0.044 \t Validation loss: 0.038\n",
      "16500 (82.50%) Train loss: 0.044 \t Validation loss: 0.038\n",
      "17000 (85.00%) Train loss: 0.044 \t Validation loss: 0.039\n",
      "17500 (87.50%) Train loss: 0.044 \t Validation loss: 0.038\n",
      "18000 (90.00%) Train loss: 0.043 \t Validation loss: 0.039\n",
      "18500 (92.50%) Train loss: 0.043 \t Validation loss: 0.038\n",
      "19000 (95.00%) Train loss: 0.043 \t Validation loss: 0.038\n",
      "19500 (97.50%) Train loss: 0.043 \t Validation loss: 0.039\n"
     ]
    }
   ],
   "source": [
    "train_loss = []\n",
    "val_loss = []\n",
    "\n",
    "for e in range(EPOCHS):\n",
    "    # Mini-batch indexes\n",
    "    idx = np.random.choice(x_train.shape[0], size=BATCH_SIZE)\n",
    "    # Forward pass\n",
    "    aff, units = forward_pass(x_train[idx,:], NN, ACT_F)\n",
    "    # Backward pass\n",
    "    g_b, g_w = backward_pass(x_train[idx,:], y_train[idx], units[-1], units, aff, NN, ACT_F, squared_error)\n",
    "    \n",
    "    # Stochastic gradient descent\n",
    "    for l in range(len(g_b)):\n",
    "        NN[0][l] -= LEARN_R*g_w[l]\n",
    "        NN[1][l] -= LEARN_R*g_b[l]\n",
    "        \n",
    "    # Training loss\n",
    "    _, units = forward_pass(x_train, NN, ACT_F)\n",
    "    # Estimate loss function\n",
    "    #print(np.max(squared_error(y_train, units[-1])))\n",
    "    train_loss.append(np.mean(squared_error(y_train, np.squeeze(units[-1]))))\n",
    "    \n",
    "    # Validation\n",
    "    # Forward pass\n",
    "    _, units = forward_pass(x_validation, NN, ACT_F)\n",
    "    # Estimate validation loss function\n",
    "    val_loss.append(np.mean(squared_error(y_validation, np.squeeze(units[-1]))))\n",
    "    \n",
    "    if e%500==0:\n",
    "        print(\"{:4d}\".format(e),\n",
    "              \"({:5.2f}%)\".format(e/EPOCHS*100), \n",
    "              \"Train loss: {:4.3f} \\t Validation loss: {:4.3f}\".format(train_loss[-1], val_loss[-1]))\n",
    "        \n"
   ]
  },
  {
   "cell_type": "code",
   "execution_count": 36,
   "metadata": {},
   "outputs": [
    {
     "data": {
      "image/png": "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\n",
      "text/plain": [
       "<Figure size 432x288 with 1 Axes>"
      ]
     },
     "metadata": {
      "needs_background": "light"
     },
     "output_type": "display_data"
    }
   ],
   "source": [
    "plt.plot(range(len(train_loss)), train_loss);\n",
    "plt.plot(range(len(val_loss)), val_loss);"
   ]
  },
  {
   "cell_type": "markdown",
   "metadata": {},
   "source": [
    "# Testing\n",
    "\n",
    "We have kept the calculation of the test error separate in order to emphasize that you should not use the test set in optimization."
   ]
  },
  {
   "cell_type": "code",
   "execution_count": 37,
   "metadata": {},
   "outputs": [],
   "source": [
    "_, units = forward_pass(x_test, NN, ACT_F)"
   ]
  },
  {
   "cell_type": "code",
   "execution_count": 38,
   "metadata": {},
   "outputs": [
    {
     "name": "stdout",
     "output_type": "stream",
     "text": [
      "Test loss:  0.049\n"
     ]
    },
    {
     "data": {
      "image/png": "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\n",
      "text/plain": [
       "<Figure size 432x288 with 1 Axes>"
      ]
     },
     "metadata": {
      "needs_background": "light"
     },
     "output_type": "display_data"
    }
   ],
   "source": [
    "plt.scatter(y_test, units[-1]);\n",
    "plt.plot([np.min(y_test), np.max(y_test)], [np.min(y_test), np.max(y_test)], color='k');\n",
    "plt.xlabel(\"y\");\n",
    "plt.ylabel(\"$\\hat{y}$\");\n",
    "plt.title(\"Model prediction vs real in the test set, the close to the line the better\")\n",
    "plt.grid(True);\n",
    "plt.axis('equal');\n",
    "plt.tight_layout();\n",
    "\n",
    "print(\"Test loss:  {:4.3f}\".format(np.mean(squared_error(y_test, np.squeeze(units[-1])))))"
   ]
  },
  {
   "cell_type": "code",
   "execution_count": 39,
   "metadata": {},
   "outputs": [
    {
     "data": {
      "image/png": "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\n",
      "text/plain": [
       "<Figure size 432x288 with 1 Axes>"
      ]
     },
     "metadata": {
      "needs_background": "light"
     },
     "output_type": "display_data"
    }
   ],
   "source": [
    "if D1:\n",
    "    plt.scatter(x_train[:,0], y_train, label=\"train data\");\n",
    "    plt.scatter(x_test[:,0], units[-1], label=\"test prediction\");\n",
    "    plt.scatter(x_test[:,0], y_test, label=\"test data\");\n",
    "    plt.legend();\n",
    "    plt.xlabel(\"x\");\n",
    "    plt.ylabel(\"y\");\n",
    "else:\n",
    "    plt.scatter(x_train[:,1], y_train, label=\"train data\");\n",
    "    plt.scatter(x_test[:,1], units[-1], label=\"test data prediction\");\n",
    "    plt.scatter(x_test[:,1], y_test, label=\"test data\");\n",
    "    plt.legend();\n",
    "    plt.xlabel(\"x\");\n",
    "    plt.ylabel(\"y\");"
   ]
  },
  {
   "cell_type": "markdown",
   "metadata": {},
   "source": [
    "## Exercise g) Show overfitting, underfitting and just right fitting\n",
    "\n",
    "Vary the architecture and other things to show clear signs of overfitting (=training loss significantly lower than test loss) and underfitting (=not fitting enoung to training data so that test performance is also hurt).\n",
    "\n",
    "See also if you can get a good compromise which leads to a low validation loss. \n",
    "\n",
    "For this problem do you see any big difference between validation and test loss? The answer here will probably be no. Discuss cases where it is important to keep the two separate.\n",
    "\n",
    "### \n"
   ]
  },
  {
   "cell_type": "markdown",
   "metadata": {},
   "source": [
    "### Underfitting"
   ]
  },
  {
   "cell_type": "code",
   "execution_count": 55,
   "metadata": {},
   "outputs": [
    {
     "name": "stdout",
     "output_type": "stream",
     "text": [
      "   0 ( 0.00%) Train loss: 0.571 \t Validation loss: 0.499\n",
      "1000 ( 5.00%) Train loss: 0.035 \t Validation loss: 0.034\n",
      "2000 (10.00%) Train loss: 0.032 \t Validation loss: 0.031\n",
      "3000 (15.00%) Train loss: 0.031 \t Validation loss: 0.030\n",
      "4000 (20.00%) Train loss: 0.030 \t Validation loss: 0.030\n",
      "5000 (25.00%) Train loss: 0.031 \t Validation loss: 0.032\n",
      "6000 (30.00%) Train loss: 0.028 \t Validation loss: 0.028\n",
      "7000 (35.00%) Train loss: 0.028 \t Validation loss: 0.028\n",
      "8000 (40.00%) Train loss: 0.027 \t Validation loss: 0.028\n",
      "9000 (45.00%) Train loss: 0.027 \t Validation loss: 0.027\n",
      "10000 (50.00%) Train loss: 0.028 \t Validation loss: 0.028\n",
      "11000 (55.00%) Train loss: 0.027 \t Validation loss: 0.028\n",
      "12000 (60.00%) Train loss: 0.027 \t Validation loss: 0.028\n",
      "13000 (65.00%) Train loss: 0.027 \t Validation loss: 0.028\n",
      "14000 (70.00%) Train loss: 0.027 \t Validation loss: 0.027\n",
      "15000 (75.00%) Train loss: 0.027 \t Validation loss: 0.027\n",
      "16000 (80.00%) Train loss: 0.027 \t Validation loss: 0.027\n",
      "17000 (85.00%) Train loss: 0.027 \t Validation loss: 0.029\n",
      "18000 (90.00%) Train loss: 0.027 \t Validation loss: 0.027\n",
      "19000 (95.00%) Train loss: 0.030 \t Validation loss: 0.028\n"
     ]
    },
    {
     "data": {
      "image/png": "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\n",
      "text/plain": [
       "<Figure size 432x288 with 1 Axes>"
      ]
     },
     "metadata": {
      "needs_background": "light"
     },
     "output_type": "display_data"
    },
    {
     "name": "stdout",
     "output_type": "stream",
     "text": [
      "Test loss:  0.033\n"
     ]
    },
    {
     "data": {
      "image/png": "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\n",
      "text/plain": [
       "<Figure size 432x288 with 1 Axes>"
      ]
     },
     "metadata": {
      "needs_background": "light"
     },
     "output_type": "display_data"
    },
    {
     "data": {
      "image/png": "iVBORw0KGgoAAAANSUhEUgAAAYoAAAEGCAYAAAB7DNKzAAAABHNCSVQICAgIfAhkiAAAAAlwSFlzAAALEgAACxIB0t1+/AAAADh0RVh0U29mdHdhcmUAbWF0cGxvdGxpYiB2ZXJzaW9uMy4xLjIsIGh0dHA6Ly9tYXRwbG90bGliLm9yZy8li6FKAAAgAElEQVR4nO2deXxU9bn/388kA1mQBAg2IcECrUtvJRJEXKDWFdQoIEW0q3bj2tZrrL8iYK8YqVYq96UNrbblem3V2ioXEdHYgohKwXqVrYhbQdSSBQlLgmSBmcz398csmeWcWZJMZpI879crr8yc851zvnMI5znfZ/k8YoxBURRFUexwpHoCiqIoSnqjhkJRFEWJihoKRVEUJSpqKBRFUZSoqKFQFEVRopKZ6gkkg4KCAjNq1KhUT0NRFKXXsGXLlgPGmOFW+/qkoRg1ahSbN29O9TQURVF6DSLysd0+dT0piqIoUVFDoSiKokRFDYWiKIoSlT4Zo7DC5XJRU1NDW1tbqqeixCArK4uSkhKcTmeqp6IoCik0FCIyEngMKAQ8wDJjTFXYGAGqgCuAFuAGY8zWzpyvpqaGE044gVGjRuE9rJKOGGM4ePAgNTU1jB49OtXTURSF1Lqe3MD/M8Z8ATgH+JGI/FvYmMuBk30/c4DfdPZkbW1tDBs2TI1EmiMiDBs2TFd+ipJGpGxFYYypB+p9rz8VkXeBYuCdoGHTgceMV+L2dRHJF5Ei32cTRo1E70D/nZT+yqpttSxZ8z51ja2MyM9m7tRTmVFWnOpppUcwW0RGAWXA/4XtKgb2Br2v8W2zOsYcEdksIpsbGhqSMU1FUZSksWpbLQtWvkVtYysGqG1sZcHKt1i1rTbVU0u9oRCRQcDTwC3GmCPhuy0+YtlAwxizzBgzwRgzYfhwy+LClNLY2MhDDz3Uqc9eccUVNDY2dvrcgwYNirq/K3NTFKV7WLLmfVpd7SHbWl3tLFnzfopm1EFKDYWIOPEaiSeMMSsthtQAI4PelwB1PTG37ibazbi9vd1yu58XXniB/Pz8ZEwLUEOhKOlAXWNrQtt7klRmPQnwP8C7xpj7bYatBm4SkSeBs4GmzsYnEqW7fYXz58/ngw8+YNy4cVx66aWUl5dz1113UVRUxPbt23nnnXeYMWMGe/fupa2tjYqKCubMmQN0SJIcPXqUyy+/nMmTJ/Paa69RXFzMs88+S3Z2dsi5PvzwQ772ta/hdru57LLLAtuPHj3K9OnTOXz4MC6Xi7vvvpvp06dHzO3OO++0HKcoStcIvq8UFL7NwBPXcMTVQGFuIQWFl9Cw74sRnxmRn235+Z6MYUiqWqGKyGTgb8BbeNNjAW4HTgIwxvzWZ0x+DVyGNz3228aYmCJOEyZMMOFaT++++y5f+MIX4pqb31cYvAzMdmZw78yxnf5H+eijj7jyyivZuXMnAK+88grl5eXs3LkzkAZ66NAhhg4dSmtrK2eddRavvvoqw4YNCzEUn//859m8eTPjxo1j9uzZTJs2jW984xsh55o2bRqzZs3iW9/6Fg8++CDz5s3j6NGjuN1uWlpaGDx4MAcOHOCcc85h165dfPzxxyFzsxvXk0HmRP69FKU3EHxfyRy8jayilYjDFdjvlIG01c+k5fAZgW3B951k3JeCEZEtxpgJVvtSmfW0EesYRPAYA/yoZ2bUQTRfYXda74kTJ4bUCixdupRnnnkGgL1797Jr1y6GDRsW8pnRo0czbtw4AM4880w++uijiONu2rSJp59+GoBvfvObzJs3D/DWKNx+++1s2LABh8NBbW0tn3zyScTn7cYVFhZ2y/dWlP5I8H1l4PA1IUYCwGWOMXTkSwwx51iuGHrqvmRFv6nMToSe8hXm5uYGXr/yyiusW7eOv//97+Tk5HDBBRdY1hIMHDgw8DojI4PWVus5WT39P/HEEzQ0NLBlyxacTiejRo2yPEe84xRFiZ/g+4c4rZNTjrga2DH/opifj2d7d5LyrKd0JNgnGM/2eDjhhBP49NNPbfc3NTUxZMgQcnJyeO+993j99dc7fa5Jkybx5JNPAt6bfvA5TjzxRJxOJy+//DIff/yx5dzsxilKf6N6TzVTVkyh9NFSpqyYQvWe6k4fK/j+YVzWySmFufar9mTcl+JFDYUFc6eeSrYzI2RbtjODuVNP7fQxhw0bxqRJkzj99NOZO3duxP7LLrsMt9tNaWkpd9xxB+ecc06nz1VVVcWDDz7IWWedRVNTU2D717/+dTZv3syECRN44oknOO200yznZjdOUfoT1XuqqXytkvrmegyG+uZ6Kl+rjDAW8RqT4PvKsYapGE+olllWRhYV4yts5yIn3cOg0+aT+7nFZA7eBnh99xeelvxygJQFs5NJV4PZkL4Vkv0FDWYrqWbKiinUN0cmWRblFrF21loA7lr/OCs+fgCC4g1ZGVlUnldJ+ZjyiM9Gy3qqGF9h+Rm/wWpr73D/Go+TtvqZuI+UdVtAOy2D2enOjLJiNQyK0o/Z17wv6vZV22r53z3LEGdoULqtvY2qrVWWN33/fcVrMLKp3fFFRuRn88Opp1I+xvp+U7W1KsRIAIjDxagT/8SLx5YA0PTsCZBxP5TOTvh7xoO6nhRFUSywixf4ty9Z8z5kWgel7YwMJC7VYXes/ZkOREAE8vkUnv0R7Fge5Rt1HjUUiqIoFlSMryArIytkW3Acoa6xtVNB6USlOmwNljtM0aH9OLy0yPa8XUENhaIoigXlY8qpPK+SotwiBKEotygk9jAiP9syKI3HaRuUhsTTXCsKzibL4wnZluXxUHHYYjXTVBPlG3UejVEoiqLYUD6m3DLWAN4spgUrj9NW7yugczaCO59rxsyx/Qx4DUythVGwS3Mt3/YMuA9RNSSffZkZFLrbqTjcSHlzS+TgvJL4vliCqKFQFEXpBB0V0wOo+6As7uxIr4GJlOKwTb9vqqEcE2EYqnNzQo1H01HKL17YtS9lg7qeeoiuKrT+8pe/pKXF4gkiCVxwwQX404tjSZyvWrWKd97p6DW1cOFC1q1bl/Q5KkoqWbWtlkmL1/Pjp7YD8MC149g0/6K4MiVnlBVz78yxFOdnI8DwwrcZ9oUlLNxxuXUdhsUqoTo3h8qCodQ7MzEi1DszqRw+nOpBuRFjuwM1FD1Eqg2F2+3u1OdiSZyHG4pFixZxySWXdOpcitIb6I4GQzPKitk0/yJ+PQcY+iRNrv0dRX0b7wg1FhcvhIwBIZ+vGpJPmyP09t1mXFRtrerCN7NHDYUdO5bDA6dDZb73dxfTzoKlvP2V2UuWLOGss86itLSUO++8E4Dm5mbKy8s544wzOP3003nqqadYunQpdXV1XHjhhVx44YURxx41ahTz5s1j4sSJTJw4kd27dwNwww03cOutt3LhhRcyb948mpub+c53vsNZZ51FWVkZzz77LACtra1cd911lJaWcu2114boR40aNYoDBw4A8Nhjj1FaWsoZZ5zBN7/5TV577TVWr17N3LlzGTduHB988AE33HADK1asAOCll16irKyMsWPH8p3vfIdjx44FjnnnnXcyfvx4xo4dy3vvvdela6soPUm3NRjasZyql2+jzYTVYRgXVa/f27GhdDZMfxCyhwY27csMVY4IbI+SltsVNEZhxY7l8NzN4PLdMJv2et9DpwtaFi9ezM6dO9m+3btUXbt2Lbt27eKNN97AGMO0adPYsGEDDQ0NjBgxgupq7xNFU1MTeXl53H///bz88ssUFBRYHn/w4MG88cYbPPbYY9xyyy08//zzAPzzn/9k3bp1ZGRkcPvtt3PRRRfxyCOP0NjYyMSJE7nkkkv43e9+R05ODjt27GDHjh2MHz8+4vhvv/0299xzD5s2baKgoCAgiT5t2jSuvPJKZs2aFTK+ra2NG264gZdeeolTTjmFb33rW/zmN7/hlltuAaCgoICtW7fy0EMP8V//9V88/PDDnbquitLT2GUn1Ta2Mnp+dXyxCt89Zl+x9f/nfcfD3L2ls0PuPYU2VePR0nK7gq4orHhpUYeR8ONq7dYc5bVr17J27VrKysoYP3487733Hrt27WLs2LGsW7eOefPm8be//Y28vLy4jvfVr3418Pvvf/97YPs111xDRkZG4JyLFy9m3LhxAXXaf/3rX2zYsCHQ06K0tJTS0tKI469fv55Zs2YFDNXQoUMjxgTz/vvvM3r0aE455RQArr/+ejZs2BDYP3PmTMBeKl1R0pVoInxRXVHBXopnbgRXa2QthA+77X5i1Xh0N6luhfqIiOwXkZ02+y8QkSYR2e77SU5IPxy7XORuzFE2xrBgwQK2b9/O9u3b2b17N9/97nc55ZRT2LJlC2PHjmXBggUsWhSfcQqWFQ9+HSxlbozh6aefDpzzX//6V0BPKVZTImNMQo2LYmmI+eXSMzIyOh0/UZRUYCUaGk6rq53K1W93bPB7KZr2AgaM1xBUHG60rpE4Fv34AAMzOloO5A/Mt9WX6g5SvaL4A97uddH4mzFmnO8nOWWH4djlInchRzlcynvq1Kk88sgjHD16FIDa2lr2799PXV0dOTk5fOMb3+AnP/kJW7dutfx8OE899VTg97nnnms5ZurUqfzqV78K3MS3bfMqUJ5//vkBOfKdO3eyY8eOiM9efPHFLF++nIMHDwLebnzR5nXaaafx0UcfBeIljz/+OF/+8pdt568ovYXwrCU7GltdjLtrLaPnV7Nv5e2RXgqgvLmFygOHKHK5EWMocrmpPHyU8i/ZPxP7RQKbjncoQ7e5k9svJqUxCmPMBhEZlco5WHLxwtAYBYAz27u9kwRLeV9++eUsWbKEd999N3BTHzRoEH/84x/ZvXs3c+fOxeFw4HQ6+c1vfgPAnDlzuPzyyykqKuLll1+OOP6xY8c4++yz8Xg8/PnPf7acwx133MEtt9xCaWkpxhhGjRrF888/zw9+8AO+/e1vU1payrhx45g4cWLEZ7/4xS/y05/+lC9/+ctkZGRQVlbGH/7wB6677jq+//3vs3Tp0kAQGyArK4vf//73XHPNNbjdbs466yxuvPHGTl8/RUkngkVDJy1eb1lAB15jAXCiabDt51ne3NJRI5E9FC5fEjUWaiUSGE2IsDtIucy4z1A8b4w53WLfBcDTQA1QB/zEGPN2+Djf2DnAHICTTjrpzPBmOwnLVu9Y7o1JNNV4VxIXL0yaMmNX8ffUtgt090ZUZlxJd/yS4XZGIpiNA26mxHEgcodkgPEkdI8pfbQUg8V928DPzvhrp1Wve7PM+Fbgs8aYoyJyBbAKONlqoDFmGbAMvP0ounzmsCwDRVEUP/5ailZXO9McG7ktczkj5AB1poD73LNZ7ZkcMv4+92wWOx8mR453bHRmw1VLE77PFOYWWmY8eVz5LFj5FkC3t0hIdYwiKsaYI8aYo77XLwBOEek7j83dxEcffdSnVhOKku74aymmOTay2PkwJY4DOARKHAdY7HyYaY6NIeNXeyZzQ9ZlXFxSQumokUw5aSTVk77fqYdRq4wn43FyrGFq5+o54iCtDYWIFIov1UZEJuKd78HUzkpRlP6Ov5bitszloasEIEeOM3/AcpyOjqBE5uBtvFP4NvudDq/kRoZQWfPXTvXg9qvaeo7nYwx4jucHut0Fz607SanrSUT+DFwAFIhIDXAn4AQwxvwWmAX8QETcQCtwnUl1UEVRlH6PXwF2hFjEHYARHGTJNWcE2p7mfGYtxhF/J7xYlI8p5+fLE1Oh7Qqpznr6aoz9vwZ+3UPTURRFicmqbbU0H/PW/tSZAkqsjEVeSUhmVOmjCyyP1RXJjYRVaLtAWrueFEVR0gl/ENuf9nqfezYtJlSwzyqVPlZb1c4QXs9RnJ/NvTPHdnsgG9RQ9Bg9pR77yiuvcOWVV0Yds337dl544YVOz0VR+ht+WfFbntoe8gS/2jOZ+a7vsY/hgEDeSMtMpkQkN/znGj2/mkmL10dVpfWr0H64uDxumfPOoIaih0i1zHgwaigUJX78q4gzj7zIxgE3s2fg19g44OZAZtNqz2TObauCykb48U7LTKZYbVXDz9UVCfNkkO51FCmjek81VVur2Ne8j8LcQirGV3Sp6jFYZvzSSy9lyZIlLFmyhOXLl3Ps2DGuvvpq7rrrLpqbm5k9ezY1NTW0t7dzxx138MknnwRkxgsKCiIqs//6179yyy23UFBQEKL8+sYbb3DLLbfQ2tpKdnY2v//97xk9ejQLFy6ktbWVjRs3smDBAkaPHh0x7tRTu9/PqSi9kSVr3ufS9ldD6iBKxJsGi8trKPwB5FXbarnrubc53OJ1TeVnO6mc9kVmlBVHbasafC47CfNkrRbiQQ2FBX4tFX+ZfH1zPZWvVQJ02lgkS2a8ra2N73//+6xfv57Pf/7zXHvttYF9p512Ghs2bCAzM5N169Zx++238/TTT7No0SI2b97Mr3/tzRM4cuSI5ThFUbzppk8NsE6DvS1zOS+aLzN36qms2lbL3BX/wNXekZjZ2Opi7v/+A4ivCM4utTUZKa+JoIbCgp7QUgmWGQc4evQou3bt4ktf+hI/+clPmDdvHldeeSVf+tKXoh7nvffeY/To0Zx8srdg/Rvf+AbLli0DvEbm+uuvZ9euXYgILpfL8hjxjlOU/siI/GxGtNqkwToOcu90bwB50uL1IUbCj8tj4l4R+NNurbanEo1RWGCXstad3aO6U2bcTv77jjvu4MILL2Tnzp0899xztLVZK0zGO05R+iMXnjacOmOtfODwpcFC9Kf+eFcEVhLmyUp5TQQ1FBYkI5UtWTLjp512Gh9++CEffPABQIhybFNTE8XF3j/iP/zhD7ZzsRunKP2dN1f/jh9sm0GxHMATvlgIS4ON9tQf74qgJ1NeE0ENhQXJ6B4VLDM+d+5cpkyZwte+9jXOPfdcxo4dy6xZs/j000956623mDhxIuPGjeOee+7hP//zP4EOmfHwntlZWVksW7aM8vJyJk+ezGc/+9nAvttuu40FCxYwadIk2ts7AmQXXngh77zzDuPGjeOpp56yHaco/Zodyzl96x0UywFE4C+DcphSMoLSUSO5uKQkQqtp7tRTcWZEru6dDkloRdBTKa+JkHKZ8WQwYcIEs3nz5pBticpWd3fWk5IYKjOupJwHTvd1pIPq3BwqC4bS5uh4ts7KyIpIcY2W9ZTu9GaZ8ZQRTyqboih9C3+PibrGVj7Iqgm4XKqG5IcYCbBOcAmW7ehLqOtJURSFyGK3Os+wwL59mdY9rLszwSWd6VeGoi+62foi+u+kpILwYrdgHadCt3XsrisJLolSvaeaKSumUPpoKVNWTOmURHln6TeGIisri4MHD+pNKM0xxnDw4EGysrJiD1aUbiQ8hdWv41TjKaDicBNZYfeOria4JIK/CLi+uR6DCRQB95Sx6DcxipKSEmpqamhoaEj1VJQYZGVlUVJSkuppKP0Mq2K31Z7JbMm5lE1zL4IUJrj0RBFwNPqNoXA6nYwePTrV01AUJc3wB7BrG1sRIHjdEFzslsoEl54oAo5GSl1PIvKIiOwXkZ02+0VElorIbhHZISLjrcYpiqJ0hrvWP85/brmOpsIKcj+3mIzB2/BXQqRLsRskpwg4EVIdo/gDcFmU/ZcDJ/t+5gC/6YE5KYrSC+hqcLd6TzUrPn4AcTYiAo4BjWQVrSRj8DaK87PTptgNklMEnAipboW6QURGRRkyHXjM1yf7dRHJF5EiY0x9j0xQUZS0pDsUnqu2VkFYH2txuBg4fA11H5R163y7iv87pSpGku4ximJgb9D7Gt+2CEMhInPwrjo46aSTemRyiqL0HMHFcCec/AtMZueCu/7jNBXWY6WnKc7GlKu1WpHKGEmqXU+xsJJFtcxvNcYsM8ZMMMZMGD58eJKnpShKTxJeDOfJOGw5LlZwN/g4WW5rY5Dtzk65Wmu6ke6GogYYGfS+BKhL0VwURUkR4cVwxpVvOS5WcDf4ODcfaiTL4wnZn+XxsKD507SJTaQL6e56Wg3cJCJPAmcDTRqfUJToBLtoRuR7n457043Pav7hxXDHGqaSVbQSCYoxxBPc9R9nYt6T/HFoBm0iOIzBAxS526k43Eh5c2q7yaUjKTUUIvJn4AKgQERqgDsBJ4Ax5rfAC8AVwG6gBfh2amaqKL0Dv2vF/9Rc29jKgpVvAfG14kw1dvPPz3EGFFkB3EfKaANyPrMWMhvjDu6OyM+m2PyeDwu30ubw3v48eFcSXiPRAnkjox6jP5LqrKevxthvgB/10HQUpdcT7qIBaHW1x92KM9XYzX9gpoNsZ0bIPmfrBBaN/3ZC32vKxFpW/msbHglTgnU4qBqST/lxE9KMSPGS7jEKRVESwK7lZrytOINJhQid3TybWl1d7vxWvaea52sewGPTOnhfZgZctTSkGZHiJd1jFIqiJICVXpF/eyJ0R51CZ7Cbf36Os8u9Hqpev5c247LdX+hBjYQNuqJQlD7E3Kmnku0M7Z0QrFcUL9FE6LqTVdtqmbR4PaPnVzNp8XouPG24ZTvRo21uVm2r7dIqZ9/xRtt9WR5DxZirO/Ud+gO6olCUPoT/iburWU89IUJnFbh+ekstmQ7B1R5aLuXyGO559Qko+N9Or3IK3e3UOyNveQ5jqBx9NeUX/KyL36jvooZCUfoY3dGOszC3kPrmyEz07hShswtc29GS+xyOTkptr9pWyzcPtbN0uCO077XHQ2WLqJGIgbqeFKUPY+eqieXC6QkRukQD7A6ntesoeJVj972WrHmfNxu/woKGIxS53IgxFLnc3H7gU8q/pFlOsdAVhaL0Qar3VHPv/91L0/GmwDa/q2bb/m08u/vZqC6c7hShq7Zp+GMXuB6S46TN5QlZXWQ7M8gbcCJNrv0R4/2rnGgB+LpGqGUyNMIjR5czQg5SZ4axxP11rtYAdkykL7YGnTBhgtm8eXOqp6EocWN3M+3M2PAbZjgOceAxnojtRblFrJ21tnu+UJS5ZGVkUXleJa6mcSExCvAahHtnjgUi4yzOvO22xyofU86UFVMs3WVFuUU0755vaZT8cuIKiMgWY8wEq326olCUFJNIKmo8Y60yloKxMhKQnG5p0bKn/EbJLvAeGWcpDhzTykjaBuCP1vG6/JCFA77CiuPnBbZ3Jhusv6IrCkVJMdGehMOf8O3GelcJBnHn48k4bCmfHTq2Z1YUpY+WYiwEnwVhx/U7uvVcttfR5WZtTR3ujCzulht59OjEXqmBlWyirSg0mK0oKSaRVFS7sd4bv8FkWstv+8nKyOKaU67psW5pyWjhGV57sWpbLeALwIszZKxfwwkgs72Nytyn+XBxeVp1r+sNqOtJUVJMtFTU8HhE3sA8Go/ZF44BiIAxRKwq8gfmM3/ifMrHlFN2YlmPdEurGF9hGVforFGyqr348VPbWf+/v2bRgMe5M7edpUPy2ZeZQWFADbal4wBNNV36Pv0VdT0pSoqxC/hO//z0kOwkgEzJRERweeylKMBrKIwr39utbVBRUgxBvAH4RAL1sZi0eH0gKD3NsZHbMpdTLAcwgCOKuy1A3kj48c5Onbuvo8FsRUlj7FJRrQLBbuMmz5lHjjOHfc37EBHLeINx5dP8wXyK87NZGyOrpzM3crug+uaPDrH2jeKw4HT8LTxj9dKYcORFnhqwnBFyAOgwDvHYCJzZqgzbSXRFoShpSjyBYKvViPE4aaufibN1QkyF1Wjpq9Fu7naBY+PK5+ju+YH3/nTXeOIB4W4l/+cfO+tjzvrgV9C0Fw+dDKzmjfQaCa2ZsCVtVxQichlQBWQADxtjFoftvwB4FvjQt2mlMWZRj05SUVJEPDIawauR+uZ9iDuftk+m8BnHecydaZ3VE/zUfsLJv8BkJi6LYZtKmxkaP0mkF4aVpMel7a9y+tb/AY4B9kaiOjeHKqvYhDNbpcO7gZQZChHJAB4ELsXbG/tNEVltjHknbOjfjDFX9vgEFSXFxBsILh+TmGsn+Kndk3HY0m0Tq6bCzohZ9bKOV6rDatxtmcvJ9hkJO6pzc6gsGBrQcKp3ZlJZMBQGDKL8wnvUSHQDqUyPnQjsNsbsMcYcB54EpqdwPoqSUsJ1igAqz6ukKLcIQchznggHruGmZYSkhcYiOJ30/y3/R8hTu9WNHWKnr1aMrwBPaCqq8Tg51jA1YmzMXhg7lsMDp/NB1tfZOOBmpjk2dnzWF4uIRtWQ/BChP/B1rCserUaim0iloSgG9ga9r8FfehnKuSLyDxH5i4h80e5gIjJHRDaLyOaGhobunquiJBV/rKC+uR6DCam4XjtrLYtK/8LBd+fSsO+LGDp6SUcYC99Nl8o8uGsopjKPs1adz5lHXsQA7WExyWMNUzFhN/x40lfLx5TTVj8Tz/F8jAHP8Xza6mfiPlIWMs7pEFqOuyNqHkLm+9zN0LQXB4YSxwEWOx8OGIs6UxDjyom3M50Fyag076+kLJgtItcAU40x3/O9/yYw0RjzH0FjBgMeY8xREbkCqDLGnBzr2BrMVnobsaqzg9NCgynOz2bTFQfgpUXQtBdv/k/k/2ljwIMgGOpMAfe5Z7PaMxmAzMHbyPnMWshsTCh91W5OGSJ4jCEv20nzcTeXm79xW6Y3U8mDgwzxIP7gcmDeodR4CvjS8aVc5djIYufD5MjxoL2+7+g7xpR/Phx3ZbtiT7oGs2uAkUHvS4C64AHGmCNBr18QkYdEpMAYE3s9qii9iFjV2fs9r5H7uTWIsxHjyudYw1SuONrMnS2PYVYeDcQZqnOzLYO6IpDhMyAlcoD/ci7jTvMYQ+Qo9ccKqBt+G2dN+/eE5jx36qkRWUoCfPXskdw9YyyTFq/n/GMvh9zoHfhSeZv2elcSLuv4xQjHQQx4jZkLn6E5yH4poHDmz0NcShWDcru1qE+JJJWG4k3gZBEZDdQC1wFfCx4gIoXAJ8YYIyIT8brKDvb4TBUliVTvqUZEsFrd+6uzs4pWgsNbZCcDGhlS9GemNBxiWEtH1bFtUBdCq5OBAeJmmBwFoJgDFG+9Dbbe5t2ZPRQu/0VM//6MsmI2f3yIJ17/V2ANY4Cnt9Qy4bNDqWts5akBy8NWA0G4WkEywEQ2K6rzDAu8Xu2ZzOrj3tWPAB+Whq52ugEIO18AACAASURBVFMSXbEmpXUUPnfSL/Gmxz5ijLlHRG4EMMb8VkRuAn4AuIFW4FZjzGuxjquuJ6W3EE0S3F/P4E19tRe78zOlZIRlq8/wcXHhyICMLHA1e9/bGI9oLrHmY262eq6JXTHtzA5dWTizqTT/zh+OTrQcXqyCfkkhbUUBjTEvGGNOMcZ8zhhzj2/bb40xv/W9/rUx5ovGmDOMMefEYyQUpTdhJwnuEEeg6M3WLRUWxLUN6mZmUJ2bw5SSEZSOGsmUkhFU5+ZEn5invcNIALQeglU/9Aafwfv7F6PZ2Ho1Hw78GlsGzAnJVqptbKX5uDt2MDpvpLfOIW8kIIH348rnkO20/j62gfwwYnXxU+JHJTwUJclEk8iwMwLGmMAY28I7d3vEe6sVxeB2T0yXlG3BWjAelzf4DPDsj6D9eEB4cJgcZYnzd+DyuooyRHC1G+4zsy2C0T78khqlsyNWKjN8v5esed9yxRKrkC+RHh9KbFRmXFGSiF3aa/Weau8TsTt2HUNFwdlkeUJdxFkeD+e3tISsEr7U0sLA8HHiRBwO6zqDId5z+2Mb9c5MjEjAkFitOjyNNexbeTu0R974B0q7t0DOmRFIw13tmcx81/eo8RTwXE7QquakkVRP+n7UOMiMsmI2zb/IVscpWiFftIZJSuKooVCUJGJ3w7r39ftZsPItWj6ZEr2OYcdyyl99kMoDBylyuRFjKHK5mf7pUZ49YVDIzf3pE4ZwRsFVgQK9otwiKif/jCaH9X/zfZkZeEyUgrUhFlXWZhgnGvs6pRGOg9w7cyzFQUV2qz2TuSDr2ywYXtQx3wyhsuavcbmD7Ar2ohXyJdLjQ4mNGgpFSSJ2N6am4/tpdbXjPlIWUrgm7iEdgnzP3wor54Bpp7y5hbU1dez4aC9ra+rYkJMTcXNvd7Sz99gW1s5ay47rd7B21lrKx5TbVlm3u4Yw5tifqM+09kCHxzyOmQzuc8+OGndw5JUwo6yYuVNPDYkxDBy+BnGESqPH+4QffiyI3cY0GQ2T+jNqKBQlidjdmDxB0hnuI2U0fzCfo+8t5tNd87xGYsdy2PwIVsVzECVwbWGYKsZXRHS0I0huw2Mj4yEQcGs9mTOUua5/Z7VnMve5Z3PcWBgXhzMg4z2jrDiwshDA4bRuthTPE374sYrzs2Mq0lp9Z62t6DxqKBQlidjdsHKar7IcH3CnvLSI6txs20ylwvbIHhRgbZjKx5SHaEYV5RYx67M/xtnqzYS0kvEA8IgE3Fp3Dx/CC4NyAa8r6SeuOTRyQsfg7KEw46GQmIM/xvDh4nKKBhXFPd9wqvdU89AH3+bTols4eUIVt89ujZkaa/WdY0mnK/Zo1pOiJJmszKxAnCJvQB4Lzl6Aq2mcZe8Fvzul2n3IPlOp5RgVn/sKlTV/jbsa2Uph9owhfrnxMrJzBjDwxDUccTVYNkMSh4uBw9cEtJxezPgyF02/Ke5ahmhKuNGywrqSvZSIqq4SHTUUipIkrIrpjrV7JbP9N1i7bm5Vw4bSFlap5g8wl0+9i/LS2bDnnMANdrBzOMf2T+WmZfDz/PVxFaTNKCsOGlMOeCuzSx8ttRzvcDYiYNl5LhZ21dNAVEMQLXtJjUDPoR3uFCVJxBL6i2DHcnhpEaaphjNGlWAkMjFUgB3XvxWyza4zXLyd5bo87y4Q61zxdPlTuoe0rcxWlL5MQima/gynpr0IJqKYzk9hbqSv36oznL8grTP0ZCA41jXS7KX0QA2F0iMEN89JpOlObybum9zzt8Lm/yE4w6nicCNZntA4QVZGFueXnB8hS2FXeBZvZ7lw4gkEd5c8Rqxr1Fmj1R//3pKJxiiUpBPuGvFr9QB9StgtPCh7fsn5PLv72egB50AabCh++YyqIfnUZWZiXPlMHzs15Hh+f35B4TU07Ivs6RWzs1wUogWCu1MeI1a7184ow/aXv7eeRGMUStKJ2nRn/kUpmFH3YxW4zsrIYvrnp7OhZoP9Te6B0y0b9/ip8RQw+fhSivOzyf38Ykt/fp7zRA6+O7fbYhSx6O4YRrSsp87QH/7ekkG6Ni5S+gnd7RpJR+yyc5a/vZZPd81jRH42P5x6KuVjwm7cTTW2x/QYuM89O5A2u3CHtT//iKuBe2eOtc2g6m7qu1keo7vTWPvD31tPo4ZCSToj8rMtn/C64hpJN+xukp6MwyE9rgGceds7nqBPKqHi4MEIpVYD/LH9ErYMvpR7fTf9hz6wUZHNLQxLdU0eq7bVYlx5iEWldSIB5lXbapNm2PrD31tPo8FsJel0Rqunt2F3kzRB8hitrnbuefUJKjfe0aEmmyEWSq2CTPgu37r7aTbNvyhwA00HWYola96nbb9FJbfHGfc8/DGE2sbWECPaXQHn/vD31tOk1FCIyGUi8r6I7BaR+Rb7RUSW+vbvEJHxqZin0jU6o9XT26gYXwFhN08TpKcU2DZoBW0mTBzP4aBq6FACjXtmLoMr7484RzrIUtQ1tkYIGXqO59NWPzPueXR3Om84/eHvradJmetJRDKAB4FLgRrgTRFZbYx5J2jY5cDJvp+zgd/4fiu9jJ5yjfQEdsHXW57cxoDhaxBnI8aVz7GGqQHJCz/HM1vAosPCvgyBSmvhvGBSLUvhd+u4j5SFfLfiBNw6PRFD6Et/b+lAKmMUE4Hdxpg9ACLyJDAdCDYU04HHjDc163URyReRImNMpKNWUZJEsGHIG5jH0eNHcRs3EJoaeqLjPGo/KLM9TrYzw7YLnV2BXboxd+qpUTWq4kFjCL2PVLqeioHgvMAa37ZExwAgInNEZLOIbG5osG+soiiJEN6hrvFYY8BI+PFrD1n5xv1rB7/7o+JYRmQhncfDjc30CrrDraMxhN5HzBWFiNwEPGGMOdzN57bqcBhe1BHPGO9GY5YBy8BbR9G1qSmKF6u0Vyv2Ne+zF/rL2AQvzYNnayB7CJ5WF7/KPyHQn/rGQ0d57ei3cGyr7RXukq66dWIJIirpRzyup0K88YOtwCPAGtM9VXo1wMig9yVAXSfGKErSiLc2wJ/1FHETff7W0AZErYeYSgaTPjXk00ydGcZ97m+w2nMef1/zfr+5WWoMoXcR0/VkjPlPvMHk/wFuAHaJyM9F5HNdPPebwMkiMlpEBgDXAavDxqwGvuXLfjoHaNL4hNKTxFMbYJuiatOlbgDttJgsxhx7gsnHl7LaMxnQgjAlfYkrRuFbQezz/biBIcAKEbmvsyc2xriBm4A1wLvAcmPM2yJyo4jc6Bv2ArAH2A38N/DDzp5P6d90ViTOqnbB6XCSNyAvdorqS4uwa2U6Qg5GbtNgrpKmxBOjuBm4HjgAPAzMNca4RMQB7MLf7aQTGGNewGsMgrf9Nui1AX7U2eMrCnRNJC5awx3/tqqtVSFjA0SR56gzw0LeazBXSWfiiVEUADONMR8HbzTGeETkyuRMS1G6jl8mwioV01/gFY+fPLh2YdW2WipXP0Fr3pOIw1s4Z6uemldiKfjn13AKRgvClHQmnhjFwnAjEbTv3e6fkqJ0nWCZCDsSjQn4j9mS+1zASPhpa29j/t/mh/ZmuHghOEPdSR4Dj7dfEohLgDfFVI2Eks6o1pPSJ7GSiQgn0ZiA/5hWgnh+6pvrqXz1NqofPN274aqlXlkOhJbsIm4zN3Gn+zuB8epyUnoDaiiUPkms1UJnbtD+YwYL/VnR5nBQNbAdnrvZu+HHO6GykZx57zH56h+qBpHS61CZcSUm3d1YpjPHT1SW2k4mArw3aKvPx5qH/5jHGqaSVbQywv0UzL7MDHC1ejOfSjviEVo/oPRGdEWhRCVcwsIfuO1sj+TOHL8zstR2MhG/vHZciHR3IvPwHzNYPdUm+7VDuylK5pOi9BbUUChRsevc5k8J7Ynjd0aWOlFNonjmEXzM9iNlXPPJRdzbcMBSu6nisC+OkVdiO0dF6S2o60mJip2ERfD2rnQri+f4nZWlTsTNE888Io75wDxoakGAqiH5Ae2misON3o51zmxv5pOi9HLUUChRKcy1b78JXStmi+f40DOy1HbzEBFKHy2NjFnsWB6okShvboloZYpkeDOeSmejKL0ddT0pUYnVfrOr3criae/ZE7LUVvMA8BhPZMzi+Vth5ZwoRxO4+rdqJJQ+g64olKjYSViUjyln1bZa28yieIvZoh3fT0/IUofPQ0TwmNDYQ1t7G1Wv30v5P3diG8VGYMJ31EgofQrpHsXw9GLChAlm8+bNqZ5Gnybc5RROcX42m+Zf1MOzio940nFLHy3FWBgDMYYdH0XKcgSY+d9qJJReiYhsMcZMsNqnrielU0SrfE52tXH1nmqmrJhC6aOloZIZcX42nnRfO3nxqC1L80aqkVD6JGoolE4RzbX0lTOTV1R21/rHmf/qHZ2u64g33dcydhKc9hqBaIaT0mfRGIXSKaJVPr/8XnJ6lq/aVsv/7lmGOCMF+e59/X5+vjw7Zgwj3jRYvytqyaZ7ONR+JDTtNQKNSyh9m5SsKERkqIi8KCK7fL+H2Iz7SETeEpHtIqJBhzQimmspWZ3alqx5HzKtn+gbj++Pq3Lb1qVksd3VNI4ndn/Cjo/2srbG24F3SskISkeNZErJCKpzc6geNIgpp5xO6cF1CbvBFKW3kCrX03zgJWPMycBLvvd2XGiMGWcXZFFSw4yyYobkOC33JatTW11jq60gX/h2uxRdu3TcSUO/GdEBb3v1MkZwAIDq3BwqC4ZS78zEiFDvzOSO4cP4z+EF1LuakiJvoijpQqoMxXTgUd/rR4EZKZqH0gXuvOqLSa9vCGZEfjbHGqZiPKEGynicHGuYGjHeamVTPqacyvMqKcotCrQyvXLEzTz58vCQFUnzMxUsdP0SEe/nqobk0+YI/e/iEsGNRQptN8mbKEq6kKoYxWeMMfUAxph6ETnRZpwB1oqIAX5njFlmd0ARmQPMATjppJO6e76KBcmsb7CSBZk79VQWrDxOWz0MHL4GcTZiXPkca5iK+0hZxDHsVjbBHesAJi1eT6urw6hMc2zkq/IiDun4zL7MUIMYDbs4iKL0VpJmKERkHWDlEP5pAoeZZIyp8xmSF0XkPWPMBquBPiOyDLx1FAlPWAkhXmnxbpHN3rHcK8fdVAN5Jbz5uf9gwZufjZAFuXfmWO6dOZZbnmq3NAzBJLKyCV55THNs5H7nb0OMBHjTYuud8f13sYuDKEpvJWmGwhhzid0+EflERIp8q4kiYL/NMep8v/eLyDPARMDSUCjdh7/WwJ9GatsT2uJzdhXctquOHcu9DX78T/RNezlz622844DaAQW85BnHxY7tjJAD7H92OIUzf86S/ALLjKsMETzGRF3ZWM3Fn8E1zbGRxc6HyRRPxOcqDjdSWTA0xP3kdDgxxuA27sC2cPkRRekLpKQyW0SWAAeNMYtFZD4w1BhzW9iYXMBhjPnU9/pFYJEx5q+xjq+V2V1jyooplgJ5DnHw88k/tzQW4cYFvDdNv/8/uDgv25nRIfn9wOkBcT0rjCEQJwDAmc0HI6aT9dE6ijhAnSngPvdsXsz4csxucXbV5LkDMjju9vB65vcZ5jhq+/nq3Fyqisewz3UkYAghuvyIovQWolVmpypGsRhYLiLfBf4FXAMgIiOAh40xVwCfAZ4R710iE/hTPEZCSQyrJ2wrIwFegTy7lYVdIdvTH/43ra55Idv9GUkzyopjNvaRMBcQrlZGf/RkwDX0j0EtvDdkFc7M53hoq8G54Tjlhxu8fSAuXhhS22BXTd58vJ2rMzcxNIqRAKH8C9dRfuX9EXvUMCh9nZQYCmPMQeBii+11wBW+13uAM3p4av0KK4nw29c+SkYUF3tbexsLXv4FrqZxIU/vdgFcT8Zhy+2BuEBeSciKojo3x7q3QxB+I+FPWfW7g+ozhcrBA+B4NuVNezt6VvuMhV19xzTHRpZk/JZwmxRAMlQNVunXqIRHP8bqCVuG/iXm5zwZhyMK2gqdgy3H5rRbZx4FMpIuXuht8IN1rUJlwVCqc3Msj2GVstrmcFA1xFdT4WqlZsWCQF2E/5zTHBvZOOBm9gz8GlsGzOHi/Me5YmRhSCFdCGoklH6OGop+jNUTtjjttIw6MK78iIK2isONli1B5x/9NHqtRelsb4OfvJGxb/yAJyikZpeyGrx9hBwMZE1deNpwZg14jcXOhylxHMAh8PoJHu4enhdhnO4emh+owp6883daRKf0a9RQ9GP8T9iZg7eR+7nFDDptPtg7YABvcNlf3BZsaMobaqg8cIgilxsxhiKXm8oDh5hxuJ6vnFkcvXd16Wz48U72Oa0rvfdlZuBBqPEU8Hj7JbSYAYC9kmvw9jozDPDGRV5+r4FFuU+TI8cD++2M01ODTwgYjybXfu7YeKcaC6XfoqKA/Zi5U0/l9rWP4jhxJeLwC+1Fz4Iz7dmBGoaQgra8Esqb9kbEE2o8BTy9pTZmRhJEaYs6aASrp6/xxlPc7WzxnMJtmcv5j0ONLBoemrIarPDaYgZwn7vDZVTX2EpOVmgsxbaQLiyK7jLHqNpapYFrpV+iK4o+zqpttREaRn5mlBUzdORLQUaiA7FYWRiPk2OfTAMsCtqCYg1+/DfqeFujRmuLOqOsmHtnjqU4P5vnPJO5Nue/ab90M5WjZ1LUbryrGLeHyiPHuby5lRpPAfNd32O1Z3LgWCPys73B8yCi9pcIQyuulf6Krij6MFZZTQtWvgV0yG8ccdlLgi/+0uJAjcBg53CO7Z/KxUcPsyCrgs9wAHmlBDJ8Kai+YG/NigWMkIPUmWHc554duFHHoygbqy2qdRX4zyi/4GfW39sTWrsxd+qp3vkGFfhZFdJhsPTAacW10l9RQ9GHscpqCqlhwN7dM3jA4AhNJG8V9f0hVdQhKails7n2Beuq6XgVZSPO2QmCNahqG1vJEOlY1UydxIyrlsJLizBNNZzZnMsY93jePfFjTGYjec7hHG74HDJ4c8hKyykDteJa6beo66kPY/cUH7y9YnwFmRL5vNDibukI3u5Y7q2gXvn9DiPhx9Xq1WnyMXfqqT2qKGvHjLLiwFzafeoDgT4V7ZPgxzuRykYKK3fz1ILH2fHdDbx1/Q4WnHMrQ4Z/gIgLYwQM5DlP5GeT79L4hNJvUUPRh7F7ig/eXj6mnEEDBkWMcXlcXrns52+FlXOiymwEV1cHxxJss5x6iGgrKiv8MiRNrv0gIGLIysxiwTm3qpFQ+jXqeurDeGW5I7WNWo67WbWtNnDzbjrWZPn5fc31sPP/Yp8oLEDcLYqyCWAnOhjPiiqYaP201VAo/Rk1FL2UqIqsPvzvK1e/TWNrh7/9cIsrJKhtm5bqckdsi5DYONJC+cULu/OrJUS0gL1dX2+7lVa8/bQVpb+hhqKXEGwY8nOcHG1z4/KE+t7/cXg9mw49HpIxNKOsnCVr3g8xFOB1wVSufpsla95nv+d8sopWQlDwNrgewU+EtpIzk8qCYTAol1Q9b0dzL1mtqKLFS2wNpmY7Kf0cjVH0AvxPzf5WnYdbXAEj4ceVvZkVHz9AfXN9RP9mO1dLY6uL2sZWXEfKaK2fiXHlh1RVhxfPWVYxG1dKW39Gcy8lGi+JVsehKP0ZXVH0AuzksYMZOHxNyIoAOpReDfNsPtXBFUebua2tjmLHAVsRD1ttpRS6ZmK5lxKJl8Sq41CU/ooail5APMVqdmJ+nozDZA7eFrV16F2Zj/DNjHUR7T/DsWsHmkrXTLB7KXPwtkAvbRlwItV7WhO+yXdHHYei9DXU9dQLiKtYzZ1vuVkEsopWkjl4m+X+aY6NcRkJgIr8cWnnmvG7l4YXvk1W0UocAxoRgSbX/oDrTVGUrpESQyEi14jI2yLiERHL1nu+cZeJyPsistvXMrVfYlXE5swQ8rOdAd/7NWPmRNzE/YjD5XVNQWC8n9syl8c2EtlDYeZ/Uz7rz1SeV0lRbhGCUJRbROV5lSl/Ap9RVsyQknURmlX+1FZFUbpGqlxPO4GZwO/sBohIBvAgcClQA7wpIquNMe/0zBTTh2BJimjpsBP2DGX+36ztqd815f+s310zQg7YnzhvJPx4Z8imnnbNVO+pjitmoKmtipI8UtUK9V0AiWiIHMJEYLevJSoi8iQwHeh3hgLiC8qWjymnamuVZYqnceUHUkNDDE9LASUWxsJjYFHzVxgXVJjX0/grpf1FcP5MLojsU62prYqSPNI5RlEMBOtG1Pi2WSIic0Rks4hsbmiwV0Tt61ileBqPk5zmq0JSQ2eUFbNp/kWUzLo3Qh7cY+Dx9kv4w9GJES1Pe5JoldLhaGqroiSPpK0oRGQdYPU491NjzLPxHMJim21XHWPMMmAZwIQJE6J33+nDJJzi6e8F/dIiPE011HlC5cHD1WZ7kkTcSZraqijJI2mGwhhzSRcPUQOMDHpfAtR18Zj9goTjCD6J8M/Nr7a0xPGk5yaDRN1JmtqqKMkhnV1PbwIni8hoERkAXAesTvGc+jTxqM32JOpOUpT0IFXpsVeLSA1wLlAtImt820eIyAsAxhg3cBOwBngXWG6MeTsV800XorU1DcHfP6Iy3/t7x/K4jp8uvST8lI8pT8t0XEXpb4gxfc+dP2HCBLN58+ZUT6NbCVdJBe9NPEK7aMfykFafgDdYfdXSjnhEjPPESsNVFKXvISJbjDGWdW1qKHoJkxavt9Q0Ks7PZtP8i7xvdiyHZ24EE6kLtY/hnNtW1adu/mrUFKX7iGYoVOspCul0I4rZhMe/krAwEgAnmgMYQvs19OabarQ+FL35eylKOqKGwoZU34jCjVRetjOipwQEBZpfWhTZzzqIOjMs8DqVKa/dRbQ+FL35eylKOpLOWU8pJdF+y91JeP+J2sZWmo+7cYaJMoUEmoP6VofTYgZwnzs0PpGqlNfuItE2p4qidB41FDak8kZkZaRc7YZBWZmWTXhWbatlHwWWx3LjYL7re4ECOj+pSnntLtItlVdR+jJqKGxI5Y3ItiNdi4tNVxzgw8/MY1PbTGa8MpU3V/+OBSvf4ufHr6HFDAj9gDObbeMX82LGl0M2pzLltbtIt1ReRenLqKGwIZU3IjtjdP2gN7wB66a9gIGmvZy+9Q4ubX+V1Z7JzHd9jxpPAR4j1FFApfl3Zr9WwsBMB0NynHG1A+0tJNrmVFGUzqPpsVFIVdaTXc3ElkG3kNMaKWlR4ylg8vGlUY9pWXOhKIriI1p6rK4oouBXWH3g2nEA/Pip7dErorvxvFZPyzmt1iJ5I+RgzGP2VCBeUZS+h6bHxqAzabKdWYlYNejZND9MquKVEp/bKZR6hkVss0IzghRF6Qy6oohBommyVqmtsXo6+Bv01DfXYzCBBj0R/Z4vXhjROwJnNnVn3hay+hiS47Q8j2YEKYrSGXRFEYNE02QTKQTzryKspLTb2tu4fcM8+NfrlF/wM+/GoN4RNNVAXglcvJCzSmezaVrHZ+1iHJoRpChKZ1BDEYMR+dmWGkt2T+fxGpbwNp9WeESo/PAZgICxqB6US9XIEewb6vC6qAblEq6lGm+PbUVRlHhQQxGDuVNPTejpPF7DYtXm04o2h1C15xnKL/hZQj2k4+mxrSiKEg8ao4hBovn68dRfrNpWS/3RSHeTHft8/0p2PaQXvPyL2D0qFEVROklKVhQicg1QCXwBmGiMsSx6EJGPgE+BdsBtl+ObbBJ5Oo/l9vHHDxwn5eMY0BjXMQs93t92PaQ9GYf7lDKsoijpRapcTzuBmcDv4hh7oTHmQJLn061EMyz+YPe1B7NY/xkPbY6ORZ3TGIwxuIO2ZXkMFWOuBux7SBtXfuC1KqgqitLdpMT1ZIx51xjTL6u/6hpbmebYyL2tb1B54BBFLjdiDEUuNz9rOMjdwdvcbsYePoub/noOkxavZ9LQb0b0kDYeJ8capkacQ1EUpbtI92C2AdaKiAF+Z4xZZjdQROYAcwBOOumkHppe4ozIz+a2luU4BMqbWyhvbokYU97cggHmem5ixfHzAK9b6cmXh3PdhTez6dDjXjeUO5/WT6bgPlIWcQ5FUZTuImmGQkTWAYUWu35qjHk2zsNMMsbUiciJwIsi8p4xZoPVQJ8RWQZeradOTdqHVZV0eFZRp9ixnBdlIdkSy5MmrJSpASPhp9XVzto3itk0fy3QEe9wo/USiqIkj6QZCmPMJd1wjDrf7/0i8gwwEbA0FN1FIimoCeFrVZrjagWJMi57KFz+C37yp1zL3cFuJa2XUBSlJ0hb15OI5AIOY8ynvtdTgEXJPq9dCmrV1qrOGYody32V1JEaTaEITPgOXHk/ACNeWB9XPYbWSyiKkmxSlR57NfArYDhQLSLbjTFTRWQE8LAx5grgM8AzIuKf55+MMX9N9tzsUlDttkfFt4qI1ssagLyRcPFCVrVPYsni9dQ1tpKf48TpEFyeDi9aPG6lVEmjK4rSd0mJoTDGPAM8Y7G9DrjC93oPcEYPT802BbUw1yrcEkr4TfpFWeh1NUUjbyTV03/Bva/fT+Pxn2GG5ZPhmcrhI2U4M4T8bCdNra64bvqdUbpVFEWJRdq6nlJFxfiKCA2mrIwsKsZXBN5bBbtdTeNYsPItLm1/lacGLGdE6wFvKCJaPMKZTXXZ1YHziYAMaCSraCVtgOtIGbkDM9l+55S45p6IIKGiKEq8qKEIwx+HsMt6sgt2H9s3k0vbj7DY+TA5cjz2iXzupqp/PhwRExGHi4HD1+A+UpZQTUSiSreKoijxoIbCgvIx5baBa7tg94n5f6Tq0xok2goCvP0krloakAzft+1uy2Hi9Mp7JFITkajSraIoSjyoKGCC2AW1GzIlhpEQ7yoiyEiAfezDuPITromIR5BQURQlUdRQ2FC9p5opK6ZQ+mgpU1ZMCXSbs7uxF7rbLbcDXgNR2Qg/3hliJMAbE7GS5chpviqqSq0ViSrdKoqixIO6niyIVnRnGez2eKg4bKME68z2y+xDqQAACDtJREFUtjC1IVZMJFG0rkJRlO5GjOmS2kVaMmHCBLN5s6VyeVxMWTHFMkW2KLeItbPWUv3KHVTteYZ9Dihsb6fiUGOEZpMx0JpTxMtnX0PVgf/rfjkQRVGUbkREtti1ctAVhQV2cYj65npKHx1LobudikOHLQX9AFoZyM4zf8b+00uSIweiKIrSg2iMwoJoxXUGqM/MoLJgKNW5OR07JAN/wDp75q85a9q/R5UDURRF6S2oobDAKsAcTpvDQdWQjoZBGE9EwLpb5UAURVFShBoKC8rHlFN5XiVFuUUI4g04WLAvMygVNa8kYr9thlQcciCKoijpghoKG8qPNrN2bx07PvwXRTapr4GUWJvMJquVSbgciKIoSrqjhsKK52+FlXN80uCGisONZHk8IUMCKbEWRXR+wlcmRblFVJ5XqYFsRVF6FZr1FM6O5bD5Ebxhay/+7KaqIfnsy8zwZj0daaF8ahWUzvaKBK6YYpkCaycHkrQueoqiKN2MGopwXlpEsJHwU97cwhVHWzAI+6WAwplLAkYi0RTYpHXRUxRFSQLqegqnqcZ2V60pYMyxJzi3rSrgaupMCqymzSqK0ptIiaEQkSUi8p6I7BCRZ0Qk32bcZSLyvojsFpH5PTI5i+wlAI+B+9xe4xCsxhqtOC9YIwo69KOsqr6jHUtRFCWVpGpF8SJwujGmFPgnsCB8gIhkAA8ClwP/BnxVRP4t6TO7eKE3iykIj4HH2y9htWdyhBprtFRXv0upek91wN1kZyRiHUtRFCVVpMRQGGPWGmPcvrevA1aP8ROB3caYPcaY48CTwPSkT650tjeLKW8kILRkF7HIeQuV7u9YqrHGKs7zu5Ss3E3BaNqsoijpSjoEs78DPGWxvRjYG/S+Bjjb7iAiMgeYA3DSSSd1bUalswMxiByg0vdjRbD6a2ddSkW5RZr1pChK2pK0FYWIrBORnRY/04PG/BRwA09YHcJim63UrTFmmTFmgjFmwvDhw7v+BRKgfEw5a2etpSi3yHJ/YW6hrVvJr0irRkJRlHQlaYbCGHOJMeZ0i59nAUTkeuBK4OvGWuu8BhgZ9L4EqEvWfLuDaJXYWqWtKEpvJSWuJxG5DJgHfNkYY63VDW8CJ4vIaKAWuA74Wg9NsVPE04RIi+wUReltpKRxkYjsBgYCB32bXjfG3CgiI4CHjTFX+MZdAfwSyAAeMcbcE8/xu9q4SFEUpb+Rdo2LjDGft9leB1wR9P4F4IWempeiKIoSiVZmK4qiKFFRQ6EoiqJERQ2FoiiKEhU1FIqiKEpU1FAoiqIoUVFDoSiKokRFDYWiKIoSlZQU3CUbEWkAPk71PMIoAA6kehIJoPNNLjrf5KLzTZzPGmMshfL6pKFIR0Rks13VYzqi800uOt/kovPtXtT1pCiKokRFDYWiKIoSFTUUPceyVE8gQXS+yUXnm1x0vt2IxigURVGUqOiKQlEURYmKGgpFURQlKmookoSIXCMib4uIR0Rs095E5CMReUtEtotIyrotJTDfy0TkfRHZLSLze3KOYfMYKiIvisgu3+8hNuNSdn1jXSvxstS3f4eIjO/J+VkRx5wvEJEm3/XcLiILUzFP31weEZH9IrLTZn9aXd845ps21zYCY4z+JOEH+AJwKvAKMCHKuI+Agt4wX7ydBj8AxgADgH8A/5ai+d4HzPe9ng/8Ip2ubzzXCm+Trr8AApwD/F+K/wbimfMFwPOpnGfQXM4HxgM7bfan2/WNNd+0ubbhP7qiSBLGmHeNMe+neh7xEud8JwK7jTF7jDHHgSeB6cmfnSXTgUd9rx8FZqRoHnbEc62mA48ZL68D+SJS1NMTDSKd/n1jYozZAByKMiStrm8c801b1FCkHgOsFZEtIjIn1ZOJQTGwN+h9jW9bKviMMaYewPf7RJtxqbq+8VyrdLqeEP98zhWRf4jIX0Tkiz0ztU6Rbtc3HtLy2qakZ3ZfQUTWAYUWu35qjHk2zsNMMsbUiciJwIsi8p7vyaPb6Yb5isW2pOVXR5tvAofpsesbRjzXqkevZxzEM5+teDWBjorIFcAq4OSkz6xzpNv1jUXaXls1FF3AGHNJNxyjzvd7v4g8g3f5n5QbWTfMtwYYGfS+BKjr4jFtiTZfEflERIqMMfU+d8J+m2P02PUNI55r1aPXMw5izscYcyTo9Qsi8pCIFBhjUi1oZ0W6Xd+opPO1VddTChGRXBE5wf8amAJYZkSkCW8CJ4vIaBEZAFwHrE7RXFYD1/teXw9ErIhSfH3juVargW/5snPOAZr87rQUEXPOIlIoIuJ7PRHvPeRgj880PtLt+kYlra9tqqPpffUHuBrvE80x4BNgjW/7COAF3+sxeDNL/gG8jdcFlLbz9b2/Avgn3uyYVM53GPASsMv3e2i6XV+rawXcCNzoey3Ag779bxElOy6N5nyT71r+A3gdOC+Fc/0zUA+4fH+7303n6xvHfNPm2ob/qISHoiiKEhV1PSmKoihRUUOhKIqiREUNhaIoihIVNRSKoihKVNRQKIqiKFFRQ6EoiqJERQ2FoiiKEhU1FIqSZETkLF8/hCxftfjbInJ6quelKPGiBXeK0gOIyN1AFpAN1Bhj7k3xlBQlbtRQKEoP4NNOehNowyvN0J7iKSlK3KjrSVF6hqHAIOAEvCsLRek16IpCUXoAEVmNt2PcaKDIGHNTiqekKHGj/SgUJcmIyLcAtzHmTyKSAbwmIhcZY9anem6KEg+6olAURVGiojEKRVEUJSpqKBRFUZSoqKFQFEVRoqKGQlEURYmKGgpFURQlKmooFEVRlKiooVAURVGi8v8BrvcUP+puQg8AAAAASUVORK5CYII=\n",
      "text/plain": [
       "<Figure size 432x288 with 1 Axes>"
      ]
     },
     "metadata": {
      "needs_background": "light"
     },
     "output_type": "display_data"
    }
   ],
   "source": [
    "# Insert your code for getting overfitting, underfitting and just right fitting\n",
    "L  = [1, 10, 1]\n",
    "NN = init_NN(L)\n",
    "ACT_F = [ReLU, Linear]\n",
    "\n",
    "# Initialize training hyperparameters\n",
    "EPOCHS = 20000\n",
    "BATCH_SIZE = 128 \n",
    "LEARN_R = 1e-1\n",
    "\n",
    "train_loss = []\n",
    "val_loss = []\n",
    "\n",
    "for e in range(EPOCHS):\n",
    "    # Mini-batch indexes\n",
    "    idx = np.random.choice(x_train.shape[0], size=BATCH_SIZE)\n",
    "    # Forward pass\n",
    "    aff, units = forward_pass(x_train[idx,:], NN, ACT_F)\n",
    "    # Backward pass\n",
    "    g_b, g_w = backward_pass(x_train[idx,:], y_train[idx], units[-1], units, aff, NN, ACT_F, squared_error)\n",
    "    \n",
    "    # Stochastic gradient descent\n",
    "    for l in range(len(g_b)):\n",
    "        NN[0][l] -= LEARN_R*g_w[l]\n",
    "        NN[1][l] -= LEARN_R*g_b[l]\n",
    "        \n",
    "    # Training loss\n",
    "    _, units = forward_pass(x_train, NN, ACT_F)\n",
    "    # Estimate loss function\n",
    "    #print(np.max(squared_error(y_train, units[-1])))\n",
    "    train_loss.append(np.mean(squared_error(y_train, np.squeeze(units[-1]))))\n",
    "    \n",
    "    # Validation\n",
    "    # Forward pass\n",
    "    _, units = forward_pass(x_validation, NN, ACT_F)\n",
    "    # Estimate validation loss function\n",
    "    val_loss.append(np.mean(squared_error(y_validation, np.squeeze(units[-1]))))\n",
    "    \n",
    "    if e%1000==0:\n",
    "        print(\"{:4d}\".format(e),\n",
    "              \"({:5.2f}%)\".format(e/EPOCHS*100), \n",
    "              \"Train loss: {:4.3f} \\t Validation loss: {:4.3f}\".format(train_loss[-1], val_loss[-1]))\n",
    "    \n",
    "\n",
    "# Plots\n",
    "plt.plot(range(len(train_loss)), train_loss);\n",
    "plt.plot(range(len(val_loss)), val_loss);\n",
    "plt.show()\n",
    "_, units = forward_pass(x_test, NN, ACT_F)\n",
    "\n",
    "plt.scatter(y_test, units[-1]);\n",
    "plt.plot([np.min(y_test), np.max(y_test)], [np.min(y_test), np.max(y_test)], color='k');\n",
    "plt.xlabel(\"y\");\n",
    "plt.ylabel(\"$\\hat{y}$\");\n",
    "plt.title(\"Model prediction vs real in the test set, the close to the line the better\")\n",
    "plt.grid(True);\n",
    "plt.axis('equal');\n",
    "plt.tight_layout();\n",
    "\n",
    "print(\"Test loss:  {:4.3f}\".format(np.mean(squared_error(y_test, np.squeeze(units[-1])))))\n",
    "plt.show()\n",
    "if D1:\n",
    "    plt.scatter(x_train[:,0], y_train, label=\"train data\");\n",
    "    plt.scatter(x_test[:,0], units[-1], label=\"test prediction\");\n",
    "    plt.scatter(x_test[:,0], y_test, label=\"test data\");\n",
    "    plt.legend();\n",
    "    plt.xlabel(\"x\");\n",
    "    plt.ylabel(\"y\");\n",
    "else:\n",
    "    plt.scatter(x_train[:,1], y_train, label=\"train data\");\n",
    "    plt.scatter(x_test[:,1], units[-1], label=\"test data prediction\");\n",
    "    plt.scatter(x_test[:,1], y_test, label=\"test data\");\n",
    "    plt.legend();\n",
    "    plt.xlabel(\"x\");\n",
    "    plt.ylabel(\"y\");"
   ]
  },
  {
   "cell_type": "markdown",
   "metadata": {},
   "source": [
    "### Overfitting"
   ]
  },
  {
   "cell_type": "code",
   "execution_count": 61,
   "metadata": {},
   "outputs": [
    {
     "name": "stdout",
     "output_type": "stream",
     "text": [
      "   0 ( 0.00%) Train loss: 0.232 \t Validation loss: 0.230\n",
      "1000 (10.00%) Train loss: 0.042 \t Validation loss: 0.043\n",
      "2000 (20.00%) Train loss: 0.042 \t Validation loss: 0.044\n",
      "3000 (30.00%) Train loss: 0.042 \t Validation loss: 0.043\n",
      "4000 (40.00%) Train loss: 0.042 \t Validation loss: 0.043\n",
      "5000 (50.00%) Train loss: 0.041 \t Validation loss: 0.044\n",
      "6000 (60.00%) Train loss: 0.037 \t Validation loss: 0.040\n",
      "7000 (70.00%) Train loss: 0.035 \t Validation loss: 0.035\n",
      "8000 (80.00%) Train loss: 0.034 \t Validation loss: 0.034\n",
      "9000 (90.00%) Train loss: 0.034 \t Validation loss: 0.035\n"
     ]
    },
    {
     "data": {
      "image/png": "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\n",
      "text/plain": [
       "<Figure size 432x288 with 1 Axes>"
      ]
     },
     "metadata": {
      "needs_background": "light"
     },
     "output_type": "display_data"
    },
    {
     "name": "stdout",
     "output_type": "stream",
     "text": [
      "Test loss:  0.044\n"
     ]
    },
    {
     "data": {
      "image/png": "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\n",
      "text/plain": [
       "<Figure size 432x288 with 1 Axes>"
      ]
     },
     "metadata": {
      "needs_background": "light"
     },
     "output_type": "display_data"
    },
    {
     "data": {
      "image/png": "iVBORw0KGgoAAAANSUhEUgAAAYoAAAEGCAYAAAB7DNKzAAAABHNCSVQICAgIfAhkiAAAAAlwSFlzAAALEgAACxIB0t1+/AAAADh0RVh0U29mdHdhcmUAbWF0cGxvdGxpYiB2ZXJzaW9uMy4xLjIsIGh0dHA6Ly9tYXRwbG90bGliLm9yZy8li6FKAAAgAElEQVR4nO2de3xU9Zn/388kE3JBEiDQhAQLtFZ3lUgoogXWemtQxwKlSK1bq73RdtttbH+LBFsx0lqx7qtt3Gpb1rpq165SRKTGFlS0Fqyr3BrxtiJqzQW5JkiuM8z398dcMpdz5pJkMpPkeb9eeWXmnO+c+eaI3+d8n8vnEWMMiqIoimKHI90TUBRFUTIbNRSKoihKTNRQKIqiKDFRQ6EoiqLERA2FoiiKEpPsdE8gFRQXF5spU6akexqKoihDhp07dx42xkywOjcsDcWUKVPYsWNHuqehKIoyZBCRd+3OqetJURRFiYkaCkVRFCUmaigURVGUmAzLGIUVbrebxsZGurq60j0VJQ65ubmUl5fjdDrTPRVFUUijoRCRycADQAngBdYaY+oixghQB1wOdADXGWN29eX7GhsbOeWUU5gyZQq+yyqZiDGGI0eO0NjYyNSpU9M9HUVRSK/ryQP8P2PMPwDnAd8SkX+MGHMZcJr/Zxnwy75+WVdXF+PHj1cjkeGICOPHj9edn6JkEGnbURhjWoAW/+sPROQ1oAx4NWTYQuAB45O4fUFEikSk1P/ZpFEjMTTQ/07KSGXj7ibu2PwGza2dTCrKY/n801lUWZbuaWVGMFtEpgCVwP9GnCoD3gt53+g/ZnWNZSKyQ0R2HDp0KBXTVBRFSRkbdzexcsPLNLV2YoCm1k5WbniZjbub0j219BsKERkNPAJcb4w5Hnna4iOWDTSMMWuNMbOMMbMmTLAsLkwrra2t3H333X367OWXX05ra2ufv3v06NExz/dnboqiDAx3bH6DTvfJsGOd7pPcsfmNNM2ol7QaChFx4jMSDxpjNlgMaQQmh7wvB5oHY24DTazF+OTJk5bHAzzxxBMUFRWlYlqAGgpFyQSaWzsTP96wDm6fCrWFvp/bp/qOpYh0Zj0J8BvgNWPMT22GbQK+LSIPAecCbX2NTyTLQPsKa2pqeOutt5gxYwaf+tSncLlc3HLLLZSWlrJnzx5effVVFi1axHvvvUdXVxfV1dUsW7YM6JUkOXHiBJdddhnz5s3j+eefp6ysjMcee4y8vLyw73r77be5+uqr8Xg8XHrppcHjJ06cYOHChRw7dgy3282PfvQjFi5cGDW3m2++2XKcoij9I3RdKS55hVETN3PcfYiSghKKSy7h0IEzoz4zqSgv7PN76tey0v0fjJKQB8zOo/DYt3yvK5YO+LwlXa1QRWQe8BfgZXzpsQA3AqcCGGN+5TcmvwAuxZce+yVjTFwRp1mzZplIrafXXnuNf/iHf0hobgFfYeg2MM+ZxW2Lp/fZWLzzzjtcccUV7N27F4Bnn30Wl8vF3r17g2mgR48eZdy4cXR2dnLOOefw5z//mfHjx4cZio9+9KPs2LGDGTNmsHTpUhYsWMAXvvCFsO9asGABS5Ys4Ytf/CJ33XUXK1as4MSJE3g8Hjo6OhgzZgyHDx/mvPPO48033+Tdd98Nm5vduMEMMifz30tRhgKh60r2mN3klm5AHO7geaeMoqtlMR3Hzg4eC113Ap9/Ur5FueOw9ZcUTobv7u3T/ERkpzFmltW5dGY9bcM6BhE6xgDfGpwZ9RLLVziQGQizZ88OqxW48847efTRRwF47733ePPNNxk/fnzYZ6ZOncqMGTMA+PjHP84777wTdd3t27fzyCOPAHDNNdewYsUKwFejcOONN/Lcc8/hcDhoamri/fffj/q83biSkpIB+bsVZSQSuq6MmrA5zEgAuE034yY/zVhznqUnY0/9Wp6U/6ZMbIwEQFtjSuY+YiqzkyEpX2E/KCgoCL5+9tlneeqpp/jrX/9Kfn4+F1xwgWUtwahRo4Kvs7Ky6Oy0npPV0/+DDz7IoUOH2LlzJ06nkylTplh+R6LjFEVJnND1Q5zWySnH3YdoqLko+sTj32OV+zc44kWVC8v7MUN70p71lImE+gQTOZ4Ip5xyCh988IHt+ba2NsaOHUt+fj6vv/46L7zwQp+/a+7cuTz00EOAb9EP/Y6JEyfidDp55plnePfddy3nZjdOUUYa9fvrqVpfRcX9FVStr6J+f32frxW6fhi3dXJKSYHFrr1hHey4F0c8z29WDly8qs/zi4UaCguWzz+dPGdW2LE8ZxbL55/e52uOHz+euXPnctZZZ7F8+fKo85deeikej4eKigpuuukmzjvvvD5/V11dHXfddRfnnHMObW1tweP//M//zI4dO5g1axYPPvggZ5xxhuXc7MYpykiifn89tc/X0tLegsHQ0t5C7fO1UcYiUWMSuq50H5qP8YZrmeVm5VI9szr6g0+vpr4gj6rySVRMmUxV+STqC/IBMMZfL5A3DhbelZJANqQxmJ1K+hvMhsytkBwpaDBbSTdV66toaY9OsiwtKGXLki0A3LL1t6x/92cQEm/Izcqldk4trmmuqM/Gynqqnllt+Zn6OyZRWzyWrhC/U67XS+3ho5z9QT6fMnf1K9EmQEYGszOdRZVlahgUZQRzoP1AzOMbdzfx+/1rEWd4ULrrZBd1u+osF/3AuuIzGHk0NZzJpKI8/mX+6bimWa83dePH0RXhd+pyOKgbW8QZxxbR6R34RJtI1PWkKIpigWW8IOT4HZvfgGzroLSdkYHkpToOZFkHJ1qys9nknQcMfKJNJGooFEVRLKieWU1uVm7YsdA4QnNrZ3JBaT/JSnWUFJRaHveGfHd/Em0SQQ2FoiiKBa5pLmrn1FJaUIoglBaUhsUeJhXlWQal8Tqtg9J+kk2/tzJYxuuk+9B8oP+JNomgMQpFURQbXNNclrEG8GUxrdzQQ1eLv4DO2QqeIq6ctsz2M+AzME0hRmGBYxs3ZK9jkuMI/Kzcl+Iakr0UuFbdrjoOtB9gjHMC3Qfn0378TMoGKdFGDYWiKEofCCzOd2zOofmtyoSzI30GxiflscCxjTXOe8iXHt/JtvfgD9/xvY4wFpHGp35/PXW71rCq4QB3v2WfNTUQqOtpkOivQuvPf/5zOjo6BnBG9lxwwQUE0ovjSZxv3LiRV1/t7TW1atUqnnrqqZTPUVHSycbdTcxds5XvPrwHgJ99bgbbay5K6Ml+UWUZty2eznWjX+Snzl/xzOjs8BqJHIGnV8e8RqI1HgOFGopBIt2GwuPx9Olz8STOIw3F6tWrueSSS/r0XYoyFBiIBkOLsrZTK79m8+hcaovH0eLMxojQ4symtngc9Z6jMT9ft6uOrpPhsjqBtNxUoIbCjoZ18LOzoLbI97ufWu+hUt6Byuw77riDc845h4qKCm6++WYA2tvbcblcnH322Zx11lk8/PDD3HnnnTQ3N3PhhRdy4YUXRl17ypQprFixgtmzZzN79mz27dsHwHXXXcf3vvc9LrzwQlasWEF7eztf/vKXOeecc6isrOSxxx4DoLOzk6uuuoqKigo+97nPhelHTZkyhcOHfSJkDzzwABUVFZx99tlcc801PP/882zatInly5czY8YM3nrrLa677jrWr18PwNNPP01lZSXTp0/ny1/+Mt3d3cFr3nzzzcycOZPp06fz+uuv9+veKspgMiANhp5eDe5O6sYWhRXSgb9GYvy4mB+PV+Mx0GiMwoqGdT4/odu/YNr4DZNhzZo17N27lz17fFvVLVu28Oabb/Liiy9ijGHBggU899xzHDp0iEmTJlFf79tCtrW1UVhYyE9/+lOeeeYZiouLLa8/ZswYXnzxRR544AGuv/56Hn/8cQD+7//+j6eeeoqsrCxuvPFGLrroIu69915aW1uZPXs2l1xyCb/+9a/Jz8+noaGBhoYGZs6cGXX9V155hVtvvZXt27dTXFwclERfsGABV1xxBUuWLAkb39XVxXXXXcfTTz/Nxz72Mb74xS/yy1/+kuuvvx6A4uJidu3axd13382///u/c8899/TpvirKYGOXndTU2snUmvrEYhV+ldcD2VmWp+1qJwKUFJRYVo3HSsvtD7qjsMJv7cNwd8b1GybDli1b2LJlC5WVlcycOZPXX3+dN998k+nTp/PUU0+xYsUK/vKXv1BYWJjQ9T7/+c8Hf//1r38NHr/yyivJysoKfueaNWuYMWNGUJ3273//O88991ywp0VFRQUVFRVR19+6dStLliwJGqpx42I/8bzxxhtMnTqVj33sYwBce+21PPfcc8HzixcvBuyl0hUlU4lVsxDTFRXqpRDf0lvise5uaVc7ESBejcdAk+5WqPeKyEERsey0ISIXiEibiOzx/6RGGjESO033AdR6N8awcuVK9uzZw549e9i3bx9f+cpX+NjHPsbOnTuZPn06K1euZPXqxIxTqKx46OtQKXNjDI888kjwO//+978H9ZTiNSUyxiTVuCiehlhALj0rK6vP8RNFSQdWoqGRdLpPUrvpld4DAS9F23uAAeMzENXHWsn1esM+m+iCPyqrt+VA0agiW32pgSDdO4r78HWvi8VfjDEz/D8D90gfCztN935ovUdKec+fP597772XEydOANDU1MTBgwdpbm4mPz+fL3zhC/zbv/0bu3btsvx8JA8//HDw9yc+8QnLMfPnz+c//uM/gov47t27ATj//PODcuR79+6loaEh6rMXX3wx69at48iRI4CvG1+seZ1xxhm88847wXjJb3/7Wz75yU/azl9RhgqBrKWyoryYnddaO93MuGULU2vqObDhxmgvBeDq6Kb28DFKTxoEoor6rAhkPLX19CpDd3lS2y8mrTEKY8xzIjIlnXOw5OJV4TEKAGdev7TeQ6W8L7vsMu644w5ee+214KI+evRo/vu//5t9+/axfPlyHA4HTqeTX/7ylwAsW7aMyy67jNLSUp555pmo63d3d3Puuefi9Xr5n//5H8s53HTTTVx//fVUVFRgjGHKlCk8/vjjfPOb3+RLX/oSFRUVzJgxg9mzZ0d99swzz+T73/8+n/zkJ8nKyqKyspL77ruPq666iq997WvceeedwSA2QG5uLv/1X//FlVdeicfj4ZxzzuEb3/hGn++fomQSoaKhc9dsDSugC6W10ycYONEcsu7naby4ljeTzD4gVsZTqnYUaZcZ9xuKx40xZ1mcuwB4BGgEmoF/M8a8EjnOP3YZsAzg1FNP/Xhks52kZasb1vliEm2Nvp1ERLVkJhHoqW0X6B6KqMy4kukEJMPtjEQo23K+Y93nug89rivur8BgsW4b+OHZf+pzlfZQlhnfBXzYGHNCRC4HNgKnWQ00xqwF1oKvH0W/v7liacYaBkVR0kugliIyTdaOn3iWhldgQ5+9FHYZT153ESs3vAww4JIe6Y5RxMQYc9wYc8L/+gnAKSLD57F5gHjnnXeG1W5CUTIdq1qKWGzyzuO63Eu5uLzcV4F96mTq536tTw+jsUQCk67nSJCMNhQiUiL+VBsRmY1vvkfSOytFUUY6sfo/CDA234kzpNlQ9pjdvFryCgedDl8FdpZQ2/inPkluBFRtvT1FGAPeniK6WhbjOV4Zd259Ja2uJxH5H+ACoFhEGoGbASeAMeZXwBLgmyLiATqBq0y6gyqKoox4IhVgA5QV5bG95iIgvO1p/oe2YByJd8KLh2uaix+vs55DKnpTpDvr6fNxzv8C+MUgTUdRFCUuG3c30d7dW/sTlAmXI3RJCTSshoqlYZlRFfevtLxWfyQ3QlVoA6SqN0WmB7MVRVEyhsggdqRMeH5ni6XcTyokN3plzn27lkRlzvtCRscohhODpR777LPPcsUVV8Qcs2fPHp544ok+z0VRRhoBWfHrH94T9gR/Q/a68EwmsJT7SUZyI/BdU2vqmbtma0xV2kWVZWyvuYi317gSljnvC2ooBol0y4yHooZCURInVFY8kkliURsBUXI/8dqqWn1XXyXMU4EaChvq99dTtb6KivsrqFpf1e+GIKmUGf/Tn/7EGWecwbx589iwYUPw+IsvvsicOXOorKxkzpw5vPHGG/T09LBq1SoefvhhZsyYwcMPP2w5TlEUH7FSYZuNdVp6o3c8U2rqmXHLluAi75rmYsuSLTRc28CWJVssg9gDImGeAjRGYUFASyVQJh/oHgX0uUQ+VTLjXV1dfO1rX2Pr1q189KMf5XOf+1zw3BlnnMFzzz1HdnY2Tz31FDfeeCOPPPIIq1evZseOHfziF748gePHj1uOUxSlN920N2h9mGZTzE88S/mJZym3O+8hL8T91GFy+InHF59o7XSz/Pd/AxIrgrNLbU1Fymsy6I7CgsHoHjVQMuOvv/46U6dO5bTTTkNEgnLh4DMyV155JWeddRbf/e53eeUVS/WThMcpykhkUlFeMGhd7jiMQ6DccZg1znsYl5/D3o//CAon40Vo9BZT4/4qm7zzgp93e03COwK71NZUpLwmg+4oLBiM7lEBmfGvf/3rUed27tzJE088wcqVK6mqqmLVqthl/nby3zfddBMXXnghjz76KO+88w4XXHBBv8YpykjkwjMm8I1d0UHrfOmhtuARWLAX+Dofqam3UmACEt8RDGbKazLojsICu5S1/qSypUpm/IwzzuDtt9/mrbfeAghTjm1ra6OszLfdve+++2znYjdOUUY6L236Nd/cvYiyBILWsZ76E90RREqYlxXlcdvi6SnLZkoUNRQWpKJ7VKjM+PLly6mqquLqq6/mE5/4BNOnT2fJkiV88MEHvPzyy8yePZsZM2Zw66238oMf/ADolRmPDGbn5uaydu1aXC4X8+bN48Mf/nDw3A033MDKlSuZO3cuJ0/2PqFceOGFvPrqq8Fgtt04RRnRNKzjrF03USaHEYH6gnyqyif5tJrKJ1FfkB/Wo2b5/NNxWrQwdTokqR3BYKW8JkPaZcZTwaxZs8yOHTvCjiUrW12/v566XXUcaD9ASUEJ1TOrU6b1rkSjMuNK2vnZWf6OdD4jUVs8ji5H77N1rtdQO/UzuC74YfDYxt1N3PKHVzjW4ZPrKMpzUrvgzIxY7OMxlGXG04ZrmksNg6KMMEL1md7KbQy6XOrGFoUZCYAuh1B3+H/Dmg6FynYMJ9T1pCiKQnSxW7N3fPDcgWzrHtkDmeCSyYwoQzEc3WzDEf3vpKSDyGK3n3iW0mFyACjxWMfu+pPgkiwDXQScDCPGUOTm5nLkyBFdhDIcYwxHjhwhNzc3/mBFGUAiU1g3eedR4/4qjd5iqo+1kRuxdvQ3wSUZAkXALe0tGEywCHiwjMWICWa73W4aGxvp6uqy+ZSSKeTm5lJeXo7T6Uz3VJThTsM6n4BfWyMHKObHPVeGFctBb4+JdCa4VK2vslSfLS0oZcuSLQPyHRrMBpxOJ1OnTk33NBRFyRQa1vkkwd2+nUQJh1jjvAfcBI1FaLFbOhNcBqMIOBZpdT2JyL0iclBE9tqcFxG5U0T2iUiDiMwc7DkqijIMaVgHj36D+hwJq414ZnQ2N2SvAzKn2A1SUwScDOmOUdwHXBrj/GXAaf6fZcAvB2FOiqIMAfoc3PXvJOrzR1FbPI4WZ7avj7Uzm9ricewe3Rl0N2WCkYDUFAEnQ7pboT4nIlNiDFkIPODvk/2CiBSJSKkxJtpZpyjKiKHPCs/+nQTmJHUfmmRRG+Hg5+PG0rwvvWqtkQT+pnTFSDI9RlEGvBfyvtF/LMpQiMgyfLsOTj311EGZnKIog0doMdwpp92OybZWeLZdPAMxCeNLdbWrjTiY7Ui7WqsV6YyRpNv1FA8rWVTLNC1jzFpjzCxjzKwJEyakeFqKogwmkcVw3qxjluNiBnefXh0MXIN9bYTxFKVdrTXTyHRD0QhMDnlfDjSnaS6KoqSJyGI44y6yHBczuBvRnrT6WCu5Xm/4GK+TK6cty5jYRKaQ6a6nTcC3ReQh4FygTeMTihKbUBfNpKI8ls8/fUgtfFbzjyyG6z40n9zSDYjDHTwWFdwNqZGgsBzyxkLnUcAn8lc3toguERzG4EUoHV2q4p82pNVQiMj/ABcAxSLSCNwMOAGMMb8CngAuB/YBHcCX0jNTRRkaBFw0gafvptZOVm54GUisFWe6sZt/Ub4zqMgK4DleSReQ/6EtkN0aHdyNqJGg7T1wOOkhmycLcsKUYL0AXqcaiRiMmMpsRRkJzF2zlSaLbmqBdM9Mx27+RXlOuj3eqM5vtnUOIRLhoWwcU8zN4/LwWnSFHMgq56FIrMrsTI9RKIqSBHYtNxNtxRlKOkTo7ObZ1ulOrPNbwzpbI1FfkM+tY3MtjQSMHCXYvpDpMQpFUZJgUlGe5RN5sumefa5T6Cd28y/Kd8bv9RDpborAqqdEKIOpBDvU0B2Fogwjls8/nTxneH1AqF5RotTtqgsaiQCBOoWBZOPuJuau2crUmnrmrtnKhWdMsGwneqLLw8bdTfa7nEAhnY2RAPu6CRjcKuehiO4oFGUYEXji7m/W02CI0FkFrh/Z2US2Q3CfDI+dur2GW//8IBT/PnqX8/cXcG3/z2AhnSWFkxmXNYYj3g+iTjnEQe2cWg1kx0ANhaIMMwaiHWdJQYmlrPVAumciayOAqPehdBT8AYfVLmffelwxdhIUTmbjBZs5uOV+HBPXh6XUOmUUP5x3ixqJOKjrSVGGMXaumniB6sEQoUs2wO5wtloeD3Up1Rfkh6nB1o8pgotXccfmN+g4djZdLYvx9hRhDHh7isg6ulSNRALojkJRhiH1++u57X9vo62nLXgs4KrZfXA3j+17LGageiBF6Owa/tgFrsfmO+lyR6fCFuZMpM19MGp8QIqjviA/rD7CpwY7HkYXBI2S53glnuOVwc92JP3XjEy0jkJRMoBkuqfFGxuZsRSJQxx4jTfqeCrqCKzmkpuVS+2cWtxtM8JiFNBbGwHRcRZn4R5qt91ElwmpxvZ6qT18FFd7B1Xlk2hxRj/7lhaU0r6vZkjXlwwG2uFOUTKYZFJRExlrlbEUipWRgNTUEcTKngoYJbvAe3SNxHY4fIS6MfkcyM6ixHOS6mOtuNp9+wK7rKYD7QdYPf90S6Ok4n+JoTsKRUkzyfRDthvr2yUYxFOEN+sYNjVlIWMHZ0dRcX8FxkLwWRAarm1I7mI2hXQBqiaX0WJhLAJ/11DXwEo1uqNQlAwmmVRUu7GBhd9kH7MR4veRm5XLwo8uDItRBI6noo5gQLKnguJ+1kbCAFI4meqPfIbaxj/Z/l0DkQ02UlFDoShpJtZiGhmPKBxVSGu3dfZPABEwhqhdRdGoImpm1+Ca5qJyYuWgdEurnlltGaNI2CjFqbYGaPIWM+/92yl7IY8rZn+M7Ud/m5YucMMZdT0pSpqxC/haPflnSzYigtvrtrpUEGN8PRvE2cqkFMlnJxqATyZQH0Ucd1OHyaHG/VU2eecBcYQClZjEcj2poVCUDMBqMa3bVWe50yjMKSTfmc+B9gOIiGW8wdtTRPtbNQll9fRlIbczbldM+g5bXizrcxwgMo6wrWsxYuFLMwaaTDE/8SwNGokAmsnUNzRGoSgZjlU/5JV/WWk59njPcbZ9fhtgvWAbr5PuQ/MTyurpq/ifXTbT7/ev5URrDZB8LwwrSY/mUeMpk8NRY5tMMfN67rS8Tl+UcpXYpLUyW0QuFZE3RGSfiNRYnL9ARNpEZI//Z1U65qko6cAu4Bt63DXNRe2cWkoLSgFBPGPpblnMhxxzbF0woUJ8K5+5vU/if7aptNnh8ZNO90nu2PxGzGsFsJL0uN29lE5GhV/T5PATz9Lwrx2zm4KPrGH0GTWcctrtgyKJPpJI245CRLKAu4BP4euN/ZKIbDLGvBox9C/GmCsGfYKKkmYSDQRb7UbsiHxq92YdwyqTNl5NhV0A3qqXdaJP+FbjNnnnIT1QN+EPwZamez/yr+x89TRo7USArDG7w9qimuxjgyKJPpJIp+tpNrDPGLMfwN8XeyEQaSgUZURgFSuonVMbPDbGOYHug/P59lr4cdFWa/9/aCqpZIE5iVcciPFy0jhYgJdZUsxPHD7fvnEXITnRWVTx0lerZ1ZT8+ebIERgL+DyiiRuLwz/nN/KbaTZOz4q7rBjzKfgu7cF358DbF/ge71xdxOrdt2OcYQH9wO7IjUUA0M6XU9lQGg6Q6P/WCSfEJG/icgfReRMu4uJyDIR2SEiOw4dOjTQc1WUlBKIFbS0t2AwYbGCLUu2sLrijxx5bTmHDpyJodf/v3F3U29Xt9pC2LCsN0vIL7vtMF4EyBYvDoFyx2H+3bmWnTnLWHNsH6O84cHiXK+huvjcmPN1TXNFCex1tSwO01ECcDqEjh5PsN/Ext1N4RcKpL+2vYcDQ7njMGuc97DA4YvBiP9vtfws/thHto1YoHasGzDSuaOw2vFGpjfsAj5sjDkhIpcDG4HTrC5mjFkLrAVf1tNATlRRUk0sqQvXNJel//5TJ//MBY99FQjtsZDYP/0c8TBeTvDpDnAc9nV/C5PFeO8u2P4bcLf7PpA3Di67HSp6YwMTHXNoeqsy6tpZIniNoTDPSXuPh2Mdvqd9y+D206ujaiTypYcbstfxh555wb8mVmB8MCTRRzrp3FE0ApND3pcDzaEDjDHHjTEn/K+fAJwiUjx4U1SUwSFedfZB7/PBYG3BR9Ywu/Ah1jjvoYjwRjxRMtsF+XG/29XewZbGZhreeY8tjc0+7STvyV4jAdB5FDb+i28HANCwjq0nv8Tbo67m7VFXszNnGQsc2xDg8+dO5u01LgpGZUc1IIoKbrc1Ws5pkuNIlMmzC4wPhiT6SCedO4qXgNNEZCrQBFwFXB06QERKgPeNMUZEZuMzbEcGfaaKkkLq99cjIljVNAWqs3NLNwTjAZLTytslu3jmcDau9p7e61jKbI8DCArn9Quv27cDAHjsW4w62RP0C4yXE9zh/DW44ZGdn2TWh8cFg9MLHNu4IXsdk+QwXhxkdXrhZ5Ph4lVQWG5ZUNfsHW85BauA90BKoivWpLXgzu9O+jmQBdxrjLlVRL4BYIz5lYh8G/gm4AE6ge8ZY56Pd10tuFOGCrEkwQNy3HaFd6VuD1saezfhtjLbEWl6gIgAACAASURBVOP6h9gu7gCNXl99Q1lRHu3dHs7vfoY1znvIl57owc48OPtq+Nvvwt1Pzjxqzde578Rsy+8oU0G/lBCr4C6tdRTGmCeMMR8zxnzEGHOr/9ivjDG/8r/+hTHmTGPM2caY8xIxEooylLCTBA/t42zrlopQSrWV2c7O4vEQl9SnJpdTP/qUvk24sNzWXQQwSXwb/qbWTtp7PNyQvc7aSIDPOLy5BT59JxROxmeEJsOn72SGaxl5Tuu/JyyQH4N4XfyUxNHKbEVJMbEkMuyMgDEmOKbEOYYWd1vUmEBnt9D3VjuKMaOKuKU0L2iQDmQLtRMn0u08hUXHWjjmLeDZU7L49dgCX0D7pJfqY224TpwIv5DD6XMXxVBybTY+l1GWCO6ThknZ0VXVYbQ1+gLkFeEFdIv8v+/Y/IZlw6FAvMJuV9HXinPFGu2ZrSgpxC7ttX5/ve+J2BNdoAYhGTsN66hufptcb7ieU67Xy/kdHWGBazkxDeN1ho/LykVEojOqjJtVBcVM63qQc3O/yc3FxbQ4szEitGRnUTvxQ9SPnRgc3+0spNbxLab+roDa9s9yUsK/B6DbZPETz1LynFmc9Lu0m01v7olloL2w3PbeLaosY3vNRZbpkRC7kC9WFpmSPGooFCWF2C1Yt73wU1ZueJmO96ssF/fqmdXw+PdgwzJcJ05Qe/gopW4PYgylbg8LPzjBY6eM7l3cndk0F7ZwbvF8SgtKEYTSglJq59TS1h29GwGC9QejJmwOVjUH52jc1JVNhdo2Ni58lRlda7nvxGwMcN+J2aw4+XW6nT4jZ4BWTuEG99fZOeZT3LZ4OmX+IrufeJbSYXKCgfbQ+dYWj6e+8jNx76FdwV6sQr5kenwo8VHXk6KkELuFqa3noK8uwl1JF/7F2tmK4+RYav9pBa4T7bDjXgJ1Ea72jrDMparyScHspiAON+9174zqUmcXDA/IbYgzdsGaVQ3H+p45/DX/YrZ/3/fEXwREPquv3PAym9zzwA2vjN0UNd8uh1B3+H+J5wha3oc2plpbMbDojkJRUojdwuQN0UTyHK+k/a0aTry+hg/eXOHzoT+9mljFc7H6Q0diVWdAiNyGlT4TgIhQcX8FreNvJnvM7qjzsVw/iyrLgjuLP3jncTDbeqlJ5Ak/9FqCL+spXs8Jra0YWNRQKEoKsVuw8ts/bTk+6E5pa7QvnpMsSnLixDZCCFWYDbiklnz4uzg7fZmQ3YfmR7m/wNde1WBw5LSSW7ohyljE03AKxBjeXuOidHRpwvONpH5/PXe/9SU+KL2e02bVcePSzripsVZ/cyCLTEkedT0pSorJzc4NxikKcwpZee5K3G0zotwpS3KeZ7U8ArUHqB9dQO34IoviOcE1/+dUjy5IqsWolcLs2WMDTYIqycvPYdTEzRx3H7JshiQON6MmbA5qOSXS6yKUvrZE7U/2UjKqukps1FAoSoqwKqbrPtkN9OoVBbq5/XveAyw2f0L83py6ojEWPn0HdSVluCqWBv36SSnLRrCosixkjAu4AYCK+yssxzucrQj0qXNdrOrpWOnD8TSwlMFBW6EqSoqoWl9lXVFdUBoecH78e7DjN2FjKqZMxkh0YqggNFzbEHYssscE9K93dMLzHgDsWqoG3EQV91dgLGI1VvdB6R8ZW5mtKMOZhFI0G9b5s5vCiSymCx638OlbZSUl01kuksEMBMerd0iky5+SetT1pAwKG3c3Bd0sfXFdDEUSStG0yW6qPtYaJvAHvsX6/PLzqVpfFeamabbObu1z7+hERPZiuYuSIZ4x7WtsYyT+e0slaiiUlBPpGonVW2AoE7l4nl9+Po/teyz2Imejm+Rq78Br4JZxk+nK7sS4i1g4fX7Y9QKB3eKSKzl0ILqnV9zOcjGIFQgeSHmMeMa0L8qwI+Xf22CihkJJObFcI8Plf1yrxfOxfY+x8KMLea7xufBF7kS7ryNdWyOII9iJLhRj4OjxORw++mXAVzvwXOMaSzdN4cTN5B2pSKogrT8MZIA5kR1DstlLI+Hf22CjMQol5di5QPrqGslE7BbPda9s4c0d1ZzS8nP+5SP/5TMS/tafYCyNhNfAAycv4WaPz0gEFn07N81x96GkC9L6Q8sAymOkot5hJPx7G2x0R6GknElFeZYKoP1xjWQadoukN+tYWI/rqtGreCZHqPvQpPDWox3dYLxQWM7Oj/wra189DYnwr9/9lr2bJjzVNXVs3N2EcRdayn4kE2COjiH814DNfyT8exts1FAoKacvWj1DDTtfu3EXhXV4e8KRzy1WXegOH8O13Ndc6Bxg+4Lo7+hrYHcguWPzG3R555NbuiFcSNDrTHgeqY4hjIR/b4NNWl1PInKpiLwhIvtEpMbivIjInf7zDSIyMx3zVPpHX7R6hhrVM6shQgbDeJ1ccSSXnzvvptxxGIfAnWOLrAvpxo+L+x2ZIEvR3NqJ53glXS2L8fYUYQx4e4roalmc8DwGOp03kpHw722wSduOQkSygLuATwGNwEsisskY82rIsMuA0/w/5wK/9P9WhhiD5RoZDOxSQ69/aDc5fhVY4y7izMNTuK1rE46QujlbMb8su64L4aRbliLg1vEcrwzKeQBBWfFEGIwYwnD695YJpNP1NBvYZ4zZDyAiDwELgVBDsRB4wPjKx18QkSIRKTXGRO/xFSVFhBqGwlGFnOg5gcd4gPDU0ImOOTS91bt4/jTnO0Qqgdt1oSspsBbNyzQGwq2jMYShRzpdT2VAaD/FRv+xZMcAICLLRGSHiOw4dOjQgE5UGblEdqhr7W4NGokAgdTQ5fNPD+vzPEmi24BWH2uN6laH18nccdekZP4DzUC4dSLvE2gMIdOJu6MQkW8DDxpjjg3wd1vttSNLVBMZ4ztozFpgLfi0nvo3NUXxYZX2asWB9gNRQn8HZQIlhD+0uNo7MMAtYyfT6S+k6z40n4f2T+DssU1Dwl3SX7dO5H3SyunMJxHXUwm++MEu4F5gsxkYJcFGYHLI+3KguQ9jFCVlJFobUFJQAg3rWPTsahZ1NcKHyuG0BfC334E71M0idHecz6EjXwz7vIeRVRCmMYShRVzXkzHmB/iCyb8BrgPeFJEfi8hH+vndLwGnichUEckBrgI2RYzZBHzRn/10HtCm8QllMEmkNiA3K5fq4nPDC+na3vMZibOvhsLJgEDhZF6aeTv/r/OLltfRgjAlU0komG2MMSJyADgAeICxwHoRedIYc0NfvtgY4/G7tTYDWcC9xphXROQb/vO/Ap4ALgf2AR3Al/ryXYrSV5E4q9oFp8NJfnY+x3uO+7Keis/F9ee7oqus3Z3w5hb47t7gHHz1AtbKsBrMVTKVRGIU3wGuBQ4D9wDLjTFuEXEAbxLodtIHjDFP4DMGocd+FfLaAN/q6/UVBfpX4GUnStd7rIW61vWQPwpXe0f0BUJE/6zqBwJoMFfJZBLZURQDi40x74YeNMZ4ReSK1ExLUfpPYBdhlYqZjEhcaO3Cxt1N1G56kM7Ch4KVyb1tSok2FoXlwZexXEtaEKZkMonEKFZFGomQc68N/JQUpf8EdhFWRiJAsjGBwDU7Cv4QLl+Br7q6ZsJ4qsonUV+Q7zvozIOLVwXH2LmWyory1EgoGY2qxyrDklhungDJxgQC13RYCOIBIBLcXdSPHg2fvhMqlgZPa/2AMlRRQ6EMS+LtFvqyQDe3drLAsY1SjyfmuC6Hg7pJU8OMBKgGkTJ0UfVYJS4D1fayP9dPNmvJTiYCfAu01efjzePa0S/yA/ev2HwsN6pNaSQH3Mctj2v9gDIUUUOhxGQg21729fp9yVqy0ySye4KPOY8T7fDHFdzsOYpIb8C6bmwRLdlZINECAsn0ZlCUTEddT0pMYrW9HKzr90WWOlk3j+08XrjNV0jXeTRMT8bV3sGWxmbWHDoSpd002D0iFCXV6I5CiYmdhEXo8b4WsyV6/b7KUifj5rGdR09rhARHOL7dhVBXUsYBb3dKXHOKkm7UUCgxsevcFnCt9LdbWbzrw+DIUtvNQ4CKKZN7W5ZG1klIFq75P8cVEbhWlOGEup6UmFTPrCY3KzfsWKhrpb/dyuJdHwYnrbR6ZjW5kf87GINXBBOa9hqokQBfncRnfhWV3aQoww3dUSgxsZOwcE1zsXF3k21mUaLFbLGuHyDlstQN63D9cQU4uqgbW8SB7CwE8EYEqbscDurGFvl2FXnj4LLb1UgoIwIZGMXwzGLWrFlmx44d6Z7GsCbS5RRJWVEe22suGuRZJUZYGqxzDNUH3sN1PLyIrmLKZIxFNpMYQ8PMVWoglGGHiOw0xsyyOqeuJ6VPpFPgrn5/PVXrq6i4v4Kq9VXU769P6rO1224KdqxrcbdRO3Z0uEsJX8tSK0pyitRIKCMONRRKn4jlWvrsx1NXVHbL1t9S8+eQhd5f75Cosah74Ta6TLROU93YorBjVi1Lc3FQfd7K/v0BijIE0RiF0idiVT4/83pqepZv3N3E7/evRZwRC/3JLm574af8eF1e3BjGgZ5WywK5A9nhwfLQoroD2VnkePLhxBLcbTMG8C9SlKFBWgyFiIwDHgamAO8AS616covIO8AH+Dq9eOz8Z8rgs3z+6Vz/8B7Lc6nq1HbH5jegxFqQr7XnICf83xsrRbfEc5IWZ/Q/+yhXU944Jp5ew3svfTjoYsses5sf7LyKmxraKI3qS5EaeRNFyQTS5XqqAZ42xpwGPO1/b8eFxpgZaiQyi0WVZYzNd1qeS1WntubWToy7yPKccRexwLGNbTnfYf+oq3lSvsWe+rVR46q7s6JdSl4v/9rahheh0VtMbfb1bKzaxvWvnhZmJHJLNyDOVvC7vG7afhM/2PaDPrvBFGWokC5DsRC43//6fmBRmuah9IObP33moMpmTyrKo/vQfIw33EAZr5MzD09hjfMeyh2HcQiUOw5zg/tuaFgXNtb1T6uoPXaCUrcHMYZSt4ebjn7An49/iWldDzKv507uOzE7qpfFqAmbo3pQuL1uPCZcSXYg5U0UJVNIS3qsiLQaY4pC3h8zxoy1GPc2cAwwwK+NMdGPiL1jlwHLAE499dSPv/uuZa8lZYDpj3xHstcFWLnhZdx5O3wLt7OVXE8e3znayjXt71uFHqBwcrBndZCGdfD0al+b0sJyats/y30nZkd9NEuEk/7/P0afUWN9fQsEoeHahmT+XEVJO7HSY1NmKETkKcBKQvP7wP0JGopJxphmEZkIPAn8qzHmuXjfrXUU/SfV0uKxsKrRCCi/Amz9/S+4IXsdk+QwAI6YC7hArU2jIT9Ta+qx+78gz5lFp/skBR9ZgyMn9nUClBaUsmXJloTGKkqmEMtQpCyYbYy5JMaE3heRUmNMi4iUAgdtrtHs/31QRB4FZgNxDYXSP/oqLW5nXJLddcSSBdl++WHm5/yGPLoT+2NCelaD9U7FLoMr0Lfijs1vcPDQfHJLN0CI+8npcGKMCXM/qXKsMhxJV3rsJuBaYI3/92ORA0SkAHAYYz7wv64CVg/qLEcodpLbN267EbA2FnbGZcc7R3nomQlJiQbGVIt9enXiRiKiZ7WVgOH1D++hICcLp0Nwe3v3FYFYS68C7UXU76+MMoSgWU/K8CddMYrxwDrgVODvwJXGmKMiMgm4xxhzuYhMAx71fyQb+J0x5tZErq+up8SxesK+qeFS2/G5WbnUzqmNWgyr1ldZq696xnL8zRVRx2NJfMxdszX4hL/AsS3oZjooEyghvEajviA/WOsQpvBaONlnJEKqqEOvG4kzSyjIyaat0z3wWlKKMgRIi+spFsaYI8DFFsebgcv9r/cDZw/y1EYUVk/YN265n6wYzdm6Tnax8pnbcbfNCFtI7fo5eLOiymMA+11D/bM3kT/hUcaUwESPl4uPHqe84wMASjiEl95UvfqC/LCWpD6F1/FwzldxXfDDhL8TwH3SUDAqmz03V9mOUZSRilZmj2CsYgEy7o9xP+fNOhblPrLr5+A4GZWjAFjXWtQ/exO1bz9KV7YvOv2+M4sfTSgk+/DJYKW0A/AaXwC7bmxRVN/qLodQd/h/cScRi8ges5tREzbT5mylan2puo8UJQLVehrBWD1h+wrKYmPcRVE9J+z6Snx26tfi11o0rIOfnUXdvvV0OaylvcPmCDR6i6NkNwK0tB8I1kEYeuMiF54xIWougUI6R04rIr7Yyk3bbqbyrm9w5n/+E9Pvm868312sRXTKiEYNxQgm8FSfPWY3BR9Zw+gzaoDYxQLGQPeh+UC4oXFNc1E7p5bSglJAEM9YWv++kC0vlvHZj5fZ965uWOfrSd32nu3CH3m8yRQzr+dOTrqtdyviKbLMmnrm9UPctng6RXm9BXuWhXSmG3fBdl86rECb+yA3bbtZjYUyYlHX0whm+fzTuXHL/TgmbghZLGMnN5iTeXiOVwLR7iPXNBfuthnhcQ86eWRnU7hxCOXp1cGe1InoMHWYHH7i8QWouw/NJy8iZTU3K5fWJus4Q3NrZzCLaUqNb9G320FFFte5TTd1u+rUJaWMSHRHMczZuLuJuWu2MrWmnrlrtrJxd1Pw3KLKMsZNfjrqiRp81cWRGK+T7vcXAPZSHUm3Rm1rDL60lPb2eqlu92AQmkwxNe6vssk7DwBn5yyWfPi7lBaUIgilBaXUzqllomOO5VeFGrYy/2s77Sgr7AL2ijLc0R3FMMYqqykyCH3cbS8Jvuaf1gRrBMY4J9B9cD7tx88MFqJZ7RBi1kBYUVgObe8B0dLeJV6onrY4mMH00u4mdm5+A4kq3Lsm7JLu+daV3aGGbfn801m54WW6/YV0ocbSGEslckoKYqSDKcowRg3FMCbW0328bKUxOWNwTXMl7WqxyyyyVZS9eJUvRuF3P7naO3D1GPj0nVGd5HqL32IT2mO7qbWTLJGwXU3ode7YnMPBFsj70BZMdiuFzgkcO/QRGLMjzHg4ZZRWXCsjFnU9DWMSebqvnllNtkQ/L3R4OpIP3jas40n5F/aP+me25XyHBY5tQBxF2YqlPqNQOBkQ328LI5EsiyrLWD7/dPKcWUFhv8COKuB+W1RZxvaai3jzxh/Q8JXnePnaBlae9z3GTngLETfGCBgodE7kh/Nu0fiEMmJRQzGMsXuKDz3umuZidM7oqDFurzs5uWx/9lJ+ZwsOMZQ7DrPGeQ/XjX7RPpAdoGKpT+G1ttX3e4B6UicbLwnIkLS5D4KAiCE3O5eV531PjYQyolFDMYwJPFFH0tHjCQtqt3W3WX4+qeBtSPZSgHzpobbgkZRLYdgF7JONl9hpXGl/CWWkozGKIUoiiqyB97WbXqG1s9fffqzDHRbUtotTWAVvbeXHQ7KXwrA7PkDECtgnGy+xM4ya7aSMdNRQDBFCDUNRvpMTXZ6g2mlgcfzbsa1sP/rbsEV8UaWLOza/EWYowOeCqd30ik9C23t+lIS2lVx2/f56arfdRJfxjWtpb6F2200AuEKyl8KIkPkeaGK5lwKZTbGyn0JJxmAqykhCDcUQIPKp+VhHdN2DO28H69/tXexDe0g026hytHa6/QakEgPkTtyMONsojZTL9neEqzvlJF0RBXFdxk3dC7fhisheAqJkvlNBLPdSaPZTIr0wqmdWh0mlg/aXUBRQQzEksHpqjmTUhM1hOwLoVXo1RMt8R+I5XsmJ45WUFeWxpeYin3G4fSp0Hg2OOTB2suVnD/S09gagQ1qMRsp8p4J47qVEU2qht8+G9pdQlHDUUAwBYsljB7CTovBmHSN7zO6g7EZC3/X492DHb6LOxZXYqFiacsMQSah7KaACK85WJGci9fs7k17k+1I7oijDHc16GgLYFquF4rGWohCB3NINZI/ZHfPjCxzb2JbzHfbnXm1pJCCGxEa3tZjfYLCosozbFk9nQskrYSqwbe6D1D5fq0J+ijIApMVQiMiVIvKKiHhFxLKjkn/cpSLyhojsE5GawZxjJmGV5urMEorynEFF1iunLYuS+Q4gDrfPNQXB8aHckn0vP3feTbnjcEztWFd7B7WHj1Lq9iDGUOr2UHvsBK5/Sm0cIh6LKssYW/5UlGaVprYqysCQLtfTXmAx8Gu7ASKSBdwFfApoBF4SkU3GmFcHZ4qZQ6JB2Vn7x1HzF2t7GnBNBT4bcNcscGzjmqyncMRWFw/iau8IajJROBkuuSOl7ibbdNwINLVVUVJHulqhvgYgVsprvcwG9vlboiIiDwELgRFnKCCxoKxrmou6XXWWKZ7GXRRMDQ01PDd0rEvYSASZ9RW44qdJfih5ApXSgSyk0EyuSGOhqa2KkjoyOUZRBoQm5jf6j1kiIstEZIeI7Dh0yF4Rdbhj1WnOeJ3kt386TEojoHNU7jgS95rBDhV542Dxfw6KkYDkKqXtOuxpaqui9J+U7ShE5CnA6nHu+8aYxxK5hMUx2646xpi1wFqAWbNmxe6+M4xJOsXTplDOGN/NbjbF3JPzBWp/cEsKZ21NMu4kTW1VlNSRMkNhjLmkn5doBEIT98uB5n5ec0TgOtGO671mfz2DFz7Wbj/YolDOa+C3Jy/hZs+XAZAeqE3xnK1I1p2kqa2Kkhoy2fX0EnCaiEwVkRzgKmBTmueU2QSK5DZ8zb9LML7ff/iO75wVITLfXoRGbzHXu/8laCQgwfTcFKDuJEXJDNISzBaRzwD/AUwA6kVkjzFmvohMAu4xxlxujPGIyLeBzUAWcK8x5pV0zDdTiCkE6Jf5jlRwBXzHnl5tn53kL5TbFJAK8SamjZRq1J2kKJmBGDP83PmzZs0yO3bsSPc0BpRIvSfwLeLBAPXPzrIW5Qsivn4PCXxPotpIiqIMH0RkpzHGsq5NJTyGCHHbmsaR8z5AMZ+oqY+7+CejjZRu1KgpyuCghiIGmbQQBfSeFji2cUP2OibJYZpNMXccXwpcZJu9BNBpcvix+0oM4f0ahvKiGqsPxVD+uxQlE1HXkw1xXT0pJtJItXd7OL/7GdY47yFfeoLjOhlF3uJf+N5YxChaOYVVPdewyTsv7HhZUR7bay5K+d+RKuau2WqpGjvU/y5FSRfqeuoDcV09KcTqadmZJaxwrgszEgB5dPsC1d/d6zsQIfNd+bsCy+KTRBRpM5lk25wqitJ3Mjk9Nq2kbSFqWMd5j32SVxyfY1vOd1jg2AaA+6ShVKyrqE1bo69n9O8KmNt9JxsXvuIzHBVLbVNb05XyOlAM179LUTIRNRQ2DPpCFFIDUcIhHALljsOscd4TNBbN3vGWH20242lq7QyLQWzc3QRYK8+mM+V1oBiuf5eiZCJqKGwY1IXo8e/BhmVh3eQC5EsPN2T7iuXuyfmCr71oCJ2M4nZ3eH1EoB/23DVb+e7DexiV7WBsfq8k+WDFWVJJoA9FWVHesPq7FCUT0RiFDcn2W06ahnXwxxWWxiGSSXKEPGcWM1zLIOvMsDhEzaFPRwWqIbQftu91njOLn31uxrBaSIdSKq+iDGU06ykBBjxNtmEdbPwX8LrjjwUOMIEXFv7Z8jvtsn+s0IwgRVHs0KynftCXfH1bw9Kwzr8biK53qC/Ip25sEQeysyjxnKT6WKuvQZAzj5JP/5hFFdbfFdqEKB6aEaQoSl9QQxGHZNNkIw3Lx48/yTkbv4Z57DCCYKWUXl+QT23xOLocvpBRizOb2uJxkDMa14W3xuwgZ+Ui6+jxcKwjereiGUGKovQFNRRxSDZNNtSwLHBsiyiQCzcSgV1ES3YWRHT763I4uHFsPowuIJ4EXqSv3q5YUDOCFEXpC2oo4jCpKM8yBmD3dD7r+JM8nOOT2PDiIFu8luMidxFWeI03qvVnIj2kUx6IVxRlRKHB7DgkJOUREnvwkljOcVX5JFqcidnp0oJStizZEtVDGnz9GWrn1Kr0tqIo/UKD2f0g7tN5RB+IRAtTDmRnxR8UGOtv/WnXQ3rlM7fz7bXozkFRlJSQrsZFV+LrrvkPwGxjjOXjv4i8A3wAnAQ8dtYu1UTl6zesg5/5axnEASZ+xlEAg68f9QSP4aDTqi14NIHWn3Y9pL1Zx4aVMqyiKJlFunYUe4HFwK8TGHuhMeZwiucTn7DU1pDspUSMhGSB8UJhObe0f5b7Tswm++Bucks3II7e7CSnw4kxBo/xBI+Ftv606yFt3EXB14MlXKgoysghLYbCGPMagEhiT9SDTmTVtLPAVxx30jp7KSbOPF9Pan+K6/019QB4jlfSBYyasBlxtmLcRfzw4hqgt/XnGOcEug/O59tr4cdFW6mafQ2Pd90Z5n4yXifdh+aHfaXWSyiKMpBkeozCAFtExAC/NsastRsoIsuAZQCnnnpq37+xYR089q0QowC425O8iH/HUTgZLl4VVgcRmkXlOV6J53gl4Kuadk3zVU27prksC/0eemYCV134HbYf/a3PDeUpovP9quA1Qr9DURRloEiZoRCRp4ASi1PfN8Y8luBl5hpjmkVkIvCkiLxujHnOaqDfiKwFX9ZTnyYN8PRq6nOzqRtbHF0lHYsQ91KkcQjFqpLaqsbBrtBvy4tlbK/ZAvRmZHnQeglFUVJHygyFMeaSAbhGs//3QRF5FJgNWBqKgaLec9S6ShrsjUWEeykWidY4JFLop/USiqIMBhnrehKRAsBhjPnA/7oKWJ3q760bP44uR3SVdN3YoghDYe9eikciqqeJFvqpgqqiKKkmXemxnwH+A5gA1IvIHmPMfBGZBNxjjLkc+BDwqD/gnQ38zhjzp1TP7UCWdYD9QHYW5I2DzmNx3Ut9JVRMsCjfidMhuL29XrRE3EoDrnSrKMqIJ11ZT48Cj1ocbwYu97/eD5w9yFOjpKDUMgW1JKcIVuyN+dm+LtL1++u57YWf0tpzEDO+iCzvfI4dr8SZJRTlOWnrdCd0vb4o3SqKosQjY11P6aJ6ZrWlTEb1eSuD7630ltxtM/q0SIfKcoiA5LSSW7qBLsB9vJKCUdnsubkqJd6E/wAACHFJREFUobknq3SrKIqSCGooIghoJtkJ70XqLbW0t1D7fC3dBxbT6a4Iu1Yii7SVLIc43IyasBnP8cqkaiKSVbpVFEVJBDUUFrimuWxF9uz0lryFT8Dhiqjx8RZpO1kOcbYCydVEJKt0qyiKkgiJatgpfuIt7JHEW6QDOk6RGHdR0jURy+efTp4zXGxQ6yoURekvaihsqN9fT9X6Kirur6BqfRX1+33SG7EWdiviLdLVM6vJzcoNv5bXSX77p8OlzBNgUWUZty2eTllRHoKv2jvZayiKokSi/SgsiNX3AYg6h9dJZ8viKCmNojxnQoHoRJoRKYqipJJY/SjUUFhQtb7KMkU2tIFQ6MI+d9w1PPTMBMvmRs7CPWoEFEXJeLRxUZLYxSFa2luouL/CcsE/e2x0DYWzcI9lhhSgxkJRlCGDGgoL7Po+ABiM5YJvJaVRtf5LlhlSdbvq1FAoijJk0GC2BVYB5kgCC34s7HYmdscVRVEyETUUFrimuaidU0tpQSmCfXOleAu+XYaU3XFFUZRMRA2FDa5pLrYs2ULDtQ2UFpRajom34FvtTEJbmyqKogwF1FDEYePuJo41XoLxOsOOJ7LgR+5MSgtKqZ1Tq/EJRVGGFJoeG4NQNdbsMbuD/a2Lciay8rzvhek/JZsCq7UTiqJkEpoe20dC1VhD+1sXFuXhutrX39pOJBDsU2D78hlFUZR0oa6nGCSixmonEhgrI6ovn1EURUkXaTEUInKHiLwuIg0i8qiIWAolicilIvKGiOwTkZrBnqedoF/o8VjFeaEaUdCrH2VXo6Fps4qiZCLp2lE8CZxljKkA/g9YGTlARLKAu4DLgH8EPi8i/ziYk0xEjTVW5lPApVS/vz7obrIzEvGupSiKki7SYiiMMVuMMR7/2xeAcoths4F9xpj9xpge4CFg4WDNERJTY41XnBdwKVm5m0LRtFlFUTKVTAhmfxl42OJ4GfBeyPtG4Fy7i4jIMmAZwKmnnjpgk7OS5ggltCNeX11KpQWlmvWkKErGkrIdhYg8JSJ7LX4Whoz5PuABHrS6hMUx21xeY8xaY8wsY8ysCRMm9P8PSIJAcV6swjw7t1JAkVaNhKIomUrKDIUx5hJjzFkWP48BiMi1wBXAPxvrYo5GYHLI+3KgOVXzHQhiVWJrlbaiKEOVtLieRORSYAXwSWNMh82wl4DTRGQq0ARcBVw9SFPsE6FuKLtCOi2yUxRlqJGWymwR2QeMAo74D71gjPmGiEwC7jHGXO4fdznwcyALuNcYc2si1x+oymxFUZSRQsZVZhtjPmpzvBm4POT9E8ATgzUvRVEUJRqtzFYURVFiooZCURRFiYkaCkVRFCUmaigURVGUmKihUBRFUWKihkJRFEWJiRoKRVEUJSbDshWqiBwC3k33PCIoBg6nexJJoPNNLTrf1KLzTZ4PG2MshfKGpaHIRERkh13VYyai800tOt/UovMdWNT1pCiKosREDYWiKIoSEzUUg8fadE8gSXS+qUXnm1p0vgOIxigURVGUmOiOQlEURYmJGgpFURQlJmooUoSIXCkir4iIV0Rs095E5B0ReVlE9ohI2rotJTHfS0XkDRHZJyI1gznHiHmME5EnReRN/++xNuPSdn/j3Svxcaf/fIOIzBzM+VmRwJwvEJE2//3cIyKr0jFP/1zuFZGDIrLX5nxG3d8E5psx9zYKY4z+pOAH+AfgdOBZYFaMce8AxUNhvvg6Db4FTANygL8B/5im+f4EqPG/rgFuz6T7m8i9wtek64+AAOcB/5vmfwOJzPkC4PF0zjNkLucDM4G9Nucz7f7Gm2/G3NvIH91RpAhjzGvGmDfSPY9ESXC+s4F9xpj9xpge4CFgYepnZ8lC4H7/6/uBRWmahx2J3KuFwAPGxwtAkYiUDvZEQ8ik/75xMcY8BxyNMSSj7m8C881Y1FCkHwNsEZGdIrIs3ZOJQxnwXsj7Rv+xdPAhY0wLgP/3RJtx6bq/idyrTLqfkPh8PiEifxORP4rImYMztT6Rafc3ETLy3qalZ/ZwQUSeAkosTn3fGPNYgpeZa4xpFpGJwJMi8rr/yWPAGYD5isWxlOVXx5pvEpcZtPsbQSL3alDvZwIkMp9d+DSBTojI5cBG4LSUz6xvZNr9jUfG3ls1FP3AGHPJAFyj2f/7oIg8im/7n5KFbADm2whMDnlfDjT385q2xJqviLwvIqXGmBa/O+GgzTUG7f5GkMi9GtT7mQBx52OMOR7y+gkRuVtEio0x6Ra0syLT7m9MMvnequspjYhIgYicEngNVAGWGREZwkvAaSIyVURygKuATWmayybgWv/ra4GoHVGa728i92oT8EV/ds55QFvAnZYm4s5ZREpERPyvZ+NbQ44M+kwTI9Pub0wy+t6mO5o+XH+Az+B7oukG3gc2+49PAp7wv56GL7Pkb8Ar+FxAGTtf//vLgf/Dlx2TzvmOB54G3vT/Hpdp99fqXgHfAL7hfy3AXf7zLxMjOy6D5vxt/738G/ACMCeNc/0foAVw+//tfiWT728C882Yexv5oxIeiqIoSkzU9aQoiqLERA2FoiiKEhM1FIqiKEpM1FAoiqIoMVFDoSiKosREDYWiKIoSEzUUiqIoSkzUUChKihGRc/z9EHL91eKviMhZ6Z6XoiSKFtwpyiAgIj8CcoE8oNEYc1uap6QoCaOGQlEGAb920ktAFz5phpNpnpKiJIy6nhRlcBgHjAZOwbezUJQhg+4oFGUQEJFN+DrGTQVKjTHfTvOUFCVhtB+FoqQYEfki4DHG/E5EsoDnReQiY8zWdM9NURJBdxSKoihKTDRGoSiKosREDYWiKIoSEzUUiqIoSkzUUCiKoigxUUOhKIqixEQNhaIoihITNRSKoihKTP4/DYxKVLBdh0oAAAAASUVORK5CYII=\n",
      "text/plain": [
       "<Figure size 432x288 with 1 Axes>"
      ]
     },
     "metadata": {
      "needs_background": "light"
     },
     "output_type": "display_data"
    }
   ],
   "source": [
    "# Insert your code for getting overfitting, underfitting and just right fitting\n",
    "L  = [1, 10, 1]\n",
    "NN = init_NN(L)\n",
    "ACT_F = [ReLU, Linear]\n",
    "\n",
    "# Initialize training hyperparameters\n",
    "EPOCHS = 10000\n",
    "BATCH_SIZE = 128 \n",
    "LEARN_R = 1e-1\n",
    "\n",
    "train_loss = []\n",
    "val_loss = []\n",
    "\n",
    "for e in range(EPOCHS):\n",
    "    # Mini-batch indexes\n",
    "    idx = np.random.choice(x_train.shape[0], size=BATCH_SIZE)\n",
    "    # Forward pass\n",
    "    aff, units = forward_pass(x_train[idx,:], NN, ACT_F)\n",
    "    # Backward pass\n",
    "    g_b, g_w = backward_pass(x_train[idx,:], y_train[idx], units[-1], units, aff, NN, ACT_F, squared_error)\n",
    "    \n",
    "    # Stochastic gradient descent\n",
    "    for l in range(len(g_b)):\n",
    "        NN[0][l] -= LEARN_R*g_w[l]\n",
    "        NN[1][l] -= LEARN_R*g_b[l]\n",
    "        \n",
    "    # Training loss\n",
    "    _, units = forward_pass(x_train, NN, ACT_F)\n",
    "    # Estimate loss function\n",
    "    #print(np.max(squared_error(y_train, units[-1])))\n",
    "    train_loss.append(np.mean(squared_error(y_train, np.squeeze(units[-1]))))\n",
    "    \n",
    "    # Validation\n",
    "    # Forward pass\n",
    "    _, units = forward_pass(x_validation, NN, ACT_F)\n",
    "    # Estimate validation loss function\n",
    "    val_loss.append(np.mean(squared_error(y_validation, np.squeeze(units[-1]))))\n",
    "    \n",
    "    if e%1000==0:\n",
    "        print(\"{:4d}\".format(e),\n",
    "              \"({:5.2f}%)\".format(e/EPOCHS*100), \n",
    "              \"Train loss: {:4.3f} \\t Validation loss: {:4.3f}\".format(train_loss[-1], val_loss[-1]))\n",
    "    \n",
    "\n",
    "# Plots\n",
    "plt.plot(range(len(train_loss)), train_loss);\n",
    "plt.plot(range(len(val_loss)), val_loss);\n",
    "plt.show()\n",
    "_, units = forward_pass(x_test, NN, ACT_F)\n",
    "\n",
    "plt.scatter(y_test, units[-1]);\n",
    "plt.plot([np.min(y_test), np.max(y_test)], [np.min(y_test), np.max(y_test)], color='k');\n",
    "plt.xlabel(\"y\");\n",
    "plt.ylabel(\"$\\hat{y}$\");\n",
    "plt.title(\"Model prediction vs real in the test set, the close to the line the better\")\n",
    "plt.grid(True);\n",
    "plt.axis('equal');\n",
    "plt.tight_layout();\n",
    "\n",
    "print(\"Test loss:  {:4.3f}\".format(np.mean(squared_error(y_test, np.squeeze(units[-1])))))\n",
    "\n",
    "plt.show()\n",
    "if D1:\n",
    "    plt.scatter(x_train[:,0], y_train, label=\"train data\");\n",
    "    plt.scatter(x_test[:,0], units[-1], label=\"test prediction\");\n",
    "    plt.scatter(x_test[:,0], y_test, label=\"test data\");\n",
    "    plt.legend();\n",
    "    plt.xlabel(\"x\");\n",
    "    plt.ylabel(\"y\");\n",
    "else:\n",
    "    plt.scatter(x_train[:,1], y_train, label=\"train data\");\n",
    "    plt.scatter(x_test[:,1], units[-1], label=\"test data prediction\");\n",
    "    plt.scatter(x_test[:,1], y_test, label=\"test data\");\n",
    "    plt.legend();\n",
    "    plt.xlabel(\"x\");\n",
    "    plt.ylabel(\"y\");"
   ]
  },
  {
   "cell_type": "markdown",
   "metadata": {},
   "source": [
    "# Next steps - classification\n",
    "\n",
    "It is straight forward to extend what we have done to classification. \n",
    "\n",
    "For numerical stability it is better to make softmax and cross-entropy as one function so we write the cross entropy loss as a function of the logits we talked about last week. \n",
    "\n",
    "Next week we will see how to perform classification in PyTorch."
   ]
  },
  {
   "cell_type": "markdown",
   "metadata": {},
   "source": [
    "## Exercise h) optional - Implement backpropagation for classification\n",
    "\n",
    "Should be possible with very few lines of code. :-)"
   ]
  },
  {
   "cell_type": "code",
   "execution_count": 41,
   "metadata": {},
   "outputs": [],
   "source": [
    "# Just add code."
   ]
  },
  {
   "cell_type": "code",
   "execution_count": null,
   "metadata": {},
   "outputs": [],
   "source": []
  },
  {
   "cell_type": "code",
   "execution_count": null,
   "metadata": {},
   "outputs": [],
   "source": []
  },
  {
   "cell_type": "code",
   "execution_count": null,
   "metadata": {},
   "outputs": [],
   "source": []
  }
 ],
 "metadata": {
  "anaconda-cloud": {},
  "kernelspec": {
   "display_name": "Python 3",
   "language": "python",
   "name": "python3"
  },
  "language_info": {
   "codemirror_mode": {
    "name": "ipython",
    "version": 3
   },
   "file_extension": ".py",
   "mimetype": "text/x-python",
   "name": "python",
   "nbconvert_exporter": "python",
   "pygments_lexer": "ipython3",
   "version": "3.8.1"
  }
 },
 "nbformat": 4,
 "nbformat_minor": 4
}
>>>>>>> Stashed changes
