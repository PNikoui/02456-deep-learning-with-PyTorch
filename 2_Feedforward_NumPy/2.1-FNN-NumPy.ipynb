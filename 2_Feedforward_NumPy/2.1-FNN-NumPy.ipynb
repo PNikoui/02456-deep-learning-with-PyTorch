{
 "cells": [
  {
   "cell_type": "markdown",
   "metadata": {},
   "source": [
    "# Contents and why we need this lab\n",
    "\n",
    "This lab is about implementing neural networks yourself in NumPy before we start using other frameworks which hide some of the computation from you. It builds on the first lab where you derived the equations for neural network forward and backward propagation and gradient descent parameter updates."
   ]
  },
  {
   "cell_type": "markdown",
   "metadata": {},
   "source": [
    "# External sources of information\n",
    "\n",
    "1. Jupyter notebook. You can find more information about Jupyter notebooks [here](https://jupyter.org/). It will come as part of the [Anaconda](https://www.anaconda.com/) Python installation. \n",
    "2. [NumPy](https://numpy.org/). Part of Anaconda distribution. If you already know how to program most things about Python and NumPy can be found through Google search. \n"
   ]
  },
  {
   "cell_type": "markdown",
   "metadata": {},
   "source": [
    "# This notebook will follow the next steps:\n",
    "\n",
    "1. Data generation\n",
    "2. Initialization of parameters\n",
    "3. Definition of activation functions   \n",
    "4. A short explanation of numpy's einsum function\n",
    "5. Forward pass\n",
    "6. Backward pass (backward pass and finite differences)\n",
    "7. Training loop \n",
    "8. Testing your model\n",
    "9. Further extensions"
   ]
  },
  {
   "cell_type": "markdown",
   "metadata": {},
   "source": [
    "# Create an artificial dataset to play with\n",
    "\n",
    "We create a non-linear 1d regression task. The generator supports various noise levels and it creates train, validation and test sets. You can modify it yourself if you want more or less challenging tasks."
   ]
  },
  {
   "cell_type": "code",
<<<<<<< Updated upstream
   "execution_count": null,
   "metadata": {
    "collapsed": true
   },
=======
   "execution_count": 9,
   "metadata": {},
>>>>>>> Stashed changes
   "outputs": [],
   "source": [
    "import numpy as np\n",
    "import matplotlib.pyplot as plt\n",
    "\n",
    "np.random.seed(42)"
   ]
  },
  {
   "cell_type": "code",
<<<<<<< Updated upstream
   "execution_count": null,
   "metadata": {
    "collapsed": true
   },
=======
   "execution_count": 10,
   "metadata": {},
>>>>>>> Stashed changes
   "outputs": [],
   "source": [
    "def data_generator(noise=0.1, n_samples=300, D1=True):\n",
    "    # Create covariates and response variable\n",
    "    if D1:\n",
    "        X = np.linspace(-3, 3, num=n_samples).reshape(-1,1) # 1-D\n",
    "        np.random.shuffle(X)\n",
    "        y = np.random.normal((0.5*np.sin(X[:,0]*3) + X[:,0]), noise) # 1-D with trend\n",
    "    else:\n",
    "        X = np.random.multivariate_normal(np.zeros(3), noise*np.eye(3), size = n_samples) # 3-D\n",
    "        np.random.shuffle(X)    \n",
    "        y = np.sin(X[:,0]) - 5*(X[:,1]**2) + 0.5*X[:,2] # 3-D\n",
    "\n",
    "    # Stack them together vertically to split data set\n",
    "    data_set = np.vstack((X.T,y)).T\n",
    "    \n",
    "    train, validation, test = np.split(data_set, [int(0.35*n_samples), int(0.7*n_samples)], axis=0)\n",
    "    \n",
    "    # Standardization of the data, remember we do the standardization with the training set mean and standard deviation\n",
    "    train_mu = np.mean(train, axis=0)\n",
    "    train_sigma = np.std(train, axis=0)\n",
    "    \n",
    "    train = (train-train_mu)/train_sigma\n",
    "    validation = (validation-train_mu)/train_sigma\n",
    "    test = (test-train_mu)/train_sigma\n",
    "    \n",
    "    x_train, x_validation, x_test = train[:,:-1], validation[:,:-1], test[:,:-1]\n",
    "    y_train, y_validation, y_test = train[:,-1], validation[:,-1], test[:,-1]\n",
    "\n",
    "    return x_train, y_train,  x_validation, y_validation, x_test, y_test"
   ]
  },
  {
   "cell_type": "code",
<<<<<<< Updated upstream
   "execution_count": null,
   "metadata": {
    "collapsed": true
   },
=======
   "execution_count": 11,
   "metadata": {},
>>>>>>> Stashed changes
   "outputs": [],
   "source": [
    "D1 = True\n",
    "x_train, y_train,  x_validation, y_validation, x_test, y_test = data_generator(noise=0.5, D1=D1)"
   ]
  },
  {
   "cell_type": "code",
<<<<<<< Updated upstream
   "execution_count": null,
   "metadata": {
    "collapsed": true
   },
   "outputs": [],
=======
   "execution_count": 12,
   "metadata": {},
   "outputs": [
    {
     "data": {
      "image/png": "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\n",
      "text/plain": [
       "<Figure size 432x288 with 1 Axes>"
      ]
     },
     "metadata": {
      "needs_background": "light"
     },
     "output_type": "display_data"
    }
   ],
>>>>>>> Stashed changes
   "source": [
    "if D1:\n",
    "    plt.scatter(x_train[:,0], y_train);\n",
    "    plt.scatter(x_validation[:,0], y_validation);\n",
    "    plt.scatter(x_test[:,0], y_test);\n",
    "else:\n",
    "    plt.scatter(x_train[:,1], y_train);\n",
    "    plt.scatter(x_validation[:,1], y_validation);\n",
    "    plt.scatter(x_test[:,1], y_test);\n",
    "plt.show()"
   ]
  },
  {
   "cell_type": "markdown",
   "metadata": {},
   "source": [
    "# Initialization"
   ]
  },
  {
   "cell_type": "markdown",
   "metadata": {},
   "source": [
    "The steps to create a feed forward neural network are the following:\n",
    "\n",
    "1. **Number of hidden layer and hidden units**. We have to define the number of hidden units in each layer. We are going to save these numbers in a list \"L\" that is going to start with our input dimensionality (the number of features in X) and is going to finish with our output dimensionality (the size of Y). Anything in between these values are going to be hidden layers and the number of hidden units in each hidden layer is defined by the researcher. Remember that for each unit in each layer (besides the first one, according to our list L) there is a bias term.\n",
    "2. **Activation functions** for each hidden layer. Each hidden layer in your list must have an activation function (it can also be the linear activation which is equivalent to identity function). The power of neural networks comes from non-linear activation functions that learn representations (features) from the data allowing us to learn from it. \n",
    "3. **Parameter initialization**. We will initialize the weights to have random values. This is done in practice by drawing pseudo random numbers from a Gaussian or uniform distribution. It turns out that for deeper models we have to be careful about how we scale the random numbers. This will be the topic of the exercise below. For now we will just use unit variance Gaussians.  \n",
    "\n",
    "Our initialization will work as follows: \n",
    "\n",
    "For each layer of the neural network defined in L, initialize a matrix of weights of size (units_in, units_out) from a random normal distribution [np.random.normal()](https://docs.scipy.org/doc/numpy-1.15.0/reference/generated/numpy.random.normal.html) and save them in a list called \"layers\". For each layer in our neural network, initialize a matrix of weights of size (1, units_out) as above and save them in a list called \"bias\". The function should return a tuple (layers, bias). The length of our lists must be len(L)-1."
   ]
  },
  {
   "cell_type": "code",
<<<<<<< Updated upstream
   "execution_count": null,
   "metadata": {
    "collapsed": true
   },
=======
   "execution_count": 13,
   "metadata": {},
>>>>>>> Stashed changes
   "outputs": [],
   "source": [
    "# Initialize neural network:\n",
    "# the NN is a tuple with a list with weights and list with biases\n",
    "def init_NN(L):\n",
    "    \"\"\"\n",
    "    Function that initializes our feed-forward neural network. \n",
    "    Input: \n",
    "    L: list of integers. The first element must be equal to the number of features of x and the last element \n",
    "        must be the number of outputs in the network.\n",
    "    Output:\n",
    "    A tuple of:\n",
    "    weights: a list with randomly initialized weights of shape (in units, out units) each. The units are the ones we defined in L.\n",
    "        For example, if L = [2, 3, 4] layers must be a list with a first element of shape (2, 3) and a second elemtn of shape (3, 4). \n",
    "        The length of layers must be len(L)-1\n",
    "    biases: a list with randomly initialized biases of shape (1, out_units) each. For the example above, bias would be a list of length\n",
    "        2 with a first element of shape (1, 3) and a second element of shape (1, 4).\n",
    "    \"\"\"\n",
    "    weights = []\n",
    "    biases  = []\n",
    "    for i in range(len(L)-1):\n",
    "        weights.append(np.random.normal(loc=0.0, scale=1.0, size=[L[i],L[i+1]])) \n",
    "        biases.append(np.random.normal(loc=0.0, scale=1.0, size=[1, L[i+1]]))     \n",
    "        \n",
    "    return (weights, biases)\n",
    "\n",
    "# Initialize the unit test neural network:\n",
    "# Same steps as above but we will not initialize the weights randomly.\n",
    "def init_NN_UT(L):\n",
    "    weights = []\n",
    "    biases  = []\n",
    "    for i in range(len(L)-1):\n",
    "        weights.append(np.ones((L[i],L[i+1]))) \n",
    "        biases.append(np.ones((1, L[i+1])))     \n",
    "    return (weights, biases)\n",
    "\n",
    "# Initializer the unit test neural network\n",
    "L_UT  = [3, 5, 1]\n",
    "NN_UT = init_NN_UT(L_UT)"
   ]
  },
  {
   "cell_type": "markdown",
   "metadata": {},
   "source": [
    "## Exercise a) Print all network parameters\n",
    "\n",
    "Make a function that prints all parameters (weights and biases) with information about in which layer the parameters are."
   ]
  },
  {
   "cell_type": "code",
<<<<<<< Updated upstream
   "execution_count": null,
   "metadata": {
    "collapsed": true
   },
=======
   "execution_count": 63,
   "metadata": {},
>>>>>>> Stashed changes
   "outputs": [],
   "source": [
    "# init_NN([1,3,5])\n",
    "def param(L):\n",
    "    \n",
    "    for i in range(len(L)-1):\n",
    "        print(\"layer %s\" % [i+1])\n",
    "        print(\"bias %s\" % init_NN(L)[i][i])\n",
    "        print(\"weights %s\" % init_NN(L)[i])\n",
    "   "
   ]
  },
  {
   "cell_type": "code",
   "execution_count": 64,
   "metadata": {},
   "outputs": [
    {
     "name": "stdout",
     "output_type": "stream",
     "text": [
      "layer [1]\n",
      "bias [[-0.49836239  0.99268854  0.54581717]]\n",
      "weights [array([[-1.93611531,  0.12584697,  1.02868261]]), array([[-1.21208989,  0.83423267,  0.27269779,  0.65038179, -0.96631239],\n",
      "       [ 0.15013612, -1.70487855, -2.27699121,  0.14082843,  1.10059761],\n",
      "       [ 0.25293681, -0.06344606, -0.18753412, -0.94256539, -0.2218609 ]])]\n",
      "layer [2]\n",
      "bias [[-0.46710341 -0.73378797  0.03606339  0.34753038  1.16350877]]\n",
      "weights [array([[ 2.68753437, -1.8100324 , -0.68793387]]), array([[0.14333917, 1.47907897, 0.61114365, 2.29088392, 0.10704238]])]\n"
     ]
    }
   ],
   "source": [
    "L = [1,3,5]\n",
    "param(L)"
   ]
  },
  {
   "cell_type": "markdown",
   "metadata": {},
   "source": [
    "# Advanced initialization schemes\n",
    "\n",
    "If we are not careful with initialization we can run into trouble with in both the forward and backward passes. We have random weights with random +/- sign so the signal we pass forward will also be random and zero on average. However, the absolute size of the signal may grow or shrink from layer to layer depending upon the absolute scale of random weights. A statistical analysis of this effect and the same effect for the backward pass are presented in these two papers: [Glorot initialization](http://proceedings.mlr.press/v9/glorot10a/glorot10a.pdf) and [He initialization](https://arxiv.org/pdf/1502.01852v1.pdf). \n",
    "\n",
    "The result of the analyses are proposals for how to make the initialization such that the variance of the signals (forward and backward) are kept constant when propagating layer to layer. The exact expressions depend upon the activation function used.\n",
    "\n",
    "We define $n_{in}$ and $n_{out}$ as the number of input units and output units of a particular layer. \n",
    "\n",
    "In the linked paper, Glorot and Bengio propose that for tanh activation functions the following two alternative initializations:\n",
    "\n",
    "$$ w_{ij} \\sim U \\bigg[ -\\sqrt{\\frac{6}{(n_{in} + n_{out})}}, \\, \\sqrt{\\frac{6}{(n_{in} + n_{out})}} \\bigg] $$\n",
    "\n",
    "$$ w_{ij} \\sim N \\bigg( 0, \\, \\frac{2}{(n_{in} + n_{out})} \\bigg) \\ . $$\n",
    "\n",
    "Here $U[a,b]$ is a uniform distribution in the interval $a$ to $b$ and $N(\\mu,\\sigma^2)$ is a Gaussian distribution with mean $\\mu$ and variance $\\sigma^2$.\n",
    "\n",
    "He et.al. proposes for Rectified Linear Unit activations (ReLU) the following initialization:\n",
    "\n",
    "$$ w_{ij} \\sim U \\bigg[ -\\sqrt{\\frac{6}{n_{in}}}, \\, \\sqrt{\\frac{6}{n_{in}}} \\bigg] $$\n",
    "\n",
    "$$w_{ij} \\sim N \\bigg( 0, \\, \\frac{2}{n_{in}} \\bigg) \\ . $$"
   ]
  },
  {
   "cell_type": "markdown",
   "metadata": {},
   "source": [
    "## Exercise b) Glorot and He initialization\n",
    "\n",
    "Implement these initialization schemes by modifying the code given below.\n",
    "\n",
    "**NOTE:** The Gaussian is defined as $N( \\mu, \\, \\sigma^{2})$ but Numpy takes $\\sigma$ as argument.\n",
    "\n",
    "Explain briefly how you would test numerically that these initializations have the sought after property. Hint: See plots in Glorot paper."
   ]
  },
  {
   "cell_type": "code",
   "execution_count": null,
   "metadata": {
    "collapsed": true,
    "jupyter": {
     "outputs_hidden": true
    }
   },
   "outputs": [],
   "source": [
    "## Glorot\n",
    "def init_NN_glorot_Tanh(L, uniform=False):\n",
    "    \"\"\"\n",
    "    Initializer using the glorot initialization scheme\n",
    "    \"\"\"\n",
    "    weights = []\n",
    "    biases  = []\n",
    "    for i in range(len(L)-1):\n",
    "        if uniform:\n",
    "            bound = 1.0 # <- replace with proper initialization\n",
    "            weights.append(np.random.uniform(low=-bound, high=bound, size=[L[i],L[i+1]])) \n",
    "            biases.append(np.random.uniform(low=-bound, high=bound, size=[1, L[i+1]]))  \n",
    "        else:\n",
    "            std = 1.0 # <- replace with proper initialization\n",
    "            weights.append(np.random.normal(loc=0.0, scale=std, size=[L[i],L[i+1]])) \n",
    "            biases.append(np.random.normal(loc=0.0, scale=std, size=[1, L[i+1]]))       \n",
    "        \n",
    "    return (weights, biases)\n",
    "\n",
    "## He\n",
    "def init_NN_he_ReLU(L, uniform=False):\n",
    "    \"\"\"\n",
    "    Initializer using the He initialization scheme\n",
    "    \"\"\"\n",
    "    weights = []\n",
    "    biases  = []\n",
    "    for i in range(len(L)-1):\n",
    "        if uniform:\n",
    "            bound = 1.0 # <- replace with proper initialization\n",
    "            weights.append(np.random.uniform(low=-bound, high=bound, size=[L[i],L[i+1]])) \n",
    "            biases.append(np.random.uniform(low=-bound, high=bound, size=[1, L[i+1]]))  \n",
    "        else:\n",
    "            std = 1.0 # <- replace with proper initialization\n",
    "            weights.append(np.random.normal(loc=0.0, scale=std, size=[L[i],L[i+1]])) \n",
    "            biases.append(np.random.normal(loc=0.0, scale=std, size=[1, L[i+1]]))       \n",
    "        \n",
    "    return (weights, biases)"
   ]
  },
  {
   "cell_type": "markdown",
   "metadata": {},
   "source": [
    "### Make a distribution plot for the weigths in each layer of of the network to see if they follow a normal distribution around zero."
   ]
  },
  {
   "cell_type": "markdown",
   "metadata": {},
   "source": [
    "# Activation functions\n",
    "\n",
    "To have a full definition of the neural network, we must define an activation function for every layer in our list L (again, exluding the first term, which is the number of input dimensions). Several activation functions have been proposed and have different characteristics. Here, we will implement the linear activation function (the identity function), the sigmoid activation function (squeeshes the outcome of each neuron into the $[0, 1]$ range), the Hyperbolic Tangent (Tanh) that squeeshes the outcome of each neuron to $[-1, 1]$ and the Rectified Linear Unit (ReLU). \n",
    "\n",
    "We will also include the derivative in the function. We need this in order to do our back-propagation algorithm. Don't rush, we will get there soon. For any neural network, save the activation functions in a list. This list must be of size len(L)-1."
   ]
  },
  {
   "cell_type": "markdown",
   "metadata": {},
   "source": [
    "## Linear activation"
   ]
  },
  {
   "cell_type": "code",
   "execution_count": null,
   "metadata": {
    "collapsed": true
   },
   "outputs": [],
   "source": [
    "def Linear(x, derivative=False):\n",
    "    \"\"\"\n",
    "    Computes the element-wise Linear activation function for an array x\n",
    "    inputs:\n",
    "    x: The array where the function is applied\n",
    "    derivative: if set to True will return the derivative instead of the forward pass\n",
    "    \"\"\"\n",
    "    \n",
    "    if derivative:              # Return the derivative of the function evaluated at x\n",
    "        return np.ones_like(x)\n",
    "    else:                       # Return the forward pass of the function at x\n",
    "        return x"
   ]
  },
  {
   "cell_type": "markdown",
   "metadata": {},
   "source": [
    "## Sigmoid activation"
   ]
  },
  {
   "cell_type": "code",
   "execution_count": null,
   "metadata": {
    "collapsed": true
   },
   "outputs": [],
   "source": [
    "def Sigmoid(x, derivative=False):\n",
    "    \"\"\"\n",
    "    Computes the element-wise Sigmoid activation function for an array x\n",
    "    inputs:\n",
    "    x: The array where the function is applied\n",
    "    derivative: if set to True will return the derivative instead of the forward pass\n",
    "    \"\"\"\n",
    "    f = 1/(1+np.exp(-x))\n",
    "    \n",
    "    if derivative:              # Return the derivative of the function evaluated at x\n",
    "        return f*(1-f)\n",
    "    else:                       # Return the forward pass of the function at x\n",
    "        return f"
   ]
  },
  {
   "cell_type": "markdown",
   "metadata": {},
   "source": [
    "## Hyperbolic Tangent activation"
   ]
  },
  {
   "cell_type": "code",
   "execution_count": null,
   "metadata": {
    "collapsed": true
   },
   "outputs": [],
   "source": [
    "def Tanh(x, derivative=False):\n",
    "    \"\"\"\n",
    "    Computes the element-wise Sigmoid activation function for an array x\n",
    "    inputs:\n",
    "    x: The array where the function is applied\n",
    "    derivative: if set to True will return the derivative instead of the forward pass\n",
    "    \"\"\"\n",
    "    f = (np.exp(x)-np.exp(-x))/(np.exp(x)+np.exp(-x))\n",
    "    \n",
    "    if derivative:              # Return the derivative of the function evaluated at x\n",
    "        return 1-f**2\n",
    "    else:                       # Return the forward pass of the function at x\n",
    "        return f"
   ]
  },
  {
   "cell_type": "markdown",
   "metadata": {},
   "source": [
    "## Rectifier linear unit (ReLU)"
   ]
  },
  {
   "cell_type": "code",
   "execution_count": null,
   "metadata": {
    "collapsed": true
   },
   "outputs": [],
   "source": [
    "def ReLU(x, derivative=False):\n",
    "    \"\"\"\n",
    "    Computes the element-wise Rectifier Linear Unit activation function for an array x\n",
    "    inputs:\n",
    "    x: The array where the function is applied\n",
    "    derivative: if set to True will return the derivative instead of the forward pass\n",
    "    \"\"\"\n",
    "    \n",
    "    if derivative:              # Return the derivative of the function evaluated at x\n",
    "        return (x>0).astype(int)\n",
    "    else:                       # Return the forward pass of the function at x\n",
    "        return np.maximum(x, 0)"
   ]
  },
  {
   "cell_type": "markdown",
   "metadata": {},
   "source": [
    "## Visualization"
   ]
  },
  {
   "cell_type": "markdown",
   "metadata": {},
   "source": [
    "Now that we have defined our activation functions we can visualize them to see what they look like:"
   ]
  },
  {
   "cell_type": "code",
   "execution_count": null,
   "metadata": {
    "collapsed": true
   },
   "outputs": [],
   "source": [
    "x = np.linspace(-6, 6, 100)\n",
    "units = {\n",
    "    \"Linear\": lambda x: Linear(x),\n",
    "    \"Sigmoid\": lambda x: Sigmoid(x),\n",
    "    \"ReLU\": lambda x: ReLU(x),\n",
    "    \"tanh\": lambda x: Tanh(x)\n",
    "}\n",
    "\n",
    "plt.figure(figsize=(5, 5))\n",
    "[plt.plot(x, unit(x), label=unit_name, lw=2) for unit_name, unit in units.items()]\n",
    "plt.legend(loc=2, fontsize=16)\n",
    "plt.title('Our activation functions', fontsize=20)\n",
    "plt.ylim([-2, 5])\n",
    "plt.xlim([-6, 6])\n",
    "plt.show()"
   ]
  },
  {
   "cell_type": "markdown",
   "metadata": {},
   "source": [
    "## Exercise c) Glorot initialization for all activation functions\n",
    "\n",
    "Implement a function by adding to the code snippet below that can take network L and list of activations function as argument and return a Glorot initialized network.  Hint: [This blog post](https://mmuratarat.github.io/2019-02-25/xavier-glorot-he-weight-init) gives a table for the activation functions we use here.\n",
    "\n",
    "Briefly explain in words how these how these values are calculated."
   ]
  },
  {
   "cell_type": "code",
   "execution_count": 20,
   "metadata": {},
   "outputs": [],
   "source": [
    "n_in = 1\n",
    "n_out = 1\n",
    "tanh = np.sqrt(2/(n_in+n_out))\n",
    "Sigmoid = 4*np.sqrt(2/(n_in+n_out))\n",
    "ReLU = np.sqrt(2)*np.sqrt(2/(n_in+n_out))"
   ]
  },
  {
   "cell_type": "code",
   "execution_count": null,
   "metadata": {
    "collapsed": true
   },
   "outputs": [],
   "source": [
    "def init_NN_Glorot(L, activations, uniform=False):\n",
    "    \"\"\"\n",
    "    Initializer using the glorot initialization scheme\n",
    "    \"\"\"\n",
    "    # Insert code here\n",
    "    \n",
    "# Initializes the unit test neural network\n",
    "L_UT  = [3, 5, 1]\n",
    "ACT_UT = [ReLU, Tanh]\n",
    "NN_Glorot = init_NN_Glorot(L_UT, ACT_UT)"
   ]
  },
  {
   "cell_type": "markdown",
   "metadata": {},
   "source": [
    "# Numpy einsum (EINstein SUMmation)"
   ]
  },
  {
   "cell_type": "markdown",
   "metadata": {},
   "source": [
    "[Einsum](https://docs.scipy.org/doc/numpy/reference/generated/numpy.einsum.html) gives us the possibility to compute almost any matrix operation in a single function. You can find a good description in the link above. Here are a few examples of some important uses:\n",
    "\n",
    "**Transpose:** We can write the transpose of matrix $A$:\n",
    "\n",
    "```\n",
    "np.einsum('ij -> ji', A) \n",
    "```\n",
    "\n",
    "**Trace:** We can write the trace of matrix $A$:\n",
    "\n",
    "```\n",
    "np.einsum('ii -> ', A) \n",
    "```\n",
    "\n",
    "**Diagonal:** We can write the diagonal of matrix $A$:\n",
    "\n",
    "```\n",
    "np.einsum('ii -> i', A) \n",
    "```\n",
    " \n",
    "**Matrix product:** We can write the multiplication of matrices $A$ and $B$ as:\n",
    "\n",
    "```\n",
    "np.einsum('ij, jk -> ik', A, B)\n",
    "```\n",
    "\n",
    "Note that $j$ in both matrices $A$ and $B$ should be the same size. \n",
    "\n",
    "**Batched matrix product (or why bothering):** All of the functions we performed above are built in numpy (np.tranpose, np.trace, np.matmul), however, when you want to do more complex operations, it might become less readable and computationaly efficient. Let's introduce a three dimensional matrix $H$ with indices $b,j,k$, where the first dimension is the batch (training example) dimension. In einsum, we can then write:\n",
    "\n",
    "```\n",
    "np.einsum('ij, bjk -> bik', A, H)\n",
    "```\n",
    "\n",
    "In order to perform a batched matrix multiplication where we multiple over the second dimension in the first marix and second dimension in the second matrix. The result is a new three dimensional matrix where the first dimension is the first dimension from $H$ and second is the first dimension from $A$ and last dimension the last dimension from $H$. This is a very simple one line (and readable) way to do matrix operations that will be very useful for neural network code. \n",
    "\n",
    "\n",
    "#### _**Tips and tricks when using einsum**_\n",
    "\n",
    "At the beginning, einsum might be a bit difficult to work with. The most important thing to do when using it is keeping track of the dimensions of your input and output matrices. An easy way to keep track of these dimensions is by using some sort of naming convention. Just like in the batched matrix product above we used $b$ to denote the batch dimension. In all the functions of this notebook, we leave some convention of names of indexes for the einsum in the explanation of the functions. We hope you find them useful!\n",
    "\n",
    "There are some other useful resources to understand numpy.einsum:\n",
    "\n",
    "* [Olexa Bilaniuk's great blogpost on einsum]( https://obilaniu6266h16.wordpress.com/2016/02/04/einstein-summation-in-numpy/ )\n",
    "* [Stackoverflow answer to: Understanding NumPy's einsum]( https://stackoverflow.com/q/26089893/8899404 )\n",
    "* [Jessica Stringham post on einsum]( https://jessicastringham.net/2018/01/01/einsum/ )\n",
    "* [Slides of einstein summation from oxford]( http://www-astro.physics.ox.ac.uk/~sr/lectures/vectors/lecture10final.pdfc )"
   ]
  },
  {
   "cell_type": "markdown",
   "metadata": {},
   "source": [
    "# Forward pass\n",
    "\n",
    "The forward pass has been implemented for you. Please note how we have used einsum to perform the affine tranformation."
   ]
  },
  {
   "cell_type": "markdown",
   "metadata": {},
   "source": [
    "#### Indices convention.\n",
    "\n",
    "* $i$: input - layer $l$ dimension.\n",
    "* $o$: output - layer $l+1$ dimension.\n",
    "* $b$: batch size dimension.\n",
    "\n",
    "<u>Attention</u>! \n",
    "\n",
    "By convention we consider column vectors.\n",
    "Depending on your implementation,\n",
    "sometimes you will need to transpose the matrix/vector dimensions. "
   ]
  },
  {
   "cell_type": "markdown",
   "metadata": {},
   "source": [
    "#### Matrices, Sums and Indices\n",
    "\n",
    "<u>Remember</u>!\n",
    "\n",
    "When we compute a matrix-vector product, the inner indices need to match; if we have $W \\in R^{K \\times J}$ and $z \\in R^{I}$, we can compute the matrix-vector product only if\n",
    "   *  $J=I$, then $Wz$ or \n",
    "   *  $K=I$, then $W^Tz$.\n",
    "   \n",
    "We need to transpose the matrix in the second case. Why?. Hint: inner indices matching).\n",
    "In general these two matrix-vector products are different. So pay attention to dimensions!\n",
    "\n",
    "Similarly, when we sum a matrix and a vector over a dimension, we can sum only if the dimensions match. Given the summation:\n",
    "    $$\\sum_{i=1}^I w_{ki}~z_{i},$$\n",
    "we can sum only if $J=I$.\n",
    "\n",
    "Index Contraction: after summing over an index, the index is contracted and the output is no more a function of that index. This means that if we sum over $i$, the result will be an object without index $i$."
   ]
  },
  {
   "cell_type": "markdown",
   "metadata": {},
   "source": [
    "#### Unpacking the forward pass. \n",
    "\n",
    "For each layer we want to compute a transformation between the activated units $z$ and the layer parameters $(W, b)$. In particular such transformation is an affine one, of the form:\n",
    "$$a^{(l)} = W^{(l)} z^{(l-1)} + b^{(l)},$$\n",
    "followed by a non-linear function (activation)\n",
    "$$z^{(l)} = h(a^{(l)}).$$\n",
    "\n",
    "If $W_{oi}$ is an element in a matrix with $O$ rows and $I$ columns, \n",
    "$z_{i}$ is a value in a vector of $I$ units and \n",
    "$b_o$ is a value in a vector of $O$ biases, \n",
    "we can write the affine transformation in different ways:\n",
    "\n",
    "* *Explicit notation*: $$\\sum_{i=1}^{I} w_{oi}~z_{i} + b_o,   \\quad \\forall o=1,...O$$\n",
    "* *Matrix notation*: $$ Wz + b$$ or $$z^{T}W + b$$\n",
    "\n",
    "\n",
    "Given that we have only two indices ($i$ and $o$), after contracting $i$, the output will have dimension $O$."
   ]
  },
  {
   "cell_type": "markdown",
   "metadata": {},
   "source": [
    "#### Not so fast!\n",
    "\n",
    "In Deep Learning we have another dimension: the batch size for the data $x$. \n",
    "This additional dimension is needed to pack together samples from the dataset and parallelize computations.\n",
    "\n",
    "So we typically work with matrices $W_{io}$ (notice how the indices are switched now) and vectors $z_i$ in batches, that we write $X = \\{x_{bi}\\}^{B, I}_{i=0, b=0}$ or $Z = \\{z_{bi}\\}^{B, I}_{i=0, b=0}$.\n",
    "\n",
    "Why do we use $W_{io}$ and not $W_{oi}$ as before? In principle we can use both. In practice, given that we want the batch size as first dimension, it is simpler to use $W_{io}$ to match the inner dimensions.\n",
    "As we said before, depending on your specific implementation, you will need to transpose some matrices.\n",
    "\n",
    "$x_{bi}$ means that we process in parallel a batch of $B$ samples (for example $B$=64 images, where each image is a sample) with dimensionality $I$ (for images this dimension is between $10^{3}$ - $10^{6}$). The batch size cannot be too large (Why?) and shouldn't be too small (Why?)."
   ]
  },
  {
   "cell_type": "markdown",
   "metadata": {},
   "source": [
    "#### einsum\n",
    "\n",
    "If you try to write in numpy a matrix-matrix product or a matrix-tensor product, you will notice that things get coumbersome fast. Additionally, your data could be a structured object with 3/4/5 dimensions ($x_{bijk}$). It's easy to get confused and make some mistakes, in particular when some of such dimensions have the same numerical value but different meaning (imagine a batch of 100 samples with dimension 100).\n",
    "\n",
    "The **einsum** function is explicitly summing over the dimension of choice taking care of the details related to batching in an efficient way. There is a striking similarity between the einsum notation and the explicit notation we have seen before. \n",
    "\n",
    "In the simple example we are working on, using einsum, matmul, or summing over an index is basically the same. \n",
    "For more complex problems in computer vision, natural language processing, generative modeling, etc. einsum helps dealing with the details."
   ]
  },
  {
   "cell_type": "markdown",
   "metadata": {},
   "source": [
    "#### Putting it all together.\n",
    "\n",
    "Ok! Here we are. Let's write again the explicit form for the batch case. As before, $W \\in R^{I \\times O}$ (or $W^{T} \\in R^{O \\times I}$) is a matrix, $z_{bi}$ is a matrix (or a collection of $b$ row vectors), and $b_o$ is a vector (in practice the bias vector will be broadcasted for all the samples in a batch).\n",
    "\n",
    "* *Explicit notation*: \n",
    "$$\\sum_{i=1}^I z_{bi}~w_{io} + b_{o}, \\quad \\forall o, \\quad \\forall b$$\n",
    "Before, contracting $i$, we ended up with an object of dimension $o$. Now we end up with an object of dimensions $b~\\times~o$.\n",
    "\n",
    "\n",
    "* *Matrix notation*:\n",
    "$$ Z W + b $$"
   ]
  },
  {
   "cell_type": "code",
   "execution_count": null,
   "metadata": {
    "collapsed": true,
    "jupyter": {
     "outputs_hidden": true
    }
   },
   "outputs": [],
   "source": [
    "def forward_pass(x, NN, activations):\n",
    "    \"\"\"\n",
    "    This function performs a forward pass. \n",
    "    It saves lists for both affine transforms of units (a) and activated units (z)\n",
    "    Input:\n",
    "    x: The input of the network             (np.array of shape: (batch_size, number_of_features))\n",
    "    NN: The initialized neural network      (tuple of list of matrices)\n",
    "    activations: the activations to be used (list of functions, same len as NN)\n",
    "\n",
    "    Output:\n",
    "    a: A list of affine transformations, that is, all x*w+b.\n",
    "    z: A list of activated units (ALL activated units including input x and output y).\n",
    "    \n",
    "    Shapes for the einsum:\n",
    "    b: batch size\n",
    "    i: size of the input hidden layer (layer l)\n",
    "    o: size of the output (layer l+1)\n",
    "    \"\"\"\n",
    "    z = [x]\n",
    "    a = []\n",
    "    \n",
    "    for l in range(len(NN[0])):\n",
    "        \n",
    "        # layer l parameters (W, bias)\n",
    "        W = NN[0][l]\n",
    "        bias = NN[1][l]\n",
    "        \n",
    "        # \\sum_{i} z^{l}_{bi} W^{l}_{io} in explicit notation\n",
    "        # z * W                          in matrix notation\n",
    "        Wz = np.einsum('bi, io -> bo', z[l], W)\n",
    "        \n",
    "        # z * W + bias\n",
    "        Wzb = Wz + bias\n",
    "        \n",
    "        a.append(Wzb)                  # The affine transform z*w+bias\n",
    "        z.append(activations[l](a[l])) # The non-linearity    \n",
    "    \n",
    "    return a, z"
   ]
  },
  {
   "cell_type": "markdown",
   "metadata": {},
   "source": [
    "# Forward pass unit test\n",
    "\n",
    "Below is a piece of code that takes a very particular setting of the network and inputs and test whether it gives the expected results."
   ]
  },
  {
   "cell_type": "code",
   "execution_count": null,
   "metadata": {
    "collapsed": true
   },
   "outputs": [],
   "source": [
    "ACT_F_UT = [Linear, Linear]\n",
    "test_a, test_z = forward_pass(np.array([[1,1,1]]), NN_UT, ACT_F_UT) # input has shape (1, 3) 1 batch, 3 features\n",
    "\n",
    "# Checking shapes consistency\n",
    "assert np.all(test_z[0]==np.array([1,1,1])) # Are the input vector and the first units the same?\n",
    "assert np.all(test_z[1]==test_a[0])         # Are the first affine transformations and hidden units the same?\n",
    "assert np.all(test_z[2]==test_a[1])         # Are the output units and the affine transformations the same?\n",
    "\n",
    "# Checking correctnes of values\n",
    "# First layer, calculate np.sum(np.array([1,1,1])*np.array([1,1,1]))+1 = 4\n",
    "assert np.all(test_z[1] == 4.)\n",
    "# Second layer, calculate np.sum(np.array([4,4,4,4,4])*np.array([1,1,1,1,1]))+1 = 21\n",
    "assert np.all(test_z[2] == 21.)"
   ]
  },
  {
   "cell_type": "markdown",
   "metadata": {},
   "source": [
    "# Loss functions"
   ]
  },
  {
   "cell_type": "markdown",
   "metadata": {},
   "source": [
    "In order to perform a backward pass we need to define a loss function and its derivative with respect to the output of the neural network $y$"
   ]
  },
  {
   "cell_type": "code",
   "execution_count": null,
   "metadata": {
    "collapsed": true,
    "jupyter": {
     "outputs_hidden": true
    }
   },
   "outputs": [],
   "source": [
    "def squared_error(t, y, derivative=False):\n",
    "    \"\"\"\n",
    "    Computes the squared error function and its derivative \n",
    "    Input:\n",
    "    t:      target (expected output)          (np.array)\n",
    "    y:      output from forward pass (np.array, must be the same shape as t)\n",
    "    derivative: whether to return the derivative with respect to y or return the loss (boolean)\n",
    "    \"\"\"\n",
    "    if np.shape(t)!=np.shape(y):\n",
    "        print(\"t and y have different shapes\")\n",
    "    if derivative: # Return the derivative of the function\n",
    "        return (y-t)\n",
    "    else:\n",
    "        return 0.5*(y-t)**2"
   ]
  },
  {
   "cell_type": "markdown",
   "metadata": {},
   "source": [
    "## Exercise d) Implement cross entropy loss\n",
    "\n",
    "Insert code below to implement cross-entropy loss for general dimensionality of $t$."
   ]
  },
  {
   "cell_type": "code",
   "execution_count": null,
   "metadata": {
    "collapsed": true,
    "jupyter": {
     "outputs_hidden": true
    }
   },
   "outputs": [],
   "source": [
    "def cross_entropy_loss(t, y, derivative=False):\n",
    "    \"\"\"\n",
    "    Computes the cross entropy loss function and its derivative \n",
    "    Input:\n",
    "    t:      target (expected output)          (np.array)\n",
    "    y:      output from forward pass (np.array, must be the same shape as t)\n",
    "    derivative: whether to return the derivative with respect to y or return the loss (boolean)\n",
    "    \"\"\"\n",
    "    ## Insert code here"
   ]
  },
  {
   "cell_type": "markdown",
   "metadata": {},
   "source": [
    "# Backward pass "
   ]
  },
  {
   "cell_type": "markdown",
   "metadata": {},
   "source": [
    "## Exercise e) Complete code for backward pass\n",
    "\n",
    "Below is a implementation of the backward pass with some lines removed. Insert the missing lines."
   ]
  },
  {
   "cell_type": "markdown",
   "metadata": {},
   "source": [
    "#### Useful resources.\n",
    "\n",
    "Math intro:\n",
    "* https://www.deeplearningbook.org/contents/mlp.html\n",
    "* http://neuralnetworksanddeeplearning.com/chap2.html\n",
    "* http://pandamatak.com/people/anand/771/html/node37.html\n",
    "\n",
    "Code intro:\n",
    "* https://cs231n.github.io/neural-networks-case-study/#grad"
   ]
  },
  {
   "cell_type": "markdown",
   "metadata": {},
   "source": [
    "<u>Attention!</u>\n",
    "\n",
    "This is a difficult topic. It's normal to be confused and not immediately grasp the complete algorithm. Just work your way through it writing down the equations, writing down a small network explicitly, and thinking about the model."
   ]
  },
  {
   "cell_type": "markdown",
   "metadata": {},
   "source": [
    "#### Unpacking the backward pass.\n",
    "\n",
    "Before we learned how to **forward** data input $X$ in a parametric model $W$ to obtain a final output $y$ and build a loss function $E(t, y)$ that measures how far our prediction $y$ is from the target $t$.\n",
    "For a generic FFN at layer $l$ we can write:\n",
    "\n",
    "$$a^{(l)} = W^{(l)} z^{(l-1)} + b^{(l)},$$\n",
    "$$z^{(l)} = h(a^{(l)}),$$\n",
    "where $z^{(0)}=x$ and $z^{(L)} = y$.\n"
   ]
  },
  {
   "cell_type": "markdown",
   "metadata": {},
   "source": [
    "#### Backpropagation.\n",
    "\n",
    "As the name suggests, the backpropagation algorithm is a procedure to adjust the model parameters $(W, b)$ \n",
    "<u>*propagating backward a measure of error*</u> such that our prediction $y$ is as close as possible to the target $t$.\n",
    "\n",
    "The proxy we use to measure closeness between $y$ and $t$ is a loss function $E(t, y)$. \n",
    "\n",
    "<u>Attention!</u>\n",
    "This loss is a function of the model parameters through $y = g(x, w, b)$. \n",
    "When we optimize wrt. the model parameters $(W, b)$ we can write the loss as a function of such parameters $E(w, b)$ because $y=g(w, b)$ and $t$ and $x$ are fixed input and output.\n",
    "\n",
    "In practice, backpropagation is a gradient based optimization strategy. \n",
    "Our goal is to compute all the partial derivatives $\\dfrac{\\partial E(w, b)}{\\partial w^l_{ji}}$ and $\\dfrac{\\partial E(w, b)}{\\partial b^l_{j}}$ for each layer $l$ and each unit $i$ and $j$ in the network.\n",
    "\n",
    "Computing the partial derivative wrt. the parameters directly is not easy. \n",
    "The loss depends in a non-linear and hierarchical way from the parameters. What backpropagation give us is an efficient and systematic way to compute the partial derivative as a function of intermediate quantities. The most important of such quantities is the error $\\delta_l$."
   ]
  },
  {
   "cell_type": "markdown",
   "metadata": {},
   "source": [
    "#### Error propagation - final layer $L$.\n",
    "\n",
    "Consider the final layer $L$.\n",
    "The partial derivatives can be written as:\n",
    "\n",
    "$$\\dfrac{\\partial E(w, b)}{\\partial w^{L}_{ji}} =\n",
    "\\dfrac{\\partial E}{\\partial z^{L}_j}\n",
    "\\dfrac{\\partial z^{L}_j}{\\partial w^{L}_{ji}} = \n",
    "\\left(\n",
    "\\color{blue}{\\dfrac{\\partial E}{\\partial z^{L}_j}\n",
    "\\dfrac{\\partial z^{L}_j}{\\partial a^{L}_j}}\n",
    "\\right)\n",
    "\\dfrac{\\partial a^{L}_j}{\\partial w^{L}_{ji}} = \n",
    "\\color{blue}{\\delta^{L}_j}~\\dfrac{\\partial a^{L}_j}{\\partial w^{L}_{ji}} = \n",
    "\\delta^{L}_j~z^{L-1}_{i},\n",
    "$$\n",
    "\n",
    "where\n",
    "$a^{L}_j = \\sum_i w^{L}_{ji}~z^{L-1}_i + b^{L}_j$ and $z^{L}_j = h(a^{L}_j).$ \n",
    "\n",
    "$\\delta^{L}_j = \\partial E / \\partial a^{L}_j$ is the error at layer $L$ for unit $j$ and it is what we want to backpropagate. \n",
    "You see that it can be easily computed: \n",
    "$ \\partial E / \\partial z^{L}_j$\n",
    "is just the partial derivative of the loss wrt. to the activation.\n",
    "$ \\partial z^{L}_j / \\partial a^{L}_j$\n",
    "is the partial derivative of the activation wrt. the output of the affine transformation.\n",
    "You already know how to compute these derivative (How?) and consequently you know $\\delta^{L}_j$.\n",
    "\n",
    "For the biases in the final layer the computation is basically the same:\n",
    "\n",
    "$$\\dfrac{\\partial E(w, b)}{\\partial b_{j}} =\n",
    "\\left(\\dfrac{\\partial E}{\\partial z_j}\n",
    "\\dfrac{\\partial z_j}{\\partial a_j}\\right)\n",
    "\\dfrac{\\partial a_j}{\\partial b_{j}} = \n",
    "\\delta_j~\\dfrac{\\partial a_j}{\\partial b_{j}} = \n",
    "\\delta_j.\n",
    "$$\n",
    "\n",
    "You can see that $\\delta_j$ is the same we computed, and the only thing that changes is the partial derivative wrt $w_{ji}$ and $b_j$."
   ]
  },
  {
   "cell_type": "markdown",
   "metadata": {},
   "source": [
    "#### Error propagation - layer $l$.\n",
    "\n",
    "For a generic layer $l$ we want to derive a recursive formula for the error $\\delta^{l}_j$.\n",
    "In particular, if we at layer $l$ and unit $j$, we consider the $k$ downstream units influenced by $j$:\n",
    "\n",
    "$$\\dfrac{\\partial E(w, b)}{\\partial w^l_{ji}} =\n",
    "\\sum_k\n",
    "\\dfrac{\\partial E}{\\partial a^{l+1}_k}\n",
    "\\dfrac{\\partial a^{l+1}_k}{\\partial w^l_{ji}} =\n",
    "\\left(\n",
    "\\color{green}{\\sum_k\n",
    "\\dfrac{\\partial E}{\\partial a^{l+1}_k}\n",
    "\\dfrac{\\partial a^{l+1}_k}{\\partial z^l_j}\n",
    "\\dfrac{\\partial z^l_j}{\\partial a^l_j}}\n",
    "\\right)\n",
    "\\dfrac{\\partial a^l_j}{\\partial w^l_{ji}} = \n",
    "\\color{green}{\\delta^{l}_j}~\\dfrac{\\partial a^{l}_j}{\\partial w^{l}_{ji}} = \n",
    "\\delta^l_j~z^{l-1}_{i},\n",
    "$$\n",
    "\n",
    "where $a^{l}_j = \\sum_i w^{l}_{ji}~z^{l-1}_i + b^{l}_j$ and $z^{l}_j = h(a^{l}_j).$\n",
    "\n",
    "Notice how the terms in $\\delta^{l}_j$ are easy to compute: $\\partial E  / \\partial a^{l+1}_k = \\delta^{l+1}_k$ is known (we start from the last layer). $\\partial a^{l+1}_k / \\partial z^{l}_j$ is something new, but we can easily compute this term too. \n",
    "We notice that:\n",
    "$$a^{l+1}_k = \\sum_j w^{l+1}_{kj} z^{l}_{j} + b_k,$$\n",
    "and $\\partial a^{l+1}_k / \\partial z^{l}_j = w^{l+1}_{kj}$. \n",
    "Finally $\\partial z^l_j / \\partial a^l_j$ is just the partial derivative of the activation (as before).\n",
    "\n",
    "We can now write the general recursive form for error propagation:\n",
    "\n",
    "$$\\delta^{l}_j = \\left(\\sum_k \\delta^{l+1}_k w^{l+1}_{kj}\\right) \\dfrac{\\partial z^l_j}{\\partial a^l_j}$$"
   ]
  },
  {
   "cell_type": "markdown",
   "metadata": {},
   "source": [
    "#### Putting it all together.\n",
    "\n",
    "Here we are! Everything boils down to recursively finding the errors $\\delta^{l}$ starting from the last layer $L$ backward. When you have $\\delta^{l}$, you just need a final multiplication with activations to find the partial derivative wrt the parameters for the layer.\n",
    "Let's write the steps in matrix form:\n",
    "\n",
    "* Errror for the last layer $L$:\n",
    "$$\\delta^{L} = \\nabla_z E \\circ h'(a^{L}).$$\n",
    "* Error for any layer $l$:\n",
    "$$\\delta^l = ((W^{l+1})^{T} \\delta^{l+1}) \\circ h'(a^{l}).$$\n",
    "* Partial derivative cost for $w$: \n",
    "$$\\dfrac{\\partial E}{\\partial w^{l}} = \\delta^{l} z^{l-1}.$$\n",
    "* Partial derivative cost for $b$:\n",
    "$$\\dfrac{\\partial E}{\\partial b^{l}} = \\delta^{l}.$$"
   ]
  },
  {
   "cell_type": "code",
   "execution_count": null,
   "metadata": {
    "collapsed": true,
    "jupyter": {
     "outputs_hidden": true
    }
   },
   "outputs": [],
   "source": [
    "def backward_pass(x, t, y, z, a, NN, activations, loss_f):\n",
    "    \"\"\"\n",
    "    This function performs a backward pass ITERATIVELY. It saves lists all of the derivatives in the process\n",
    "    \n",
    "    Input:\n",
    "    x:           The input used for the batch                (np.array)\n",
    "    t:           The observed targets                        (np.array, the first dimension must be the same to x)\n",
    "    y:           The output of the forward_pass of NN for x  (np.array, must have the same shape as t)\n",
    "    \n",
    "    a:           The affine transforms from the forward_pass (np.array) # a^{l+1}= W^{l} z^{l} + b^{l}\n",
    "    z:           The activated units from the forward_pass (np.array)   # z^{l+1}=f(a^{l+1})\n",
    "    \n",
    "    activations: The activations to be used                  (list of functions)\n",
    "    loss_f:        The loss function to be used                (one function)\n",
    "    \n",
    "    Output:\n",
    "    g_w: A list of gradients for every weight\n",
    "    g_b: A list of gradients for every bias\n",
    "    \n",
    "    Shapes for the einsum:\n",
    "    b: batch size\n",
    "    i: size of the input hidden layer (layer l)\n",
    "    o: size of the output (layer l+1)\n",
    "    \"\"\"\n",
    "    \n",
    "    BS = x.shape[0] # Implied batch shape \n",
    "    \n",
    "    # Process the last layer - Reference: Error propagation - final layer $L$.\n",
    "    \n",
    "    # First, let's compute the list of derivatives of z with respect to a\n",
    "    # these derivative are standardized and automatically handled by the activations functions defined above.\n",
    "    d_a = []\n",
    "    # dz/da\n",
    "    for i in range(len(activations)):\n",
    "        d_za = activations[i](a[i], derivative=True)\n",
    "        d_a.append(d_za)\n",
    "    \n",
    "    # Second, let's compute the derivative of the loss function with respect to z\n",
    "    # targets\n",
    "    t = t.reshape(BS, -1)\n",
    "    \n",
    "    # derivative loss wrt y\n",
    "    # dE/dy  where y=z[-1]\n",
    "    d_loss = 0      # <- Insert correct expression here\n",
    "    \n",
    "     \n",
    "    # Third, let's compute the derivative of the biases and the weights\n",
    "    g_w   = [] # List to save the gradient w.r.t. the weights\n",
    "    g_b   = [] # List to save the gradients w.r.t. the biases\n",
    "    \n",
    "    # delta : measure of error in the final layer L\n",
    "    # delta = dE/dy * dy/da\n",
    "    delta = np.einsum('bo, bo -> bo', d_loss, d_a[-1]) # loss shape: (b, o); pre-activation units shape: (b, o) hadamard product\n",
    "    \n",
    "    # affine transformation\n",
    "    # a = W z + b\n",
    "    \n",
    "    # dE/dw = (dE/dy * dy/da) da/dw = delta * da/dw\n",
    "    # notice how the gradients wrt the weights have dimension (batch, input_dim, output_dim)\n",
    "    g_w.append(np.mean(np.einsum('bo, bi -> bio', delta, z[-2]), axis=0)) # delta shape: (b, o), activations shape: (b, h)\n",
    "    \n",
    "    # dE/db = (dE/dy * dy/da) da/db = delta * da/db\n",
    "    g_b.append(np.mean(delta, axis=0))\n",
    "    \n",
    "    \n",
    "    # Process all the other layers - Reference: Error propagation - layer $l$\n",
    "    for l in range(1, len(NN[0])):\n",
    "        \n",
    "        W = NN[0][-l] \n",
    "        # dE/dz^{l} = dE/da^{l+1} * da^{l+1}/dz^{l} = delta^{l+1} * w^{l+1}\n",
    "        d_E_d_z = np.einsum('bo, io -> bi', delta, W)          # Derivative of the loss with respect to an activated layer d_E_d_z. \n",
    "                                                               #  delta shape: as above; weights shape: (i, o)\n",
    "                                                               # Delta: d_E_d_z (element-wise mult) derivative of the activation layers\n",
    "                                                               #  delta shape: as above; d_z shape: (b, i)  \n",
    "        \n",
    "        # delta : measure of error for a generic layer l \n",
    "        # dE/dz * dz/da \n",
    "        delta = 0      # <- Insert correct expression here \n",
    "        \n",
    "        # affine transformation\n",
    "        # a = Wz + b\n",
    "        \n",
    "        # dE/dw = delta * da/dw\n",
    "        g_w.append(np.mean(np.einsum('bo, bi -> bio', delta, z[-l-2]), axis=0)) # Derivative of cost with respect to weights in layer l:\n",
    "        \n",
    "        # dE/db = delta                                                                 # delta shape: as above; activations of l-1 shape: (b, i)\n",
    "        g_b.append(np.mean(delta, axis=0))\n",
    "        \n",
    "    return g_b[::-1], g_w[::-1]"
   ]
  },
  {
   "cell_type": "markdown",
   "metadata": {},
   "source": [
    "# Backward pass unit test"
   ]
  },
  {
   "cell_type": "markdown",
   "metadata": {},
   "source": [
    "We are going to perform the unit test of the backward pass with a finite difference estimation, make sure to read the description of the function and that you understand it well:"
   ]
  },
  {
   "cell_type": "markdown",
   "metadata": {},
   "source": [
    "## Exercise f) Test correctness of derivatives with finite difference method\n",
    "\n",
    "Write a small function that uses [the finite difference method](https://en.wikipedia.org/wiki/Finite_difference_method) to test whether the backpropation implementation is working. In short we will use\n",
    "$$\n",
    "\\frac{\\partial E(w)}{\\partial w_{ij}^{(l)}} \\approx \\frac{E(v)-E(w)}{dw}\n",
    "$$\n",
    "for $dw \\ll 1$ and $v$ is the same network as $w$ apart from $v_{ij}^{(l)} = w_{ij}^{(l)} + dw$.\n",
    "\n",
    "As arguments the function should take: some data $x$ and $t$ as in the example above, the network including activations, the indices $i$, $j$, $l$ of the weight we investigate and $dw$ and return the right hand side of the expression above.\n",
    "\n",
    "_Insert your code in the cell below._\n"
   ]
  },
  {
   "cell_type": "code",
   "execution_count": null,
   "metadata": {
    "collapsed": true,
    "jupyter": {
     "outputs_hidden": true
    }
   },
   "outputs": [],
   "source": [
    "# Insert your finite difference code here\n",
    "def finite_difference(x, t, NN, activations, indexes, dw=1e-10):\n",
    "    \"\"\"\n",
    "    This function compute the finite difference between\n",
    "    \n",
    "    Input:\n",
    "    x:           The input used for the batch                (np.array)\n",
    "    t:           The observed targets                        (np.array, the first dimension must be the same to x)\n",
    "    \n",
    "    NN: The initialized neural network                       (tuple of list of matrices)\n",
    "    activations: The activations to be used                  (list of functions)\n",
    "    \n",
    "    indexes: the indexes of the parameter we want to perturb (tuple of integers)\n",
    "             v^{l}_{ji} = w^{l}_{ji} + dw\n",
    "    \n",
    "    dw: the size of the difference                           (float)\n",
    "    \n",
    "    Output:\n",
    "    finite_difference: the magnitude of the difference       (float) \n",
    "    \"\"\"\n",
    "    \n",
    "    from copy import deepcopy\n",
    "    # l layer\n",
    "    # i input dim\n",
    "    # j output dim\n",
    "    \n",
    "    (l, i, j) = indexes\n",
    "    \n",
    "    _, zv = forward_pass(x, NN, activations)\n",
    "    Ev=squared_error(t, zv[-1])\n",
    "    \n",
    "    NNw = deepcopy(NN)\n",
    "    NNw[l][0][i, j] = 0 # <- Insert correct expression \n",
    "    \n",
    "    _, zw = 0           # <- Insert correct expression\n",
    "    Ew= 0               # <- Insert correct expression\n",
    "    \n",
    "    finite_difference = (Ev - Ew) / dw\n",
    "    \n",
    "    return finite_difference"
   ]
  },
  {
   "cell_type": "markdown",
   "metadata": {},
   "source": [
    "Once you have implemented the function you can compare this number with the left hand side computed by the implementation above.\n",
    "\n",
    "Try for different parameters and different values of $dw$. Scan over a range of $dw$ values. Why does the method break down for really small $dw$?\n",
    "\n",
    "_Insert your written answer here._\n",
    "\n",
    "Finite differences gives us gradients without computing gradients explicitly. Why don't we use it in practice then?\n",
    "\n",
    "_Insert your written answer here._"
   ]
  },
  {
   "cell_type": "markdown",
   "metadata": {},
   "source": [
    "Below is reference code that computes the finite differences for all parameters."
   ]
  },
  {
   "cell_type": "code",
   "execution_count": null,
   "metadata": {
    "collapsed": true
   },
   "outputs": [],
   "source": [
    "def finite_diff_grad(x, NN, ACT_F, epsilon=None):\n",
    "    \"\"\"\n",
    "    Finite differences gradient estimator: https://en.wikipedia.org/wiki/Finite_difference_method\n",
    "    The idea is that we can approximate the derivative of any function (f) with respect to any argument (w) by evaluating the function at (w+e)\n",
    "    where (e) is a small number and then computing the following opertion (f(w+e)-f(w))/e . Note that we would need N+1 evaluations of\n",
    "    the function in order to compute the whole Jacobian (first derivatives matrix) where N is the number of arguments. The \"+1\" comes from the\n",
    "    fact that we also need to evaluate the function at the current values of the argument.\n",
    "    \n",
    "    Input:\n",
    "    x:       The point at which we want to evaluate the gradient\n",
    "    NN:      The tuple that contains the neural network\n",
    "    ACT_F:   The activation functions in order to perform the forward pass\n",
    "    epsilon: The size of the difference\n",
    "    \n",
    "    Output:\n",
    "    Two lists, the first one contains the gradients with respect to the weights, the second with respect to the biases\n",
    "    \"\"\"\n",
    "    from copy import deepcopy\n",
    "    \n",
    "    if epsilon == None:\n",
    "        epsilon = np.finfo(np.float32).eps # Machine epsilon for float 32\n",
    "        \n",
    "    grads = deepcopy(NN)               # Copy of structure of the weights and biases to save the gradients                        \n",
    "    _ , test_z = forward_pass(x, NN_UT, ACT_F_UT) # We evaluate f(x)\n",
    "    \n",
    "    for e in range(len(NN)):                       # Iterator over elements of the NN:       weights or biases\n",
    "        for h in range(len(NN[e])):                # Iterator over the layer of the element: layer number\n",
    "            for r in range(NN[e][h].shape[0]):     # Iterator over                           row number\n",
    "                for c in range(NN[e][h].shape[1]): # Iterator over                           column number \n",
    "                    NN_copy             = deepcopy(NN)    \n",
    "                    NN_copy[e][h][r,c] += epsilon\n",
    "                    _, test_z_eps       = forward_pass(x, NN_copy, ACT_F)     # We evaluate f(x+eps)\n",
    "                    grads[e][h][r,c]    = (test_z_eps[-1]-test_z[-1])/epsilon # Definition of finite differences gradient\n",
    "    \n",
    "    return grads[0], grads[1]"
   ]
  },
  {
   "cell_type": "code",
   "execution_count": null,
   "metadata": {
    "collapsed": true,
    "jupyter": {
     "outputs_hidden": true
    },
    "scrolled": true
   },
   "outputs": [],
   "source": [
    "### Unit test \n",
    "\n",
    "## First lest's compute the backward pass using our own function\n",
    "# Forward pass\n",
    "test_a, test_z = forward_pass(np.array([[1,1,1]]), NN_UT, ACT_F_UT)\n",
    "# Backward pass\n",
    "test_g_b, test_g_w = backward_pass(np.array([[1,1,1]]), np.array([20]), test_a[-1], test_z, test_a, NN_UT, ACT_F_UT, squared_error)\n",
    "# Estimation by finite differences\n",
    "test_fdg_w, test_fdg_b = finite_diff_grad(np.array([[1,1,1]]), NN_UT, ACT_F_UT)"
   ]
  },
  {
   "cell_type": "code",
   "execution_count": null,
   "metadata": {
    "collapsed": true,
    "jupyter": {
     "outputs_hidden": true
    }
   },
   "outputs": [],
   "source": [
    "# Test whether the weights and biases are all equal as the ones we estimated using back propagation\n",
    "for l in range(len(test_g_w)):\n",
    "    assert np.allclose(test_fdg_w[l], test_g_w[l])\n",
    "    assert np.allclose(test_fdg_b[l], test_g_b[l])"
   ]
  },
  {
   "cell_type": "markdown",
   "metadata": {},
   "source": [
    "# Training and validation\n",
    "\n",
    "We are ready to train some neural networks! Below we give some example initializations and a training loop. Try it out. "
   ]
  },
  {
   "cell_type": "code",
   "execution_count": null,
   "metadata": {
    "collapsed": true,
    "jupyter": {
     "outputs_hidden": true
    }
   },
   "outputs": [],
   "source": [
    "# Initialize an arbitrary neural network\n",
    "#L  = [3, 16, 1]\n",
    "L  = [1, 8, 1]\n",
    "NN = init_NN(L)\n",
    "#NN = init_NN_glorot(L, uniform=True)\n",
    "#NN = init_NN_he_ReLU(L, uniform=True)\n",
    "\n",
    "ACT_F = [ReLU, Linear]\n",
    "#ACT_F = [Tanh, Linear]\n",
    "\n",
    "# Recommended hyper-parameters for 1-D: \n",
    "# L  = [1, 8, 1]\n",
    "# EPOCHS = 10000\n",
    "# BATCH_SIZE = 128 \n",
    "# LEARN_R = 2.5e-1 for Tanh and LEARN_R = 1e-1 for ReLU\n",
    "\n",
    "# Recommended hyper-parameters for 3-D: \n",
    "# L  = [3, 16, 1] \n",
    "# EPOCHS = 10000\n",
    "# BATCH_SIZE = 128 \n",
    "# LEARN_R = 5e-2 for ReLU and LEARN_R = 1e-1 for Tanh\n",
    "\n",
    "### Notice that, when we switch from tanh to relu activation, we decrease the learning rate. This is due the stability of the gradients \n",
    "## of the activation functions."
   ]
  },
  {
   "cell_type": "code",
   "execution_count": null,
   "metadata": {
    "collapsed": true,
    "jupyter": {
     "outputs_hidden": true
    }
   },
   "outputs": [],
   "source": [
    "# Initialize training hyperparameters\n",
    "EPOCHS = 20000\n",
    "BATCH_SIZE = 128 \n",
    "LEARN_R = 1e-2 "
   ]
  },
  {
   "cell_type": "code",
   "execution_count": null,
   "metadata": {
    "collapsed": true,
    "scrolled": true
   },
   "outputs": [],
   "source": [
    "train_loss = []\n",
    "val_loss = []\n",
    "\n",
    "for e in range(EPOCHS):\n",
    "    # Mini-batch indexes\n",
    "    idx = np.random.choice(x_train.shape[0], size=BATCH_SIZE)\n",
    "    # Forward pass\n",
    "    aff, units = forward_pass(x_train[idx,:], NN, ACT_F)\n",
    "    # Backward pass\n",
    "    g_b, g_w = backward_pass(x_train[idx,:], y_train[idx], units[-1], units, aff, NN, ACT_F, squared_error)\n",
    "    \n",
    "    # Stochastic gradient descent\n",
    "    for l in range(len(g_b)):\n",
    "        NN[0][l] -= LEARN_R*g_w[l]\n",
    "        NN[1][l] -= LEARN_R*g_b[l]\n",
    "        \n",
    "    # Training loss\n",
    "    _, units = forward_pass(x_train, NN, ACT_F)\n",
    "    # Estimate loss function\n",
    "    #print(np.max(squared_error(y_train, units[-1])))\n",
    "    train_loss.append(np.mean(squared_error(y_train, np.squeeze(units[-1]))))\n",
    "    \n",
    "    # Validation\n",
    "    # Forward pass\n",
    "    _, units = forward_pass(x_validation, NN, ACT_F)\n",
    "    # Estimate validation loss function\n",
    "    val_loss.append(np.mean(squared_error(y_validation, np.squeeze(units[-1]))))\n",
    "    \n",
    "    if e%500==0:\n",
    "        print(\"{:4d}\".format(e),\n",
    "              \"({:5.2f}%)\".format(e/EPOCHS*100), \n",
    "              \"Train loss: {:4.3f} \\t Validation loss: {:4.3f}\".format(train_loss[-1], val_loss[-1]))\n",
    "        \n"
   ]
  },
  {
   "cell_type": "code",
   "execution_count": null,
   "metadata": {
    "collapsed": true
   },
   "outputs": [],
   "source": [
    "plt.plot(range(len(train_loss)), train_loss);\n",
    "plt.plot(range(len(val_loss)), val_loss);"
   ]
  },
  {
   "cell_type": "markdown",
   "metadata": {},
   "source": [
    "# Testing\n",
    "\n",
    "We have kept the calculation of the test error separate in order to emphasize that you should not use the test set in optimization."
   ]
  },
  {
   "cell_type": "code",
   "execution_count": null,
   "metadata": {
    "collapsed": true
   },
   "outputs": [],
   "source": [
    "_, units = forward_pass(x_test, NN, ACT_F)"
   ]
  },
  {
   "cell_type": "code",
   "execution_count": null,
   "metadata": {
    "collapsed": true
   },
   "outputs": [],
   "source": [
    "plt.scatter(y_test, units[-1]);\n",
    "plt.plot([np.min(y_test), np.max(y_test)], [np.min(y_test), np.max(y_test)], color='k');\n",
    "plt.xlabel(\"y\");\n",
    "plt.ylabel(\"$\\hat{y}$\");\n",
    "plt.title(\"Model prediction vs real in the test set, the close to the line the better\")\n",
    "plt.grid(True);\n",
    "plt.axis('equal');\n",
    "plt.tight_layout();\n",
    "\n",
    "print(\"Test loss:  {:4.3f}\".format(np.mean(squared_error(y_test, np.squeeze(units[-1])))))"
   ]
  },
  {
   "cell_type": "code",
   "execution_count": null,
   "metadata": {
    "collapsed": true
   },
   "outputs": [],
   "source": [
    "if D1:\n",
    "    plt.scatter(x_train[:,0], y_train, label=\"train data\");\n",
    "    plt.scatter(x_test[:,0], units[-1], label=\"test prediction\");\n",
    "    plt.scatter(x_test[:,0], y_test, label=\"test data\");\n",
    "    plt.legend();\n",
    "    plt.xlabel(\"x\");\n",
    "    plt.ylabel(\"y\");\n",
    "else:\n",
    "    plt.scatter(x_train[:,1], y_train, label=\"train data\");\n",
    "    plt.scatter(x_test[:,1], units[-1], label=\"test data prediction\");\n",
    "    plt.scatter(x_test[:,1], y_test, label=\"test data\");\n",
    "    plt.legend();\n",
    "    plt.xlabel(\"x\");\n",
    "    plt.ylabel(\"y\");"
   ]
  },
  {
   "cell_type": "markdown",
   "metadata": {},
   "source": [
    "## Exercise g) Show overfitting, underfitting and just right fitting\n",
    "\n",
    "Vary the architecture and other things to show clear signs of overfitting (=training loss significantly lower than test loss) and underfitting (=not fitting enoung to training data so that test performance is also hurt).\n",
    "\n",
    "See also if you can get a good compromise which leads to a low validation loss. \n",
    "\n",
    "For this problem do you see any big difference between validation and test loss? The answer here will probably be no. Discuss cases where it is important to keep the two separate.\n",
    "\n",
    "_Insert written answer here._\n"
   ]
  },
  {
   "cell_type": "code",
   "execution_count": null,
   "metadata": {
    "collapsed": true,
    "jupyter": {
     "outputs_hidden": true
    }
   },
   "outputs": [],
   "source": [
    "# Insert your code for getting overfitting, underfitting and just right fitting"
   ]
  },
  {
   "cell_type": "markdown",
   "metadata": {},
   "source": [
    "# Next steps - classification\n",
    "\n",
    "It is straight forward to extend what we have done to classification. \n",
    "\n",
    "For numerical stability it is better to make softmax and cross-entropy as one function so we write the cross entropy loss as a function of the logits we talked about last week. \n",
    "\n",
    "Next week we will see how to perform classification in PyTorch."
   ]
  },
  {
   "cell_type": "markdown",
   "metadata": {},
   "source": [
    "## Exercise h) optional - Implement backpropagation for classification\n",
    "\n",
    "Should be possible with very few lines of code. :-)"
   ]
  },
  {
   "cell_type": "code",
   "execution_count": null,
   "metadata": {
    "collapsed": true,
    "jupyter": {
     "outputs_hidden": true
    }
   },
   "outputs": [],
   "source": [
    "# Just add code."
   ]
  }
 ],
 "metadata": {
  "anaconda-cloud": {},
  "kernelspec": {
   "display_name": "Python 3",
   "language": "python",
   "name": "python3"
  },
  "language_info": {
   "codemirror_mode": {
    "name": "ipython",
    "version": 3
   },
   "file_extension": ".py",
   "mimetype": "text/x-python",
   "name": "python",
   "nbconvert_exporter": "python",
   "pygments_lexer": "ipython3",
<<<<<<< Updated upstream
   "version": "3.6.3"
=======
   "version": "3.8.1"
>>>>>>> Stashed changes
  }
 },
 "nbformat": 4,
 "nbformat_minor": 4
}
